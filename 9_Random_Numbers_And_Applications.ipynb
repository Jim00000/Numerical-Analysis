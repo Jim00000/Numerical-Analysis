{
 "cells": [
  {
   "cell_type": "markdown",
   "metadata": {},
   "source": [
    "# ★ Random Numbers And Applications ★"
   ]
  },
  {
   "cell_type": "code",
   "execution_count": 59,
   "metadata": {},
   "outputs": [],
   "source": [
    "# Import modules\n",
    "import numpy\n",
    "import scipy\n",
    "import sympy"
   ]
  },
  {
   "cell_type": "markdown",
   "metadata": {},
   "source": [
    "# 9.1 Random Numbers"
   ]
  },
  {
   "cell_type": "markdown",
   "metadata": {},
   "source": [
    "A linear congruential generator (**LCG**) has form\n",
    "\n",
    "$$\n",
    "\\begin{align*}\n",
    "x_i &= ax_{i-1} + b\\ (mod\\ m) \\\\\n",
    "u_i &= \\frac{x_i}{m}\n",
    "\\end\n",
    "{align*}\n",
    "$$\n",
    "\n",
    "for **multiplier** a, **offset** b, and **modulus** m"
   ]
  },
  {
   "cell_type": "code",
   "execution_count": 22,
   "metadata": {},
   "outputs": [],
   "source": [
    "def linear_congruential_generator(x, a, b, m):\n",
    "    x = (a * x + b) % m\n",
    "    u = x / m\n",
    "    return u, x, a, b, m"
   ]
  },
  {
   "cell_type": "code",
   "execution_count": 32,
   "metadata": {},
   "outputs": [
    {
     "name": "stdout",
     "output_type": "stream",
     "text": [
      "idx_01 x:08, u:0.2581\n",
      "idx_02 x:11, u:0.3548\n",
      "idx_03 x:19, u:0.6129\n",
      "idx_04 x:30, u:0.9677\n",
      "idx_05 x:18, u:0.5806\n",
      "idx_06 x:17, u:0.5484\n",
      "idx_07 x:04, u:0.1290\n",
      "idx_08 x:21, u:0.6774\n",
      "idx_09 x:25, u:0.8065\n",
      "idx_10 x:15, u:0.4839\n"
     ]
    }
   ],
   "source": [
    "x0 = 3\n",
    "args = (x0, 13, 0, 31)\n",
    "for i in range(10):\n",
    "    u, *args = linear_congruential_generator(*args)\n",
    "    print('idx_%02d x:%02d, u:%.4f' %(i + 1, args[0], u))"
   ]
  },
  {
   "cell_type": "markdown",
   "metadata": {},
   "source": [
    "### Example\n",
    "\n",
    "Approximate the area under the curve $y = x^2 \\ in \\ [0,\\ 1]$"
   ]
  },
  {
   "cell_type": "markdown",
   "metadata": {},
   "source": [
    "Evaluate $\\frac{1}{b-a}\\int_{a}^{b}f(x)dx$"
   ]
  },
  {
   "cell_type": "code",
   "execution_count": 79,
   "metadata": {},
   "outputs": [],
   "source": [
    "x = sympy.symbols('x')\n",
    "exact_value = sympy.integrate(x ** 2, (x, 0, 1))"
   ]
  },
  {
   "cell_type": "code",
   "execution_count": 87,
   "metadata": {},
   "outputs": [
    {
     "name": "stdout",
     "output_type": "stream",
     "text": [
      "exact value = 1/3 (0.333333 in numerical representations)\n",
      "average = 0.350260 with  10 uniform random numbers, error = 0.016927\n",
      "average = 0.350156 with  20 uniform random numbers, error = 0.016823\n",
      "average = 0.327957 with  30 uniform random numbers, error = 0.005376\n",
      "average = 0.333533 with  40 uniform random numbers, error = 0.000199\n",
      "average = 0.336837 with  50 uniform random numbers, error = 0.003503\n",
      "average = 0.327957 with  60 uniform random numbers, error = 0.005376\n",
      "average = 0.331143 with  70 uniform random numbers, error = 0.002190\n",
      "average = 0.333507 with  80 uniform random numbers, error = 0.000173\n",
      "average = 0.327957 with  90 uniform random numbers, error = 0.005376\n",
      "average = 0.330187 with 100 uniform random numbers, error = 0.003146\n"
     ]
    }
   ],
   "source": [
    "# Arguments for our LCG\n",
    "x0 = 3\n",
    "args = (x0, 13, 0, 31)\n",
    "\n",
    "# Function and arguments for the curve y = x^2\n",
    "f = lambda x : pow(x, 2)\n",
    "\n",
    "# Process for this example\n",
    "def process(f, args, total_iterations):\n",
    "    avg = 0\n",
    "    for i in range(total_iterations):\n",
    "        u, *args = linear_congruential_generator(*args)\n",
    "        avg += f(u)\n",
    "    avg /= total_iterations\n",
    "    return avg\n",
    "\n",
    "print('exact value = %s (%.6f in numerical representations)' %(exact_value, exact_value.evalf()))\n",
    "print('average = %.6f with %3d uniform random numbers, error = %.6f' %(process(f, args, 10), 10, abs(process(f, args, 10) - exact_value.evalf())))\n",
    "print('average = %.6f with %3d uniform random numbers, error = %.6f' %(process(f, args, 20), 20, abs(process(f, args, 20) - exact_value.evalf())))\n",
    "print('average = %.6f with %3d uniform random numbers, error = %.6f' %(process(f, args, 30), 30, abs(process(f, args, 30) - exact_value.evalf())))\n",
    "print('average = %.6f with %3d uniform random numbers, error = %.6f' %(process(f, args, 40), 40, abs(process(f, args, 40) - exact_value.evalf())))\n",
    "print('average = %.6f with %3d uniform random numbers, error = %.6f' %(process(f, args, 50), 50, abs(process(f, args, 50) - exact_value.evalf())))\n",
    "print('average = %.6f with %3d uniform random numbers, error = %.6f' %(process(f, args, 60), 60, abs(process(f, args, 60) - exact_value.evalf())))\n",
    "print('average = %.6f with %3d uniform random numbers, error = %.6f' %(process(f, args, 70), 70, abs(process(f, args, 70) - exact_value.evalf())))\n",
    "print('average = %.6f with %3d uniform random numbers, error = %.6f' %(process(f, args, 80), 80, abs(process(f, args, 80) - exact_value.evalf())))\n",
    "print('average = %.6f with %3d uniform random numbers, error = %.6f' %(process(f, args, 90), 90, abs(process(f, args, 90) - exact_value.evalf())))\n",
    "print('average = %.6f with %3d uniform random numbers, error = %.6f' %(process(f, args, 100), 100, abs(process(f, args, 100) - exact_value.evalf())))"
   ]
  }
 ],
 "metadata": {
  "kernelspec": {
   "display_name": "Python 3",
   "language": "python",
   "name": "python3"
  },
  "language_info": {
   "codemirror_mode": {
    "name": "ipython",
    "version": 3
   },
   "file_extension": ".py",
   "mimetype": "text/x-python",
   "name": "python",
   "nbconvert_exporter": "python",
   "pygments_lexer": "ipython3",
   "version": "3.5.2"
  }
 },
 "nbformat": 4,
 "nbformat_minor": 2
}
