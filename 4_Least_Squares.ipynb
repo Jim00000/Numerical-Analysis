{
 "cells": [
  {
   "cell_type": "markdown",
   "metadata": {},
   "source": [
    "# ★ Least Squares ★"
   ]
  },
  {
   "cell_type": "code",
   "execution_count": 1,
   "metadata": {
    "collapsed": true
   },
   "outputs": [],
   "source": [
    "# Import modules\n",
    "import sys\n",
    "import math\n",
    "import numpy as np\n",
    "from matplotlib import pyplot as plt\n",
    "from scipy import linalg"
   ]
  },
  {
   "cell_type": "markdown",
   "metadata": {},
   "source": [
    "# 4.1 Least Squares and the normal equations"
   ]
  },
  {
   "cell_type": "markdown",
   "metadata": {},
   "source": [
    "$$\n",
    "A^TA\\bar{X} = A^Tb\n",
    "$$\n",
    "\n",
    "for the least squares solution $\\bar{x}$ that minimizes the Euclidean length if the residual $r = b -Ax$"
   ]
  },
  {
   "cell_type": "markdown",
   "metadata": {},
   "source": [
    "### Example \n",
    "Solve the least squares problem \n",
    "$$\n",
    "\\begin{bmatrix}\n",
    "1 & -4 \\\\ \n",
    "2 & 3  \\\\ \n",
    "2 & 2\n",
    "\\end{bmatrix}\n",
    "\\begin{bmatrix}\n",
    "x_1 \\\\ \n",
    "x_2\n",
    "\\end{bmatrix}\n",
    "=\n",
    "\\begin{bmatrix}\n",
    "-3 \\\\ \n",
    "15 \\\\\n",
    "9\n",
    "\\end{bmatrix}\n",
    "$$"
   ]
  },
  {
   "cell_type": "code",
   "execution_count": 10,
   "metadata": {},
   "outputs": [
    {
     "name": "stdout",
     "output_type": "stream",
     "text": [
      "[ 3.8  1.8]\n"
     ]
    }
   ],
   "source": [
    "A = np.array([1, -4, 2, 3, 2, 2]).reshape(3, 2)\n",
    "b = np.array([-3, 15, 9])\n",
    "x = linalg.lstsq(A, b)\n",
    "print(x[0])"
   ]
  },
  {
   "cell_type": "markdown",
   "metadata": {},
   "source": [
    "### Example\n",
    "Find the line that best fits the three data points (t,y)=(1,2),(-1,1) and (1,3) <br/>\n",
    "The model is $y = c_1 + c_2t$"
   ]
  },
  {
   "cell_type": "code",
   "execution_count": 3,
   "metadata": {},
   "outputs": [
    {
     "name": "stdout",
     "output_type": "stream",
     "text": [
      "[ 1.75  0.75]\n"
     ]
    }
   ],
   "source": [
    "A = np.array([1, 1, 1, -1, 1, 1]).reshape(3, 2)\n",
    "b = np.array([2, 1, 3])\n",
    "x = linalg.lstsq(A, b)\n",
    "print(x[0])"
   ]
  },
  {
   "cell_type": "markdown",
   "metadata": {},
   "source": [
    "The best line is $y = \\frac{7}{4} + \\frac{3}{4}t$ "
   ]
  },
  {
   "cell_type": "markdown",
   "metadata": {},
   "source": [
    "# 4.3 QR Factorization"
   ]
  },
  {
   "cell_type": "code",
   "execution_count": 81,
   "metadata": {},
   "outputs": [],
   "source": [
    "def classical_gram_schmidt_orthogonalization(A):\n",
    "    Q = np.zeros(A.size).reshape(A.shape)\n",
    "    R = np.zeros(A.shape[1] ** 2).reshape(A.shape[1], A.shape[1])\n",
    "    for j in range(A.shape[1]):\n",
    "        y = A[:,j]\n",
    "        for i in range(j):\n",
    "            R[i][j] = np.matmul(Q[:,i], A[:,j])\n",
    "            y = y - R[i][j] * Q[:,i]\n",
    "        R[j][j] = linalg.norm(y, 2)\n",
    "        Q[:,j] = y / R[j][j]\n",
    "    return Q, R"
   ]
  },
  {
   "cell_type": "markdown",
   "metadata": {},
   "source": [
    "### Example\n",
    "Find the reduced QR factorization by applying Gram-Schmidt orthogonalization to the columns of \n",
    "$\n",
    "A = \n",
    "\\begin{bmatrix}\n",
    "1 & -4 \\\\ \n",
    "2 & 3  \\\\ \n",
    "2 & 2\n",
    "\\end{bmatrix}\n",
    "$"
   ]
  },
  {
   "cell_type": "code",
   "execution_count": 82,
   "metadata": {},
   "outputs": [
    {
     "name": "stdout",
     "output_type": "stream",
     "text": [
      "Q =\n",
      "[[ 0.33333333 -0.93333333]\n",
      " [ 0.66666667  0.33333333]\n",
      " [ 0.66666667  0.13333333]]\n",
      "R =\n",
      "[[ 3.  2.]\n",
      " [ 0.  5.]]\n"
     ]
    }
   ],
   "source": [
    "A = np.array([1, -4, 2, 3, 2, 2]).reshape(3, 2)\n",
    "Q, R = classical_gram_schmidt_orthogonalization(A)\n",
    "print('Q =')\n",
    "print(Q)\n",
    "print('R =')\n",
    "print(R)"
   ]
  },
  {
   "cell_type": "markdown",
   "metadata": {},
   "source": [
    "### Example\n",
    "Find the full QR factorization of \n",
    "$\n",
    "A = \n",
    "\\begin{bmatrix}\n",
    "1 & -4 \\\\ \n",
    "2 & 3  \\\\ \n",
    "2 & 2\n",
    "\\end{bmatrix}\n",
    "$"
   ]
  },
  {
   "cell_type": "code",
   "execution_count": 146,
   "metadata": {},
   "outputs": [
    {
     "name": "stdout",
     "output_type": "stream",
     "text": [
      "Q =\n",
      "[[-0.33333333  0.93333333 -0.13333333]\n",
      " [-0.66666667 -0.33333333 -0.66666667]\n",
      " [-0.66666667 -0.13333333  0.73333333]]\n",
      "R =\n",
      "[[-3. -2.]\n",
      " [ 0. -5.]\n",
      " [ 0.  0.]]\n"
     ]
    }
   ],
   "source": [
    "A = np.array([1, -4, 2, 3, 2, 2]).reshape(3, 2)\n",
    "Q, R = linalg.qr(A)\n",
    "print('Q =')\n",
    "print(Q)\n",
    "print('R =')\n",
    "print(R)"
   ]
  },
  {
   "cell_type": "markdown",
   "metadata": {},
   "source": [
    "### Example \n",
    "Use the full QR factorization to solve the least squares problem\n",
    "$$\n",
    "\\begin{bmatrix}\n",
    "1 & -4 \\\\ \n",
    "2 & 3  \\\\ \n",
    "2 & 2\n",
    "\\end{bmatrix}\n",
    "\\begin{bmatrix}\n",
    "x_1 \\\\ \n",
    "x_2\n",
    "\\end{bmatrix}\n",
    "=\n",
    "\\begin{bmatrix}\n",
    "-3 \\\\ \n",
    "15 \\\\\n",
    "9\n",
    "\\end{bmatrix}\n",
    "$$"
   ]
  },
  {
   "cell_type": "code",
   "execution_count": 204,
   "metadata": {},
   "outputs": [
    {
     "name": "stdout",
     "output_type": "stream",
     "text": [
      "x = [[ 3.8  1.8]]\n"
     ]
    }
   ],
   "source": [
    "A = np.array([1, -4, 2, 3, 2, 2]).reshape(3, 2)\n",
    "b = np.array([-3, 15, 9]).T\n",
    "Q, R = linalg.qr(A)\n",
    "lu, piv = linalg.lu_factor(R[:2,:])\n",
    "x = linalg.lu_solve([lu, piv], np.matmul(Q.T, b).reshape(3, 1)[:2])\n",
    "print('x = %s' %x.T)"
   ]
  },
  {
   "cell_type": "markdown",
   "metadata": {},
   "source": [
    "## Modified Gram-Schmidt orthogonalization"
   ]
  },
  {
   "cell_type": "code",
   "execution_count": null,
   "metadata": {
    "collapsed": true
   },
   "outputs": [],
   "source": []
  }
 ],
 "metadata": {
  "kernelspec": {
   "display_name": "Python 3",
   "language": "python",
   "name": "python3"
  },
  "language_info": {
   "codemirror_mode": {
    "name": "ipython",
    "version": 3
   },
   "file_extension": ".py",
   "mimetype": "text/x-python",
   "name": "python",
   "nbconvert_exporter": "python",
   "pygments_lexer": "ipython3",
   "version": "3.5.2"
  }
 },
 "nbformat": 4,
 "nbformat_minor": 2
}
