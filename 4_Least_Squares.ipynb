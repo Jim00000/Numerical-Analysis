{
 "cells": [
  {
   "cell_type": "markdown",
   "metadata": {},
   "source": [
    "# ★ Least Squares ★"
   ]
  },
  {
   "cell_type": "code",
   "execution_count": 111,
   "metadata": {
    "collapsed": true
   },
   "outputs": [],
   "source": [
    "# Import modules\n",
    "import sys\n",
    "import math\n",
    "import numpy as np\n",
    "from matplotlib import pyplot as plt\n",
    "from scipy import linalg\n",
    "from scipy import sparse"
   ]
  },
  {
   "cell_type": "markdown",
   "metadata": {},
   "source": [
    "# 4.1 Least Squares and the normal equations"
   ]
  },
  {
   "cell_type": "markdown",
   "metadata": {},
   "source": [
    "$$\n",
    "A^TA\\bar{X} = A^Tb\n",
    "$$\n",
    "\n",
    "for the least squares solution $\\bar{x}$ that minimizes the Euclidean length if the residual $r = b -Ax$"
   ]
  },
  {
   "cell_type": "markdown",
   "metadata": {},
   "source": [
    "### Example \n",
    "Solve the least squares problem \n",
    "$$\n",
    "\\begin{bmatrix}\n",
    "1 & -4 \\\\ \n",
    "2 & 3  \\\\ \n",
    "2 & 2\n",
    "\\end{bmatrix}\n",
    "\\begin{bmatrix}\n",
    "x_1 \\\\ \n",
    "x_2\n",
    "\\end{bmatrix}\n",
    "=\n",
    "\\begin{bmatrix}\n",
    "-3 \\\\ \n",
    "15 \\\\\n",
    "9\n",
    "\\end{bmatrix}\n",
    "$$"
   ]
  },
  {
   "cell_type": "code",
   "execution_count": 10,
   "metadata": {},
   "outputs": [
    {
     "name": "stdout",
     "output_type": "stream",
     "text": [
      "[ 3.8  1.8]\n"
     ]
    }
   ],
   "source": [
    "A = np.array([1, -4, 2, 3, 2, 2]).reshape(3, 2)\n",
    "b = np.array([-3, 15, 9])\n",
    "x = linalg.lstsq(A, b)\n",
    "print(x[0])"
   ]
  },
  {
   "cell_type": "markdown",
   "metadata": {},
   "source": [
    "### Example\n",
    "Find the line that best fits the three data points (t,y)=(1,2),(-1,1) and (1,3) <br/>\n",
    "The model is $y = c_1 + c_2t$"
   ]
  },
  {
   "cell_type": "code",
   "execution_count": 3,
   "metadata": {},
   "outputs": [
    {
     "name": "stdout",
     "output_type": "stream",
     "text": [
      "[ 1.75  0.75]\n"
     ]
    }
   ],
   "source": [
    "A = np.array([1, 1, 1, -1, 1, 1]).reshape(3, 2)\n",
    "b = np.array([2, 1, 3])\n",
    "x = linalg.lstsq(A, b)\n",
    "print(x[0])"
   ]
  },
  {
   "cell_type": "markdown",
   "metadata": {},
   "source": [
    "The best line is $y = \\frac{7}{4} + \\frac{3}{4}t$ "
   ]
  },
  {
   "cell_type": "markdown",
   "metadata": {},
   "source": [
    "# 4.3 QR Factorization"
   ]
  },
  {
   "cell_type": "code",
   "execution_count": 81,
   "metadata": {
    "collapsed": true
   },
   "outputs": [],
   "source": [
    "def classical_gram_schmidt_orthogonalization(A):\n",
    "    Q = np.zeros(A.size).reshape(A.shape)\n",
    "    R = np.zeros(A.shape[1] ** 2).reshape(A.shape[1], A.shape[1])\n",
    "    for j in range(A.shape[1]):\n",
    "        y = A[:,j]\n",
    "        for i in range(j):\n",
    "            R[i][j] = np.matmul(Q[:,i], A[:,j])\n",
    "            y = y - R[i][j] * Q[:,i]\n",
    "        R[j][j] = linalg.norm(y, 2)\n",
    "        Q[:,j] = y / R[j][j]\n",
    "    return Q, R"
   ]
  },
  {
   "cell_type": "markdown",
   "metadata": {},
   "source": [
    "### Example\n",
    "Find the reduced QR factorization by applying Gram-Schmidt orthogonalization to the columns of \n",
    "$\n",
    "A = \n",
    "\\begin{bmatrix}\n",
    "1 & -4 \\\\ \n",
    "2 & 3  \\\\ \n",
    "2 & 2\n",
    "\\end{bmatrix}\n",
    "$"
   ]
  },
  {
   "cell_type": "code",
   "execution_count": 82,
   "metadata": {},
   "outputs": [
    {
     "name": "stdout",
     "output_type": "stream",
     "text": [
      "Q =\n",
      "[[ 0.33333333 -0.93333333]\n",
      " [ 0.66666667  0.33333333]\n",
      " [ 0.66666667  0.13333333]]\n",
      "R =\n",
      "[[ 3.  2.]\n",
      " [ 0.  5.]]\n"
     ]
    }
   ],
   "source": [
    "A = np.array([1, -4, 2, 3, 2, 2]).reshape(3, 2)\n",
    "Q, R = classical_gram_schmidt_orthogonalization(A)\n",
    "print('Q =')\n",
    "print(Q)\n",
    "print('R =')\n",
    "print(R)"
   ]
  },
  {
   "cell_type": "markdown",
   "metadata": {},
   "source": [
    "### Example\n",
    "Find the full QR factorization of \n",
    "$\n",
    "A = \n",
    "\\begin{bmatrix}\n",
    "1 & -4 \\\\ \n",
    "2 & 3  \\\\ \n",
    "2 & 2\n",
    "\\end{bmatrix}\n",
    "$"
   ]
  },
  {
   "cell_type": "code",
   "execution_count": 146,
   "metadata": {},
   "outputs": [
    {
     "name": "stdout",
     "output_type": "stream",
     "text": [
      "Q =\n",
      "[[-0.33333333  0.93333333 -0.13333333]\n",
      " [-0.66666667 -0.33333333 -0.66666667]\n",
      " [-0.66666667 -0.13333333  0.73333333]]\n",
      "R =\n",
      "[[-3. -2.]\n",
      " [ 0. -5.]\n",
      " [ 0.  0.]]\n"
     ]
    }
   ],
   "source": [
    "A = np.array([1, -4, 2, 3, 2, 2]).reshape(3, 2)\n",
    "Q, R = linalg.qr(A)\n",
    "print('Q =')\n",
    "print(Q)\n",
    "print('R =')\n",
    "print(R)"
   ]
  },
  {
   "cell_type": "markdown",
   "metadata": {},
   "source": [
    "### Example \n",
    "Use the full QR factorization to solve the least squares problem\n",
    "$$\n",
    "\\begin{bmatrix}\n",
    "1 & -4 \\\\ \n",
    "2 & 3  \\\\ \n",
    "2 & 2\n",
    "\\end{bmatrix}\n",
    "\\begin{bmatrix}\n",
    "x_1 \\\\ \n",
    "x_2\n",
    "\\end{bmatrix}\n",
    "=\n",
    "\\begin{bmatrix}\n",
    "-3 \\\\ \n",
    "15 \\\\\n",
    "9\n",
    "\\end{bmatrix}\n",
    "$$"
   ]
  },
  {
   "cell_type": "code",
   "execution_count": 204,
   "metadata": {},
   "outputs": [
    {
     "name": "stdout",
     "output_type": "stream",
     "text": [
      "x = [[ 3.8  1.8]]\n"
     ]
    }
   ],
   "source": [
    "A = np.array([1, -4, 2, 3, 2, 2]).reshape(3, 2)\n",
    "b = np.array([-3, 15, 9]).T\n",
    "Q, R = linalg.qr(A)\n",
    "lu, piv = linalg.lu_factor(R[:2,:])\n",
    "x = linalg.lu_solve([lu, piv], np.matmul(Q.T, b).reshape(3, 1)[:2])\n",
    "print('x = %s' %x.T)"
   ]
  },
  {
   "cell_type": "markdown",
   "metadata": {},
   "source": [
    "## Modified Gram-Schmidt orthogonalization"
   ]
  },
  {
   "cell_type": "code",
   "execution_count": 3,
   "metadata": {
    "collapsed": true
   },
   "outputs": [],
   "source": [
    "def modified_gram_schmidt_orthogonalization(A):\n",
    "    Q = np.zeros(A.size).reshape(A.shape)\n",
    "    R = np.zeros(A.shape[1] ** 2).reshape(A.shape[1], A.shape[1])\n",
    "    for j in range(A.shape[1]):\n",
    "        y = A[:,j]\n",
    "        for i in range(j):\n",
    "            R[i][j] = np.matmul(Q[:,i], y)\n",
    "            y = y - R[i][j] * Q[:,i]\n",
    "        R[j][j] = linalg.norm(y, 2)\n",
    "        Q[:,j] = y / R[j][j]\n",
    "    return Q, R"
   ]
  },
  {
   "cell_type": "markdown",
   "metadata": {},
   "source": [
    "## Householder reflector"
   ]
  },
  {
   "cell_type": "markdown",
   "metadata": {},
   "source": [
    "### Example\n",
    "\n",
    "Let $x = [3,4]$ and $w =[5,0]$. Find a householder reflector H that satisfies $Hx = w$."
   ]
  },
  {
   "cell_type": "code",
   "execution_count": 23,
   "metadata": {},
   "outputs": [
    {
     "name": "stdout",
     "output_type": "stream",
     "text": [
      "H=\n",
      " [[ 0.6  0.8]\n",
      " [ 0.8 -0.6]]\n"
     ]
    }
   ],
   "source": [
    "x = np.array([3, 4]).reshape(2, 1)\n",
    "w = np.array([5, 0]).reshape(2, 1)\n",
    "v = w - x\n",
    "\n",
    "# Projection matrix\n",
    "P = np.matmul(v, v.T) / np.matmul(v.T, v)\n",
    "\n",
    "# Householder reflector\n",
    "H = np.identity(P.shape[0]) - 2 * P\n",
    "\n",
    "print('H=\\n', H)"
   ]
  },
  {
   "cell_type": "code",
   "execution_count": 104,
   "metadata": {
    "collapsed": true
   },
   "outputs": [],
   "source": [
    "def householder_reflector(x):\n",
    "    w = np.zeros(x.size)\n",
    "    w[0] = linalg.norm(x, 2)\n",
    "    v = (w - x).reshape(x.size, 1)\n",
    "    \n",
    "    # Projection matrix\n",
    "    P = np.matmul(v, v.T) / np.matmul(v.T, v)\n",
    "    \n",
    "    # Householder reflector\n",
    "    H = np.identity(P.shape[0]) - 2 * P\n",
    "    \n",
    "    return H"
   ]
  },
  {
   "cell_type": "markdown",
   "metadata": {},
   "source": [
    "### Example \n",
    "Use Householder reflectors to find the QR factorization of \n",
    "$A = \n",
    "\\begin{bmatrix}\n",
    "3 & 1 \\\\\n",
    "4 & 3 \\\\\n",
    "\\end{bmatrix}\n",
    "$"
   ]
  },
  {
   "cell_type": "code",
   "execution_count": 106,
   "metadata": {},
   "outputs": [
    {
     "name": "stdout",
     "output_type": "stream",
     "text": [
      "Q=\n",
      " [[ 0.6  0.8]\n",
      " [ 0.8 -0.6]]\n",
      "R=\n",
      " [[ 5.  3.]\n",
      " [ 0. -1.]]\n"
     ]
    }
   ],
   "source": [
    "A = np.array([3, 1, 4, 3]).reshape(2, 2)\n",
    "H1 = householder_reflector(A[:,0])\n",
    "R = np.matmul(H1, A)\n",
    "Q = H1\n",
    "print('Q=\\n', Q)\n",
    "print('R=\\n', R)"
   ]
  },
  {
   "cell_type": "markdown",
   "metadata": {},
   "source": [
    "### Example\n",
    "Use Householder reflectors to find the QR factorization of\n",
    "$A =\n",
    "\\begin{bmatrix}\n",
    "1 & -4 \\\\\n",
    "2 & 3  \\\\\n",
    "2 & 2  \\\\\n",
    "\\end{bmatrix}\n",
    "$"
   ]
  },
  {
   "cell_type": "code",
   "execution_count": 139,
   "metadata": {},
   "outputs": [
    {
     "name": "stdout",
     "output_type": "stream",
     "text": [
      "Q=\n",
      " [[ 0.33333333 -0.93333333 -0.13333333]\n",
      " [ 0.66666667  0.33333333 -0.66666667]\n",
      " [ 0.66666667  0.13333333  0.73333333]]\n",
      "R=\n",
      " [[  3.00000000e+00   2.00000000e+00]\n",
      " [ -2.22044605e-16   5.00000000e+00]\n",
      " [  0.00000000e+00   0.00000000e+00]]\n"
     ]
    }
   ],
   "source": [
    "A = np.array([1, -4, 2, 3, 2, 2]).reshape(3, 2)\n",
    "H1 = householder_reflector(A[:, 0])\n",
    "TEMP = np.matmul(H1, A)\n",
    "H2 = householder_reflector(TEMP[1:, 1])\n",
    "H2_Ext = np.identity(H1.shape[0])\n",
    "H2_Ext[-H2_TMP.shape[0]:, -H2_TMP.shape[1]:] = H2\n",
    "R = np.matmul(np.matmul(H2_Ext, H1), A)\n",
    "Q = np.matmul(H1, H2_Ext)\n",
    "print('Q=\\n', Q)\n",
    "print('R=\\n', R)"
   ]
  },
  {
   "cell_type": "markdown",
   "metadata": {},
   "source": [
    "# 4.4 Generalized Minimum Residual (GMRES) Method"
   ]
  },
  {
   "cell_type": "markdown",
   "metadata": {},
   "source": [
    "### Example\n",
    "Solve $Ax = b$ for the following $A$ and $b = [1,0,0]^T$, using GMRES with $x_0 = [0,0,0]^T$"
   ]
  },
  {
   "cell_type": "code",
   "execution_count": 110,
   "metadata": {},
   "outputs": [
    {
     "name": "stdout",
     "output_type": "stream",
     "text": [
      "x = [ 1.  0. -1.]\n"
     ]
    }
   ],
   "source": [
    "A = np.array([1, 1, 0, 0, 1, 0, 1, 1, 1]).reshape(3, 3)\n",
    "b = np.array([1, 0, 0]).reshape(3, 1)\n",
    "x0 = np.zeros(3).reshape(3, 1)\n",
    "x, info = sparse.linalg.gmres(A, b, x0)\n",
    "print('x = %s' %x)"
   ]
  },
  {
   "cell_type": "code",
   "execution_count": 29,
   "metadata": {},
   "outputs": [
    {
     "name": "stdout",
     "output_type": "stream",
     "text": [
      "[[1 0 0]\n",
      " [0 5 0]\n",
      " [0 0 9]]\n",
      "[[ 1.          0.         -0.        ]\n",
      " [ 0.          0.2        -0.        ]\n",
      " [ 0.          0.          0.11111111]]\n"
     ]
    }
   ],
   "source": [
    "A = np.arange(1, 10).reshape(3, 3)\n",
    "D = np.diag(A.diagonal())\n",
    "print(D)\n",
    "print(linalg.inv(D))"
   ]
  },
  {
   "cell_type": "markdown",
   "metadata": {},
   "source": [
    "# 4.5 Nonlinear Least Squares"
   ]
  },
  {
   "cell_type": "markdown",
   "metadata": {},
   "source": [
    "## Gauss-Newton Method"
   ]
  },
  {
   "cell_type": "markdown",
   "metadata": {},
   "source": [
    "### Example\n",
    "\n",
    "Consider the three circles in the plane with centers $(x_1,y_1) = (-1,0)$,$(x_2,y_2) = (1,1/2)$,$(x_3,y_3) = (1,-1/2)$ <br/>\n",
    "and radii $R_1 = 1,R_2 = 1/2,R3 = 1/2$,respectively. <br/>\n",
    "Use the Gauss-Newton Method to find the point for which the sum of the squared distances to the three circles is miniminzed."
   ]
  },
  {
   "cell_type": "code",
   "execution_count": 43,
   "metadata": {
    "collapsed": true
   },
   "outputs": [],
   "source": [
    "def R_xy(x, y):\n",
    "    A = np.zeros(3)\n",
    "    f = lambda xf, yf, R : math.sqrt(pow(x - xf, 2) + pow(y - yf, 2)) - R\n",
    "    A[0] = f(-1,   0, 1)\n",
    "    A[1] = f( 1, 0.5, 0.5)\n",
    "    A[2] = f( 1,-0.5, 0.5)\n",
    "    return A\n",
    "\n",
    "def DR_xy(x, y):\n",
    "    A = np.zeros(6).reshape(3, 2)\n",
    "    fx = lambda xf, yf : (x - xf) / math.sqrt(pow(x - xf, 2) + pow(y - yf, 2))\n",
    "    fy = lambda xf, yf : (y - yf) / math.sqrt(pow(x - xf, 2) + pow(y - yf, 2))\n",
    "    A[0][0] = fx(-1, 0)\n",
    "    A[0][1] = fy(-1, 0)\n",
    "    A[1][0] = fx(1, 0.5)\n",
    "    A[1][1] = fy(1, 0.5)\n",
    "    A[2][0] = fx(1, -0.5)\n",
    "    A[2][1] = fy(1, -0.5)\n",
    "    return A\n",
    "\n",
    "def gauss_newton_method(x0, y0, k):\n",
    "    \n",
    "    xk = np.array([x0, y0])\n",
    "    \n",
    "    for _ in range(k):\n",
    "        x = xk[0]\n",
    "        y = xk[1]\n",
    "        A = DR_xy(x, y)\n",
    "        r = R_xy(x, y)\n",
    "        v = np.matmul(linalg.inv(np.matmul(A.T, A)), -np.matmul(A.T, r))\n",
    "        xk = xk + v\n",
    "        \n",
    "    return xk"
   ]
  },
  {
   "cell_type": "code",
   "execution_count": 44,
   "metadata": {},
   "outputs": [
    {
     "name": "stdout",
     "output_type": "stream",
     "text": [
      "x = [ 0.41289125  0.        ]\n"
     ]
    }
   ],
   "source": [
    "x = gauss_newton_method(0, 0, 8)\n",
    "print('x = %s' %x)"
   ]
  },
  {
   "cell_type": "markdown",
   "metadata": {},
   "source": [
    "## Levenberg-Marquardt Method"
   ]
  },
  {
   "cell_type": "markdown",
   "metadata": {},
   "source": [
    "### Example\n",
    "\n",
    "Use Levenberg-Marquardt to fit the model $y = c_1e^{-c_2(t - c_3)^2}$ to the data points $(t_i,y_i) = {(1,3),(2,5),(2,7),(3,5),(4,1)}$"
   ]
  },
  {
   "cell_type": "code",
   "execution_count": 75,
   "metadata": {},
   "outputs": [],
   "source": [
    "def R_xy(c):\n",
    "    c1 = c[0]\n",
    "    c2 = c[1]\n",
    "    c3 = c[2]\n",
    "    \n",
    "    r = np.zeros(5)\n",
    "    f = lambda t, y : c1 * math.exp( -c2 * pow(t - c3, 2) ) - y\n",
    "    \n",
    "    r[0] = f(1, 3)\n",
    "    r[1] = f(2, 5)\n",
    "    r[2] = f(2, 7)\n",
    "    r[3] = f(3, 5)\n",
    "    r[4] = f(4, 1)\n",
    "    \n",
    "    return r\n",
    "\n",
    "def DR_xy(data, c):\n",
    "    c1 = c[0]\n",
    "    c2 = c[1]\n",
    "    c3 = c[2]\n",
    "    \n",
    "    DR = np.zeros(15).reshape(5, 3)\n",
    "    \n",
    "    f0 = lambda t : math.exp( -c2 * pow(t - c3, 2) )\n",
    "    f1 = lambda t : -c1 * pow(t - c3, 2) * math.exp( -c2 * pow(t - c3, 2) )\n",
    "    f2 = lambda t : 2 * c1 * c2 * (t - c3) * math.exp( -c2 * pow(t - c3, 2) )\n",
    "    \n",
    "    for i in range(5):\n",
    "        t = data[i][0]\n",
    "        DR[i][0] = f0(t)\n",
    "        DR[i][1] = f1(t)\n",
    "        DR[i][2] = f2(t)\n",
    "    \n",
    "    return DR\n",
    "\n",
    "def levenberg_marquardt_method(data, c, la, k):\n",
    "    ck = c\n",
    "    for _ in range(k):\n",
    "        A = DR_xy(data, ck)\n",
    "        r = R_xy(ck)\n",
    "        mAr = -np.matmul(A.T, r)\n",
    "        invA = np.linalg.inv(np.matmul(A.T, A) + la * np.diag(np.matmul(A.T, A).diagonal()))\n",
    "        v = np.matmul(invA, mAr)\n",
    "        ck = ck + v\n",
    "    return ck"
   ]
  },
  {
   "cell_type": "code",
   "execution_count": 168,
   "metadata": {},
   "outputs": [
    {
     "data": {
      "image/png": "[encoded data removed]",
      "text/plain": [
       "<matplotlib.figure.Figure at 0x7fa7ac6b8a90>"
      ]
     },
     "metadata": {},
     "output_type": "display_data"
    }
   ],
   "source": [
    "data = np.array([(1, 3), (2, 5), (2, 7), (3, 5), (4, 1)])\n",
    "c = np.array([1, 1, 1])\n",
    "c = levenberg_marquardt_method(data, c, 50, 1200)\n",
    "f = lambda t, c1, c2, c3 : c1 * np.exp( -c2 * np.power(t - c3, 2) )\n",
    "X = np.linspace(0, 5, 100)\n",
    "Y = f(X, *c)\n",
    "\n",
    "plt.plot(X, Y, color='cyan')\n",
    "plt.plot(data[:,0], data[:,1], linestyle='', markersize=8, marker='.', color='blue')\n",
    "plt.show()"
   ]
  }
 ],
 "metadata": {
  "kernelspec": {
   "display_name": "Python 3",
   "language": "python",
   "name": "python3"
  },
  "language_info": {
   "codemirror_mode": {
    "name": "ipython",
    "version": 3
   },
   "file_extension": ".py",
   "mimetype": "text/x-python",
   "name": "python",
   "nbconvert_exporter": "python",
   "pygments_lexer": "ipython3",
   "version": "3.5.2"
  }
 },
 "nbformat": 4,
 "nbformat_minor": 2
}
