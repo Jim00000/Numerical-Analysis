{
 "cells": [
  {
   "cell_type": "markdown",
   "metadata": {},
   "source": [
    "# ★ Systems Of Equations ★"
   ]
  },
  {
   "cell_type": "code",
   "execution_count": 1,
   "metadata": {
    "collapsed": true
   },
   "outputs": [],
   "source": [
    "# Import modules\n",
    "import sys\n",
    "import numpy as np\n",
    "from scipy import linalg"
   ]
  },
  {
   "cell_type": "markdown",
   "metadata": {},
   "source": [
    "# 2.1 Gaussian Elimination"
   ]
  },
  {
   "cell_type": "code",
   "execution_count": 5,
   "metadata": {
    "collapsed": true
   },
   "outputs": [],
   "source": [
    "def naive_gaussian_elimination(matrix):\n",
    "    \"\"\"\n",
    "    A simple gaussian elimination to solve equations\n",
    "    \n",
    "    Args:\n",
    "        matrix : numpy 2d array\n",
    "        \n",
    "    Returns:\n",
    "        mat : The matrix processed by gaussian elimination\n",
    "        x   : The roots of the equation\n",
    "        \n",
    "    Raises:\n",
    "        ValueError:\n",
    "            - matrix is null\n",
    "        RuntimeError :\n",
    "            - Zero pivot encountered\n",
    "    \"\"\"\n",
    "    if matrix is None :\n",
    "        raise ValueError('args matrix is null')\n",
    "    \n",
    "    #Clone the matrix\n",
    "    mat = matrix.copy()\n",
    "    \n",
    "    # Row Size\n",
    "    n = mat.shape[0]\n",
    "    \n",
    "    # Column Size\n",
    "    m = mat.shape[1]\n",
    "    \n",
    "    # Gaussian Elimaination\n",
    "    for j in xrange(0, n):\n",
    "        if abs(mat[j , j]) == 0 :\n",
    "            raise RuntimeError('zero pivot encountered')\n",
    "        for i in xrange(j + 1, n):\n",
    "            mult = mat[i, j] / mat[j, j]\n",
    "            for k in xrange(j,m):\n",
    "                mat[i, k] = mat[i, k] - mult * mat[j, k]\n",
    "    \n",
    "    # Back Substitution\n",
    "    x = np.zeros(n, dtype=np.float)\n",
    "    for i in xrange(n - 1,-1,-1):\n",
    "        for j in xrange(i + 1, n):\n",
    "            mat[i, m-1] = mat[i ,m-1] - mat[i,j] * x[j]\n",
    "        x[i] = mat[i, m-1] / mat[i, i]\n",
    "        \n",
    "    return mat, x"
   ]
  },
  {
   "cell_type": "markdown",
   "metadata": {},
   "source": [
    "### Example\n",
    "Solve equations\n",
    "\\begin{matrix}\n",
    "x + 2y - z = 3 & \\\\ \n",
    "2x + y - 2z = 3 & \\\\ \n",
    "-3x + y + z = -6 \n",
    "\\end{matrix}"
   ]
  },
  {
   "cell_type": "code",
   "execution_count": 6,
   "metadata": {},
   "outputs": [
    {
     "name": "stdout",
     "output_type": "stream",
     "text": [
      "----------------------\n",
      "[[ 1.  2. -1.  3.]\n",
      " [ 0. -3.  0. -3.]\n",
      " [ 0.  0. -2. -4.]]\n",
      "----------------------\n",
      "[ 3.  1.  2.]\n"
     ]
    }
   ],
   "source": [
    "\"\"\"\n",
    "Input:\n",
    "[[ 1  2 -1  3]\n",
    " [ 2  1 -2  3]\n",
    " [-3  1  1 -6]]\n",
    "\"\"\"\n",
    "input_mat = np.array([ 1, 2, -1, 3, 2, 1, -2, 3, -3, 1, 1, -6],dtype=np.float)\n",
    "input_mat = input_mat.reshape(3, 4)\n",
    "output_mat, x = naive_gaussian_elimination(input_mat)\n",
    "print('----------------------')\n",
    "print(output_mat)\n",
    "print('----------------------')\n",
    "print(x)"
   ]
  },
  {
   "cell_type": "markdown",
   "metadata": {},
   "source": [
    "# 2.2 The LU Factorization"
   ]
  },
  {
   "cell_type": "markdown",
   "metadata": {},
   "source": [
    "### Example\n",
    "Solve system\n",
    "\\begin{matrix}\n",
    "x + 2y - z = 3 & \\\\ \n",
    "2x + y - 2z = 3 & \\\\ \n",
    "-3x + y + z = -6 \n",
    "\\end{matrix}\n",
    " \n",
    " using the LU factorization"
   ]
  },
  {
   "cell_type": "code",
   "execution_count": 11,
   "metadata": {},
   "outputs": [
    {
     "name": "stdout",
     "output_type": "stream",
     "text": [
      "[ 3.  1.  2.]\n"
     ]
    }
   ],
   "source": [
    "A = np.array([ 1, 2, -1, 2, 1, -2, -3, 1, 1],dtype=np.float)\n",
    "A = A.reshape(3, 3)\n",
    "lu, piv = linalg.lu_factor(A)\n",
    "\n",
    "b = np.array([3, 3, -6])\n",
    "sol = linalg.lu_solve([lu, piv], b)\n",
    "print(sol)"
   ]
  },
  {
   "cell_type": "markdown",
   "metadata": {},
   "source": [
    "### Example\n",
    "Find the LU factorization of the given matrices. Check by matrix multiplication\n",
    "\n",
    "$$\n",
    "\\begin{bmatrix}\n",
    "3 & 1 & 2 \\\\ \n",
    "6 & 3 & 4 \\\\ \n",
    "3 & 1 & 5\n",
    "\\end{bmatrix}\n",
    "$$"
   ]
  },
  {
   "cell_type": "code",
   "execution_count": 24,
   "metadata": {},
   "outputs": [
    {
     "name": "stdout",
     "output_type": "stream",
     "text": [
      "[[ 3.  1.  2.]\n",
      " [ 6.  3.  4.]\n",
      " [ 3.  1.  5.]]\n",
      "--------------------\n",
      "[[ 1.   0.   0. ]\n",
      " [ 0.5  1.   0. ]\n",
      " [ 0.5  1.   1. ]]\n",
      "--------------------\n",
      "[[ 6.   3.   4. ]\n",
      " [ 0.  -0.5  0. ]\n",
      " [ 0.   0.   3. ]]\n",
      "--------------------\n",
      "[[ 3.  1.  2.]\n",
      " [ 6.  3.  4.]\n",
      " [ 3.  1.  5.]]\n"
     ]
    }
   ],
   "source": [
    "A = np.array([3, 1, 2, 6, 3, 4, 3, 1, 5], dtype=np.float).reshape(3,3)\n",
    "P, L, U = linalg.lu(A)\n",
    "print(A)\n",
    "print('--------------------')\n",
    "print(L)\n",
    "print('--------------------')\n",
    "print(U)\n",
    "print('--------------------')\n",
    "print(np.matmul(P,np.matmul(L, U)))"
   ]
  },
  {
   "cell_type": "markdown",
   "metadata": {},
   "source": [
    "### Example\n",
    "Solve the system by LU factorization\n",
    "\n",
    "$$\n",
    "\\begin{bmatrix}\n",
    "3 & 1 & 2 \\\\ \n",
    "6 & 3 & 4 \\\\ \n",
    "3 & 1 & 5\n",
    "\\end{bmatrix}\n",
    "\\begin{bmatrix}\n",
    "x_1 \\\\ \n",
    "x_2 \\\\ \n",
    "x_3\n",
    "\\end{bmatrix}\n",
    "=\n",
    "\\begin{bmatrix}\n",
    "0 \\\\ \n",
    "1 \\\\ \n",
    "3\n",
    "\\end{bmatrix}\n",
    "$$"
   ]
  },
  {
   "cell_type": "code",
   "execution_count": 27,
   "metadata": {},
   "outputs": [
    {
     "name": "stdout",
     "output_type": "stream",
     "text": [
      "[-1.  1.  1.]\n"
     ]
    }
   ],
   "source": [
    "A = np.array([3, 1, 2, 6, 3, 4, 3, 1, 5], dtype=np.float).reshape(3,3)\n",
    "b = np.array([0, 1, 3])\n",
    "lu, piv = linalg.lu_factor(A)\n",
    "x = linalg.lu_solve([lu, piv], b)\n",
    "print(x)"
   ]
  },
  {
   "cell_type": "markdown",
   "metadata": {},
   "source": [
    "# 2.4 The PA=LU Factorization"
   ]
  },
  {
   "cell_type": "markdown",
   "metadata": {},
   "source": [
    "### Example\n",
    "Apply Gaussian elimination with partial pivoting to solve the system\n",
    "\n",
    "\\begin{matrix}\n",
    "  x_1 - x_2 + 3x_3 = -3 & \\\\ \n",
    "-1x_1 - 2x_3 = 1 & \\\\ \n",
    " 2x_1 + 2x_2 + 4x_3 = 0 \n",
    "\\end{matrix}"
   ]
  },
  {
   "cell_type": "code",
   "execution_count": 2,
   "metadata": {},
   "outputs": [
    {
     "name": "stdout",
     "output_type": "stream",
     "text": [
      "[ 1.  1. -1.]\n"
     ]
    }
   ],
   "source": [
    "A = np.array([1, -1, 3, -1, 0, -2, 2, 2, 4]).reshape(3, 3)\n",
    "b = np.array([-3, 1, 0])\n",
    "lu, piv = linalg.lu_factor(A)\n",
    "x = linalg.lu_solve([lu, piv], b)\n",
    "print(x)"
   ]
  },
  {
   "cell_type": "markdown",
   "metadata": {},
   "source": [
    "### Example\n",
    "\n",
    "Solve the system $2x_1 + 3x_2 = 4$,$3x_1 + 2x_2 = 1$ using the PA = LU factorization with partial pivoting"
   ]
  },
  {
   "cell_type": "code",
   "execution_count": 7,
   "metadata": {},
   "outputs": [
    {
     "name": "stdout",
     "output_type": "stream",
     "text": [
      "[-1.  2.]\n"
     ]
    }
   ],
   "source": [
    "\"\"\"\n",
    "[[2, 3]\n",
    " [3, 2]]\n",
    "\"\"\"\n",
    "A = np.array([2, 3, 3, 2]).reshape(2, 2)\n",
    "b = np.array([4, 1])\n",
    "lu, piv = linalg.lu_factor(A)\n",
    "x = linalg.lu_solve([lu, piv], b)\n",
    "print(x)"
   ]
  },
  {
   "cell_type": "markdown",
   "metadata": {},
   "source": [
    "# 2.5 Iterative Methods"
   ]
  },
  {
   "cell_type": "markdown",
   "metadata": {},
   "source": [
    "## Jacobi Method"
   ]
  },
  {
   "cell_type": "code",
   "execution_count": 31,
   "metadata": {
    "collapsed": true
   },
   "outputs": [],
   "source": [
    "def jacobi_method(A, b, x0, k):\n",
    "    \"\"\"\n",
    "    Use jacobi method to solve equations\n",
    "    \n",
    "    Args:\n",
    "        A  (numpy 2d array): the matrix\n",
    "        b  (numpy 1d array): the right hand side vector\n",
    "        x0 (numpy 1d array): initial guess\n",
    "        k  (real number): iterations\n",
    "        \n",
    "    Return:\n",
    "        The approximate solution\n",
    "        \n",
    "    Exceptions:\n",
    "        ValueError\n",
    "            The size of matrix's column is not equal to the size of vector's size\n",
    "    \"\"\"\n",
    "    if A.shape[1] is not x0.shape[0] :\n",
    "        raise ValueError('The size of the columns of matrix A must be equal to the size of the x0')\n",
    "    \n",
    "    D = np.diag(A.diagonal())\n",
    "    inv_D = linalg.inv(D) \n",
    "    LU = A - D\n",
    "    xk = x0\n",
    "    \n",
    "    for _ in range(k):\n",
    "        xk = np.matmul(b - np.matmul(LU, xk), inv_D)\n",
    "    \n",
    "    return xk"
   ]
  },
  {
   "cell_type": "markdown",
   "metadata": {},
   "source": [
    "### Example\n",
    "Apply the Jacobi Method to the system $3u + v = 5$, $u + 2v = 5$"
   ]
  },
  {
   "cell_type": "code",
   "execution_count": 34,
   "metadata": {},
   "outputs": [
    {
     "name": "stdout",
     "output_type": "stream",
     "text": [
      "x = [ 0.99999998  1.99999997]\n"
     ]
    }
   ],
   "source": [
    "A = np.array([3, 1, 1, 2]).reshape(2, 2)\n",
    "b = np.array([5, 5])\n",
    "x = jacobi_method(A, b, np.array([0, 0]), 20)\n",
    "print('x = %s' %x)"
   ]
  },
  {
   "cell_type": "markdown",
   "metadata": {},
   "source": [
    "## Gauss-Seidel Method"
   ]
  },
  {
   "cell_type": "code",
   "execution_count": 47,
   "metadata": {
    "collapsed": true
   },
   "outputs": [],
   "source": [
    "def gauss_seidel_method(A, b, x0, k):\n",
    "    \"\"\"\n",
    "    Use gauss seidel method to solve equations\n",
    "    \n",
    "    Args:\n",
    "        A  (numpy 2d array): the matrix\n",
    "        b  (numpy 1d array): the right hand side vector\n",
    "        x0 (numpy 1d array): initial guess\n",
    "        k  (real number): iterations\n",
    "        \n",
    "    Return:\n",
    "        The approximate solution\n",
    "        \n",
    "    Exceptions:\n",
    "        ValueError\n",
    "            The size of matrix's column is not equal to the size of vector's size\n",
    "    \"\"\"\n",
    "    if A.shape[1] is not x0.shape[0] :\n",
    "        raise ValueError('The size of the columns of matrix A must be equal to the size of the x0')\n",
    "    \n",
    "    D = np.diag(A.diagonal())\n",
    "    L = np.tril(A) - D\n",
    "    U = np.triu(A) - D\n",
    "    inv_LD = linalg.inv(L + D)\n",
    "    xk = x0\n",
    "    \n",
    "    for _ in range(k):\n",
    "        xk = np.matmul(inv_LD, -np.matmul(U, xk) + b)\n",
    "    \n",
    "    return xk"
   ]
  },
  {
   "cell_type": "markdown",
   "metadata": {},
   "source": [
    "### Example\n",
    "Apply the Gauss-Seidel Method to the system\n",
    "\n",
    "$$\n",
    "\\begin{bmatrix}\n",
    "3 & 1 & -1 \\\\ \n",
    "2 & 4 & 1  \\\\ \n",
    "-1 & 2 & 5\n",
    "\\end{bmatrix}\n",
    "\\begin{bmatrix}\n",
    "u \\\\ \n",
    "v \\\\ \n",
    "w\n",
    "\\end{bmatrix}\n",
    "=\n",
    "\\begin{bmatrix}\n",
    "4 \\\\ \n",
    "1 \\\\ \n",
    "1\n",
    "\\end{bmatrix}\n",
    "$$"
   ]
  },
  {
   "cell_type": "code",
   "execution_count": 48,
   "metadata": {},
   "outputs": [
    {
     "data": {
      "text/plain": [
       "array([ 2., -1.,  1.])"
      ]
     },
     "execution_count": 48,
     "metadata": {},
     "output_type": "execute_result"
    }
   ],
   "source": [
    "A = np.array([3, 1, -1, 2, 4, 1, -1, 2, 5]).reshape(3, 3)\n",
    "b = np.array([4, 1, 1])\n",
    "x0 = np.array([0, 0, 0])\n",
    "gauss_seidel_method(A, b, x0, 24)"
   ]
  },
  {
   "cell_type": "markdown",
   "metadata": {},
   "source": [
    "## Successive Over-Relaxation"
   ]
  },
  {
   "cell_type": "code",
   "execution_count": 49,
   "metadata": {
    "collapsed": true
   },
   "outputs": [],
   "source": [
    "def gauss_seidel_sor_method(A, b, w, x0, k):\n",
    "    \"\"\"\n",
    "    Use gauss seidel method with sor to solve equations\n",
    "    \n",
    "    Args:\n",
    "        A  (numpy 2d array): the matrix\n",
    "        b  (numpy 1d array): the right hand side vector\n",
    "        w  (real number): weight\n",
    "        x0 (numpy 1d array): initial guess\n",
    "        k  (real number): iterations\n",
    "        \n",
    "    Return:\n",
    "        The approximate solution\n",
    "        \n",
    "    Exceptions:\n",
    "        ValueError\n",
    "            The size of matrix's column is not equal to the size of vector's size\n",
    "    \"\"\"\n",
    "    if A.shape[1] is not x0.shape[0] :\n",
    "        raise ValueError('The size of the columns of matrix A must be equal to the size of the x0')\n",
    "    \n",
    "    D = np.diag(A.diagonal())\n",
    "    L = np.tril(A) - D\n",
    "    U = np.triu(A) - D\n",
    "    inv_LD = linalg.inv(w * L + D)\n",
    "    xk = x0\n",
    "    \n",
    "    for _ in range(k):\n",
    "        xk = np.matmul(w * inv_LD, b) + np.matmul(inv_LD, (1 - w) * np.matmul(D, xk) - w * np.matmul(U, xk))\n",
    "    \n",
    "    return xk"
   ]
  },
  {
   "cell_type": "markdown",
   "metadata": {},
   "source": [
    "### Example\n",
    "Apply the Gauss-Seidel Method with sor to the system\n",
    "\n",
    "$$\n",
    "\\begin{bmatrix}\n",
    "3 & 1 & -1 \\\\ \n",
    "2 & 4 & 1  \\\\ \n",
    "-1 & 2 & 5\n",
    "\\end{bmatrix}\n",
    "\\begin{bmatrix}\n",
    "u \\\\ \n",
    "v \\\\ \n",
    "w\n",
    "\\end{bmatrix}\n",
    "=\n",
    "\\begin{bmatrix}\n",
    "4 \\\\ \n",
    "1 \\\\ \n",
    "1\n",
    "\\end{bmatrix}\n",
    "$$"
   ]
  },
  {
   "cell_type": "code",
   "execution_count": 63,
   "metadata": {},
   "outputs": [
    {
     "data": {
      "text/plain": [
       "array([ 2., -1.,  1.])"
      ]
     },
     "execution_count": 63,
     "metadata": {},
     "output_type": "execute_result"
    }
   ],
   "source": [
    "A = np.array([3, 1, -1, 2, 4, 1, -1, 2, 5]).reshape(3, 3)\n",
    "b = np.array([4, 1, 1])\n",
    "x0 = np.array([0, 0, 0])\n",
    "w = 1.25\n",
    "gauss_seidel_sor_method(A, b, w, x0, 14)"
   ]
  },
  {
   "cell_type": "markdown",
   "metadata": {},
   "source": [
    "# 2.6 Methods for symmetric positive-definite matrices"
   ]
  },
  {
   "cell_type": "markdown",
   "metadata": {},
   "source": [
    "##  Cholesky factorization"
   ]
  },
  {
   "cell_type": "markdown",
   "metadata": {},
   "source": [
    "### Example\n",
    "\n",
    "Find the Cholesky factorization of \n",
    "$\\begin{bmatrix}\n",
    "4 & -2 & 2   \\\\ \n",
    "-2 & 2 & -4  \\\\ \n",
    "2 & -4 & 11\n",
    "\\end{bmatrix}$"
   ]
  },
  {
   "cell_type": "code",
   "execution_count": 74,
   "metadata": {},
   "outputs": [
    {
     "name": "stdout",
     "output_type": "stream",
     "text": [
      "[[ 2. -1.  1.]\n",
      " [ 0.  1. -3.]\n",
      " [ 0.  0.  1.]]\n"
     ]
    }
   ],
   "source": [
    "A = np.array([4, -2, 2, -2, 2, -4, 2, -4, 11]).reshape(3, 3)\n",
    "R = linalg.cholesky(A)\n",
    "print(R)"
   ]
  },
  {
   "cell_type": "markdown",
   "metadata": {},
   "source": [
    "## Conjugate Gradient Method"
   ]
  },
  {
   "cell_type": "code",
   "execution_count": 1,
   "metadata": {
    "collapsed": true
   },
   "outputs": [],
   "source": [
    "def conjugate_gradient_method(A, b, x0, k):\n",
    "    \"\"\"\n",
    "    Use conjugate gradient to solve linear equations\n",
    "    \n",
    "    Args:\n",
    "        A  : input matrix\n",
    "        b  : input right hand side vector\n",
    "        x0 : initial guess\n",
    "        k  : iteration\n",
    "        \n",
    "    Returns:\n",
    "        approximate solution\n",
    "    \n",
    "    \n",
    "    \"\"\"\n",
    "    xk = x0\n",
    "    dk = rk = b - np.matmul(A, x0)\n",
    "    for _ in range(k):\n",
    "        if not np.any(rk) or all( abs(i) <= 1e-16 for i in rk) is True:\n",
    "            break\n",
    "        ak = float(np.matmul(rk.T, rk)) / float(np.matmul(dk.T, np.matmul(A, dk)))\n",
    "        xk = xk + ak * dk\n",
    "        rk1 = rk - ak * np.matmul(A, dk)\n",
    "        bk = np.matmul(rk1.T, rk1) / np.matmul(rk.T, rk)\n",
    "        dk = rk1 + bk * dk\n",
    "        rk = rk1\n",
    "    return xk"
   ]
  },
  {
   "cell_type": "markdown",
   "metadata": {},
   "source": [
    "### Example \n",
    "Solve \n",
    "$$\n",
    "\\begin{bmatrix}\n",
    "2 & 2 \\\\ \n",
    "2 & 5 \\\\\n",
    "\\end{bmatrix}\n",
    "\\begin{bmatrix}\n",
    "u \\\\ \n",
    "v  \n",
    "\\end{bmatrix}\n",
    "=\n",
    "\\begin{bmatrix}\n",
    "6 \\\\ \n",
    "3 \n",
    "\\end{bmatrix}\n",
    "$$\n",
    "\n",
    "using the Conjugate Gradient Method"
   ]
  },
  {
   "cell_type": "code",
   "execution_count": 6,
   "metadata": {},
   "outputs": [
    {
     "data": {
      "text/plain": [
       "array([ 4., -1.])"
      ]
     },
     "execution_count": 6,
     "metadata": {},
     "output_type": "execute_result"
    }
   ],
   "source": [
    "A = np.array([2, 2, 2, 5]).reshape(2, 2)\n",
    "b = np.array([6, 3])\n",
    "x0 = np.array([0, 0])\n",
    "conjugate_gradient_method(A, b, x0, 2)"
   ]
  },
  {
   "cell_type": "markdown",
   "metadata": {},
   "source": [
    "## Preconditioning"
   ]
  },
  {
   "cell_type": "markdown",
   "metadata": {},
   "source": [
    "# 2.7 Nonlinear Systems Of Equations"
   ]
  },
  {
   "cell_type": "markdown",
   "metadata": {},
   "source": [
    "## Multivariate Newton's Method"
   ]
  },
  {
   "cell_type": "code",
   "execution_count": 42,
   "metadata": {
    "collapsed": true
   },
   "outputs": [],
   "source": [
    "def multivariate_newton_method(fA, fDA, x0, k):\n",
    "    \"\"\"\n",
    "    Args:\n",
    "        fA  (function handle) : coefficient matrix with arguments\n",
    "        fDA (function handle) : right-hand side vector with arguments\n",
    "        x0  (numpy 2d array)  : initial guess\n",
    "        k   (real number)     : iteration\n",
    "        \n",
    "    Return:\n",
    "        Approximate solution xk after k iterations\n",
    "    \"\"\"\n",
    "    xk = x0\n",
    "    for _ in range(k):\n",
    "        lu, piv = linalg.lu_factor(fDA(*xk))\n",
    "        s = linalg.lu_solve([lu, piv], -fA(*xk))\n",
    "        xk = xk + s\n",
    "    return xk"
   ]
  },
  {
   "cell_type": "markdown",
   "metadata": {},
   "source": [
    "### Example\n",
    "Use Newton's method with starting guess $(1,2)$ to find a solution of the system\n",
    "$$\n",
    "v - u^3 = 0 \\\\\n",
    "u^2 + v^2 - 1 = 0\n",
    "$$"
   ]
  },
  {
   "cell_type": "code",
   "execution_count": 43,
   "metadata": {},
   "outputs": [
    {
     "data": {
      "text/plain": [
       "array([ 0.82603136,  0.56362416])"
      ]
     },
     "execution_count": 43,
     "metadata": {},
     "output_type": "execute_result"
    }
   ],
   "source": [
    "fA = lambda u,v : np.array([v - pow(u, 3), pow(u, 2) + pow(v, 2) - 1], dtype=np.float64)\n",
    "fDA = lambda u,v : np.array([-3 * pow(u, 2), 1, 2 * u, 2 * v], dtype=np.float64).reshape(2, 2)\n",
    "x0 = np.array([1, 2])\n",
    "multivariate_newton_method(fA, fDA, x0, 10)"
   ]
  },
  {
   "cell_type": "markdown",
   "metadata": {},
   "source": [
    "### Example\n",
    "Use Newton's method to find the solutions of the system\n",
    "$$\n",
    "f_1(u,v) = 6u^3 + uv - 3^3 - 4 = 0 \\\\\n",
    "f_2(u,v) = u^2 - 18uv^2 + 16v^3 + 1 = 0\n",
    "$$"
   ]
  },
  {
   "cell_type": "code",
   "execution_count": 51,
   "metadata": {},
   "outputs": [
    {
     "data": {
      "text/plain": [
       "array([ 1.,  1.])"
      ]
     },
     "execution_count": 51,
     "metadata": {},
     "output_type": "execute_result"
    }
   ],
   "source": [
    "fA = lambda u,v : np.array([6 * pow(u, 3) + u * v - 3 * pow(v, 3) - 4,\n",
    "                           pow(u, 2) - 18 * u * pow(v, 2) + 16 * pow(v, 3) + 1], \n",
    "                           dtype=np.float64)\n",
    "\n",
    "fDA = lambda u,v : np.array([18 * pow(u, 2) + v,  \n",
    "                            u - 9 * pow(v, 2), \n",
    "                            2 * u - 18 * pow(v, 2), \n",
    "                            -36 * u * v + 48 * pow(v, 2)], \n",
    "                            dtype=np.float64).reshape(2, 2)\n",
    "\n",
    "x0 = np.array([2, 2], dtype=np.float64)\n",
    "\n",
    "multivariate_newton_method(fA, fDA, x0, 5)"
   ]
  }
 ],
 "metadata": {
  "kernelspec": {
   "display_name": "Python 3",
   "language": "python",
   "name": "python3"
  },
  "language_info": {
   "codemirror_mode": {
    "name": "ipython",
    "version": 3
   },
   "file_extension": ".py",
   "mimetype": "text/x-python",
   "name": "python",
   "nbconvert_exporter": "python",
   "pygments_lexer": "ipython3",
   "version": "3.5.2"
  }
 },
 "nbformat": 4,
 "nbformat_minor": 2
}
