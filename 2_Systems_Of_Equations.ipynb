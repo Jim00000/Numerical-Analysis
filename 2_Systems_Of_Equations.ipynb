{
 "cells": [
  {
   "cell_type": "markdown",
   "metadata": {},
   "source": [
    "\n",
    "# ★ Systems Of Equations ★"
   ]
  },
  {
   "cell_type": "code",
   "execution_count": 60,
   "metadata": {
    "collapsed": true
   },
   "outputs": [],
   "source": [
    "# Import modules\n",
    "import sys\n",
    "import numpy as np\n",
    "from scipy import linalg"
   ]
  },
  {
   "cell_type": "markdown",
   "metadata": {},
   "source": [
    "# 2.1 Gaussian Elimination"
   ]
  },
  {
   "cell_type": "code",
   "execution_count": 213,
   "metadata": {},
   "outputs": [],
   "source": [
    "def naive_gaussian_elimination(matrix):\n",
    "    mat = matrix.copy()\n",
    "    \n",
    "    # Row Size\n",
    "    n = mat.shape[0]\n",
    "    \n",
    "    # Column Size\n",
    "    m = mat.shape[1]\n",
    "    \n",
    "    # Gaussian Elimaination\n",
    "    for j in xrange(0, n):\n",
    "        if abs(mat[j , j]) == 0 :\n",
    "            raise RuntimeError('zero pivot encountered')\n",
    "        for i in xrange(j + 1, n):\n",
    "            mult = mat[i, j] / mat[j, j]\n",
    "            for k in xrange(j,m):\n",
    "                mat[i, k] = mat[i, k] - mult * mat[j, k]\n",
    "    \n",
    "    # Back Substitution\n",
    "    x = np.zeros(n, dtype=np.float)\n",
    "    for i in xrange(n - 1,-1,-1):\n",
    "        for j in xrange(i + 1, n):\n",
    "            mat[i, m-1] = mat[i ,m-1] - mat[i,j] * x[j]\n",
    "        x[i] = mat[i, m-1] / mat[i, i]\n",
    "        \n",
    "    return mat, x"
   ]
  },
  {
   "cell_type": "markdown",
   "metadata": {},
   "source": [
    "### Example\n",
    "Solve equations\n",
    "\\begin{matrix}\n",
    "x + 2y - z = 3 & \\\\ \n",
    "2x + y - 2z = 3 & \\\\ \n",
    "-3x + y + z = -6 \n",
    "\\end{matrix}"
   ]
  },
  {
   "cell_type": "code",
   "execution_count": 215,
   "metadata": {},
   "outputs": [
    {
     "name": "stdout",
     "output_type": "stream",
     "text": [
      "----------------------\n",
      "[[ 1.  2. -1.  3.]\n",
      " [ 0. -3.  0. -3.]\n",
      " [ 0.  0. -2. -4.]]\n",
      "----------------------\n",
      "[ 3.  1.  2.]\n"
     ]
    }
   ],
   "source": [
    "\"\"\"\n",
    "Input:\n",
    "[[ 1  2 -1  3]\n",
    " [ 2  1 -2  3]\n",
    " [-3  1  1 -6]]\n",
    "\"\"\"\n",
    "input_mat = np.array([ 1, 2, -1, 3, 2, 1, -2, 3, -3, 1, 1, -6],dtype=np.float)\n",
    "input_mat = mat.reshape(3, 4)\n",
    "output_mat, x = naive_gaussian_elimination(input_mat)\n",
    "print('----------------------')\n",
    "print(output_mat)\n",
    "print('----------------------')\n",
    "print(x)"
   ]
  }
 ],
 "metadata": {
  "kernelspec": {
   "display_name": "Python 2",
   "language": "python",
   "name": "python2"
  },
  "language_info": {
   "codemirror_mode": {
    "name": "ipython",
    "version": 2
   },
   "file_extension": ".py",
   "mimetype": "text/x-python",
   "name": "python",
   "nbconvert_exporter": "python",
   "pygments_lexer": "ipython2",
   "version": "2.7.12"
  }
 },
 "nbformat": 4,
 "nbformat_minor": 2
}
