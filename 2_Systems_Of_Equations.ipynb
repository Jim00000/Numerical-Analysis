{
 "cells": [
  {
   "cell_type": "markdown",
   "metadata": {},
   "source": [
    "# ★ Systems Of Equations ★"
   ]
  },
  {
   "cell_type": "code",
   "execution_count": 31,
   "metadata": {},
   "outputs": [],
   "source": [
    "# Import modules\n",
    "import sys\n",
    "import numpy as np\n",
    "import scipy\n",
    "from scipy import linalg\n",
    "from scipy.sparse import linalg as slinalg"
   ]
  },
  {
   "cell_type": "markdown",
   "metadata": {},
   "source": [
    "# 2.1 Gaussian Elimination"
   ]
  },
  {
   "cell_type": "code",
   "execution_count": 2,
   "metadata": {},
   "outputs": [],
   "source": [
    "def naive_gaussian_elimination(matrix):\n",
    "    \"\"\"\n",
    "    A simple gaussian elimination to solve equations\n",
    "    \n",
    "    Args:\n",
    "        matrix : numpy 2d array\n",
    "        \n",
    "    Returns:\n",
    "        mat : The matrix processed by gaussian elimination\n",
    "        x   : The roots of the equation\n",
    "        \n",
    "    Raises:\n",
    "        ValueError:\n",
    "            - matrix is null\n",
    "        RuntimeError :\n",
    "            - Zero pivot encountered\n",
    "    \"\"\"\n",
    "    if matrix is None :\n",
    "        raise ValueError('args matrix is null')\n",
    "    \n",
    "    #Clone the matrix\n",
    "    mat = matrix.copy().astype(np.float64)\n",
    "    \n",
    "    # Row Size\n",
    "    m = mat.shape[0]\n",
    "    \n",
    "    # Column Size\n",
    "    n = mat.shape[1]\n",
    "    \n",
    "    # Gaussian Elimaination\n",
    "    for i in range(0, m):\n",
    "        if np.abs(mat[i , i]) == 0 :\n",
    "            raise RuntimeError('zero pivot encountered')\n",
    "        for j in range(i + 1, m):\n",
    "            mult = mat[j, i] / mat[i, i]\n",
    "            for k in range(i, m):\n",
    "                mat[j, k] -= mult * mat[i, k]\n",
    "            mat[j, n - 1] -= mult * mat[i, n - 1]\n",
    "    \n",
    "    # Back Substitution\n",
    "    x = np.zeros(m, dtype=np.float64)\n",
    "    for i in range(m - 1,-1,-1):\n",
    "        for j in range(i + 1, m):\n",
    "            mat[i, n-1] = mat[i ,n-1] - mat[i,j] * x[j]\n",
    "            mat[i, j] = 0.0\n",
    "        x[i] = mat[i, n-1] / mat[i, i]\n",
    "        \n",
    "    return mat, x"
   ]
  },
  {
   "cell_type": "markdown",
   "metadata": {},
   "source": [
    "### Example\n",
    "\n",
    "Apply Gaussian elimination in tableau form for the system of three equations in three\n",
    "unknowns:\n",
    "\n",
    "$$\n",
    "\\large\n",
    "\\begin{matrix}\n",
    "x + 2y - z = 3 & \\\\ \n",
    "2x + y - 2z = 3 & \\\\ \n",
    "-3x + y + z = -6 \n",
    "\\end{matrix}\n",
    "$$"
   ]
  },
  {
   "cell_type": "code",
   "execution_count": 3,
   "metadata": {},
   "outputs": [
    {
     "name": "stdout",
     "output_type": "stream",
     "text": [
      "[[ 1.  0.  0.  3.]\n",
      " [ 0. -3.  0. -3.]\n",
      " [ 0.  0. -2. -4.]]\n",
      "[x, y, z] = [3. 1. 2.]\n"
     ]
    }
   ],
   "source": [
    "\"\"\"\n",
    "Input:\n",
    "[[ 1  2 -1  3]\n",
    " [ 2  1 -2  3]\n",
    " [-3  1  1 -6]]\n",
    "\"\"\"\n",
    "input_mat = np.array([1, 2, -1, 3, 2, 1, -2, 3, -3, 1, 1, -6])\n",
    "input_mat = input_mat.reshape(3, 4)\n",
    "output_mat, x = naive_gaussian_elimination(input_mat)\n",
    "\n",
    "print(output_mat)\n",
    "print('[x, y, z] = {}'.format(x))"
   ]
  },
  {
   "cell_type": "markdown",
   "metadata": {},
   "source": [
    "### Additional Examples\n",
    "\n",
    "1. Put the system $x + 2y - z = 3,-3x + y + z = -6,2x + z = 8$ into tableau form and solve by Gaussian elimination."
   ]
  },
  {
   "cell_type": "code",
   "execution_count": 4,
   "metadata": {},
   "outputs": [
    {
     "name": "stdout",
     "output_type": "stream",
     "text": [
      "[[1.         0.         0.         3.        ]\n",
      " [0.         7.         0.         7.        ]\n",
      " [0.         0.         1.85714286 3.71428571]]\n",
      "[x, y, z] = [3. 1. 2.]\n"
     ]
    }
   ],
   "source": [
    "input_mat = np.array([\n",
    "    [ 1, 2, -1,  3],\n",
    "    [-3, 1,  1, -6],\n",
    "    [ 2, 0,  1,  8]\n",
    "])\n",
    "\n",
    "output_mat, x = naive_gaussian_elimination(input_mat)\n",
    "\n",
    "print(output_mat)\n",
    "print('[x, y, z] = {}'.format(x))"
   ]
  },
  {
   "cell_type": "markdown",
   "metadata": {},
   "source": [
    "## 2.1 Computer Problems\n",
    "\n",
    "1. Put together the code fragments in this section to create a MATLAB program for “naive” Gaussian elimination (meaning no row exchanges allowed). Use it to solve the systems of Exercise 2.\n",
    "\n",
    "See my implementation **naive_gaussian_elimination** in python."
   ]
  },
  {
   "cell_type": "markdown",
   "metadata": {},
   "source": [
    "2. Let $H$ denote the $n \\times n$ Hilbert matrix, whose $(i, j)$ entry is $1 / (i + j - 1)$. Use the MATLAB program from Computer Problem 1 to solve $Hx = b$, where $b$ is the vector of all ones, for (a) n = 2 (b) n = 5 (c) n = 10."
   ]
  },
  {
   "cell_type": "code",
   "execution_count": 5,
   "metadata": {},
   "outputs": [
    {
     "name": "stdout",
     "output_type": "stream",
     "text": [
      "(a) n =  2 → x = [-2.  6.]\n",
      "(b) n =  5 → x = [    5.  -120.   630. -1120.   630.]\n",
      "(c) n = 10 → x = [      -9.997365      989.771861   -23755.13378    240195.71429\n",
      " -1261048.597184  3783198.501116 -6725765.489567  7000357.237863\n",
      " -3937735.417591   923673.408496]\n"
     ]
    }
   ],
   "source": [
    "def computer_problems2__2_1(n):\n",
    "    # generate Hilbert matrix H\n",
    "    H = scipy.linalg.hilbert(n)\n",
    "    \n",
    "    # generate b\n",
    "    b = np.ones(n).reshape(n, 1)\n",
    "    \n",
    "    # combine H:b in tableau form\n",
    "    mat = np.hstack((H, b))\n",
    "    \n",
    "    # gaussian elimination\n",
    "    _, x = naive_gaussian_elimination(mat)\n",
    "    \n",
    "    return x\n",
    "    \n",
    "with np.printoptions(precision = 6, suppress = True):\n",
    "    print('(a) n =  2 → x = {}'.format(computer_problems2__2_1( 2)))\n",
    "    print('(b) n =  5 → x = {}'.format(computer_problems2__2_1( 5)))\n",
    "    print('(c) n = 10 → x = {}'.format(computer_problems2__2_1(10)))"
   ]
  },
  {
   "cell_type": "markdown",
   "metadata": {},
   "source": [
    "---\n",
    "# 2.2 The LU Factorization"
   ]
  },
  {
   "cell_type": "code",
   "execution_count": 6,
   "metadata": {},
   "outputs": [],
   "source": [
    "def LU_factorization(matrix):\n",
    "    \"\"\"\n",
    "    LU decomposition\n",
    "    \n",
    "    Arguments:\n",
    "        matrix : numpy 2d array\n",
    "        \n",
    "    Return:\n",
    "        L : lower triangular matrix\n",
    "        U : upper triangular matrix\n",
    "        \n",
    "    Raises:\n",
    "        ValueError:\n",
    "            - matrix is null\n",
    "            - matrix is not a 2d array\n",
    "        RuntimeError :\n",
    "            - zero pivot encountered\n",
    "    \"\"\"\n",
    "    if matrix is None :\n",
    "        raise ValueError('args matrix is null')\n",
    "    \n",
    "    if matrix.ndim != 2 :\n",
    "        raise ValueError('matrix is not a 2d-array')\n",
    "    \n",
    "    # dimension\n",
    "    dim = matrix.shape[0]\n",
    "    \n",
    "    # Prepare LU matrixs\n",
    "    L = np.identity(dim).astype(np.float64)\n",
    "    U = matrix.copy().astype(np.float64)\n",
    "        \n",
    "    # Gaussian Elimaination\n",
    "    for i in range(0, dim - 1):\n",
    "        # Check pivot is not zero\n",
    "        if np.abs(U[i , i]) == 0 :\n",
    "            raise RuntimeError('zero pivot encountered')\n",
    "        for j in range(i + 1, dim):\n",
    "            mult = U[j, i] / U[i, i]\n",
    "            for k in range(i, dim):\n",
    "                U[j, k] -= mult * U[i, k]\n",
    "            L[j, i] = mult\n",
    "        \n",
    "    return L, U"
   ]
  },
  {
   "cell_type": "markdown",
   "metadata": {},
   "source": [
    "## DEFINITION 2.2\n",
    "\n",
    "An $m \\times n$ matrix $L$ is **lower triangular** if its entries satisfy $l_{ij} = 0$ for $i < j$. An $m \\times n$ matrix $U$ is **upper triangular** if its entries satisfy $u_{ij} = 0$ for $i > j$."
   ]
  },
  {
   "cell_type": "markdown",
   "metadata": {},
   "source": [
    "### Example\n",
    "\n",
    "Find the LU factorization for the matrix $A$ in\n",
    "\n",
    "$$\n",
    "\\large\n",
    "\\begin{bmatrix}\n",
    "1 &  1 \\\\ \n",
    "3 & -4 \\\\ \n",
    "\\end{bmatrix}\n",
    "$$"
   ]
  },
  {
   "cell_type": "code",
   "execution_count": 7,
   "metadata": {},
   "outputs": [
    {
     "name": "stdout",
     "output_type": "stream",
     "text": [
      "L = \n",
      "[[1. 0.]\n",
      " [3. 1.]]\n",
      "\n",
      "U = \n",
      "[[ 1.  1.]\n",
      " [ 0. -7.]]\n"
     ]
    }
   ],
   "source": [
    "A = np.array([\n",
    "    [1, 1],\n",
    "    [3, -4]\n",
    "])\n",
    "\n",
    "L, U = LU_factorization(A)\n",
    "\n",
    "print('L = ')\n",
    "print(L)\n",
    "\n",
    "print()\n",
    "\n",
    "print('U = ')\n",
    "print(U)"
   ]
  },
  {
   "cell_type": "markdown",
   "metadata": {},
   "source": [
    "### Example\n",
    "\n",
    "Find the LU factorization of A =\n",
    "\n",
    "$$\n",
    "\\large\n",
    "\\begin{bmatrix}\n",
    "1  & 2 & -1 \\\\ \n",
    "2  & 1 & -2 \\\\ \n",
    "-3 & 1 &  1 \\\\\n",
    "\\end{bmatrix}\n",
    "$$"
   ]
  },
  {
   "cell_type": "code",
   "execution_count": 8,
   "metadata": {},
   "outputs": [
    {
     "name": "stdout",
     "output_type": "stream",
     "text": [
      "L = \n",
      "[[ 1.          0.          0.        ]\n",
      " [ 2.          1.          0.        ]\n",
      " [-3.         -2.33333333  1.        ]]\n",
      "\n",
      "U = \n",
      "[[ 1.  2. -1.]\n",
      " [ 0. -3.  0.]\n",
      " [ 0.  0. -2.]]\n"
     ]
    }
   ],
   "source": [
    "A = np.array([\n",
    "    [ 1, 2, -1],\n",
    "    [ 2, 1, -2],\n",
    "    [-3, 1,  1]\n",
    "])\n",
    "\n",
    "L, U = LU_factorization(A)\n",
    "\n",
    "print('L = ')\n",
    "print(L)\n",
    "\n",
    "print()\n",
    "\n",
    "print('U = ')\n",
    "print(U)"
   ]
  },
  {
   "cell_type": "markdown",
   "metadata": {},
   "source": [
    "### Example\n",
    "\n",
    "Solve system\n",
    "\n",
    "$$\n",
    "\\large\n",
    "\\begin{bmatrix}\n",
    "1 &  1 \\\\ \n",
    "3 & -4 \\\\ \n",
    "\\end{bmatrix}\n",
    "\\begin{bmatrix}\n",
    "x_1 \\\\ \n",
    "x_2 \\\\ \n",
    "\\end{bmatrix}\n",
    "=\n",
    "\\begin{bmatrix}\n",
    "3 \\\\ \n",
    "2 \\\\ \n",
    "\\end{bmatrix}\n",
    "$$\n",
    "\n",
    ", using the LU factorization"
   ]
  },
  {
   "cell_type": "code",
   "execution_count": 9,
   "metadata": {},
   "outputs": [
    {
     "name": "stdout",
     "output_type": "stream",
     "text": [
      "x1 = 2.0, x2 = 1.0\n"
     ]
    }
   ],
   "source": [
    "A = np.array([\n",
    "    [ 1,  1],\n",
    "    [ 3, -4]\n",
    "])\n",
    "\n",
    "b = np.array([3, 2]).reshape(2, 1)\n",
    "\n",
    "L, U = LU_factorization(A)\n",
    "\n",
    "# calculate Lc = b where Ux = c\n",
    "mat = np.hstack((L, b))\n",
    "c = naive_gaussian_elimination(mat)[1].reshape(2, 1)\n",
    "\n",
    "# calculate Ux = c\n",
    "mat = np.hstack((U, c))\n",
    "x = naive_gaussian_elimination(mat)[1].reshape(2, 1)\n",
    "\n",
    "# output the result\n",
    "print('x1 = {}, x2 = {}'.format(x[0][0], x[1][0]))"
   ]
  },
  {
   "cell_type": "markdown",
   "metadata": {},
   "source": [
    "\n",
    "### Example\n",
    "Solve system\n",
    "\\begin{matrix}\n",
    "x + 2y - z = 3 & \\\\ \n",
    "2x + y - 2z = 3 & \\\\ \n",
    "-3x + y + z = -6 \n",
    "\\end{matrix}\n",
    " \n",
    " using the LU factorization"
   ]
  },
  {
   "cell_type": "code",
   "execution_count": 10,
   "metadata": {},
   "outputs": [
    {
     "name": "stdout",
     "output_type": "stream",
     "text": [
      "x1 = 3.0, x2 = 1.0, x3 = 2.0\n"
     ]
    }
   ],
   "source": [
    "A = np.array([\n",
    "    [ 1, 2, -1],\n",
    "    [ 2, 1, -2],\n",
    "    [-3, 1,  1]\n",
    "])\n",
    "\n",
    "b = np.array([3, 3, -6]).reshape(3, 1)\n",
    "\n",
    "L, U = LU_factorization(A)\n",
    "\n",
    "# calculate Lc = b where Ux = c\n",
    "mat = np.hstack((L, b))\n",
    "c = naive_gaussian_elimination(mat)[1].reshape(3, 1)\n",
    "\n",
    "# calculate Ux = c\n",
    "mat = np.hstack((U, c))\n",
    "x = naive_gaussian_elimination(mat)[1].reshape(3, 1)\n",
    "\n",
    "# output the result\n",
    "print('x1 = {}, x2 = {}, x3 = {}'.format(x[0][0], x[1][0], x[2][0]))"
   ]
  },
  {
   "cell_type": "markdown",
   "metadata": {},
   "source": [
    "### Additional Examples\n",
    "\n",
    "1. Solve\n",
    "\n",
    "$$\n",
    "\\large\n",
    "\\begin{bmatrix}\n",
    "2 &  4 & -2 \\\\ \n",
    "1 & -2 &  1 \\\\ \n",
    "4 & -4 &  8 \\\\\n",
    "\\end{bmatrix}\n",
    "\\begin{bmatrix}\n",
    "x_1 \\\\ \n",
    "x_2 \\\\ \n",
    "x_3 \\\\\n",
    "\\end{bmatrix}\n",
    "=\n",
    "\\begin{bmatrix}\n",
    "6 \\\\ \n",
    "3 \\\\ \n",
    "0 \\\\\n",
    "\\end{bmatrix}\n",
    "$$\n",
    "\n",
    "using the A = LU factorization"
   ]
  },
  {
   "cell_type": "code",
   "execution_count": 11,
   "metadata": {},
   "outputs": [
    {
     "name": "stdout",
     "output_type": "stream",
     "text": [
      "x1 = 3.0, x2 = -1.0, x3 = -2.0\n"
     ]
    }
   ],
   "source": [
    "A = np.array([\n",
    "    [ 2,  4, -2],\n",
    "    [ 1, -2,  1],\n",
    "    [ 4, -4,  8]\n",
    "])\n",
    "\n",
    "b = np.array([6, 3, 0]).reshape(3, 1)\n",
    "\n",
    "L, U = LU_factorization(A)\n",
    "\n",
    "# calculate Lc = b where Ux = c\n",
    "mat = np.hstack((L, b))\n",
    "c = naive_gaussian_elimination(mat)[1].reshape(3, 1)\n",
    "\n",
    "# calculate Ux = c\n",
    "mat = np.hstack((U, c))\n",
    "x = naive_gaussian_elimination(mat)[1].reshape(3, 1)\n",
    "\n",
    "# output the result\n",
    "print('x1 = {}, x2 = {}, x3 = {}'.format(x[0][0], x[1][0], x[2][0]))"
   ]
  },
  {
   "cell_type": "markdown",
   "metadata": {},
   "source": [
    "## 2.2 Computer Problems\n",
    "\n",
    "1. Use the code fragments for Gaussian elimination in the previous section to write a MATLAB script to take a matrix A as input and output L and U. No row exchanges are allowed - the program should be designed to shut down if it encounters a zero pivot. Check your program by factoring the matrices in Exercise 2.\n",
    "\n",
    "See my implementation **LU_factorization** in python."
   ]
  },
  {
   "cell_type": "code",
   "execution_count": 12,
   "metadata": {},
   "outputs": [
    {
     "name": "stdout",
     "output_type": "stream",
     "text": [
      "L = \n",
      "[[1. 0. 0.]\n",
      " [2. 1. 0.]\n",
      " [1. 0. 1.]]\n",
      "\n",
      "U = \n",
      "[[3. 1. 2.]\n",
      " [0. 1. 0.]\n",
      " [0. 0. 3.]]\n"
     ]
    }
   ],
   "source": [
    "# Exercise 2 - (a)\n",
    "A = np.array([\n",
    "    [ 3, 1, 2],\n",
    "    [ 6, 3, 4],\n",
    "    [ 3, 1, 5]\n",
    "])\n",
    "\n",
    "L, U = LU_factorization(A)\n",
    "\n",
    "print('L = ')\n",
    "print(L)\n",
    "\n",
    "print()\n",
    "\n",
    "print('U = ')\n",
    "print(U)"
   ]
  },
  {
   "cell_type": "code",
   "execution_count": 13,
   "metadata": {},
   "outputs": [
    {
     "name": "stdout",
     "output_type": "stream",
     "text": [
      "L = \n",
      "[[1.  0.  0. ]\n",
      " [1.  1.  0. ]\n",
      " [0.5 0.5 1. ]]\n",
      "\n",
      "U = \n",
      "[[4. 2. 0.]\n",
      " [0. 2. 2.]\n",
      " [0. 0. 2.]]\n"
     ]
    }
   ],
   "source": [
    "# Exercise 2 - (b)\n",
    "A = np.array([\n",
    "    [ 4, 2, 0],\n",
    "    [ 4, 4, 2],\n",
    "    [ 2, 2, 3]\n",
    "])\n",
    "\n",
    "L, U = LU_factorization(A)\n",
    "\n",
    "print('L = ')\n",
    "print(L)\n",
    "\n",
    "print()\n",
    "\n",
    "print('U = ')\n",
    "print(U)"
   ]
  },
  {
   "cell_type": "code",
   "execution_count": 14,
   "metadata": {},
   "outputs": [
    {
     "name": "stdout",
     "output_type": "stream",
     "text": [
      "L = \n",
      "[[1. 0. 0. 0.]\n",
      " [0. 1. 0. 0.]\n",
      " [1. 2. 1. 0.]\n",
      " [0. 1. 0. 1.]]\n",
      "\n",
      "U = \n",
      "[[ 1. -1.  1.  2.]\n",
      " [ 0.  2.  1.  0.]\n",
      " [ 0.  0.  1.  2.]\n",
      " [ 0.  0.  0. -1.]]\n"
     ]
    }
   ],
   "source": [
    "# Exercise 2 - (c)\n",
    "A = np.array([\n",
    "    [ 1, -1, 1,  2],\n",
    "    [ 0,  2, 1,  0],\n",
    "    [ 1,  3, 4,  4],\n",
    "    [ 0,  2, 1, -1]\n",
    "])\n",
    "\n",
    "L, U = LU_factorization(A)\n",
    "\n",
    "print('L = ')\n",
    "print(L)\n",
    "\n",
    "print()\n",
    "\n",
    "print('U = ')\n",
    "print(U)"
   ]
  },
  {
   "cell_type": "markdown",
   "metadata": {},
   "source": [
    "2. Add two-step back substitution to your script from Computer Problem 1, and use it to solve the systems in Exercise 4."
   ]
  },
  {
   "cell_type": "markdown",
   "metadata": {},
   "source": [
    "---\n",
    "# 2.4 The PA=LU Factorization"
   ]
  },
  {
   "cell_type": "markdown",
   "metadata": {},
   "source": [
    "### Example\n",
    "Apply Gaussian elimination with partial pivoting to solve the system\n",
    "\n",
    "\\begin{matrix}\n",
    "  x_1 - x_2 + 3x_3 = -3 & \\\\ \n",
    "-1x_1 - 2x_3 = 1 & \\\\ \n",
    " 2x_1 + 2x_2 + 4x_3 = 0 \n",
    "\\end{matrix}"
   ]
  },
  {
   "cell_type": "code",
   "execution_count": 15,
   "metadata": {},
   "outputs": [
    {
     "name": "stdout",
     "output_type": "stream",
     "text": [
      "[ 1.  1. -1.]\n"
     ]
    }
   ],
   "source": [
    "A = np.array([1, -1, 3, -1, 0, -2, 2, 2, 4]).reshape(3, 3)\n",
    "b = np.array([-3, 1, 0])\n",
    "lu, piv = linalg.lu_factor(A)\n",
    "x = linalg.lu_solve([lu, piv], b)\n",
    "print(x)"
   ]
  },
  {
   "cell_type": "markdown",
   "metadata": {},
   "source": [
    "### Example\n",
    "\n",
    "Solve the system $2x_1 + 3x_2 = 4$,$3x_1 + 2x_2 = 1$ using the PA = LU factorization with partial pivoting"
   ]
  },
  {
   "cell_type": "code",
   "execution_count": 16,
   "metadata": {},
   "outputs": [
    {
     "name": "stdout",
     "output_type": "stream",
     "text": [
      "[-1.  2.]\n"
     ]
    }
   ],
   "source": [
    "\"\"\"\n",
    "[[2, 3]\n",
    " [3, 2]]\n",
    "\"\"\"\n",
    "A = np.array([2, 3, 3, 2]).reshape(2, 2)\n",
    "b = np.array([4, 1])\n",
    "lu, piv = linalg.lu_factor(A)\n",
    "x = linalg.lu_solve([lu, piv], b)\n",
    "print(x)"
   ]
  },
  {
   "cell_type": "markdown",
   "metadata": {},
   "source": [
    "# 2.5 Iterative Methods"
   ]
  },
  {
   "cell_type": "markdown",
   "metadata": {},
   "source": [
    "## Jacobi Method"
   ]
  },
  {
   "cell_type": "code",
   "execution_count": 17,
   "metadata": {},
   "outputs": [],
   "source": [
    "def jacobi_method(A, b, x0, k):\n",
    "    \"\"\"\n",
    "    Use jacobi method to solve equations\n",
    "    \n",
    "    Args:\n",
    "        A  (numpy 2d array): the matrix\n",
    "        b  (numpy 1d array): the right hand side vector\n",
    "        x0 (numpy 1d array): initial guess\n",
    "        k  (real number): iterations\n",
    "        \n",
    "    Return:\n",
    "        The approximate solution\n",
    "        \n",
    "    Exceptions:\n",
    "        ValueError\n",
    "            The size of matrix's column is not equal to the size of vector's size\n",
    "    \"\"\"\n",
    "    if A.shape[1] is not x0.shape[0] :\n",
    "        raise ValueError('The size of the columns of matrix A must be equal to the size of the x0')\n",
    "    \n",
    "    D = np.diag(A.diagonal())\n",
    "    inv_D = linalg.inv(D) \n",
    "    LU = A - D\n",
    "    xk = x0\n",
    "    \n",
    "    for _ in range(k):\n",
    "        xk = np.matmul(b - np.matmul(LU, xk), inv_D)\n",
    "    \n",
    "    return xk"
   ]
  },
  {
   "cell_type": "markdown",
   "metadata": {},
   "source": [
    "### Example\n",
    "Apply the Jacobi Method to the system $3u + v = 5$, $u + 2v = 5$"
   ]
  },
  {
   "cell_type": "code",
   "execution_count": 18,
   "metadata": {},
   "outputs": [
    {
     "name": "stdout",
     "output_type": "stream",
     "text": [
      "x = [0.99999998 1.99999997]\n"
     ]
    }
   ],
   "source": [
    "A = np.array([3, 1, 1, 2]).reshape(2, 2)\n",
    "b = np.array([5, 5])\n",
    "x = jacobi_method(A, b, np.array([0, 0]), 20)\n",
    "print('x = %s' %x)"
   ]
  },
  {
   "cell_type": "markdown",
   "metadata": {},
   "source": [
    "## Gauss-Seidel Method"
   ]
  },
  {
   "cell_type": "code",
   "execution_count": 19,
   "metadata": {},
   "outputs": [],
   "source": [
    "def gauss_seidel_method(A, b, x0, k):\n",
    "    \"\"\"\n",
    "    Use gauss seidel method to solve equations\n",
    "    \n",
    "    Args:\n",
    "        A  (numpy 2d array): the matrix\n",
    "        b  (numpy 1d array): the right hand side vector\n",
    "        x0 (numpy 1d array): initial guess\n",
    "        k  (real number): iterations\n",
    "        \n",
    "    Return:\n",
    "        The approximate solution\n",
    "        \n",
    "    Exceptions:\n",
    "        ValueError\n",
    "            The size of matrix's column is not equal to the size of vector's size\n",
    "    \"\"\"\n",
    "    if A.shape[1] is not x0.shape[0] :\n",
    "        raise ValueError('The size of the columns of matrix A must be equal to the size of the x0')\n",
    "    \n",
    "    D = np.diag(A.diagonal())\n",
    "    L = np.tril(A) - D\n",
    "    U = np.triu(A) - D\n",
    "    inv_LD = linalg.inv(L + D)\n",
    "    xk = x0\n",
    "    \n",
    "    for _ in range(k):\n",
    "        xk = np.matmul(inv_LD, -np.matmul(U, xk) + b)\n",
    "    \n",
    "    return xk"
   ]
  },
  {
   "cell_type": "markdown",
   "metadata": {},
   "source": [
    "### Example\n",
    "Apply the Gauss-Seidel Method to the system\n",
    "\n",
    "$$\n",
    "\\begin{bmatrix}\n",
    "3 & 1 & -1 \\\\ \n",
    "2 & 4 & 1  \\\\ \n",
    "-1 & 2 & 5\n",
    "\\end{bmatrix}\n",
    "\\begin{bmatrix}\n",
    "u \\\\ \n",
    "v \\\\ \n",
    "w\n",
    "\\end{bmatrix}\n",
    "=\n",
    "\\begin{bmatrix}\n",
    "4 \\\\ \n",
    "1 \\\\ \n",
    "1\n",
    "\\end{bmatrix}\n",
    "$$"
   ]
  },
  {
   "cell_type": "code",
   "execution_count": 20,
   "metadata": {},
   "outputs": [
    {
     "data": {
      "text/plain": [
       "array([ 2., -1.,  1.])"
      ]
     },
     "execution_count": 20,
     "metadata": {},
     "output_type": "execute_result"
    }
   ],
   "source": [
    "A = np.array([3, 1, -1, 2, 4, 1, -1, 2, 5]).reshape(3, 3)\n",
    "b = np.array([4, 1, 1])\n",
    "x0 = np.array([0, 0, 0])\n",
    "gauss_seidel_method(A, b, x0, 24)"
   ]
  },
  {
   "cell_type": "markdown",
   "metadata": {},
   "source": [
    "## Successive Over-Relaxation"
   ]
  },
  {
   "cell_type": "code",
   "execution_count": 21,
   "metadata": {},
   "outputs": [],
   "source": [
    "def gauss_seidel_sor_method(A, b, w, x0, k):\n",
    "    \"\"\"\n",
    "    Use gauss seidel method with sor to solve equations\n",
    "    \n",
    "    Args:\n",
    "        A  (numpy 2d array): the matrix\n",
    "        b  (numpy 1d array): the right hand side vector\n",
    "        w  (real number): weight\n",
    "        x0 (numpy 1d array): initial guess\n",
    "        k  (real number): iterations\n",
    "        \n",
    "    Return:\n",
    "        The approximate solution\n",
    "        \n",
    "    Exceptions:\n",
    "        ValueError\n",
    "            The size of matrix's column is not equal to the size of vector's size\n",
    "    \"\"\"\n",
    "    if A.shape[1] is not x0.shape[0] :\n",
    "        raise ValueError('The size of the columns of matrix A must be equal to the size of the x0')\n",
    "    \n",
    "    D = np.diag(A.diagonal())\n",
    "    L = np.tril(A) - D\n",
    "    U = np.triu(A) - D\n",
    "    inv_LD = linalg.inv(w * L + D)\n",
    "    xk = x0\n",
    "    \n",
    "    for _ in range(k):\n",
    "        xk = np.matmul(w * inv_LD, b) + np.matmul(inv_LD, (1 - w) * np.matmul(D, xk) - w * np.matmul(U, xk))\n",
    "    \n",
    "    return xk"
   ]
  },
  {
   "cell_type": "markdown",
   "metadata": {},
   "source": [
    "### Example\n",
    "Apply the Gauss-Seidel Method with sor to the system\n",
    "\n",
    "$$\n",
    "\\begin{bmatrix}\n",
    "3 & 1 & -1 \\\\ \n",
    "2 & 4 & 1  \\\\ \n",
    "-1 & 2 & 5\n",
    "\\end{bmatrix}\n",
    "\\begin{bmatrix}\n",
    "u \\\\ \n",
    "v \\\\ \n",
    "w\n",
    "\\end{bmatrix}\n",
    "=\n",
    "\\begin{bmatrix}\n",
    "4 \\\\ \n",
    "1 \\\\ \n",
    "1\n",
    "\\end{bmatrix}\n",
    "$$"
   ]
  },
  {
   "cell_type": "code",
   "execution_count": 22,
   "metadata": {},
   "outputs": [
    {
     "data": {
      "text/plain": [
       "array([ 2., -1.,  1.])"
      ]
     },
     "execution_count": 22,
     "metadata": {},
     "output_type": "execute_result"
    }
   ],
   "source": [
    "A = np.array([3, 1, -1, 2, 4, 1, -1, 2, 5]).reshape(3, 3)\n",
    "b = np.array([4, 1, 1])\n",
    "x0 = np.array([0, 0, 0])\n",
    "w = 1.25\n",
    "gauss_seidel_sor_method(A, b, w, x0, 14)"
   ]
  },
  {
   "cell_type": "markdown",
   "metadata": {},
   "source": [
    "# 2.6 Methods for symmetric positive-definite matrices"
   ]
  },
  {
   "cell_type": "markdown",
   "metadata": {},
   "source": [
    "##  Cholesky factorization"
   ]
  },
  {
   "cell_type": "markdown",
   "metadata": {},
   "source": [
    "### Example\n",
    "\n",
    "Find the Cholesky factorization of \n",
    "$\\begin{bmatrix}\n",
    "4 & -2 & 2   \\\\ \n",
    "-2 & 2 & -4  \\\\ \n",
    "2 & -4 & 11\n",
    "\\end{bmatrix}$"
   ]
  },
  {
   "cell_type": "code",
   "execution_count": 23,
   "metadata": {},
   "outputs": [
    {
     "name": "stdout",
     "output_type": "stream",
     "text": [
      "[[ 2. -1.  1.]\n",
      " [ 0.  1. -3.]\n",
      " [ 0.  0.  1.]]\n"
     ]
    }
   ],
   "source": [
    "A = np.array([4, -2, 2, -2, 2, -4, 2, -4, 11]).reshape(3, 3)\n",
    "R = linalg.cholesky(A)\n",
    "print(R)"
   ]
  },
  {
   "cell_type": "markdown",
   "metadata": {},
   "source": [
    "## Conjugate Gradient Method"
   ]
  },
  {
   "cell_type": "code",
   "execution_count": 24,
   "metadata": {},
   "outputs": [],
   "source": [
    "def conjugate_gradient_method(A, b, x0, k):\n",
    "    \"\"\"\n",
    "    Use conjugate gradient to solve linear equations\n",
    "    \n",
    "    Args:\n",
    "        A  : input matrix\n",
    "        b  : input right hand side vector\n",
    "        x0 : initial guess\n",
    "        k  : iteration\n",
    "        \n",
    "    Returns:\n",
    "        approximate solution\n",
    "    \n",
    "    \n",
    "    \"\"\"\n",
    "    xk = x0\n",
    "    dk = rk = b - np.matmul(A, x0)\n",
    "    for _ in range(k):\n",
    "        if not np.any(rk) or all( abs(i) <= 1e-16 for i in rk) is True:\n",
    "            break\n",
    "        ak = float(np.matmul(rk.T, rk)) / float(np.matmul(dk.T, np.matmul(A, dk)))\n",
    "        xk = xk + ak * dk\n",
    "        rk1 = rk - ak * np.matmul(A, dk)\n",
    "        bk = np.matmul(rk1.T, rk1) / np.matmul(rk.T, rk)\n",
    "        dk = rk1 + bk * dk\n",
    "        rk = rk1\n",
    "    return xk"
   ]
  },
  {
   "cell_type": "markdown",
   "metadata": {},
   "source": [
    "### Example \n",
    "Solve \n",
    "\n",
    "$$\n",
    "\\begin{bmatrix}\n",
    "2 & 2 \\\\ \n",
    "2 & 5 \\\\\n",
    "\\end{bmatrix}\n",
    "\\begin{bmatrix}\n",
    "u \\\\ \n",
    "v  \n",
    "\\end{bmatrix}\n",
    "=\n",
    "\\begin{bmatrix}\n",
    "6 \\\\ \n",
    "3 \n",
    "\\end{bmatrix}\n",
    "$$\n",
    "\n",
    "using the Conjugate Gradient Method"
   ]
  },
  {
   "cell_type": "code",
   "execution_count": 25,
   "metadata": {},
   "outputs": [
    {
     "data": {
      "text/plain": [
       "array([ 4., -1.])"
      ]
     },
     "execution_count": 25,
     "metadata": {},
     "output_type": "execute_result"
    }
   ],
   "source": [
    "A = np.array([2, 2, 2, 5]).reshape(2, 2)\n",
    "b = np.array([6, 3])\n",
    "x0 = np.array([0, 0])\n",
    "conjugate_gradient_method(A, b, x0, 2)"
   ]
  },
  {
   "cell_type": "markdown",
   "metadata": {},
   "source": [
    "### Example \n",
    "Solve \n",
    "\n",
    "$$\n",
    "\\begin{bmatrix}\n",
    "1  & -1 & 0 \\\\\n",
    "-1 &  2 & 1 \\\\\n",
    "0  &  1 & 2 \\\\\n",
    "\\end{bmatrix}\n",
    "\\begin{bmatrix}\n",
    "u \\\\\n",
    "v \\\\\n",
    "w \\\\\n",
    "\\end{bmatrix}\n",
    "=\n",
    "\\begin{bmatrix}\n",
    "0 \\\\\n",
    "2 \\\\\n",
    "3 \\\\\n",
    "\\end{bmatrix}\n",
    "$$"
   ]
  },
  {
   "cell_type": "code",
   "execution_count": 26,
   "metadata": {},
   "outputs": [
    {
     "data": {
      "text/plain": [
       "array([1., 1., 1.])"
      ]
     },
     "execution_count": 26,
     "metadata": {},
     "output_type": "execute_result"
    }
   ],
   "source": [
    "A = np.array([1, -1, 0, -1, 2, 1, 0, 1, 2]).reshape(3, 3)\n",
    "b = np.array([0, 2, 3])\n",
    "x0 = np.array([0, 0, 0])\n",
    "conjugate_gradient_method(A, b, x0, 10)"
   ]
  },
  {
   "cell_type": "markdown",
   "metadata": {},
   "source": [
    "### Example \n",
    "Solve \n",
    "\n",
    "$$\n",
    "\\begin{bmatrix}\n",
    "1  & -1 & 0 \\\\\n",
    "-1 &  2 & 1 \\\\\n",
    "0  &  1 & 5 \\\\\n",
    "\\end{bmatrix}\n",
    "\\begin{bmatrix}\n",
    "u \\\\\n",
    "v \\\\\n",
    "w \\\\\n",
    "\\end{bmatrix}\n",
    "=\n",
    "\\begin{bmatrix}\n",
    "3  \\\\\n",
    "-3 \\\\\n",
    "4  \\\\\n",
    "\\end{bmatrix}\n",
    "$$"
   ]
  },
  {
   "cell_type": "code",
   "execution_count": 27,
   "metadata": {},
   "outputs": [
    {
     "name": "stdout",
     "output_type": "stream",
     "text": [
      "x = [ 2. -1.  1.]\n"
     ]
    }
   ],
   "source": [
    "A = np.array([1, -1, 0, -1, 2, 1, 0, 1, 5]).reshape(3, 3)\n",
    "b = np.array([3, -3, 4])\n",
    "x0 = np.array([0, 0, 0])\n",
    "x = slinalg.cg(A, b, x0)[0]\n",
    "print('x = %s' %x )"
   ]
  },
  {
   "cell_type": "markdown",
   "metadata": {},
   "source": [
    "## Preconditioning"
   ]
  },
  {
   "cell_type": "markdown",
   "metadata": {},
   "source": [
    "# 2.7 Nonlinear Systems Of Equations"
   ]
  },
  {
   "cell_type": "markdown",
   "metadata": {},
   "source": [
    "## Multivariate Newton's Method"
   ]
  },
  {
   "cell_type": "code",
   "execution_count": 28,
   "metadata": {},
   "outputs": [],
   "source": [
    "def multivariate_newton_method(fA, fDA, x0, k):\n",
    "    \"\"\"\n",
    "    Args:\n",
    "        fA  (function handle) : coefficient matrix with arguments\n",
    "        fDA (function handle) : right-hand side vector with arguments\n",
    "        x0  (numpy 2d array)  : initial guess\n",
    "        k   (real number)     : iteration\n",
    "        \n",
    "    Return:\n",
    "        Approximate solution xk after k iterations\n",
    "    \"\"\"\n",
    "    xk = x0\n",
    "    for _ in range(k):\n",
    "        lu, piv = linalg.lu_factor(fDA(*xk))\n",
    "        s = linalg.lu_solve([lu, piv], -fA(*xk))\n",
    "        xk = xk + s\n",
    "    return xk"
   ]
  },
  {
   "cell_type": "markdown",
   "metadata": {},
   "source": [
    "### Example\n",
    "Use Newton's method with starting guess $(1,2)$ to find a solution of the system\n",
    "\n",
    "$$\n",
    "v - u^3 = 0 \\\\\n",
    "u^2 + v^2 - 1 = 0\n",
    "$$"
   ]
  },
  {
   "cell_type": "code",
   "execution_count": 29,
   "metadata": {},
   "outputs": [
    {
     "data": {
      "text/plain": [
       "array([0.82603136, 0.56362416])"
      ]
     },
     "execution_count": 29,
     "metadata": {},
     "output_type": "execute_result"
    }
   ],
   "source": [
    "fA = lambda u,v : np.array([v - pow(u, 3), pow(u, 2) + pow(v, 2) - 1], dtype=np.float64)\n",
    "fDA = lambda u,v : np.array([-3 * pow(u, 2), 1, 2 * u, 2 * v], dtype=np.float64).reshape(2, 2)\n",
    "x0 = np.array([1, 2])\n",
    "multivariate_newton_method(fA, fDA, x0, 10)"
   ]
  },
  {
   "cell_type": "markdown",
   "metadata": {},
   "source": [
    "### Example\n",
    "Use Newton's method to find the solutions of the system\n",
    "\n",
    "$$\n",
    "f_1(u,v) = 6u^3 + uv - 3^3 - 4 = 0 \\\\\n",
    "f_2(u,v) = u^2 - 18uv^2 + 16v^3 + 1 = 0\n",
    "$$"
   ]
  },
  {
   "cell_type": "code",
   "execution_count": 30,
   "metadata": {},
   "outputs": [
    {
     "data": {
      "text/plain": [
       "array([1., 1.])"
      ]
     },
     "execution_count": 30,
     "metadata": {},
     "output_type": "execute_result"
    }
   ],
   "source": [
    "fA = lambda u,v : np.array([6 * pow(u, 3) + u * v - 3 * pow(v, 3) - 4,\n",
    "                           pow(u, 2) - 18 * u * pow(v, 2) + 16 * pow(v, 3) + 1], \n",
    "                           dtype=np.float64)\n",
    "\n",
    "fDA = lambda u,v : np.array([18 * pow(u, 2) + v,  \n",
    "                            u - 9 * pow(v, 2), \n",
    "                            2 * u - 18 * pow(v, 2), \n",
    "                            -36 * u * v + 48 * pow(v, 2)], \n",
    "                            dtype=np.float64).reshape(2, 2)\n",
    "\n",
    "x0 = np.array([2, 2], dtype=np.float64)\n",
    "\n",
    "multivariate_newton_method(fA, fDA, x0, 5)"
   ]
  },
  {
   "cell_type": "markdown",
   "metadata": {},
   "source": [
    "---\n",
    "## MIT License\n",
    "\n",
    "Copyright (c) Jim00000\n",
    "\n",
    "Permission is hereby granted, free of charge, to any person obtaining a copy\n",
    "of this software and associated documentation files (the \"Software\"), to deal\n",
    "in the Software without restriction, including without limitation the rights\n",
    "to use, copy, modify, merge, publish, distribute, sublicense, and/or sell\n",
    "copies of the Software, and to permit persons to whom the Software is\n",
    "furnished to do so, subject to the following conditions:\n",
    "\n",
    "The above copyright notice and this permission notice shall be included in all\n",
    "copies or substantial portions of the Software."
   ]
  }
 ],
 "metadata": {
  "kernelspec": {
   "display_name": "Python 3",
   "language": "python",
   "name": "python3"
  },
  "language_info": {
   "codemirror_mode": {
    "name": "ipython",
    "version": 3
   },
   "file_extension": ".py",
   "mimetype": "text/x-python",
   "name": "python",
   "nbconvert_exporter": "python",
   "pygments_lexer": "ipython3",
   "version": "3.8.6"
  }
 },
 "nbformat": 4,
 "nbformat_minor": 2
}
