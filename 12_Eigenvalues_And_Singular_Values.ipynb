{
 "cells": [
  {
   "cell_type": "markdown",
   "metadata": {},
   "source": [
    "# ★ Eigenvalues And Singular Values ★"
   ]
  },
  {
   "cell_type": "code",
   "execution_count": 1,
   "metadata": {},
   "outputs": [],
   "source": [
    "#import modules\n",
    "import numpy as np\n",
    "from matplotlib import pyplot as plt"
   ]
  },
  {
   "cell_type": "code",
   "execution_count": 2,
   "metadata": {},
   "outputs": [],
   "source": [
    "# Help function\n",
    "def is_zero_vector(v):\n",
    "    \"\"\"\n",
    "    Check whether vector v is a zero vector\n",
    "    \n",
    "    Arguments:\n",
    "        - v : vector\n",
    "        \n",
    "    Return:\n",
    "        - True if v is a nonzero vector. Otherwise, false\n",
    "        \n",
    "    Exceptions:\n",
    "        - TypeError:\n",
    "            - v is not a vector\n",
    "    \"\"\"\n",
    "    \n",
    "    if v.ndim != 1 and not np.isscalar(v):\n",
    "        raise TypeError('v is not a vector')\n",
    "    \n",
    "    return not np.any(v)"
   ]
  },
  {
   "cell_type": "markdown",
   "metadata": {},
   "source": [
    "# 12.1 power Iteration methods"
   ]
  },
  {
   "cell_type": "markdown",
   "metadata": {},
   "source": [
    "## Definition\n",
    "\n",
    "Let A be an $m \\times m$ matrix. A **dominant eigenvalue** of A is an eigenvalue $\\lambda$ whose magnitude is greater than all other eigenvalues of A. If it exists, an eigenvector associated to $\\lambda$ is called a **dominant eigenvector**"
   ]
  },
  {
   "cell_type": "markdown",
   "metadata": {},
   "source": [
    "Eigenvalue equation $x\\lambda = Ax$, where $x$ is an approximate eigenvector and $\\lambda$ is unknown. <br/>\n",
    "\n",
    "The least squares solution of $x^{T}x\\lambda = Ax$, or\n",
    "$$\n",
    "    \\lambda = \\frac{x^{T}Ax}{x^{T}x}\n",
    "$$\n",
    "known  as the **Rayleigh quotient**"
   ]
  },
  {
   "cell_type": "code",
   "execution_count": 3,
   "metadata": {},
   "outputs": [],
   "source": [
    "def power_iteration(A, x, k=10):\n",
    "    \"\"\"\n",
    "    Compute the dominant eigenvalue and eigenvector of a matrix A\n",
    "    \n",
    "    Arguments:\n",
    "        - A : A matrix\n",
    "        - x : initial and nonzero vector\n",
    "        - k : number of steps (default:10)\n",
    "        \n",
    "    Returns:\n",
    "        - eigval : dominant eigenvalue\n",
    "        - eigvec : dominant eigenvector\n",
    "        \n",
    "    Exceptions:\n",
    "        - ValueError:\n",
    "            - x is a zero vector\n",
    "    \"\"\"\n",
    "    if is_zero_vector(x):\n",
    "        raise ValueError('x is a zero vector')\n",
    "    for _ in range(k):\n",
    "        eigvec = x / np.linalg.norm(x)\n",
    "        x = np.matmul(A, eigvec)\n",
    "        eigval = np.matmul(np.matmul(eigvec.T, A), eigvec)\n",
    "    eigvec = x / np.linalg.norm(x)\n",
    "    return eigval, eigvec"
   ]
  },
  {
   "cell_type": "markdown",
   "metadata": {},
   "source": [
    "## Example\n",
    "\n",
    "Find the dominant eigenvalue and eigenvector for $A = \n",
    "\\begin{bmatrix}\n",
    "1 & 3 \\\\ \n",
    "2 & 2\n",
    "\\end{bmatrix}\n",
    "$"
   ]
  },
  {
   "cell_type": "code",
   "execution_count": 4,
   "metadata": {},
   "outputs": [
    {
     "data": {
      "text/plain": [
       "(3.9999999999999982, array([0.70710678, 0.70710678]))"
      ]
     },
     "execution_count": 4,
     "metadata": {},
     "output_type": "execute_result"
    }
   ],
   "source": [
    "A = np.array([\n",
    "    [1, 3],\n",
    "    [2, 2]\n",
    "])\n",
    "\n",
    "x = np.random.rand(2)\n",
    "\n",
    "power_iteration(A, x, 25)"
   ]
  },
  {
   "cell_type": "markdown",
   "metadata": {},
   "source": [
    "## Theorem\n",
    "\n",
    "Let A be an $m \\times m$ matrix with real eigenvalues $\\lambda_1,\\cdots,\\lambda_m$ satisfying $|\\lambda_1| > |\\lambda_2| \\ge |\\lambda_3| \\ge \\cdots \\ge |\\lambda_m|$. Assume that the eigenvectors of A span $R^m$. For almost every initial vector, Power Iteration converges linearly to an eigenvector associated to $\\lambda_1$ with convergence rate constant $S = |\\lambda_2/\\lambda_1|$"
   ]
  },
  {
   "cell_type": "markdown",
   "metadata": {},
   "source": [
    "## Inverse Power Iteration"
   ]
  },
  {
   "cell_type": "markdown",
   "metadata": {},
   "source": [
    "## Lemma\n",
    "\n",
    "Let the eigenvalues of the $m \\times m$ matrix A be denoted by $\\lambda_1,\\lambda_2,\\cdots,\\lambda_m$.\n",
    "\n",
    "(a) The eigenvalues of the inverse matrix $A^{-1}$ are $\\lambda_1^{-1},\\lambda_2^{-1},\\cdots,\\lambda_m^{-1}$, assuming that the inverse exists. The eigenvactors are the same as those of A.\n",
    "\n",
    "(b) The eigenvalues of the shifted matrix $A - sI$ are $\\lambda_1 - s,\\lambda_2 - s,\\cdots,\\lambda_m - s$ and the eigenvectors are the same as those of A."
   ]
  },
  {
   "cell_type": "code",
   "execution_count": 5,
   "metadata": {},
   "outputs": [],
   "source": [
    "def inverse_power_iteration(A, x, s, k=10):\n",
    "    \"\"\"\n",
    "    Compute eigenvalue and eigenvector of a matrix A nearest to input s\n",
    "    \n",
    "    Arguments:\n",
    "        - A : A matrix\n",
    "        - x : nonzero initial vector\n",
    "        - s : shift\n",
    "        - k : number of steps (default:10)\n",
    "        \n",
    "    Returns:\n",
    "        - eigval : dominant eigenvalue\n",
    "        - eigvec : dominant eigenvector\n",
    "        \n",
    "    \"\"\"\n",
    "    As = A - s * np.eye(A.shape[0])\n",
    "    for _ in range(k):\n",
    "        eigvec = x / np.linalg.norm(x)\n",
    "        x = np.linalg.solve(As, eigvec)\n",
    "        eigval = np.matmul(eigvec.T, x)\n",
    "    u = x / np.linalg.norm(x)\n",
    "    eigval = 1 / eigval + s\n",
    "    return eigval, eigvec"
   ]
  },
  {
   "cell_type": "markdown",
   "metadata": {},
   "source": [
    "## Example\n",
    "\n",
    "$A = \n",
    "\\begin{bmatrix}\n",
    "3 & 2 & 4 \\\\ \n",
    "2 & 1 & 2 \\\\\n",
    "4 & 2 & 3 \\\\\n",
    "\\end{bmatrix}\n",
    "$\n",
    "\n",
    "where\n",
    "\n",
    "$\n",
    "\\left\\{\\begin{matrix}\\begin{align*} \n",
    "\\lambda_{1} &= -1 \\\\\n",
    "v_{1} &= (-x_1, 0, x_1)\n",
    "\\end{align*}\\end{matrix}\\right.\n",
    "$\n",
    "<br/>\n",
    "<br/>\n",
    "$\n",
    "\\left\\{\\begin{matrix}\\begin{align*} \n",
    "\\lambda_{2} &= -\\sqrt{17} + 4 \\approx -0.1231056256176605 \\\\\n",
    "v_{2} &= (x_2, \\frac{-\\sqrt{17}-3}{2} \\times x_2, x_2)\n",
    "\\end{align*}\\end{matrix}\\right.\n",
    "$\n",
    "<br/>\n",
    "<br/>\n",
    "$\n",
    "\\left\\{\\begin{matrix}\\begin{align*} \n",
    "\\lambda_{3} &= \\sqrt{17} + 4 \\approx 8.1231056256176605 \\\\\n",
    "v_{3} &= (x_3, \\frac{\\sqrt{17}-3}{2} \\times x_3, x_3)\n",
    "\\end{align*}\\end{matrix}\\right.\n",
    "$"
   ]
  },
  {
   "cell_type": "code",
   "execution_count": 6,
   "metadata": {},
   "outputs": [
    {
     "name": "stdout",
     "output_type": "stream",
     "text": [
      "(-1.0000000000000004, array([ 7.07106781e-01,  1.06989932e-09, -7.07106781e-01]))\n",
      "(-0.12310562561766053, array([ 0.26095647, -0.92941026,  0.26095648]))\n",
      "(8.123105625617661, array([0.6571923 , 0.36904818, 0.6571923 ]))\n"
     ]
    }
   ],
   "source": [
    "A = np.array([\n",
    "    [3,   2,  4],\n",
    "    [2,   1,  2],\n",
    "    [4,   2,  3]\n",
    "])\n",
    "\n",
    "x = np.random.rand(3)\n",
    "\n",
    "print(inverse_power_iteration(A, x, -1.1))\n",
    "print(inverse_power_iteration(A, x, 0))\n",
    "print(inverse_power_iteration(A, x, 8))"
   ]
  },
  {
   "cell_type": "markdown",
   "metadata": {},
   "source": [
    "## Rayleigh Quotient Iteration"
   ]
  },
  {
   "cell_type": "code",
   "execution_count": 7,
   "metadata": {},
   "outputs": [],
   "source": [
    "def rayleigh_quotient_iteration(A, x, k=10):\n",
    "    \"\"\"\n",
    "    Compute the dominant eigenvalue and eigenvector of a matrix A\n",
    "    \n",
    "    Arguments:\n",
    "        - A : A matrix\n",
    "        - x : nonzero initial vector\n",
    "        - k : number of steps (default:10)\n",
    "        \n",
    "    Returns:\n",
    "        - eigval : dominant eigenvalue\n",
    "        - eigvec : dominant eigenvector\n",
    "    \"\"\"\n",
    "    for _ in range(k):\n",
    "        eigvec = x / np.linalg.norm(x)\n",
    "        eigval = np.matmul(np.matmul(eigvec.T, A), eigvec)\n",
    "        x = np.linalg.solve(A - eigval * np.eye(A.shape[0]), eigvec)\n",
    "    eigvec = x / np.linalg.norm(x)\n",
    "    eigval = np.matmul(np.matmul(eigvec.T, A), eigvec)\n",
    "    return eigval, eigvec"
   ]
  },
  {
   "cell_type": "markdown",
   "metadata": {},
   "source": [
    "## Example"
   ]
  },
  {
   "cell_type": "code",
   "execution_count": 8,
   "metadata": {},
   "outputs": [
    {
     "name": "stdout",
     "output_type": "stream",
     "text": [
      "(8.12310562561766, array([0.6571923 , 0.36904818, 0.6571923 ]))\n"
     ]
    }
   ],
   "source": [
    "A = np.array([\n",
    "    [3,   2,  4],\n",
    "    [2,   1,  2],\n",
    "    [4,   2,  3]\n",
    "])\n",
    "\n",
    "x = np.random.rand(3)\n",
    "\n",
    "print(rayleigh_quotient_iteration(A, x))"
   ]
  },
  {
   "cell_type": "markdown",
   "metadata": {},
   "source": [
    "# 12.2 QR Algorithm"
   ]
  },
  {
   "cell_type": "markdown",
   "metadata": {},
   "source": [
    "## Normalized Simultaneous Iteration"
   ]
  },
  {
   "cell_type": "code",
   "execution_count": 9,
   "metadata": {},
   "outputs": [],
   "source": [
    "def normalized_simultaneous_iteration(A, k=10):\n",
    "    \"\"\"\n",
    "    Compute the eigenvalue and eigenvector of a symmetric matrix A\n",
    "    \n",
    "    Arguments:\n",
    "        - A : A matrix\n",
    "        - k : number of steps (default:10)\n",
    "        \n",
    "    Returns:\n",
    "        - eigval : dominant eigenvalue\n",
    "        - eigvec : dominant eigenvector\n",
    "    \"\"\"\n",
    "    m, n = A.shape\n",
    "    Q = np.eye(m)\n",
    "    for _ in range(k):\n",
    "        Q, R = np.linalg.qr(np.matmul(A, Q))\n",
    "    eigval = np.diag(np.matmul(np.matmul(Q.T, A), Q))\n",
    "    eigvec = Q\n",
    "    return eigval, eigvec"
   ]
  },
  {
   "cell_type": "markdown",
   "metadata": {},
   "source": [
    "## Example\n",
    "\n",
    "$A = \n",
    "\\begin{bmatrix}\n",
    "3 & 2 & 4 \\\\ \n",
    "2 & 1 & 2 \\\\\n",
    "4 & 2 & 3 \\\\\n",
    "\\end{bmatrix}\n",
    "$\n",
    "\n",
    "where\n",
    "\n",
    "$\n",
    "\\left\\{\\begin{matrix}\\begin{align*} \n",
    "\\lambda_{1} &= -1 \\\\\n",
    "v_{1} &= (-x_1, 0, x_1)\n",
    "\\end{align*}\\end{matrix}\\right.\n",
    "$\n",
    "<br/>\n",
    "<br/>\n",
    "$\n",
    "\\left\\{\\begin{matrix}\\begin{align*} \n",
    "\\lambda_{2} &= -\\sqrt{17} + 4 \\approx -0.1231056256176605 \\\\\n",
    "v_{2} &= (x_2, \\frac{-\\sqrt{17}-3}{2} \\times x_2, x_2)\n",
    "\\end{align*}\\end{matrix}\\right.\n",
    "$\n",
    "<br/>\n",
    "<br/>\n",
    "$\n",
    "\\left\\{\\begin{matrix}\\begin{align*} \n",
    "\\lambda_{3} &= \\sqrt{17} + 4 \\approx 8.1231056256176605 \\\\\n",
    "v_{3} &= (x_3, \\frac{\\sqrt{17}-3}{2} \\times x_3, x_3)\n",
    "\\end{align*}\\end{matrix}\\right.\n",
    "$"
   ]
  },
  {
   "cell_type": "code",
   "execution_count": 10,
   "metadata": {},
   "outputs": [
    {
     "name": "stdout",
     "output_type": "stream",
     "text": [
      "eigenvalues : \n",
      "[ 8.12310563 -1.         -0.12310563]\n",
      "\n",
      "eigenvectors : \n",
      "[[-6.57192300e-01  7.07106781e-01  2.60956472e-01]\n",
      " [-3.69048184e-01 -2.33071126e-09 -9.29410263e-01]\n",
      " [-6.57192299e-01 -7.07106781e-01  2.60956475e-01]]\n",
      "\n",
      "eigenvalues (np.linalg.eig) : \n",
      "[ 8.12310563 -1.         -0.12310563]\n",
      "\n",
      "eigenvectors (np.linalg.eig) : \n",
      "[[ 6.57192300e-01  7.07106781e-01  2.60956474e-01]\n",
      " [ 3.69048184e-01 -8.76089486e-17 -9.29410263e-01]\n",
      " [ 6.57192300e-01 -7.07106781e-01  2.60956474e-01]]\n"
     ]
    }
   ],
   "source": [
    "A = np.array([\n",
    "    [3,   2,  4],\n",
    "    [2,   1,  2],\n",
    "    [4,   2,  3]\n",
    "])\n",
    "\n",
    "eigval, eigvec = normalized_simultaneous_iteration(A)\n",
    "\n",
    "print('eigenvalues : ')\n",
    "print(eigval)\n",
    "print()\n",
    "print('eigenvectors : ')\n",
    "print(eigvec)\n",
    "\n",
    "print()\n",
    "\n",
    "eigval, eigvec = np.linalg.eig(A)\n",
    "print('eigenvalues (np.linalg.eig) : ')\n",
    "print(eigval)\n",
    "print()\n",
    "print('eigenvectors (np.linalg.eig) : ')\n",
    "print(eigvec)"
   ]
  },
  {
   "cell_type": "markdown",
   "metadata": {},
   "source": [
    "## Unshifted QR Algorithm"
   ]
  },
  {
   "cell_type": "code",
   "execution_count": 11,
   "metadata": {},
   "outputs": [],
   "source": [
    "def unshifted_qr(A, k=10):\n",
    "    \"\"\"\n",
    "    Compute the eigenvalue and eigenvector of a symmetric matrix A\n",
    "    \n",
    "    Arguments:\n",
    "        - A : A matrix\n",
    "        - k : number of steps (default:10)\n",
    "        \n",
    "    Returns:\n",
    "        - eigval : dominant eigenvalue\n",
    "        - eigvec : dominant eigenvector\n",
    "    \"\"\"\n",
    "    m, n = A.shape\n",
    "    Q = np.eye(m)\n",
    "    Qbar = Q\n",
    "    R = A\n",
    "    for _ in range(k):\n",
    "        Q, R = np.linalg.qr(np.matmul(R, Q))\n",
    "        Qbar = np.matmul(Qbar, Q)\n",
    "    eigval = np.diag(np.matmul(R, Q))\n",
    "    eigvec = Qbar\n",
    "    return eigval, eigvec"
   ]
  },
  {
   "cell_type": "markdown",
   "metadata": {},
   "source": [
    "## Theorem\n",
    "\n",
    "Assume that $A$ is a symmetric $m \\times m$ matrix with eigenvalues $\\lambda_i$ satisfying $|\\lambda_1| > |\\lambda_2| > \\cdots > |\\lambda_m| $. The unshifted QR algorithm converages linearly to the eigenvectors and eigenvalues of $A$. As $j \\rightarrow \\infty$, $A_j$ converages to a diagonal matrix containing the eigenvalues on the main diagonal and $\\bar{Q_j} = Q_1 \\cdots Q_j$ converges to an orthogonal matrix whose columns are the eigenvectors."
   ]
  },
  {
   "cell_type": "markdown",
   "metadata": {},
   "source": [
    "## Example\n",
    "\n",
    "$A = \n",
    "\\begin{bmatrix}\n",
    "3 & 2 & 4 \\\\ \n",
    "2 & 1 & 2 \\\\\n",
    "4 & 2 & 3 \\\\\n",
    "\\end{bmatrix}\n",
    "$\n",
    "\n",
    "where\n",
    "\n",
    "$\n",
    "\\left\\{\\begin{matrix}\\begin{align*} \n",
    "\\lambda_{1} &= -1 \\\\\n",
    "v_{1} &= (-x_1, 0, x_1)\n",
    "\\end{align*}\\end{matrix}\\right.\n",
    "$\n",
    "<br/>\n",
    "<br/>\n",
    "$\n",
    "\\left\\{\\begin{matrix}\\begin{align*} \n",
    "\\lambda_{2} &= -\\sqrt{17} + 4 \\approx -0.1231056256176605 \\\\\n",
    "v_{2} &= (x_2, \\frac{-\\sqrt{17}-3}{2} \\times x_2, x_2)\n",
    "\\end{align*}\\end{matrix}\\right.\n",
    "$\n",
    "<br/>\n",
    "<br/>\n",
    "$\n",
    "\\left\\{\\begin{matrix}\\begin{align*} \n",
    "\\lambda_{3} &= \\sqrt{17} + 4 \\approx 8.1231056256176605 \\\\\n",
    "v_{3} &= (x_3, \\frac{\\sqrt{17}-3}{2} \\times x_3, x_3)\n",
    "\\end{align*}\\end{matrix}\\right.\n",
    "$"
   ]
  },
  {
   "cell_type": "code",
   "execution_count": 12,
   "metadata": {},
   "outputs": [
    {
     "name": "stdout",
     "output_type": "stream",
     "text": [
      "eigenvalues : \n",
      "[ 8.12310563 -1.         -0.12310563]\n",
      "\n",
      "eigenvectors : \n",
      "[[ 6.57192300e-01 -7.07106781e-01  2.60956472e-01]\n",
      " [ 3.69048184e-01  2.33071110e-09 -9.29410263e-01]\n",
      " [ 6.57192299e-01  7.07106781e-01  2.60956475e-01]]\n",
      "\n",
      "eigenvalues (np.linalg.eig) : \n",
      "[ 8.12310563 -1.         -0.12310563]\n",
      "\n",
      "eigenvectors (np.linalg.eig) : \n",
      "[[ 6.57192300e-01  7.07106781e-01  2.60956474e-01]\n",
      " [ 3.69048184e-01 -8.76089486e-17 -9.29410263e-01]\n",
      " [ 6.57192300e-01 -7.07106781e-01  2.60956474e-01]]\n"
     ]
    }
   ],
   "source": [
    "A = np.array([\n",
    "    [3,   2,  4],\n",
    "    [2,   1,  2],\n",
    "    [4,   2,  3]\n",
    "])\n",
    "\n",
    "eigval, eigvec = unshifted_qr(A)\n",
    "\n",
    "print('eigenvalues : ')\n",
    "print(eigval)\n",
    "print()\n",
    "print('eigenvectors : ')\n",
    "print(eigvec)\n",
    "\n",
    "print()\n",
    "\n",
    "eigval, eigvec = np.linalg.eig(A)\n",
    "print('eigenvalues (np.linalg.eig) : ')\n",
    "print(eigval)\n",
    "print()\n",
    "print('eigenvectors (np.linalg.eig) : ')\n",
    "print(eigvec)"
   ]
  }
 ],
 "metadata": {
  "kernelspec": {
   "display_name": "Python 3",
   "language": "python",
   "name": "python3"
  },
  "language_info": {
   "codemirror_mode": {
    "name": "ipython",
    "version": 3
   },
   "file_extension": ".py",
   "mimetype": "text/x-python",
   "name": "python",
   "nbconvert_exporter": "python",
   "pygments_lexer": "ipython3",
   "version": "3.6.9"
  }
 },
 "nbformat": 4,
 "nbformat_minor": 2
}
