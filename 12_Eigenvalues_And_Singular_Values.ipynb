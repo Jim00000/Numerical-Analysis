{
 "cells": [
  {
   "cell_type": "markdown",
   "metadata": {},
   "source": [
    "# ★ Eigenvalues And Singular Values ★"
   ]
  },
  {
   "cell_type": "code",
   "execution_count": 1,
   "metadata": {},
   "outputs": [],
   "source": [
    "#import modules\n",
    "import numpy as np\n",
    "from matplotlib import pyplot as plt"
   ]
  },
  {
   "cell_type": "markdown",
   "metadata": {},
   "source": [
    "# 12.1 power Iteration methods"
   ]
  },
  {
   "cell_type": "markdown",
   "metadata": {},
   "source": [
    "## Definition\n",
    "\n",
    "Let A be an $m \\times m$ matrix. A **dominant eigenvalue** of A is an eigenvalue $\\lambda$ whose magnitude is greater than all other eigenvalues of A. If it exists, an eigenvector associated to $\\lambda$ is called a **dominant eigenvector**"
   ]
  },
  {
   "cell_type": "code",
   "execution_count": 2,
   "metadata": {},
   "outputs": [],
   "source": [
    "def power_iteration(A, x, k):\n",
    "    for _ in range(k):\n",
    "        u = x / np.linalg.norm(x)\n",
    "        x = np.matmul(A, u)\n",
    "        eigval = np.matmul(np.matmul(u.T, A), u)\n",
    "    u = x / np.linalg.norm(x)\n",
    "    return eigval, u"
   ]
  },
  {
   "cell_type": "markdown",
   "metadata": {},
   "source": [
    "## Example\n",
    "\n",
    "Find the dominant eigenvalue and eigenvector for $A = \n",
    "\\begin{bmatrix}\n",
    "1 & 3 \\\\ \n",
    "2 & 2\n",
    "\\end{bmatrix}\n",
    "$"
   ]
  },
  {
   "cell_type": "code",
   "execution_count": 3,
   "metadata": {},
   "outputs": [
    {
     "data": {
      "text/plain": [
       "(4.000427419728277, array([0.70718249, 0.70703107]))"
      ]
     },
     "execution_count": 3,
     "metadata": {},
     "output_type": "execute_result"
    }
   ],
   "source": [
    "A = np.array([\n",
    "    [1, 3],\n",
    "    [2, 2]\n",
    "])\n",
    "\n",
    "x = np.random.rand(2)\n",
    "\n",
    "power_iteration(A, x, 5)"
   ]
  },
  {
   "cell_type": "markdown",
   "metadata": {},
   "source": [
    "## Theorem\n",
    "\n",
    "Let A be an $m \\times m$ matrix with real eigenvalues $\\lambda_1,\\cdots,\\lambda_m$ satisfying $|\\lambda_1| > |\\lambda_2| \\ge |\\lambda_3| \\ge \\cdots \\ge |\\lambda_m|$. Assume that the eigenvectors of A span R^m. For almost every initial vector, Power Iteration converges linearly to an eigenvector associated to \\lambda_1 with convergence rate constant $S = |\\lambda_2/\\lambda_1|$"
   ]
  },
  {
   "cell_type": "markdown",
   "metadata": {},
   "source": [
    "## Lemma\n",
    "\n",
    "Let the eigenvalues of the $m \\times m$ matrix A be denoted by $\\lambda_1,\\lambda_2,\\cdots,\\lambda_m$.\n",
    "\n",
    "(a) The eigenvalues of the inverse matrix $A^{-1}$ are $\\lambda_1^{-1},\\lambda_2^{-1},\\cdots,\\lambda_m^{-1}$, assuming that the inverse exists. The eigenvactors are the same as those of A.\n",
    "\n",
    "(b) The eigenvalues of the shifted matrix $A - sI$ are $\\lambda_1 - s,\\lambda_2 - s,\\cdots,\\lambda_m - s$ and the eigenvectors are the same as those of A."
   ]
  },
  {
   "cell_type": "markdown",
   "metadata": {},
   "source": [
    "## Inverse Power Iteration"
   ]
  },
  {
   "cell_type": "code",
   "execution_count": 4,
   "metadata": {},
   "outputs": [],
   "source": [
    "def inverse_power_iteration(A, x, s, k):\n",
    "    As = A - s * np.eye(A.shape[0])\n",
    "    for _ in range(k):\n",
    "        u = x / np.linalg.norm(x)\n",
    "        x = np.linalg.solve(As, u)\n",
    "        eigval = np.matmul(u.T, x)\n",
    "    u = x / np.linalg.norm(x)\n",
    "    eigval = 1 / eigval + s\n",
    "    return eigval, u"
   ]
  },
  {
   "cell_type": "code",
   "execution_count": 5,
   "metadata": {},
   "outputs": [
    {
     "name": "stdout",
     "output_type": "stream",
     "text": [
      "(-1.0000000000000002, array([ 7.07106781e-01, -5.04646829e-17, -7.07106781e-01]))\n"
     ]
    }
   ],
   "source": [
    "A = np.array([\n",
    "    [3,   2,  4],\n",
    "    [2,   1,  2],\n",
    "    [4,   2,  3]\n",
    "]).T\n",
    "\n",
    "x = np.random.rand(3)\n",
    "\n",
    "print(inverse_power_iteration(A, x, -2, 10000))"
   ]
  }
 ],
 "metadata": {
  "kernelspec": {
   "display_name": "Python 3",
   "language": "python",
   "name": "python3"
  },
  "language_info": {
   "codemirror_mode": {
    "name": "ipython",
    "version": 3
   },
   "file_extension": ".py",
   "mimetype": "text/x-python",
   "name": "python",
   "nbconvert_exporter": "python",
   "pygments_lexer": "ipython3",
   "version": "3.6.5"
  }
 },
 "nbformat": 4,
 "nbformat_minor": 2
}
