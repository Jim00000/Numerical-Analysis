{
 "cells": [
  {
   "cell_type": "markdown",
   "metadata": {},
   "source": [
    "# ★ Eigenvalues And Singular Values ★"
   ]
  },
  {
   "cell_type": "code",
   "execution_count": 1,
   "metadata": {},
   "outputs": [],
   "source": [
    "#import modules\n",
    "import numpy as np\n",
    "from matplotlib import pyplot as plt"
   ]
  },
  {
   "cell_type": "markdown",
   "metadata": {},
   "source": [
    "# 12.1 power Iteration methods"
   ]
  },
  {
   "cell_type": "markdown",
   "metadata": {},
   "source": [
    "## Definition\n",
    "\n",
    "Let A be an $m \\times m$ matrix. A **dominant eigenvalue** of A is an eigenvalue $\\lambda$ whose magnitude is greater than all other eigenvalues of A. If it exists, an eigenvector associated to $\\lambda$ is called a **dominant eigenvector**"
   ]
  },
  {
   "cell_type": "code",
   "execution_count": 2,
   "metadata": {},
   "outputs": [],
   "source": [
    "def power_iteration(A, x, k):\n",
    "    for _ in range(k):\n",
    "        u = x / np.linalg.norm(x)\n",
    "        x = np.matmul(A, u)\n",
    "        eigval = np.matmul(np.matmul(u.T, A), u)\n",
    "    u = x / np.linalg.norm(x)\n",
    "    return eigval, u"
   ]
  },
  {
   "cell_type": "markdown",
   "metadata": {},
   "source": [
    "## Example\n",
    "\n",
    "Find the dominant eigenvalue and eigenvector for $A = \n",
    "\\begin{bmatrix}\n",
    "1 & 3 \\\\ \n",
    "2 & 2\n",
    "\\end{bmatrix}\n",
    "$"
   ]
  },
  {
   "cell_type": "code",
   "execution_count": 3,
   "metadata": {},
   "outputs": [
    {
     "data": {
      "text/plain": [
       "(3.999829628503144, array([0.70707669, 0.70713687]))"
      ]
     },
     "execution_count": 3,
     "metadata": {},
     "output_type": "execute_result"
    }
   ],
   "source": [
    "A = np.array([\n",
    "    [1, 3],\n",
    "    [2, 2]\n",
    "])\n",
    "\n",
    "x = np.random.rand(2)\n",
    "\n",
    "power_iteration(A, x, 5)"
   ]
  }
 ],
 "metadata": {
  "kernelspec": {
   "display_name": "Python 3",
   "language": "python",
   "name": "python3"
  },
  "language_info": {
   "codemirror_mode": {
    "name": "ipython",
    "version": 3
   },
   "file_extension": ".py",
   "mimetype": "text/x-python",
   "name": "python",
   "nbconvert_exporter": "python",
   "pygments_lexer": "ipython3",
   "version": "3.6.5"
  }
 },
 "nbformat": 4,
 "nbformat_minor": 2
}
