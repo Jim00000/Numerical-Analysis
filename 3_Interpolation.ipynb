{
 "cells": [
  {
   "cell_type": "markdown",
   "metadata": {},
   "source": [
    "# ★ Interpolation ★"
   ]
  },
  {
   "cell_type": "code",
   "execution_count": 1,
   "metadata": {
    "collapsed": true
   },
   "outputs": [],
   "source": [
    "# Import modules\n",
    "import sys\n",
    "import numpy as np\n",
    "from scipy import linalg"
   ]
  },
  {
   "cell_type": "markdown",
   "metadata": {},
   "source": [
    "# 3.1 Data And Interpolating Functions"
   ]
  },
  {
   "cell_type": "markdown",
   "metadata": {},
   "source": [
    "## Newton's divided differences"
   ]
  },
  {
   "cell_type": "code",
   "execution_count": 34,
   "metadata": {
    "collapsed": true
   },
   "outputs": [],
   "source": [
    "def newton_divided_diff(X, Y, n):\n",
    "    V = {}\n",
    "    for j in range(n):\n",
    "        V[j, 0] = Y[j]\n",
    "    \n",
    "    for i in range(1,n):\n",
    "        for j in range(n-i):\n",
    "            V[j, i] = (V[j+1, i-1] - V[j, i-1]) / (X[j+i] - X[j])\n",
    "    \n",
    "    C = []\n",
    "    for i in range(n):\n",
    "        C.append(V[0,i])\n",
    "    \n",
    "    return C"
   ]
  },
  {
   "cell_type": "markdown",
   "metadata": {},
   "source": [
    "### Example \n",
    "Use Newton's divided differences to find the interpolating polynomial passing through (0,2),(1,1),(2,0),(3,-1)"
   ]
  },
  {
   "cell_type": "code",
   "execution_count": 35,
   "metadata": {},
   "outputs": [
    {
     "name": "stdout",
     "output_type": "stream",
     "text": [
      "[2, -1.0, 0.0, 0.0]\n"
     ]
    }
   ],
   "source": [
    "X = [0, 1, 2, 3]\n",
    "Y = [2, 1, 0, -1]\n",
    "C = newton_divided_diff(X, Y, 4)\n",
    "print(C)"
   ]
  },
  {
   "cell_type": "markdown",
   "metadata": {},
   "source": [
    "$$\n",
    "P(x) = 2 + (-1)(x - 0) = 2 - x\n",
    "$$"
   ]
  }
 ],
 "metadata": {
  "kernelspec": {
   "display_name": "Python 3",
   "language": "python",
   "name": "python3"
  },
  "language_info": {
   "codemirror_mode": {
    "name": "ipython",
    "version": 3
   },
   "file_extension": ".py",
   "mimetype": "text/x-python",
   "name": "python",
   "nbconvert_exporter": "python",
   "pygments_lexer": "ipython3",
   "version": "3.5.2"
  }
 },
 "nbformat": 4,
 "nbformat_minor": 2
}
