{
 "cells": [
  {
   "cell_type": "markdown",
   "metadata": {},
   "source": [
    "# ★ Interpolation ★"
   ]
  },
  {
   "cell_type": "code",
   "execution_count": 48,
   "metadata": {
    "collapsed": true
   },
   "outputs": [],
   "source": [
    "# Import modules\n",
    "import sys\n",
    "import math\n",
    "import numpy as np\n",
    "from matplotlib import pyplot as plt\n",
    "from scipy import linalg"
   ]
  },
  {
   "cell_type": "markdown",
   "metadata": {},
   "source": [
    "# 3.1 Data And Interpolating Functions"
   ]
  },
  {
   "cell_type": "markdown",
   "metadata": {},
   "source": [
    "## Newton's divided differences"
   ]
  },
  {
   "cell_type": "code",
   "execution_count": 71,
   "metadata": {
    "collapsed": true
   },
   "outputs": [],
   "source": [
    "def newton_divided_diff(X, Y, n):\n",
    "    V = {}\n",
    "    for j in range(n):\n",
    "        V[j, 0] = Y[j]\n",
    "    \n",
    "    for i in range(1,n):\n",
    "        for j in range(n-i):\n",
    "            V[j, i] = (V[j+1, i-1] - V[j, i-1]) / (X[j+i] - X[j])\n",
    "    \n",
    "    C = np.zeros(n)\n",
    "    for i in range(n):\n",
    "        C[i] = V[0,i]\n",
    "    \n",
    "    return C"
   ]
  },
  {
   "cell_type": "markdown",
   "metadata": {},
   "source": [
    "### Example \n",
    "Use Newton's divided differences to find the interpolating polynomial passing through (0,2),(1,1),(2,0),(3,-1)"
   ]
  },
  {
   "cell_type": "code",
   "execution_count": 72,
   "metadata": {},
   "outputs": [
    {
     "name": "stdout",
     "output_type": "stream",
     "text": [
      "[ 2. -1.  0.  0.]\n"
     ]
    }
   ],
   "source": [
    "X = [0, 1, 2, 3]\n",
    "Y = [2, 1, 0, -1]\n",
    "C = newton_divided_diff(X, Y, 4)\n",
    "print(C)"
   ]
  },
  {
   "cell_type": "markdown",
   "metadata": {},
   "source": [
    "$$\n",
    "P(x) = 2 + (-1)(x - 0) = 2 - x\n",
    "$$"
   ]
  },
  {
   "cell_type": "markdown",
   "metadata": {},
   "source": [
    "# 3.3 Chebyshev Interpolation"
   ]
  },
  {
   "cell_type": "code",
   "execution_count": 73,
   "metadata": {
    "collapsed": true
   },
   "outputs": [],
   "source": [
    "def chebyshev_interpolation_nodes(a, b, n):\n",
    "    X = np.zeros(n)\n",
    "    \n",
    "    for i in range(1,n + 1):\n",
    "        X[i - 1] = (b + a) / 2 + (b - a) / 2 * math.cos( (2 * i - 1) * math.pi / (2 * n) )\n",
    "        \n",
    "    return X"
   ]
  },
  {
   "cell_type": "markdown",
   "metadata": {},
   "source": [
    "### Example\n",
    "Use chebyshev interpolating polynomial to evaluate the function $f(x) = \\sin{(x)}$"
   ]
  },
  {
   "cell_type": "code",
   "execution_count": 145,
   "metadata": {},
   "outputs": [],
   "source": [
    "def interpolating_polynomial(X, Y, x):\n",
    "    while x >= math.pi * 2:\n",
    "        x -= (2 * math.pi)\n",
    "    C = newton_divided_diff(X, Y, X.size)\n",
    "    poly = 0\n",
    "    for i in range(C.size):\n",
    "        mul = 1\n",
    "        for j in range(0, i):\n",
    "            mul *= (x - X[j])\n",
    "        poly += (C[i] * mul)\n",
    "        \n",
    "    return poly"
   ]
  },
  {
   "cell_type": "code",
   "execution_count": 292,
   "metadata": {},
   "outputs": [],
   "source": [
    "X = chebyshev_interpolation_nodes(0, 2 * math.pi, 8)\n",
    "Y = np.sin(X)"
   ]
  },
  {
   "cell_type": "code",
   "execution_count": 293,
   "metadata": {},
   "outputs": [
    {
     "name": "stdout",
     "output_type": "stream",
     "text": [
      "chebyshev : 0.841135018496244\n",
      "real sin  : 0.841470984807897\n",
      "error     : 0.000335966311653\n"
     ]
    }
   ],
   "source": [
    "x = 1\n",
    "poly = interpolating_polynomial(X, Y, x)\n",
    "print('chebyshev : %.15f' %poly)\n",
    "print('real sin  : %.15f' %math.sin(x))\n",
    "print('error     : %.15f' %abs(math.sin(x) - poly))"
   ]
  },
  {
   "cell_type": "code",
   "execution_count": 294,
   "metadata": {},
   "outputs": [
    {
     "data": {
      "image/png": "[encoded data removed]",
      "text/plain": [
       "<matplotlib.figure.Figure at 0x7f07b6eace80>"
      ]
     },
     "metadata": {},
     "output_type": "display_data"
    }
   ],
   "source": [
    "pX = np.linspace(0, 2 * math.pi, 1024)\n",
    "pY = np.zeros(1024)\n",
    "for i in range(pX.size):\n",
    "    pY[i] = interpolating_polynomial(X, Y, pX[i])\n",
    "\n",
    "real_sin_y = np.sin(pX)\n",
    "error_y = real_sin_y - pY\n",
    "plt.subplot(211)\n",
    "plt.title('real vs chebyshev interpolation $\\sin{(x)}$')\n",
    "plt.plot(pX, pY, color='b',linewidth=2)\n",
    "plt.plot(pX, real_sin_y, color='r', linestyle='--',linewidth=2)\n",
    "plt.grid(True)\n",
    "plt.subplot(212)\n",
    "plt.plot(pX, error_y, color='g', linewidth=2)\n",
    "plt.grid(True)\n",
    "plt.show()"
   ]
  },
  {
   "cell_type": "markdown",
   "metadata": {},
   "source": [
    "# 3.4 Cubic Splines"
   ]
  },
  {
   "cell_type": "markdown",
   "metadata": {},
   "source": [
    "## Natural cubic spline"
   ]
  },
  {
   "cell_type": "code",
   "execution_count": 3,
   "metadata": {
    "collapsed": true
   },
   "outputs": [],
   "source": [
    "def natural_cubic_spline(X, Y):\n",
    "    A = np.zeros(X.size - 1, dtype=float)\n",
    "    for i in range(X.size - 1):\n",
    "        A[i] = Y[i]\n",
    "    delta = np.zeros(X.size - 1, dtype=float)\n",
    "    Delta = np.zeros(X.size - 1, dtype=float)\n",
    "    for i in range(1, X.size):\n",
    "        delta[i - 1] = X[i] - X[i - 1]\n",
    "        Delta[i - 1] = Y[i] - Y[i - 1]\n",
    "        \n",
    "    Mat = np.zeros(X.size * X.size, dtype=float).reshape(X.size, X.size)\n",
    "    Mat[0][0] = Mat[X.size - 1][X.size - 1] = 1.0\n",
    "    for i in range(1, X.size - 1):\n",
    "        Mat[i][i] = 2 * (delta[i - 1] + delta[i]) #diagonal\n",
    "        Mat[i][i - 1] = delta[i - 1]\n",
    "        Mat[i][i + 1] = delta[i]\n",
    "        \n",
    "    b = np.zeros(X.size, dtype=float)\n",
    "    for i in range(1,X.size - 1):\n",
    "        b[i] = 3 * (Delta[i]/delta[i] - Delta[i - 1]/delta[i - 1])\n",
    "    \n",
    "    # Solve the equations systems\n",
    "    lu, piv = linalg.lu_factor(Mat)\n",
    "    C = linalg.lu_solve([lu, piv], b)\n",
    "    \n",
    "    D = np.zeros(X.size - 1, dtype=float)\n",
    "    B = np.zeros(X.size - 1, dtype=float)\n",
    "    \n",
    "    for i in range(1, X.size):\n",
    "        D[i - 1] = (C[i] - C[i - 1]) / (3 * delta[i - 1])\n",
    "        B[i - 1] = Delta[i - 1] / delta[i - 1] - delta[i - 1] * (2 * C[i - 1] + C[i]) / 3\n",
    "        \n",
    "    return A, B, C, D"
   ]
  },
  {
   "cell_type": "markdown",
   "metadata": {},
   "source": [
    "### Example\n",
    "Find the natural cubic spline through (0,3),(1,-2),(2,1)"
   ]
  },
  {
   "cell_type": "code",
   "execution_count": 126,
   "metadata": {},
   "outputs": [
    {
     "data": {
      "image/png": "[encoded data removed]",
      "text/plain": [
       "<matplotlib.figure.Figure at 0x7fa483e3f5c0>"
      ]
     },
     "metadata": {},
     "output_type": "display_data"
    }
   ],
   "source": [
    "X = np.array([0, 1, 2])\n",
    "Y = np.array([3, -2, 1])\n",
    "A, B, C, D = natural_cubic_spline(X, Y)\n",
    "S = lambda x, i : A[i] + B[i] * (x - X[i]) + C[i] * pow(x - X[i], 2) + D[i] * pow(x - X[i], 3)\n",
    "total = 200\n",
    "pX = np.linspace(0,2,total)\n",
    "pY = np.zeros(total)\n",
    "for i in range(pX.size):\n",
    "    x = pX[i]\n",
    "    for j in range(X.size - 1):\n",
    "        if x <= X[j + 1]:\n",
    "            pY[i] = S(x, j)\n",
    "            break\n",
    "        else:\n",
    "            continue\n",
    "    \n",
    "plt.plot(pX,pY,color='b')\n",
    "plt.plot(X,Y,'ro')\n",
    "plt.show()"
   ]
  },
  {
   "cell_type": "markdown",
   "metadata": {},
   "source": [
    "### Example\n",
    "Cubic splines with six points (0,3),(1,1),(2,4),(3,1),(4,2),(5,0)"
   ]
  },
  {
   "cell_type": "code",
   "execution_count": 4,
   "metadata": {},
   "outputs": [
    {
     "data": {
      "image/png": "[encoded data removed]",
      "text/plain": [
       "<matplotlib.figure.Figure at 0x7f07ec150080>"
      ]
     },
     "metadata": {},
     "output_type": "display_data"
    }
   ],
   "source": [
    "X = np.array([0, 1, 2, 3, 4, 5])\n",
    "Y = np.array([3, 1, 4, 1, 2, 0])\n",
    "A, B, C, D = natural_cubic_spline(X, Y)\n",
    "S = lambda x, i : A[i] + B[i] * (x - X[i]) + C[i] * pow(x - X[i], 2) + D[i] * pow(x - X[i], 3)\n",
    "total = 1000\n",
    "pX = np.linspace(0,5,total)\n",
    "pY = np.zeros(total)\n",
    "for i in range(pX.size):\n",
    "    x = pX[i]\n",
    "    for j in range(X.size - 1):\n",
    "        if x <= X[j + 1]:\n",
    "            pY[i] = S(x, j)\n",
    "            break\n",
    "        else:\n",
    "            continue\n",
    "    \n",
    "plt.plot(pX,pY,color='b')\n",
    "plt.plot(X,Y,'ro')\n",
    "plt.grid(True)\n",
    "plt.show()"
   ]
  },
  {
   "cell_type": "markdown",
   "metadata": {},
   "source": [
    "# 3.5 Bézier Curves"
   ]
  },
  {
   "cell_type": "code",
   "execution_count": 38,
   "metadata": {
    "collapsed": true
   },
   "outputs": [],
   "source": [
    "def bezier_curve(X, Y):\n",
    "    \"\"\"\n",
    "    Make the function handle of the bezier curve formula\n",
    "    \n",
    "    Args:\n",
    "        X - x-axis points (include endpoints and control points)\n",
    "        Y - y-axis points (include endpoints and control points)\n",
    "        \n",
    "    Returns:\n",
    "        fx - bezier curve for x-axis points\n",
    "        fy - bezier curve for y-axis points\n",
    "    \"\"\"\n",
    "    x1 = X[0]\n",
    "    x2 = X[1]\n",
    "    x3 = X[2]\n",
    "    x4 = X[3]\n",
    "    y1 = Y[0]\n",
    "    y2 = Y[1]\n",
    "    y3 = Y[2]\n",
    "    y4 = Y[3]\n",
    "    \n",
    "    bx = 3 * (x2 - x1)\n",
    "    cx = 3 * (x3 - x2) - bx\n",
    "    dx = x4 - x1 - bx - cx\n",
    "    by = 3 * (y2 - y1)\n",
    "    cy = 3 * (y3 - y2) - by\n",
    "    dy = y4 - y1 - by - cy\n",
    "    \n",
    "    fx = lambda t : x1 + bx * t + cx * pow(t, 2) + dx * pow(t, 3)\n",
    "    fy = lambda t : y1 + by * t + cy * pow(t, 2) + dy * pow(t, 3)\n",
    "    \n",
    "    return fx, fy"
   ]
  },
  {
   "cell_type": "markdown",
   "metadata": {},
   "source": [
    "### Example\n",
    "Find the Bézier curve $(x(t),y(t))$ through the points $(x,y) = (1,1)$ and $(2,2)$ with control points $(1,3)$ and $(3,3)$"
   ]
  },
  {
   "cell_type": "code",
   "execution_count": 47,
   "metadata": {},
   "outputs": [
    {
     "data": {
      "image/png": "[encoded data removed]",
      "text/plain": [
       "<matplotlib.figure.Figure at 0x7f07b695d908>"
      ]
     },
     "metadata": {},
     "output_type": "display_data"
    }
   ],
   "source": [
    "X = np.array([1, 1, 3, 2])\n",
    "Y = np.array([1, 3, 3, 2])\n",
    "fx, fy = bezier_curve(X, Y)\n",
    "\n",
    "t = np.linspace(0, 1, 100)\n",
    "px = fx(t)\n",
    "py = fy(t)\n",
    "\n",
    "plt.plot(px, py, color='b')\n",
    "plt.plot(X[0:2], Y[0:2], color='r', marker='o', linestyle='--')\n",
    "plt.plot(X[2:4], Y[2:4], color='r', marker='o', linestyle='--')\n",
    "plt.grid(True)\n",
    "plt.show()"
   ]
  }
 ],
 "metadata": {
  "kernelspec": {
   "display_name": "Python 3",
   "language": "python",
   "name": "python3"
  },
  "language_info": {
   "codemirror_mode": {
    "name": "ipython",
    "version": 3
   },
   "file_extension": ".py",
   "mimetype": "text/x-python",
   "name": "python",
   "nbconvert_exporter": "python",
   "pygments_lexer": "ipython3",
   "version": "3.5.2"
  }
 },
 "nbformat": 4,
 "nbformat_minor": 2
}
