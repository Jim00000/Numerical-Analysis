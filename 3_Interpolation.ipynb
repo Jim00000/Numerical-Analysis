{
 "cells": [
  {
   "cell_type": "markdown",
   "metadata": {},
   "source": [
    "# ★ Interpolation ★"
   ]
  },
  {
   "cell_type": "code",
   "execution_count": 89,
   "metadata": {
    "collapsed": true
   },
   "outputs": [],
   "source": [
    "# Import modules\n",
    "import sys\n",
    "import numpy as np\n",
    "from matplotlib import pyplot as plt\n",
    "from scipy import linalg"
   ]
  },
  {
   "cell_type": "markdown",
   "metadata": {},
   "source": [
    "# 3.1 Data And Interpolating Functions"
   ]
  },
  {
   "cell_type": "markdown",
   "metadata": {},
   "source": [
    "## Newton's divided differences"
   ]
  },
  {
   "cell_type": "code",
   "execution_count": 34,
   "metadata": {
    "collapsed": true
   },
   "outputs": [],
   "source": [
    "def newton_divided_diff(X, Y, n):\n",
    "    V = {}\n",
    "    for j in range(n):\n",
    "        V[j, 0] = Y[j]\n",
    "    \n",
    "    for i in range(1,n):\n",
    "        for j in range(n-i):\n",
    "            V[j, i] = (V[j+1, i-1] - V[j, i-1]) / (X[j+i] - X[j])\n",
    "    \n",
    "    C = []\n",
    "    for i in range(n):\n",
    "        C.append(V[0,i])\n",
    "    \n",
    "    return C"
   ]
  },
  {
   "cell_type": "markdown",
   "metadata": {},
   "source": [
    "### Example \n",
    "Use Newton's divided differences to find the interpolating polynomial passing through (0,2),(1,1),(2,0),(3,-1)"
   ]
  },
  {
   "cell_type": "code",
   "execution_count": 35,
   "metadata": {},
   "outputs": [
    {
     "name": "stdout",
     "output_type": "stream",
     "text": [
      "[2, -1.0, 0.0, 0.0]\n"
     ]
    }
   ],
   "source": [
    "X = [0, 1, 2, 3]\n",
    "Y = [2, 1, 0, -1]\n",
    "C = newton_divided_diff(X, Y, 4)\n",
    "print(C)"
   ]
  },
  {
   "cell_type": "markdown",
   "metadata": {},
   "source": [
    "$$\n",
    "P(x) = 2 + (-1)(x - 0) = 2 - x\n",
    "$$"
   ]
  },
  {
   "cell_type": "markdown",
   "metadata": {},
   "source": [
    "# 3.4 Cubic Splines"
   ]
  },
  {
   "cell_type": "markdown",
   "metadata": {},
   "source": [
    "## Natural cubic spline"
   ]
  },
  {
   "cell_type": "code",
   "execution_count": 83,
   "metadata": {},
   "outputs": [],
   "source": [
    "def natural_cubic_spline(X, Y):\n",
    "    A = np.zeros(X.size - 1, dtype=float)\n",
    "    for i in range(X.size - 1):\n",
    "        A[i] = Y[i]\n",
    "    delta = np.zeros(X.size - 1, dtype=float)\n",
    "    Delta = np.zeros(X.size - 1, dtype=float)\n",
    "    for i in range(1, X.size):\n",
    "        delta[i - 1] = X[i] - X[i - 1]\n",
    "        Delta[i - 1] = Y[i] - Y[i - 1]\n",
    "        \n",
    "    Mat = np.zeros(X.size * X.size, dtype=float).reshape(X.size, X.size)\n",
    "    Mat[0][0] = Mat[X.size - 1][X.size - 1] = 1.0\n",
    "    for i in range(1, X.size - 1):\n",
    "        Mat[i][i] = 2 * (delta[i - 1] + delta[i]) #diagonal\n",
    "        Mat[i][i - 1] = delta[i - 1]\n",
    "        Mat[i][i + 1] = delta[i]\n",
    "        \n",
    "    b = np.zeros(X.size, dtype=float)\n",
    "    for i in range(1,X.size - 1):\n",
    "        b[i] = 3 * (Delta[i]/delta[i] - Delta[i - 1]/delta[i - 1])\n",
    "    \n",
    "    # Solve the equations systems\n",
    "    lu, piv = linalg.lu_factor(Mat)\n",
    "    C = linalg.lu_solve([lu, piv], b)\n",
    "    \n",
    "    D = np.zeros(X.size - 1, dtype=float)\n",
    "    B = np.zeros(X.size - 1, dtype=float)\n",
    "    \n",
    "    for i in range(1, X.size):\n",
    "        D[i - 1] = (C[i] - C[i - 1]) / (3 * delta[i - 1])\n",
    "        B[i - 1] = Delta[i - 1] / delta[i - 1] - delta[i - 1] * (2 * C[i - 1] + C[i]) / 3\n",
    "        \n",
    "    return A, B, C, D"
   ]
  },
  {
   "cell_type": "markdown",
   "metadata": {},
   "source": [
    "### Example\n",
    "Find the natural cubic spline through (0,3),(1,-2),(2,1)"
   ]
  },
  {
   "cell_type": "code",
   "execution_count": 126,
   "metadata": {},
   "outputs": [
    {
     "data": {
      "image/png": "[encoded data removed]",
      "text/plain": [
       "<matplotlib.figure.Figure at 0x7fa483e3f5c0>"
      ]
     },
     "metadata": {},
     "output_type": "display_data"
    }
   ],
   "source": [
    "X = np.array([0, 1, 2])\n",
    "Y = np.array([3, -2, 1])\n",
    "A, B, C, D = natural_cubic_spline(X, Y)\n",
    "S = lambda x, i : A[i] + B[i] * (x - X[i]) + C[i] * pow(x - X[i], 2) + D[i] * pow(x - X[i], 3)\n",
    "total = 200\n",
    "pX = np.linspace(0,2,total)\n",
    "pY = np.zeros(total)\n",
    "for i in range(pX.size):\n",
    "    x = pX[i]\n",
    "    for j in range(X.size - 1):\n",
    "        if x <= X[j + 1]:\n",
    "            pY[i] = S(x, j)\n",
    "            break\n",
    "        else:\n",
    "            continue\n",
    "    \n",
    "plt.plot(pX,pY,color='b')\n",
    "plt.plot(X,Y,'ro')\n",
    "plt.show()"
   ]
  },
  {
   "cell_type": "markdown",
   "metadata": {},
   "source": [
    "### Example\n",
    "Cubic splines with six points (0,3),(1,1),(2,4),(3,1),(4,2),(5,0)"
   ]
  },
  {
   "cell_type": "code",
   "execution_count": 129,
   "metadata": {},
   "outputs": [
    {
     "data": {
      "image/png": "[encoded data removed]",
      "text/plain": [
       "<matplotlib.figure.Figure at 0x7fa484046550>"
      ]
     },
     "metadata": {},
     "output_type": "display_data"
    }
   ],
   "source": [
    "X = np.array([0, 1, 2, 3, 4, 5])\n",
    "Y = np.array([3, 1, 4, 1, 2, 0])\n",
    "A, B, C, D = natural_cubic_spline(X, Y)\n",
    "S = lambda x, i : A[i] + B[i] * (x - X[i]) + C[i] * pow(x - X[i], 2) + D[i] * pow(x - X[i], 3)\n",
    "total = 1000\n",
    "pX = np.linspace(0,5,total)\n",
    "pY = np.zeros(total)\n",
    "for i in range(pX.size):\n",
    "    x = pX[i]\n",
    "    for j in range(X.size - 1):\n",
    "        if x <= X[j + 1]:\n",
    "            pY[i] = S(x, j)\n",
    "            break\n",
    "        else:\n",
    "            continue\n",
    "    \n",
    "plt.plot(pX,pY,color='b')\n",
    "plt.plot(X,Y,'ro')\n",
    "plt.grid(True)\n",
    "plt.show()"
   ]
  }
 ],
 "metadata": {
  "kernelspec": {
   "display_name": "Python 3",
   "language": "python",
   "name": "python3"
  },
  "language_info": {
   "codemirror_mode": {
    "name": "ipython",
    "version": 3
   },
   "file_extension": ".py",
   "mimetype": "text/x-python",
   "name": "python",
   "nbconvert_exporter": "python",
   "pygments_lexer": "ipython3",
   "version": "3.5.2"
  }
 },
 "nbformat": 4,
 "nbformat_minor": 2
}
