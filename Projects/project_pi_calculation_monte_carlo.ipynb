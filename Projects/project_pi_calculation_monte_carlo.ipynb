{
 "cells": [
  {
   "cell_type": "markdown",
   "metadata": {},
   "source": [
    "# ★ Monte Carlo Simulation To Calculate PI ★"
   ]
  },
  {
   "cell_type": "code",
   "execution_count": 1,
   "metadata": {},
   "outputs": [],
   "source": [
    "# Import modules\n",
    "import time\n",
    "import math\n",
    "import numpy as np\n",
    "import scipy\n",
    "import matplotlib.pyplot as plt"
   ]
  },
  {
   "cell_type": "markdown",
   "metadata": {},
   "source": [
    "## Necesaary Function For Monte Carlo Simulation"
   ]
  },
  {
   "cell_type": "code",
   "execution_count": 2,
   "metadata": {},
   "outputs": [],
   "source": [
    "def linear_congruential_generator(x, a, b, m):\n",
    "    x = (a * x + b) % m\n",
    "    u = x / m\n",
    "    return u, x, a, b, m\n",
    "\n",
    "def stdrand(x):\n",
    "    return linear_congruential_generator(x, pow(7, 5), 0, pow(2, 31) - 1)[:2]\n",
    "\n",
    "def halton(p, n):\n",
    "    b = np.zeros(math.ceil(math.log(n + 1) / math.log(p)))\n",
    "    u = np.zeros(n)\n",
    "    for j in range(n):\n",
    "        i = 0\n",
    "        b[0] = b[0] + 1\n",
    "        while b[i] > p - 1 + np.finfo(float).eps:\n",
    "            b[i] = 0\n",
    "            i += 1\n",
    "            b[i] += 1 \n",
    "        u[j] = 0\n",
    "        for k in range(1, b.size + 1):\n",
    "            u[j] = u[j] + b[k-1] * pow(p, -k)\n",
    "    return u"
   ]
  },
  {
   "cell_type": "markdown",
   "metadata": {},
   "source": [
    "## Monte Carlo Simulation (with Minimal standard random number generator)"
   ]
  },
  {
   "cell_type": "code",
   "execution_count": 3,
   "metadata": {},
   "outputs": [
    {
     "name": "stdout",
     "output_type": "stream",
     "text": [
      "pi = 3.1411940000, err = 0.0003986536\n"
     ]
    }
   ],
   "source": [
    "def monte_carlo_process_std(toss):\n",
    "    x = time.time()\n",
    "    hit = 0\n",
    "    for i in range(toss):\n",
    "        u1, x = stdrand(x)\n",
    "        u2, x = stdrand(x)\n",
    "        if pow(u1, 2) + pow(u2, 2) < 1.0:\n",
    "            hit += 1\n",
    "    return hit * 4.0 / toss\n",
    "\n",
    "pi = monte_carlo_process_std(2000000)\n",
    "print('pi = %.10f, err = %.10f' %(pi, abs(pi - np.pi)))"
   ]
  },
  {
   "cell_type": "markdown",
   "metadata": {},
   "source": [
    "## Monte Carlo Simulation (with LCG where multiplier = 13, offset = 0 and modulus = 31)"
   ]
  },
  {
   "cell_type": "code",
   "execution_count": 4,
   "metadata": {},
   "outputs": [
    {
     "name": "stdout",
     "output_type": "stream",
     "text": [
      "pi = 3.1255760000, err = 0.0160166536\n"
     ]
    }
   ],
   "source": [
    "def monte_carlo_process_customized(toss):\n",
    "    x0 = time.time()\n",
    "    args = (x0, 13, 0, 31)\n",
    "    hit = 0\n",
    "    for i in range(toss):\n",
    "        u1, *args = linear_congruential_generator(*args)\n",
    "        u2, *args = linear_congruential_generator(*args)\n",
    "        if pow(u1, 2) + pow(u2, 2) < 1.0:\n",
    "            hit += 1\n",
    "    return hit * 4.0 / toss\n",
    "\n",
    "pi = monte_carlo_process_customized(2000000)\n",
    "print('pi = %.10f, err = %.10f' %(pi, abs(pi - np.pi)))"
   ]
  },
  {
   "cell_type": "markdown",
   "metadata": {},
   "source": [
    "## Monte Carlo Simulation (with Quasi-random numbers)¶"
   ]
  },
  {
   "cell_type": "code",
   "execution_count": 5,
   "metadata": {},
   "outputs": [
    {
     "name": "stdout",
     "output_type": "stream",
     "text": [
      "pi = 3.1415720000, err = 0.0000206536\n"
     ]
    }
   ],
   "source": [
    "def monte_carlo_process_quasi(toss):\n",
    "    hit = 0\n",
    "    px = halton(2, toss)\n",
    "    py = halton(3, toss)\n",
    "    for i in range(toss):\n",
    "        u1 = px[i]\n",
    "        u2 = py[i]\n",
    "        if pow(u1, 2) + pow(u2, 2) < 1.0:\n",
    "            hit += 1\n",
    "    return hit * 4.0 / toss\n",
    "\n",
    "pi = monte_carlo_process_quasi(2000000)\n",
    "print('pi = %.10f, err = %.10f' %(pi, abs(pi - np.pi)))"
   ]
  }
 ],
 "metadata": {
  "kernelspec": {
   "display_name": "Python 3",
   "language": "python",
   "name": "python3"
  },
  "language_info": {
   "codemirror_mode": {
    "name": "ipython",
    "version": 3
   },
   "file_extension": ".py",
   "mimetype": "text/x-python",
   "name": "python",
   "nbconvert_exporter": "python",
   "pygments_lexer": "ipython3",
   "version": "3.5.2"
  }
 },
 "nbformat": 4,
 "nbformat_minor": 2
}
