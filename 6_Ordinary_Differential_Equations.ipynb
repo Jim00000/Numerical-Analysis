{
 "cells": [
  {
   "cell_type": "markdown",
   "metadata": {},
   "source": [
    "# ★ Ordinary Differential Equations ★"
   ]
  },
  {
   "cell_type": "code",
   "execution_count": 1,
   "metadata": {
    "collapsed": true
   },
   "outputs": [],
   "source": [
    "# Import modules\n",
    "import math\n",
    "import numpy as np\n",
    "import scipy\n",
    "from scipy.integrate import ode\n",
    "from matplotlib import pyplot as plt"
   ]
  },
  {
   "cell_type": "markdown",
   "metadata": {
    "collapsed": true
   },
   "source": [
    "# 6.1 Initial Value Problem"
   ]
  },
  {
   "cell_type": "markdown",
   "metadata": {},
   "source": [
    "## Euler's Method"
   ]
  },
  {
   "cell_type": "code",
   "execution_count": 24,
   "metadata": {
    "collapsed": true
   },
   "outputs": [],
   "source": [
    "def euler_method(f, a, b, y0, step=10):\n",
    "    t = a\n",
    "    w = y0\n",
    "    ws = np.zeros(step + 1)\n",
    "    ws[0] = y0\n",
    "    h = (b - a) / step\n",
    "    for i in range(step):\n",
    "        w += h * f(t, w) \n",
    "        t += h\n",
    "        ws[i + 1] = w\n",
    "        \n",
    "    return w, ws"
   ]
  },
  {
   "cell_type": "markdown",
   "metadata": {},
   "source": [
    "### Example\n",
    "\n",
    "Apply Euler's Method to initial value problem\n",
    "\n",
    "$\n",
    "\\begin{cases}\n",
    " & y' = ty + t^3\\\\ \n",
    " & y(0) = 1\\\\ \n",
    " & t\\:in\\:[0,1]\n",
    "\\end{cases}\n",
    "$"
   ]
  },
  {
   "cell_type": "code",
   "execution_count": 27,
   "metadata": {},
   "outputs": [
    {
     "name": "stdout",
     "output_type": "stream",
     "text": [
      "1.77435719915\n"
     ]
    }
   ],
   "source": [
    "f = lambda t, y : t * y + np.power(t, 3)\n",
    "w = euler_method(f, 0, 1, 1)\n",
    "print(w[0])"
   ]
  },
  {
   "cell_type": "markdown",
   "metadata": {},
   "source": [
    "### Example\n",
    "\n",
    "Apply Euler's method to the initial value problem\n",
    "\n",
    "$$\n",
    "\\left\\{\\begin{matrix}\n",
    "\\begin{align*} \n",
    " & y' = -4t^3y^2 \\\\\n",
    " & y(-10) = 1 / 10001 \\\\\n",
    " & t \\:\\: in \\:\\: [-10,0] \n",
    "\\end{align*}\n",
    "\\end{matrix}\\right.\n",
    "$$"
   ]
  },
  {
   "cell_type": "code",
   "execution_count": 65,
   "metadata": {},
   "outputs": [
    {
     "data": {
      "image/png": "[encoded data removed]",
      "text/plain": [
       "<matplotlib.figure.Figure at 0x7fcea6d80780>"
      ]
     },
     "metadata": {},
     "output_type": "display_data"
    }
   ],
   "source": [
    "f = lambda t, y : -4 * np.power(t, 3) * np.power(y, 2)\n",
    "y = lambda t : 1 / (np.power(t, 4) + 1)\n",
    "_, ws4 = euler_method(f, -10, 0, 1.0 / 10001.0, int(1e4))\n",
    "_, ws5 = euler_method(f, -10, 0, 1.0 / 10001.0, int(1e5))\n",
    "w, ws6 = euler_method(f, -10, 0, 1.0 / 10001.0, int(1e6))\n",
    "x4 = np.linspace(-10, 0 , int(1e4) + 1)\n",
    "x5 = np.linspace(-10, 0 , int(1e5) + 1)\n",
    "x6 = np.linspace(-10, 0 , int(1e6) + 1)\n",
    "plt.plot(x4, ws4, linewidth=3, label='$h = 10^{-3}$')\n",
    "plt.plot(x5, ws5, linewidth=3, label='$h = 10^{-4}$')\n",
    "plt.plot(x6, ws6, linewidth=3, label='$h = 10^{-5}$')\n",
    "plt.axhline(1.0, color='gray', linewidth=3, linestyle='--')\n",
    "plt.axvline(0, color='black')\n",
    "plt.axhline(0, color='black')\n",
    "plt.legend()\n",
    "plt.show()"
   ]
  },
  {
   "cell_type": "markdown",
   "metadata": {},
   "source": [
    "## Explicit Trapezoid Method"
   ]
  },
  {
   "cell_type": "code",
   "execution_count": 4,
   "metadata": {
    "collapsed": true
   },
   "outputs": [],
   "source": [
    "def explicit_trapezoid_method(f, a, b, y0, step = 10):\n",
    "    t = a\n",
    "    w = y0\n",
    "    ws = np.zeros(step + 1)\n",
    "    ws[0] = y0\n",
    "    h = (b - a) / step\n",
    "    for i in range(step):\n",
    "        w += ( h / 2 ) * ( f(t, w) + f(t + h, w + h * f(t, w) ) )\n",
    "        t += h\n",
    "        ws[i + 1] = w\n",
    "        \n",
    "    return w, ws"
   ]
  },
  {
   "cell_type": "markdown",
   "metadata": {},
   "source": [
    "### Example\n",
    "\n",
    "Apply the Explicit Trapezoid Method to the initial value problem with initial condition $y(0) = 1$\n",
    "\n",
    "$$\n",
    "\\begin{cases}\n",
    "\\begin{align*}\n",
    " & y' = ty + t^3\\\\ \n",
    " & y(0) = 1\\\\ \n",
    " & t\\:\\:in\\:\\:[0,1]\n",
    "\\end{align*}\n",
    "\\end{cases}\n",
    "$$"
   ]
  },
  {
   "cell_type": "code",
   "execution_count": 69,
   "metadata": {},
   "outputs": [
    {
     "name": "stdout",
     "output_type": "stream",
     "text": [
      "1.9471297468\n"
     ]
    }
   ],
   "source": [
    "f = lambda t, y : t * y + np.power(t, 3)\n",
    "w, _ = explicit_trapezoid_method(f, 0, 1, 1, step = int(1e1) )\n",
    "print(w)"
   ]
  },
  {
   "cell_type": "markdown",
   "metadata": {},
   "source": [
    "## Taylor Method for order k\n",
    "\n",
    "## $w_0 = y_0$\n",
    "\n",
    "## $w_{i+1} = w_i + hf(t_i,w_i) + \\frac{h^2}{2}f'(t_i,w_i) + \\cdots + \\frac{h^k}{k!}f^{(k-1)}(t_i,w_i)$"
   ]
  },
  {
   "cell_type": "markdown",
   "metadata": {},
   "source": [
    "# 6.3 Systems of ordinary differential equations"
   ]
  },
  {
   "cell_type": "markdown",
   "metadata": {},
   "source": [
    "### Example\n",
    "\n",
    "Apply Euler's Method to the first-order system of two equations\n",
    "\n",
    "$$\n",
    "\\left\\{\\begin{matrix}\\begin{align*}\n",
    "y_1' &= y_2^2 - 2y_1 \\\\ \n",
    "y_2' &= y_1 - y_2 - ty_2^2 \\\\ \n",
    "y_1(0) &= 0 \\\\\n",
    "y_2(0) &= 1 \n",
    "\\end{align*}\\end{matrix}\\right.\n",
    "$$\n"
   ]
  },
  {
   "cell_type": "code",
   "execution_count": 3,
   "metadata": {
    "collapsed": true
   },
   "outputs": [],
   "source": [
    "def euler_method_vec(f1, f2, a, b, y0, step=10):\n",
    "    t = a\n",
    "    ws1 = np.zeros(step + 1)\n",
    "    ws2 = np.zeros(step + 1)\n",
    "    ws1[0] = y0[0]\n",
    "    ws2[0] = y0[1]\n",
    "    h = (b - a) / step\n",
    "    for i in range(step):\n",
    "        ws1[i + 1] = ws1[i] + h * f1(ws1[i], ws2[i]) \n",
    "        ws2[i + 1] = ws2[i] + h * f2(t, ws1[i], ws2[i]) \n",
    "        t += h\n",
    "        \n",
    "    return ws1, ws2"
   ]
  },
  {
   "cell_type": "code",
   "execution_count": 7,
   "metadata": {},
   "outputs": [
    {
     "data": {
      "text/plain": [
       "(array([ 0.        ,  0.1       ,  0.161     ,  0.19471816,  0.20959529,\n",
       "         0.21171131,  0.20543819,  0.19390661,  0.17934149,  0.16330497,\n",
       "         0.14687398]),\n",
       " array([ 1.        ,  0.9       ,  0.8119    ,  0.73362637,  0.66358932,\n",
       "         0.60057588,  0.54365486,  0.49209955,  0.44532892,  0.40286475,\n",
       "         0.36430177]))"
      ]
     },
     "execution_count": 7,
     "metadata": {},
     "output_type": "execute_result"
    }
   ],
   "source": [
    "f1 = lambda y1, y2 : np.power(y2, 2) - 2 * y1\n",
    "f2 = lambda t, y1, y2 : y1 - y2 - t * np.power(y2, 2)\n",
    "euler_method_vec(f1, f2, 0, 1, np.array([0, 1]), 10)"
   ]
  },
  {
   "cell_type": "markdown",
   "metadata": {},
   "source": [
    "# 6.4 Runge-Kutta Methods And Applications"
   ]
  },
  {
   "cell_type": "markdown",
   "metadata": {},
   "source": [
    "## Midpoint Method\n",
    "\n",
    "$$\n",
    "\\begin{align*}\n",
    "w_0 &= y_0 \\\\\n",
    "w_{i+1} &= w_i + hf(t_i + \\frac{h}{2},w_i + \\frac{h}{2}f(t_i,w_i))\n",
    "\\end{align*}\n",
    "$$"
   ]
  },
  {
   "cell_type": "code",
   "execution_count": 29,
   "metadata": {
    "collapsed": true
   },
   "outputs": [],
   "source": [
    "def midpoint_method(f, a, b, y0, step = 10):\n",
    "    t = a\n",
    "    w = y0\n",
    "    ws = np.zeros(step + 1)\n",
    "    ws[0] = y0\n",
    "    h = (b - a) / step\n",
    "    for i in range(step):\n",
    "        w += h * f(t + h / 2, w + h / 2 * f(t, w))\n",
    "        t += h\n",
    "        ws[i + 1] = w\n",
    "        \n",
    "    return ws"
   ]
  },
  {
   "cell_type": "markdown",
   "metadata": {
    "collapsed": true
   },
   "source": [
    "## Runge-Kutta Method of order four (RK4)"
   ]
  },
  {
   "cell_type": "code",
   "execution_count": 97,
   "metadata": {
    "collapsed": true
   },
   "outputs": [],
   "source": [
    "def runge_kutta_method(f, a, b, y0, step = 10):\n",
    "    t = a\n",
    "    h = (b - a) / step\n",
    "    w_data = np.zeros(step + 1)\n",
    "    w = w_data[0] = y0\n",
    "    for i in range(step):\n",
    "        s1 = f(t, w)\n",
    "        s2 = f(t + h / 2, w + s1 * h / 2)\n",
    "        s3 = f(t + h / 2, w + s2 * h / 2)\n",
    "        s4 = f(t + h, w + h * s3)\n",
    "        t += h\n",
    "        w += h / 6 * (s1 + 2 * s2 + 2 * s3 + s4)\n",
    "        w_data[i + 1] = w\n",
    "        \n",
    "    return w_data"
   ]
  },
  {
   "cell_type": "markdown",
   "metadata": {},
   "source": [
    "### Example\n",
    "\n",
    "Apply Runge-Kutta of order four to the initial value problem\n",
    "\n",
    "$$\n",
    "\\left\\{\\begin{matrix}\\begin{align*}\n",
    " & y' = ty + t^3 \\\\\n",
    " & y(0) = 1\n",
    "\\end{align*}\\end{matrix}\\right.\n",
    "$$"
   ]
  },
  {
   "cell_type": "code",
   "execution_count": 100,
   "metadata": {},
   "outputs": [
    {
     "name": "stdout",
     "output_type": "stream",
     "text": [
      " answer:1.946163812100385\n",
      "predict:1.946162346634853\n"
     ]
    }
   ],
   "source": [
    "f = lambda t, y : t * y + np.power(t, 3)\n",
    "ans = lambda t : - pow(t, 2) - 2 + 3 * math.exp(pow(t, 2) / 2)\n",
    "w_data = runge_kutta_method(f, 0, 1, 1, step = 10)\n",
    "print(' answer:%.15f' %ans(1) )\n",
    "print('predict:%.15f' %w_data[-1] )"
   ]
  },
  {
   "cell_type": "markdown",
   "metadata": {},
   "source": [
    "# 6.5 Variable Step-Size Methods"
   ]
  },
  {
   "cell_type": "markdown",
   "metadata": {
    "collapsed": true
   },
   "source": [
    "## Runge-Kutta order 2 / order 3 embedded  pair\n",
    "\n",
    "$$\n",
    "\\begin{align*}\n",
    "w_{i+1} &= w_i + h\\frac{s_1 + s_2}{2} \\\\ \n",
    "z_{i+1} &= w_i + h\\frac{s_1 + 4s_3 + s2}{6} \\\\\n",
    "\\end{align*}\n",
    "$$\n",
    "\n",
    "where\n",
    "\n",
    "$$\n",
    "\\begin{align*}\n",
    "s_1 &= f(t_i, w_i) \\\\\n",
    "s_2 &= f(t_i + h, w_i + hs_1) \\\\\n",
    "s_3 &= f(t_i + \\frac{1}{2}h, w_i + \\frac{1}{2}h\\frac{s_1 + s_2}{2}) \\\\\n",
    "e_{i+1} &\\approx |w_{i+1} - z_{i+1}| = |h\\frac{s_1 - 2s_3 + s_2}{3}|\n",
    "\\end{align*}\n",
    "$$\n"
   ]
  },
  {
   "cell_type": "markdown",
   "metadata": {},
   "source": [
    "## Bogacki-Shampine order 2 / order 3 embedded pair\n",
    "\n",
    "$$\n",
    "\\begin{align*}\n",
    "s_1 &= f(t_i, w_i) \\\\\n",
    "s_2 &= f(t_i + \\frac{1}{2}h, w_i + \\frac{1}{2}hs_1) \\\\\n",
    "s_3 &= f(t_i + \\frac{3}{4}h, w_i + \\frac{3}{4}hs_2) \\\\\n",
    "z_{i+1} &= w_i + \\frac{h}{9}(2s_1 + 3s_2 + 4s_3) \\\\\n",
    "s_4 &= f(t + h,z_{i+1}) \\\\\n",
    "w_{i+1} &= w_{i} + \\frac{h}{24}(7s_1 + 6s_2 + 8s_3 + 3s_4) \\\\\n",
    "e_{i+1} &= |z_{i+1} - w_{i+1}| = \\frac{h}{72}|-5s_1 + 6s_2 + 8s_3 - 9s_4|\n",
    "\\end{align*}\n",
    "$$\n",
    "\n"
   ]
  },
  {
   "cell_type": "markdown",
   "metadata": {},
   "source": [
    "## Runge-Kutta-Fehlberg order 4 / order 5 embedded pair\n",
    "\n",
    "$$\n",
    "\\begin{align*}\n",
    "s_1 &= f(t_i, w_i) \\\\\n",
    "s_2 &= f(t_i + \\frac{1}{4}h, w_i + \\frac{1}{4}hs_1) \\\\\n",
    "s_3 &= f(t_i + \\frac{3}{8}h, w_i + \\frac{3}{32}hs_1 + \\frac{9}{32}hs_2) \\\\\n",
    "s_4 &= f(t_i + \\frac{12}{13}h, w_i + \\frac{1932}{2197}hs_1 - \\frac{7200}{2197}hs_2 + \\frac{7296}{2197}hs_3) \\\\\n",
    "s_5 &= f(t_i + h, w_i + \\frac{439}{216}hs_1 - 8hs_2 + \\frac{3680}{513}hs_3 - \\frac{845}{4104}hs_4) \\\\\n",
    "s_6 &= f(t_i + \\frac{1}{2}h, w_i - \\frac{8}{27}hs_1 + 2hs_2 - \\frac{3544}{2565}hs_3 + \\frac{1859}{4104}hs_4 -\\frac{11}{40}hs_5) \\\\\n",
    "w_{i+1} &= w_i + h(\\frac{25}{216}s_1 + \\frac{1408}{4275}s_3 + \\frac{2197}{4104}s_4 - \\frac{1}{5}s_5) \\\\\n",
    "z_{i+1} &= w_i + h(\\frac{16}{135}s_1 + \\frac{6656}{12825}s_3 + \\frac{28561}{56430}s_4 - \\frac{9}{50}s_5 + \\frac{2}{55}s_6) \\\\\n",
    "e_{i + 1} &= |z_{i+1} - w_{i+1}| = h|\\frac{1}{360}s_1 - \\frac{128}{4275}s_3 - \\frac{2197}{75240}s_4 + \\frac{1}{50}s_5 + \\frac{2}{55}s_6| \n",
    "\\end{align*}\n",
    "$$"
   ]
  },
  {
   "cell_type": "code",
   "execution_count": 2,
   "metadata": {
    "collapsed": true
   },
   "outputs": [],
   "source": [
    "def ode_rkf45(f, t0, b, y0, h = 1e-3, tol = 1e-6):\n",
    "    w = y0\n",
    "    t = t0\n",
    "    while(t < b):\n",
    "        w_this, t_this = w, t\n",
    "        s1 = f(t, w)\n",
    "        hs1 = h * s1\n",
    "        s2 = f(t + h / 4, w + hs1 / 4)\n",
    "        hs2 = h * s2\n",
    "        s3 = f(t + 3 / 8 * h, w + 3 / 32 * hs1 + 9 / 32 * hs2)\n",
    "        hs3 = h * s3\n",
    "        s4 = f(t + 12 / 13 * h, w + 1932 / 2197 * hs1 - 7200 / 2197 * hs2 + 7296 / 2197 * hs3)\n",
    "        hs4 = h * s4\n",
    "        s5 = f(t + h, w + 439 / 216 * hs1 - 8 * hs2 + 3680 / 513 * hs3 - 845 / 4104 * hs4)\n",
    "        hs5 = s5 * h\n",
    "        s6 = f(t + h / 2, w - 8 / 27 * hs1 + 2 * hs2 - 3544 / 2565  * hs3 + 1859 / 4104 * hs4 - 11 / 40 * hs5)\n",
    "        z = w + h * (16 / 135 * s1 + 6656 / 12825 * s3 + 28561 / 56430 * s4 - 9 / 50 * s5 + 2 / 55 * s6)\n",
    "        w += h * (25 / 216 * s1 + 1408 / 2565 * s3 + 2197 / 4104 * s4 - s5 / 5)\n",
    "        t += h\n",
    "        e = abs(z - w)\n",
    "        if e / abs(w) < tol:\n",
    "            w = z\n",
    "        else:\n",
    "            h = 0.8 * pow(tol * abs(w) / e, 1 / 5) * h\n",
    "        \n",
    "    return w"
   ]
  },
  {
   "cell_type": "markdown",
   "metadata": {},
   "source": [
    "## Dormand-Prince order 4 / order 5 embedded pair\n",
    "\n",
    "$$\n",
    "\\begin{align*}\n",
    "s_1 &= f(t_i, w_i) \\\\\n",
    "s_2 &= f(t_i + \\frac{1}{5}h, w_i + \\frac{1}{5}hs_i) \\\\\n",
    "s_3 &= f(t_i + \\frac{3}{10}h, w_i + \\frac{3}{40}hs_i + \\frac{9}{40}hs_2) \\\\\n",
    "s_4 &= f(t_i + \\frac{4}{5}h, w_i + \\frac{44}{45}hs_i - \\frac{56}{15}hs_2 + \\frac{32}{9}hs_3) \\\\\n",
    "s_5 &= f(t_i + \\frac{8}{9}h, w_i + h(\\frac{19372}{6561}s_1 - \\frac{25360}{2187}s_2 + \\frac{64448}{6561}s_3 - \\frac{212}{729}s_4)) \\\\\n",
    "s_6 &= f(t_i + h, w_i + h(\\frac{9017}{3168}s_1 - \\frac{355}{33}s_2 + \\frac{46732}{5247}s_3 + \\frac{49}{176}s_4 - \\frac{5103}{18656}s_5)) \\\\\n",
    "z_{i+1} &= w_i +h(\\frac{35}{384}s_1 + \\frac{500}{1113}s_3 + \\frac{125}{192}s_4 - \\frac{2187}{6784}s_5 + \\frac{11}{84}s_6) \\\\\n",
    "s_7 &= f(t_i + h, z_{i+1}) \\\\\n",
    "w_{i+1} &= w_i + h(\\frac{5179}{57600}s_1 + \\frac{7571}{16695}s_3 + \\frac{393}{640}s_4 - \\frac{92097}{339200}s_5 + \\frac{187}{2100}s_6 + \\frac{1}{40}s_7) \\\\\n",
    "e_{i+1} &= |z_{i+1} - w_{i+1}| = h|\\frac{71}{57600}s_1 - \\frac{71}{16695}s_3 + \\frac{71}{1920}s_4 - \\frac{17253}{339200}s_5 + \\frac{22}{525}s_6 - \\frac{1}{40}s_7|\n",
    "\\end{align*}\n",
    "$$"
   ]
  },
  {
   "cell_type": "markdown",
   "metadata": {},
   "source": [
    "### Example\n",
    "\n",
    "Use ode45 to solve the initial value problem within a relative tolerance of $10^{-4}$\n",
    "\n",
    "$\n",
    "\\left\\{\\begin{matrix}\\begin{align*}\n",
    " & y' = ty + t^3 \\\\\n",
    " & y(0) = 1 \\\\\n",
    " & t\\:in\\:[0,1]\n",
    "\\end{align*}\\end{matrix}\\right.\n",
    "$"
   ]
  },
  {
   "cell_type": "code",
   "execution_count": 89,
   "metadata": {},
   "outputs": [
    {
     "name": "stdout",
     "output_type": "stream",
     "text": [
      "1.946163812100385\n",
      "1.946163812100387\n"
     ]
    }
   ],
   "source": [
    "f = lambda t, y : t * y + np.power(t, 3)\n",
    "ans = lambda t : - pow(t, 2) - 2 + 3 * math.exp(pow(t, 2) / 2)\n",
    "print('%.15f' %ans(1) )\n",
    "print('%.15f' %ode_rkf45(f, 0, 1, 1, tol=1e-13) )"
   ]
  },
  {
   "cell_type": "code",
   "execution_count": 27,
   "metadata": {},
   "outputs": [
    {
     "name": "stdout",
     "output_type": "stream",
     "text": [
      "0.1 [ 1.00503756]\n",
      "0.2 [ 1.02060402]\n",
      "0.30000000000000004 [ 1.04808358]\n",
      "0.4 [ 1.0898612]\n",
      "0.5 [ 1.14944536]\n",
      "0.6 [ 1.23165209]\n",
      "0.7 [ 1.34286394]\n",
      "0.7999999999999999 [ 1.49138329]\n",
      "0.8999999999999999 [ 1.6879075]\n",
      "0.9999999999999999 [ 1.94616381]\n"
     ]
    }
   ],
   "source": [
    "f = lambda t, y : t * y + np.power(t, 3)\n",
    "r = ode(f).set_integrator('dopri5')\n",
    "r.set_initial_value(1, 0)\n",
    "terminate = 0.9\n",
    "dt = 0.1\n",
    "while r.successful() and r.t <= terminate:\n",
    "    print(r.t + dt, r.integrate(r.t + dt))"
   ]
  },
  {
   "cell_type": "markdown",
   "metadata": {},
   "source": [
    "# 6.6 Implicit Methods And Stiff Equations"
   ]
  },
  {
   "cell_type": "markdown",
   "metadata": {},
   "source": [
    "## Backward Euler Method\n",
    "\n",
    "$$\n",
    "\\begin{align*}\n",
    "w_0 &= y_0 \\\\\n",
    "w_{i+1} &= w_{i} + hf(t_{i+1}, w_{i+1})\n",
    "\\end{align*}\n",
    "$$"
   ]
  },
  {
   "cell_type": "markdown",
   "metadata": {},
   "source": [
    "### Example\n",
    "\n",
    "Apply the Backward Euler Method to the initial value problem\n",
    "\n",
    "$$\n",
    "\\left\\{\\begin{matrix}\\begin{align*}\n",
    " & y' = y + 8y^2 - 9y^3 \\\\\n",
    " & y(0) = 1 / 2 \\\\\n",
    " & t\\:in\\:[0,3]\n",
    "\\end{align*}\\end{matrix}\\right.\n",
    "$$"
   ]
  },
  {
   "cell_type": "markdown",
   "metadata": {},
   "source": [
    "$$\n",
    "\\begin{align*}\n",
    " & w_{i+1} = w_i + h(t_{i+1}, w_{i+1}) = w_i + h(w_{i+1} + 8w_{i+1}^2 - 9w_{i+1}^3) \\\\ \n",
    " & Let\\:z = w_i + h(z + 8z^2 -9z^3) \\\\\n",
    " & \\Rightarrow 9hz^3 - 8hz^2 + (1 - h)z - w_i = 0\n",
    "\\end{align*}\n",
    "$$"
   ]
  },
  {
   "cell_type": "code",
   "execution_count": 3,
   "metadata": {},
   "outputs": [
    {
     "name": "stdout",
     "output_type": "stream",
     "text": [
      "0.999999990282\n"
     ]
    }
   ],
   "source": [
    "step = 20\n",
    "f = lambda z, h, d : 9 * h * np.power(z, 3) - 8 * h * np.power(z, 2) + (1 - h) * z - d\n",
    "x0 = 0.5\n",
    "h = 0.15\n",
    "y0 =0.5\n",
    "for _ in range(step):\n",
    "    z = scipy.optimize.newton(f, x0, args=(h, y0))\n",
    "    x0 = y0 = z\n",
    "    \n",
    "print(z)"
   ]
  },
  {
   "cell_type": "markdown",
   "metadata": {},
   "source": [
    "# 6.7 Multistep Methods"
   ]
  },
  {
   "cell_type": "markdown",
   "metadata": {},
   "source": [
    "## Adams-Bashforth Two-Step Method\n",
    "\n",
    "$w_{i + 1} = w_i + h [\\frac{3}{2}f(t_i, w_i) - \\frac{1}{2}f(t_{i - 1}, w_{i - 1})]$"
   ]
  },
  {
   "cell_type": "code",
   "execution_count": 37,
   "metadata": {
    "collapsed": true
   },
   "outputs": [],
   "source": [
    "def adams_bashforth(f, a, b, y0, step = 10):\n",
    "    h = (b - a) / step\n",
    "    w = y0\n",
    "    w_n = explicit_trapezoid_method(f, a, b, y0)[0]\n",
    "    t = a\n",
    "    t_n = a + h\n",
    "    for _ in range(step - 1):\n",
    "        tmp_w_n = w_n\n",
    "        w_n += h * (1.5 * f(t_n, w_n) - 0.5 * f(t, w))\n",
    "        w = tmp_w_n\n",
    "        t_n += h\n",
    "        t += h\n",
    "        \n",
    "    return w_n"
   ]
  },
  {
   "cell_type": "markdown",
   "metadata": {},
   "source": [
    "### Example\n",
    "\n",
    "Apply strongly stable method, weakly stable method, and unstable method to the initial value problem\n",
    "\n",
    "$$\n",
    "\\left\\{\\begin{matrix}\\begin{align*}\n",
    " & y' = -3y \\\\\n",
    " & y(0) = 1 \\\\\n",
    " &t\\:in\\:[0,2]\n",
    "\\end{align*}\\end{matrix}\\right.\n",
    "$$"
   ]
  },
  {
   "cell_type": "code",
   "execution_count": 38,
   "metadata": {},
   "outputs": [
    {
     "name": "stdout",
     "output_type": "stream",
     "text": [
      "0.0006820043181444647\n"
     ]
    }
   ],
   "source": [
    "f = lambda t, w : -3 * w\n",
    "w = adams_bashforth(f, 0, 2, 1, step = 20)\n",
    "print(w)"
   ]
  }
 ],
 "metadata": {
  "kernelspec": {
   "display_name": "Python 3",
   "language": "python",
   "name": "python3"
  },
  "language_info": {
   "codemirror_mode": {
    "name": "ipython",
    "version": 3
   },
   "file_extension": ".py",
   "mimetype": "text/x-python",
   "name": "python",
   "nbconvert_exporter": "python",
   "pygments_lexer": "ipython3",
   "version": "3.5.2"
  }
 },
 "nbformat": 4,
 "nbformat_minor": 2
}
