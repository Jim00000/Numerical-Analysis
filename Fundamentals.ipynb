{
 "cells": [
  {
   "cell_type": "markdown",
   "metadata": {},
   "source": [
    "# ★ Fundamentals ★"
   ]
  },
  {
   "cell_type": "markdown",
   "metadata": {},
   "source": [
    "# 0.1 Horner’s method or  Nested multiplication"
   ]
  },
  {
   "cell_type": "code",
   "execution_count": 3,
   "metadata": {
    "collapsed": true
   },
   "outputs": [],
   "source": [
    "# Import modules\n",
    "import traceback\n",
    "import numpy as np"
   ]
  },
  {
   "cell_type": "code",
   "execution_count": 6,
   "metadata": {
    "collapsed": true
   },
   "outputs": [],
   "source": [
    "def nest(degree, coefficients, x = 0, base_points = None) -> float:\n",
    "    \"\"\"\n",
    "    Evaluates polynomial from nested form using Horner’s Method\n",
    "    \n",
    "    Examples:\n",
    "        P(x) = 3 * x^2 + 5 * x − 1 and evaluate P(x = 1)\n",
    "        Use nest(2,[3,5,-1],1) to get the value of above polynomial\n",
    "    \n",
    "    Args:\n",
    "        degree (int): degree of polynomial\n",
    "        coefficients (list): list of coefficients \n",
    "        x (float): x-coordinate x at which to evaluate (Default : 0)\n",
    "        base_points (list): list of base points (Default : None)\n",
    "        \n",
    "    Returns:\n",
    "         value y of polynomial at x\n",
    "         \n",
    "    Raises:\n",
    "        ValueError:\n",
    "            coefficients is null\n",
    "            degree is negative\n",
    "            degree is not equal len(base_points)\n",
    "            degree len(coefficients) is not equal len(base_points) + 1\n",
    "    \"\"\"\n",
    "    try:\n",
    "        if base_points is None :\n",
    "            base_points = np.zeros(degree).tolist()\n",
    "        \n",
    "        if(degree < 0):\n",
    "            raise ValueError\n",
    "        \n",
    "        if(degree != len(base_points)):\n",
    "            raise ValueError\n",
    "        \n",
    "        if coefficients is None :\n",
    "            raise ValueError\n",
    "        \n",
    "        if(degree + 1 != len(coefficients)):\n",
    "            raise ValueError\n",
    "            \n",
    "        if(len(coefficients) != len(base_points) + 1):\n",
    "            raise ValueError \n",
    "        \n",
    "        # Check whether coefficients is type of ndarray\n",
    "        if(type(coefficients).__module__ == np.__name__):\n",
    "            coefficients = coefficients.tolist()\n",
    "        \n",
    "        # Check whether base_points is type of ndarray\n",
    "        if(type(base_points).__module__ == np.__name__):\n",
    "            base_points = base_points.tolist()\n",
    "            \n",
    "        y = coefficients.pop(0)\n",
    "        \n",
    "        for i in range(degree):\n",
    "            y = y * (x - base_points[i]) + coefficients[i]\n",
    "            \n",
    "        return y\n",
    "    except ValueError as e:\n",
    "        print('Exception : ValueError')\n",
    "        traceback.print_exception()"
   ]
  },
  {
   "cell_type": "markdown",
   "metadata": {},
   "source": [
    "### Example : $P(x) = 2x^{4} + 3x^{3} - 3x^{2} + 5x - 1$\n",
    "Evaluate $P(0.5)$"
   ]
  },
  {
   "cell_type": "code",
   "execution_count": 7,
   "metadata": {},
   "outputs": [
    {
     "data": {
      "text/plain": [
       "1.25"
      ]
     },
     "execution_count": 7,
     "metadata": {},
     "output_type": "execute_result"
    }
   ],
   "source": [
    "nest(4,[2,3,-3,5,-1],0.5)"
   ]
  },
  {
   "cell_type": "markdown",
   "metadata": {},
   "source": [
    "## 0.1 Computer Problems"
   ]
  },
  {
   "cell_type": "markdown",
   "metadata": {},
   "source": [
    "Evaluate $P(x) = 1 + x + ... + x^{50}$ at x = 1.00001. <br/>\n",
    "Find the error of the computation by comparing with the equivalent expression $Q(x) = (x^{51} - 1) / (x - 1)$."
   ]
  },
  {
   "cell_type": "code",
   "execution_count": 8,
   "metadata": {},
   "outputs": [
    {
     "name": "stdout",
     "output_type": "stream",
     "text": [
      "P(1.00001)=51.01275208274999\n",
      "Q(1.00001)=51.01275208274523\n",
      "error = 4.760636329592671e-12\n"
     ]
    }
   ],
   "source": [
    "x = 1.00001\n",
    "p = nest(50,np.ones(51,dtype=np.int),x) \n",
    "q = (x ** 51 - 1) / (x - 1)\n",
    "print('P(1.00001)={0}'.format(p))\n",
    "print('Q(1.00001)={0}'.format(q))\n",
    "print('error = {0}'.format(abs(p - q)))"
   ]
  },
  {
   "cell_type": "markdown",
   "metadata": {},
   "source": [
    "Evaluate $P(x) = 1 - x + x^2 - x^3 + ... + x^{98} - x^{99}$ at x = 1.00001. <br/>\n",
    "Find a simpler, equivalent expression, and use it to estimate the error of the nested multiplication."
   ]
  },
  {
   "cell_type": "code",
   "execution_count": 9,
   "metadata": {},
   "outputs": [
    {
     "name": "stdout",
     "output_type": "stream",
     "text": [
      "P(1.00001)=-0.0005002450796476321\n",
      "Q(1.00001)=-0.0005002450796474608\n",
      "error = 1.713039432527097e-16\n"
     ]
    }
   ],
   "source": [
    "x = 1.00001\n",
    "p = nest(99,[-1 if i % 2 == 0 else 1 for i in range(100)],x)\n",
    "q = (1 - x ** 100) / (1 + x) # q(x) = (1 - x^100) / (1 + x) = p(x)\n",
    "print('P(1.00001)={0}'.format(p))\n",
    "print('Q(1.00001)={0}'.format(q))\n",
    "print('error = {0}'.format(abs(p - q)))"
   ]
  }
 ],
 "metadata": {
  "kernelspec": {
   "display_name": "Python 3",
   "language": "python",
   "name": "python3"
  },
  "language_info": {
   "codemirror_mode": {
    "name": "ipython",
    "version": 3
   },
   "file_extension": ".py",
   "mimetype": "text/x-python",
   "name": "python",
   "nbconvert_exporter": "python",
   "pygments_lexer": "ipython3",
   "version": "3.5.3"
  }
 },
 "nbformat": 4,
 "nbformat_minor": 2
}
