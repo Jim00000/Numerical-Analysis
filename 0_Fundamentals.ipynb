{
 "cells": [
  {
   "cell_type": "markdown",
   "metadata": {},
   "source": [
    "# ★ Fundamentals ★"
   ]
  },
  {
   "cell_type": "markdown",
   "metadata": {},
   "source": [
    "# 0.1 Horner’s method or  Nested multiplication"
   ]
  },
  {
   "cell_type": "code",
   "execution_count": 1,
   "metadata": {},
   "outputs": [],
   "source": [
    "# Import modules\n",
    "import traceback\n",
    "import math\n",
    "import numpy as np\n",
    "import unittest"
   ]
  },
  {
   "cell_type": "code",
   "execution_count": 2,
   "metadata": {},
   "outputs": [
    {
     "name": "stderr",
     "output_type": "stream",
     "text": [
      "testcase1 (__main__.nest_unittest) ... ok\n",
      "testcase2 (__main__.nest_unittest) ... ok\n",
      "testcase3 (__main__.nest_unittest) ... ok\n",
      "\n",
      "----------------------------------------------------------------------\n",
      "Ran 3 tests in 0.007s\n",
      "\n",
      "OK\n"
     ]
    }
   ],
   "source": [
    "def nest(degree, coefficients, x = 0, base_points = None) -> float:\n",
    "    \"\"\"\n",
    "    Evaluates polynomial from nested form using Horner’s Method\n",
    "    \n",
    "    Examples:\n",
    "        P(x) = 3 * x^2 + 5 * x − 1 and evaluate P(x = 1)\n",
    "        Use nest(2, [3, 5, -1], 1) to get the value of above polynomial\n",
    "    \n",
    "    Arguments:\n",
    "        degree (int): degree of polynomial\n",
    "        coefficients (list): list of coefficients \n",
    "        x (float): x-coordinate x at which to evaluate (Default : 0)\n",
    "        base_points (list): list of base points (Default : None)\n",
    "        \n",
    "    Return:\n",
    "         value y of polynomial at x\n",
    "         \n",
    "    Raises:\n",
    "        ValueError:\n",
    "            coefficients is null\n",
    "            degree is negative\n",
    "            degree is not equal len(base_points)\n",
    "            degree len(coefficients) is not equal len(base_points) + 1\n",
    "    \"\"\"\n",
    "    try:\n",
    "        if base_points is None :\n",
    "            base_points = np.zeros(degree).tolist()\n",
    "        \n",
    "        if(degree < 0):\n",
    "            raise ValueError('degree is negative')\n",
    "        \n",
    "        if(degree != len(base_points)):\n",
    "            raise ValueError('degree is not consistent with base points')\n",
    "        \n",
    "        if coefficients is None :\n",
    "            raise ValueError('coefficients is null')\n",
    "        \n",
    "        if(degree + 1 != len(coefficients)):\n",
    "            raise ValueError\n",
    "            \n",
    "        if(len(coefficients) != len(base_points) + 1):\n",
    "            raise ValueError \n",
    "        \n",
    "        # Check whether coefficients is type of ndarray\n",
    "        if(type(coefficients).__module__ == np.__name__):\n",
    "            coefficients = coefficients.tolist()\n",
    "        \n",
    "        # Check whether base_points is type of ndarray\n",
    "        if(type(base_points).__module__ == np.__name__):\n",
    "            base_points = base_points.tolist()\n",
    "            \n",
    "        y = coefficients.pop(0)\n",
    "        \n",
    "        for i in range(degree):\n",
    "            y = y * (x - base_points[i]) + coefficients[i]\n",
    "            \n",
    "        return y\n",
    "    except ValueError as e:\n",
    "        print('Exception : ValueError {0}'.format(str(e)))\n",
    "        traceback.print_exception()\n",
    "\n",
    "# unittest nest(...) \n",
    "class nest_unittest(unittest.TestCase):\n",
    "    # P(x = 0) = 3\n",
    "    def testcase1(self):\n",
    "        self.assertEqual(nest(0, [3], 0), 3)\n",
    "    # P(x = 2.1) = x\n",
    "    def testcase2(self):\n",
    "        self.assertEqual(nest(1, [1, 0], 2.1), 2.1)\n",
    "    # P(x = 4) = 3 * x^2 + 5 * x + 7\n",
    "    def testcase3(self):\n",
    "        self.assertEqual(nest(2, [3, 5, 7], 4), 75)\n",
    "\n",
    "unittest.main(argv=['ignored', '--verbose'], exit=False);\n"
   ]
  },
  {
   "cell_type": "markdown",
   "metadata": {},
   "source": [
    "### Example : $P(x) = 2x^{4} + 3x^{3} - 3x^{2} + 5x - 1$\n",
    "Evaluate $P(0.5)$"
   ]
  },
  {
   "cell_type": "code",
   "execution_count": 3,
   "metadata": {},
   "outputs": [
    {
     "data": {
      "text/plain": [
       "1.25"
      ]
     },
     "execution_count": 3,
     "metadata": {},
     "output_type": "execute_result"
    }
   ],
   "source": [
    "nest(4, [2, 3, -3, 5, -1], 0.5)"
   ]
  },
  {
   "cell_type": "markdown",
   "metadata": {},
   "source": [
    "### Example \n",
    "\n",
    "$P(x) = x^6 − 2x^5 + 3x^4 − 4x^3 + 5x^2 − 6x + 7$ at $x = 2$"
   ]
  },
  {
   "cell_type": "code",
   "execution_count": 4,
   "metadata": {},
   "outputs": [
    {
     "data": {
      "text/plain": [
       "31.0"
      ]
     },
     "execution_count": 4,
     "metadata": {},
     "output_type": "execute_result"
    }
   ],
   "source": [
    "nest(6, [1, -2, 3, -4, 5, -6, 7], 2)"
   ]
  },
  {
   "cell_type": "markdown",
   "metadata": {},
   "source": [
    "## 0.1 Computer Problems"
   ]
  },
  {
   "cell_type": "markdown",
   "metadata": {},
   "source": [
    "Evaluate $P(x) = 1 + x + ... + x^{50}$ at x = 1.00001. <br/>\n",
    "Find the error of the computation by comparing with the equivalent expression $Q(x) = (x^{51} - 1) / (x - 1)$."
   ]
  },
  {
   "cell_type": "code",
   "execution_count": 5,
   "metadata": {},
   "outputs": [
    {
     "name": "stdout",
     "output_type": "stream",
     "text": [
      "P(1.00001) = 51.01275208274999\n",
      "Q(1.00001) = 51.01275208274523\n",
      "error      = 00.00000000000476\n"
     ]
    }
   ],
   "source": [
    "x = 1.00001\n",
    "p = nest(50, np.ones(51, dtype=np.int), x) \n",
    "q = (x ** 51 - 1) / (x - 1)\n",
    "print('P(1.00001) = {0}'.format(p))\n",
    "print('Q(1.00001) = {0}'.format(q))\n",
    "print('error      = {0:017.14f}'.format(np.abs(p - q)))"
   ]
  },
  {
   "cell_type": "markdown",
   "metadata": {},
   "source": [
    "---\n",
    "Evaluate $P(x) = 1 - x + x^2 - x^3 + ... + x^{98} - x^{99}$ at x = 1.00001. <br/>\n",
    "Find a simpler, equivalent expression, and use it to estimate the error of the nested multiplication."
   ]
  },
  {
   "cell_type": "code",
   "execution_count": 6,
   "metadata": {},
   "outputs": [
    {
     "name": "stdout",
     "output_type": "stream",
     "text": [
      "P(1.00001) = -0.0005002450796476321\n",
      "Q(1.00001) = -0.0005002450796474608\n",
      "error      =  0.0000000000000001713\n"
     ]
    }
   ],
   "source": [
    "x = 1.00001\n",
    "p = nest(99, [-1 if i % 2 == 0 else 1 for i in range(100)], x)\n",
    "q = (1 - x ** 100) / (1 + x) # q(x) = (1 - x^100) / (1 + x) = p(x)\n",
    "print('P(1.00001) = {0}'.format(p))\n",
    "print('Q(1.00001) = {0}'.format(q))\n",
    "print('error      = {0:22.19f}'.format(np.abs(p - q)))"
   ]
  },
  {
   "cell_type": "markdown",
   "metadata": {},
   "source": [
    "# 0.4 Loss of significance"
   ]
  },
  {
   "cell_type": "markdown",
   "metadata": {},
   "source": [
    "## 0.4 Computer Problems"
   ]
  },
  {
   "cell_type": "markdown",
   "metadata": {},
   "source": [
    "1. Calculate the expressions that follow in double precision arithmetic $x = 10^{-1},...,10^{-14}$. Then, using an alternative form of the expression that doesn’t suffer from subtracting nearly equal numbers, repeat the calculation and make a table of results. Report the number of correct digits in the original expression for each x. <br/>\n",
    "## $(a)\\frac{1 - secx}{tan^{2}x}$\n",
    "## $(b)\\frac{1 - (1 - x)^{3}}{x}$"
   ]
  },
  {
   "cell_type": "code",
   "execution_count": 7,
   "metadata": {},
   "outputs": [
    {
     "name": "stdout",
     "output_type": "stream",
     "text": [
      "P(x = 0.10000000000000) = -0.49874791371141\n",
      "P(x = 0.01000000000000) = -0.49998749979096\n",
      "P(x = 0.00100000000000) = -0.49999987501429\n",
      "P(x = 0.00010000000000) = -0.49999999362793\n",
      "P(x = 0.00001000000000) = -0.50000004133685\n",
      "P(x = 0.00000100000000) = -0.50004445029084\n",
      "P(x = 0.00000010000000) = -0.51070259132757\n",
      "P(x = 0.00000001000000) = 0.00000000000000\n",
      "P(x = 0.00000000100000) = 0.00000000000000\n",
      "P(x = 0.00000000010000) = 0.00000000000000\n",
      "P(x = 0.00000000001000) = 0.00000000000000\n",
      "P(x = 0.00000000000100) = 0.00000000000000\n",
      "P(x = 0.00000000000010) = 0.00000000000000\n",
      "P(x = 0.00000000000001) = 0.00000000000000\n"
     ]
    }
   ],
   "source": [
    "Px_a = lambda x : (1 - np.cos(x) ** -1) / np.tan(x) ** 2\n",
    "\n",
    "for i in range(1, 15):\n",
    "    x = 10 ** (-i)\n",
    "    print( 'P(x = {0:>.14f}) = {1:>.14f}'.format(x, Px_a(x)) )"
   ]
  },
  {
   "cell_type": "markdown",
   "metadata": {},
   "source": [
    "## Alternative form :  \n",
    "## $\\frac{1 - secx}{tan^{2}x} \\Rightarrow \\frac{cosx \\cdot (1 - \\frac{1}{cosx})}{cosx \\cdot (\\frac{sinx}{cosx})^2} \\Rightarrow \\frac{cosx \\cdot (1 - \\frac{1}{cosx})}{\\frac{sin^2{x}}{cosx}} \\Rightarrow \\frac{cos^{2}x \\cdot (1 - \\frac{1}{cosx})}{sin^2{x}} \\Rightarrow \\frac{-\\cos{x} \\cdot (1 - cosx)}{1 - cos^{2}x} \\Rightarrow \\frac{-cosx}{(1 + cosx)} \\Rightarrow \\frac{-1}{(1 + secx)}$"
   ]
  },
  {
   "cell_type": "code",
   "execution_count": 8,
   "metadata": {},
   "outputs": [
    {
     "name": "stdout",
     "output_type": "stream",
     "text": [
      "P(x = 0.10000000000000) = -0.49874791371143\n",
      "P(x = 0.01000000000000) = -0.49998749979166\n",
      "P(x = 0.00100000000000) = -0.49999987499998\n",
      "P(x = 0.00010000000000) = -0.49999999875000\n",
      "P(x = 0.00001000000000) = -0.49999999998750\n",
      "P(x = 0.00000100000000) = -0.49999999999987\n",
      "P(x = 0.00000010000000) = -0.50000000000000\n",
      "P(x = 0.00000001000000) = -0.50000000000000\n",
      "P(x = 0.00000000100000) = -0.50000000000000\n",
      "P(x = 0.00000000010000) = -0.50000000000000\n",
      "P(x = 0.00000000001000) = -0.50000000000000\n",
      "P(x = 0.00000000000100) = -0.50000000000000\n",
      "P(x = 0.00000000000010) = -0.50000000000000\n",
      "P(x = 0.00000000000001) = -0.50000000000000\n"
     ]
    }
   ],
   "source": [
    "Px_a = lambda x : -1 / (1 + np.cos(x) ** -1)\n",
    "\n",
    "for i in range(1, 15):\n",
    "    x = 10 ** (-i)\n",
    "    print( 'P(x = {0:>.14f}) = {1:>.14f}'.format(x, Px_a(x)) )"
   ]
  },
  {
   "cell_type": "code",
   "execution_count": 9,
   "metadata": {},
   "outputs": [
    {
     "name": "stdout",
     "output_type": "stream",
     "text": [
      "P(x = 0.10000000000000) = 2.71000000000000\n",
      "P(x = 0.01000000000000) = 2.97010000000000\n",
      "P(x = 0.00100000000000) = 2.99700100000000\n",
      "P(x = 0.00010000000000) = 2.99970001000016\n",
      "P(x = 0.00001000000000) = 2.99997000008378\n",
      "P(x = 0.00000100000000) = 2.99999700004161\n",
      "P(x = 0.00000010000000) = 2.99999969866072\n",
      "P(x = 0.00000001000000) = 2.99999998176759\n",
      "P(x = 0.00000000100000) = 2.99999991515421\n",
      "P(x = 0.00000000010000) = 3.00000024822111\n",
      "P(x = 0.00000000001000) = 3.00000024822111\n",
      "P(x = 0.00000000000100) = 2.99993363483964\n",
      "P(x = 0.00000000000010) = 3.00093283556180\n",
      "P(x = 0.00000000000001) = 2.99760216648792\n"
     ]
    }
   ],
   "source": [
    "Px_b = lambda x : (1 - (1 - x) ** 3) / x\n",
    "\n",
    "for i in range(1, 15):\n",
    "    x = 10 ** (-i)\n",
    "    print( 'P(x = {0:>.14f}) = {1:>.14f}'.format(x, Px_b(x)) )"
   ]
  },
  {
   "cell_type": "markdown",
   "metadata": {},
   "source": [
    "## Alternative form :  \n",
    "## $\\frac{1 - (1 - x)^{3} }{x} \\Rightarrow \\frac{1 - (1 - 3x + 3x^2 - x^3)}{x} \\Rightarrow x^2 - 3x + 3$"
   ]
  },
  {
   "cell_type": "code",
   "execution_count": 10,
   "metadata": {},
   "outputs": [
    {
     "name": "stdout",
     "output_type": "stream",
     "text": [
      "P(x = 0.10000000000000) = -0.29000000000000\n",
      "P(x = 0.01000000000000) = -0.02990000000000\n",
      "P(x = 0.00100000000000) = -0.00299900000000\n",
      "P(x = 0.00010000000000) = -0.00029999000000\n",
      "P(x = 0.00001000000000) = -0.00002999990000\n",
      "P(x = 0.00000100000000) = -0.00000299999900\n",
      "P(x = 0.00000010000000) = -0.00000029999999\n",
      "P(x = 0.00000001000000) = -0.00000003000000\n",
      "P(x = 0.00000000100000) = -0.00000000300000\n",
      "P(x = 0.00000000010000) = -0.00000000030000\n",
      "P(x = 0.00000000001000) = -0.00000000003000\n",
      "P(x = 0.00000000000100) = -0.00000000000300\n",
      "P(x = 0.00000000000010) = -0.00000000000030\n",
      "P(x = 0.00000000000001) = -0.00000000000003\n"
     ]
    }
   ],
   "source": [
    "Px_b = lambda x : x ** 2 - 3 * x\n",
    "\n",
    "for i in range(1, 15):\n",
    "    x = 10 ** (-i)\n",
    "    print( 'P(x = {0:>.14f}) = {1:>.14f}'.format(x, Px_b(x)) )"
   ]
  },
  {
   "cell_type": "markdown",
   "metadata": {},
   "source": [
    "---\n",
    "2.Find the smallest value of $p$ for which the expression calculated in double precision arithmetic at $x = 10^{−p}$ has no correct significant digits. (Hint: First find the limit of the expression as x → 0.)"
   ]
  },
  {
   "cell_type": "code",
   "execution_count": null,
   "metadata": {},
   "outputs": [],
   "source": []
  },
  {
   "cell_type": "markdown",
   "metadata": {},
   "source": [
    "---\n",
    "Evaluate the quantity $ a + \\sqrt{a^2 + b^2} $ to four correct signiﬁcant digits, where a = −12345678987654321 and b = 123."
   ]
  },
  {
   "cell_type": "code",
   "execution_count": null,
   "metadata": {},
   "outputs": [],
   "source": []
  },
  {
   "cell_type": "markdown",
   "metadata": {},
   "source": [
    "---\n",
    "Evaluate the quantity $ \\sqrt{c^2 + d} - c $ to four correct signiﬁcant digits, where c = 246886422468 and d = 13579."
   ]
  },
  {
   "cell_type": "code",
   "execution_count": null,
   "metadata": {},
   "outputs": [],
   "source": []
  }
 ],
 "metadata": {
  "kernelspec": {
   "display_name": "Python 3",
   "language": "python",
   "name": "python3"
  },
  "language_info": {
   "codemirror_mode": {
    "name": "ipython",
    "version": 3
   },
   "file_extension": ".py",
   "mimetype": "text/x-python",
   "name": "python",
   "nbconvert_exporter": "python",
   "pygments_lexer": "ipython3",
   "version": "3.8.6"
  }
 },
 "nbformat": 4,
 "nbformat_minor": 2
}
