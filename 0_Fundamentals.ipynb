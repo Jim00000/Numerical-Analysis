{
 "cells": [
  {
   "cell_type": "markdown",
   "metadata": {},
   "source": [
    "# ★ Fundamentals ★"
   ]
  },
  {
   "cell_type": "markdown",
   "metadata": {},
   "source": [
    "# 0.1 Horner’s method or  Nested multiplication"
   ]
  },
  {
   "cell_type": "code",
   "execution_count": 1,
   "metadata": {
    "collapsed": true
   },
   "outputs": [],
   "source": [
    "# Import modules\n",
    "import traceback\n",
    "import math\n",
    "import numpy as np"
   ]
  },
  {
   "cell_type": "code",
   "execution_count": 6,
   "metadata": {
    "collapsed": true
   },
   "outputs": [],
   "source": [
    "def nest(degree, coefficients, x = 0, base_points = None) -> float:\n",
    "    \"\"\"\n",
    "    Evaluates polynomial from nested form using Horner’s Method\n",
    "    \n",
    "    Examples:\n",
    "        P(x) = 3 * x^2 + 5 * x − 1 and evaluate P(x = 1)\n",
    "        Use nest(2,[3,5,-1],1) to get the value of above polynomial\n",
    "    \n",
    "    Args:\n",
    "        degree (int): degree of polynomial\n",
    "        coefficients (list): list of coefficients \n",
    "        x (float): x-coordinate x at which to evaluate (Default : 0)\n",
    "        base_points (list): list of base points (Default : None)\n",
    "        \n",
    "    Returns:\n",
    "         value y of polynomial at x\n",
    "         \n",
    "    Raises:\n",
    "        ValueError:\n",
    "            coefficients is null\n",
    "            degree is negative\n",
    "            degree is not equal len(base_points)\n",
    "            degree len(coefficients) is not equal len(base_points) + 1\n",
    "    \"\"\"\n",
    "    try:\n",
    "        if base_points is None :\n",
    "            base_points = np.zeros(degree).tolist()\n",
    "        \n",
    "        if(degree < 0):\n",
    "            raise ValueError\n",
    "        \n",
    "        if(degree != len(base_points)):\n",
    "            raise ValueError\n",
    "        \n",
    "        if coefficients is None :\n",
    "            raise ValueError\n",
    "        \n",
    "        if(degree + 1 != len(coefficients)):\n",
    "            raise ValueError\n",
    "            \n",
    "        if(len(coefficients) != len(base_points) + 1):\n",
    "            raise ValueError \n",
    "        \n",
    "        # Check whether coefficients is type of ndarray\n",
    "        if(type(coefficients).__module__ == np.__name__):\n",
    "            coefficients = coefficients.tolist()\n",
    "        \n",
    "        # Check whether base_points is type of ndarray\n",
    "        if(type(base_points).__module__ == np.__name__):\n",
    "            base_points = base_points.tolist()\n",
    "            \n",
    "        y = coefficients.pop(0)\n",
    "        \n",
    "        for i in range(degree):\n",
    "            y = y * (x - base_points[i]) + coefficients[i]\n",
    "            \n",
    "        return y\n",
    "    except ValueError as e:\n",
    "        print('Exception : ValueError')\n",
    "        traceback.print_exception()"
   ]
  },
  {
   "cell_type": "markdown",
   "metadata": {},
   "source": [
    "### Example : $P(x) = 2x^{4} + 3x^{3} - 3x^{2} + 5x - 1$\n",
    "Evaluate $P(0.5)$"
   ]
  },
  {
   "cell_type": "code",
   "execution_count": 7,
   "metadata": {},
   "outputs": [
    {
     "data": {
      "text/plain": [
       "1.25"
      ]
     },
     "execution_count": 7,
     "metadata": {},
     "output_type": "execute_result"
    }
   ],
   "source": [
    "nest(4,[2,3,-3,5,-1],0.5)"
   ]
  },
  {
   "cell_type": "markdown",
   "metadata": {},
   "source": [
    "## 0.1 Computer Problems"
   ]
  },
  {
   "cell_type": "markdown",
   "metadata": {},
   "source": [
    "Evaluate $P(x) = 1 + x + ... + x^{50}$ at x = 1.00001. <br/>\n",
    "Find the error of the computation by comparing with the equivalent expression $Q(x) = (x^{51} - 1) / (x - 1)$."
   ]
  },
  {
   "cell_type": "code",
   "execution_count": 8,
   "metadata": {},
   "outputs": [
    {
     "name": "stdout",
     "output_type": "stream",
     "text": [
      "P(1.00001)=51.01275208274999\n",
      "Q(1.00001)=51.01275208274523\n",
      "error = 4.760636329592671e-12\n"
     ]
    }
   ],
   "source": [
    "x = 1.00001\n",
    "p = nest(50,np.ones(51,dtype=np.int),x) \n",
    "q = (x ** 51 - 1) / (x - 1)\n",
    "print('P(1.00001)={0}'.format(p))\n",
    "print('Q(1.00001)={0}'.format(q))\n",
    "print('error = {0}'.format(abs(p - q)))"
   ]
  },
  {
   "cell_type": "markdown",
   "metadata": {},
   "source": [
    "---\n",
    "Evaluate $P(x) = 1 - x + x^2 - x^3 + ... + x^{98} - x^{99}$ at x = 1.00001. <br/>\n",
    "Find a simpler, equivalent expression, and use it to estimate the error of the nested multiplication."
   ]
  },
  {
   "cell_type": "code",
   "execution_count": 9,
   "metadata": {},
   "outputs": [
    {
     "name": "stdout",
     "output_type": "stream",
     "text": [
      "P(1.00001)=-0.0005002450796476321\n",
      "Q(1.00001)=-0.0005002450796474608\n",
      "error = 1.713039432527097e-16\n"
     ]
    }
   ],
   "source": [
    "x = 1.00001\n",
    "p = nest(99,[-1 if i % 2 == 0 else 1 for i in range(100)],x)\n",
    "q = (1 - x ** 100) / (1 + x) # q(x) = (1 - x^100) / (1 + x) = p(x)\n",
    "print('P(1.00001)={0}'.format(p))\n",
    "print('Q(1.00001)={0}'.format(q))\n",
    "print('error = {0}'.format(abs(p - q)))"
   ]
  },
  {
   "cell_type": "markdown",
   "metadata": {},
   "source": [
    "# 0.4 Loss of significance"
   ]
  },
  {
   "cell_type": "markdown",
   "metadata": {},
   "source": [
    "## 0.4 Computer Problems"
   ]
  },
  {
   "cell_type": "markdown",
   "metadata": {},
   "source": [
    "Calculate the expressions that follow in double precision arithmetic $x = 10^{-1},...,10^{-14}$. Then, using an alternative form of the expression that doesn’t suffer from subtracting nearly equal numbers, repeat the calculation and make a table of results. Report the number of correct digits in the original expression for each x. <br/>\n",
    "## $(a)\\frac{1 - secx}{tan^{2}x}$\n",
    "## $(b)\\frac{1 - (1 - x)^{3} }{x}$"
   ]
  },
  {
   "cell_type": "code",
   "execution_count": 38,
   "metadata": {},
   "outputs": [
    {
     "name": "stdout",
     "output_type": "stream",
     "text": [
      "x = 1.000000e-01, (a) = -0.4987479137114125\n",
      "x = 1.000000e-02, (a) = -0.4999874997909555\n",
      "x = 1.000000e-03, (a) = -0.4999998750142894\n",
      "x = 1.000000e-04, (a) = -0.4999999936279312\n",
      "x = 1.000000e-05, (a) = -0.500000041336852\n",
      "x = 1.000000e-06, (a) = -0.5000444502908372\n",
      "x = 1.000000e-07, (a) = -0.5107025913275687\n",
      "x = 1.000000e-08, (a) = 0.0\n",
      "x = 1.000000e-09, (a) = 0.0\n",
      "x = 1.000000e-10, (a) = 0.0\n",
      "x = 1.000000e-11, (a) = 0.0\n",
      "x = 1.000000e-12, (a) = 0.0\n",
      "x = 1.000000e-13, (a) = 0.0\n",
      "x = 1.000000e-14, (a) = 0.0\n"
     ]
    }
   ],
   "source": [
    "fx_a = lambda x : (1 - np.cos(x) ** -1) / np.tan(x) ** 2\n",
    "\n",
    "for i in range(1,15):\n",
    "    x = 10 ** (-i)\n",
    "    print( 'x = {0:>6e}, (a) = {1}'.format(x,fx_a(x)) )"
   ]
  },
  {
   "cell_type": "code",
   "execution_count": 41,
   "metadata": {},
   "outputs": [
    {
     "name": "stdout",
     "output_type": "stream",
     "text": [
      "x = 1.000000e-01, (b) = 2.709999999999999\n",
      "x = 1.000000e-02, (b) = 2.9700999999999977\n",
      "x = 1.000000e-03, (b) = 2.997000999999999\n",
      "x = 1.000000e-04, (b) = 2.9997000100001614\n",
      "x = 1.000000e-05, (b) = 2.9999700000837843\n",
      "x = 1.000000e-06, (b) = 2.99999700004161\n",
      "x = 1.000000e-07, (b) = 2.999999698660716\n",
      "x = 1.000000e-08, (b) = 2.999999981767587\n",
      "x = 1.000000e-09, (b) = 2.9999999151542056\n",
      "x = 1.000000e-10, (b) = 3.000000248221113\n",
      "x = 1.000000e-11, (b) = 3.000000248221113\n",
      "x = 1.000000e-12, (b) = 2.9999336348396355\n",
      "x = 1.000000e-13, (b) = 3.000932835561798\n",
      "x = 1.000000e-14, (b) = 2.9976021664879227\n"
     ]
    }
   ],
   "source": [
    "fx_b = lambda x : (1 - (1 - x) ** 3) / x\n",
    "\n",
    "for i in range(1,15):\n",
    "    x = 10 ** (-i)\n",
    "    print( 'x = {0:>6e}, (b) = {1}'.format(x,fx_b(x)) )"
   ]
  },
  {
   "cell_type": "code",
   "execution_count": 37,
   "metadata": {},
   "outputs": [
    {
     "name": "stdout",
     "output_type": "stream",
     "text": [
      "x = 1.000000e-01, (a) = -0.49874791371142874\n",
      "x = 1.000000e-02, (a) = -0.4999874997916637\n",
      "x = 1.000000e-03, (a) = -0.49999987499997905\n",
      "x = 1.000000e-04, (a) = -0.49999999874999995\n",
      "x = 1.000000e-05, (a) = -0.49999999998749994\n",
      "x = 1.000000e-06, (a) = -0.499999999999875\n",
      "x = 1.000000e-07, (a) = -0.49999999999999883\n",
      "x = 1.000000e-08, (a) = -0.5\n",
      "x = 1.000000e-09, (a) = -0.5\n",
      "x = 1.000000e-10, (a) = -0.5\n",
      "x = 1.000000e-11, (a) = -0.5\n",
      "x = 1.000000e-12, (a) = -0.5\n",
      "x = 1.000000e-13, (a) = -0.5\n",
      "x = 1.000000e-14, (a) = -0.5\n"
     ]
    }
   ],
   "source": [
    "\"\"\"\n",
    "  (1 - secx) / (tan^2)\n",
    "= (cosx - 1) / (tan^2x * cosx) \n",
    "= (-sin^2x)  / (tan^2x * cosx * (cosx + 1) ) \n",
    "= -(sin^2x)  / (tan^2x * (cos^2x + cosx) )\n",
    "\"\"\"\n",
    "fx_a = lambda x : - (np.sin(x) ** 2) / (np.tan(x) ** 2 * (np.cos(x) ** 2 + np.cos(x)) )\n",
    "\n",
    "for i in range(1,15):\n",
    "    x = 10 ** (-i)\n",
    "    print( 'x = {0:>6e}, (a) = {1}'.format(x,fx_a(x)) )"
   ]
  },
  {
   "cell_type": "code",
   "execution_count": 42,
   "metadata": {},
   "outputs": [
    {
     "name": "stdout",
     "output_type": "stream",
     "text": [
      "x = 1.000000e-01, (b) = 2.709999999999999\n",
      "x = 1.000000e-02, (b) = 2.9701\n",
      "x = 1.000000e-03, (b) = 2.997001000000001\n",
      "x = 1.000000e-04, (b) = 2.9997000099995232\n",
      "x = 1.000000e-05, (b) = 2.9999700000849003\n",
      "x = 1.000000e-06, (b) = 2.9999970000766467\n",
      "x = 1.000000e-07, (b) = 2.999999698465189\n",
      "x = 1.000000e-08, (b) = 2.9999999823586654\n",
      "x = 1.000000e-09, (b) = 2.9999999196542046\n",
      "x = 1.000000e-10, (b) = 3.000000248671113\n",
      "x = 1.000000e-11, (b) = 3.0000002482661134\n",
      "x = 1.000000e-12, (b) = 2.999933634844135\n",
      "x = 1.000000e-13, (b) = 3.0009328355622484\n",
      "x = 1.000000e-14, (b) = 2.9976021664879675\n"
     ]
    }
   ],
   "source": [
    "\"\"\"\n",
    "(1 - (1 - x)^3 ) / x =\n",
    "(1 - (1 - x)^6 ) / (x * ( 1 + (1 - x)^3 ))\n",
    "\"\"\"\n",
    "fx_b = lambda x : (1 - (1 - x) ** 6) / (x * (1 + (1 - x) ** 3))\n",
    "\n",
    "for i in range(1,15):\n",
    "    x = 10 ** (-i)\n",
    "    print( 'x = {0:>6e}, (b) = {1}'.format(x,fx_b(x)) )"
   ]
  },
  {
   "cell_type": "markdown",
   "metadata": {},
   "source": [
    "---\n",
    "Evaluate the quantity $ a + \\sqrt{a^2 + b^2} $ to four correct signiﬁcant digits, where a = −12345678987654321 and b = 123."
   ]
  },
  {
   "cell_type": "code",
   "execution_count": 17,
   "metadata": {},
   "outputs": [
    {
     "name": "stdout",
     "output_type": "stream",
     "text": [
      "1.459e+00\n"
     ]
    }
   ],
   "source": [
    "\"\"\"\n",
    "a + sqrt(a^2 + b^2) = (a * sqrt(a^2 + b^2) + a^2 + b^2) / (sqrt(a^2 + b^2))\n",
    "\"\"\"\n",
    "fx = lambda a,b : (a * math.sqrt(a ** 2 + b ** 2) + a ** 2 + b ** 2) / math.sqrt(a ** 2 + b ** 2)\n",
    "print('{0:.3e}'.format(fx(-12345678987654321, 123)))"
   ]
  },
  {
   "cell_type": "markdown",
   "metadata": {},
   "source": [
    "---\n",
    "Evaluate the quantity $ \\sqrt{c^2 + d} - c $ to four correct signiﬁcant digits, where c = 246886422468 and d = 13579."
   ]
  },
  {
   "cell_type": "code",
   "execution_count": 15,
   "metadata": {},
   "outputs": [
    {
     "name": "stdout",
     "output_type": "stream",
     "text": [
      "2.750e-08\n"
     ]
    }
   ],
   "source": [
    "\"\"\"\n",
    "sqrt(c^2 + d) - c = d / (sqrt(c^2 + d) + c) \n",
    "\"\"\"\n",
    "fx = lambda c,d : d / (math.sqrt(c ** 2 + d) + c)\n",
    "print('{0:.3e}'.format(fx(246886422468, 13579)))"
   ]
  }
 ],
 "metadata": {
  "kernelspec": {
   "display_name": "Python 3",
   "language": "python",
   "name": "python3"
  },
  "language_info": {
   "codemirror_mode": {
    "name": "ipython",
    "version": 3
   },
   "file_extension": ".py",
   "mimetype": "text/x-python",
   "name": "python",
   "nbconvert_exporter": "python",
   "pygments_lexer": "ipython3",
   "version": "3.5.3"
  }
 },
 "nbformat": 4,
 "nbformat_minor": 2
}
