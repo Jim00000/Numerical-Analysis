{
 "cells": [
  {
   "cell_type": "markdown",
   "metadata": {},
   "source": [
    "# ★ Solving Equations ★"
   ]
  },
  {
   "cell_type": "markdown",
   "metadata": {},
   "source": [
    "# 1.1 The Bisection Method"
   ]
  },
  {
   "cell_type": "code",
   "execution_count": 255,
   "metadata": {
    "collapsed": true
   },
   "outputs": [],
   "source": [
    "# Import modules\n",
    "import traceback\n",
    "import math\n",
    "import numpy as np\n",
    "import scipy\n",
    "import scipy.linalg as LA\n",
    "import matplotlib.pyplot as plt"
   ]
  },
  {
   "cell_type": "code",
   "execution_count": 9,
   "metadata": {
    "collapsed": true
   },
   "outputs": [],
   "source": [
    "def bisect(f,a,b,tol):\n",
    "    \"\"\"\n",
    "    Computes approximate solution of f(x)=0\n",
    "    \n",
    "    Args:\n",
    "        f (function prototype) : function handle \n",
    "        a (float) : left bound of the interval\n",
    "        b (float) : right bound of the interval\n",
    "        tol (float) : tolerance\n",
    "        \n",
    "    Returns:\n",
    "        Approximate solution x\n",
    "        \n",
    "    Raises:\n",
    "        ValueError:\n",
    "            - a * b must be smaller than zero\n",
    "            - a > b will be considered to be wrong\n",
    "    \"\"\"\n",
    "    try:\n",
    "        if a > b :\n",
    "            raise ValueError('a must be <= b')\n",
    "        \n",
    "        fa = f(a)\n",
    "        fb = f(b)\n",
    "        \n",
    "        if np.sign(fa) * np.sign(fb) >= 0 :\n",
    "            raise ValueError('It must be verified that f(a) * f(b) < 0')\n",
    "            \n",
    "        while (b - a) / 2 > tol :\n",
    "            # Find the intermediate point  \n",
    "            c = (a + b) / 2\n",
    "            fc = f(c)\n",
    "            if fc == 0 :\n",
    "                return c\n",
    "            elif fa * fc < 0 :\n",
    "                b = c\n",
    "                fb = fc\n",
    "            else :\n",
    "                a = c\n",
    "                fa = fc\n",
    "                \n",
    "        return (a + b) / 2\n",
    "            \n",
    "    except ValueError as e :\n",
    "        print('ValueError Exception : ', e)\n",
    "        traceback.print_exception()\n",
    "    "
   ]
  },
  {
   "cell_type": "markdown",
   "metadata": {},
   "source": [
    "### Example\n",
    "find a root of $f(x) = x^3 + x - 1$ on the interval $[0 , 1]$"
   ]
  },
  {
   "cell_type": "code",
   "execution_count": 25,
   "metadata": {
    "scrolled": true
   },
   "outputs": [
    {
     "name": "stdout",
     "output_type": "stream",
     "text": [
      "0.681629 ~ 0.682629\n"
     ]
    }
   ],
   "source": [
    "f = lambda x : math.pow(x,3) + math.pow(x,1) - 1\n",
    "tolerance = 0.0005\n",
    "xc = bisect(f,0,1,tolerance)\n",
    "print('%f ~ %f' %(xc - tolerance, xc + tolerance))"
   ]
  },
  {
   "cell_type": "markdown",
   "metadata": {},
   "source": [
    "### Definition\n",
    "A solution is ** correct within  $p$ decimal places ** if the error is less than $0.5 \\times 10^{-p}$"
   ]
  },
  {
   "cell_type": "markdown",
   "metadata": {},
   "source": [
    "### Example\n",
    "find a root of $f(x) = cosx - x$ in the interval $[0,1]$ to within six correct places"
   ]
  },
  {
   "cell_type": "code",
   "execution_count": 55,
   "metadata": {},
   "outputs": [
    {
     "name": "stdout",
     "output_type": "stream",
     "text": [
      "0.739085\n"
     ]
    }
   ],
   "source": [
    "f = lambda x : math.cos(x) - x\n",
    "tolerance = 1e-7\n",
    "xc = bisect(f,0,1,tolerance)\n",
    "print(round(xc,6))"
   ]
  },
  {
   "cell_type": "markdown",
   "metadata": {},
   "source": [
    "## 1.1 Computer Problems"
   ]
  },
  {
   "cell_type": "markdown",
   "metadata": {},
   "source": [
    "Use the Bisection Method to ﬁnd the root to eight correct decimal place\n",
    "- (a) $x^5 + x = 1$\n",
    "- (b) $sinx = 6x +5$\n",
    "- (c) $lnx + x^2 = 3$"
   ]
  },
  {
   "cell_type": "code",
   "execution_count": 181,
   "metadata": {},
   "outputs": [
    {
     "name": "stdout",
     "output_type": "stream",
     "text": [
      "(a) x = 0.75487767\n",
      "(b) x = -0.97089892\n",
      "(c) x = 1.59214294\n"
     ]
    }
   ],
   "source": [
    "fa = lambda x : math.pow(x,5) + x - 1\n",
    "fa_xc = bisect(fa,0,1,1e-9)\n",
    "print('(a) x =',round(fa_xc,8))\n",
    "fb = lambda x : math.sin(x) - 6 * x - 5\n",
    "fb_xc = bisect(fb,-1,0.5,1e-9)\n",
    "print('(b) x =',round(fb_xc,8))\n",
    "fc = lambda x : math.log(x) + math.pow(x,2) - 3\n",
    "fc_xc = bisect(fc,1,2,1e-9)\n",
    "print('(c) x =',round(fc_xc,8))"
   ]
  },
  {
   "cell_type": "markdown",
   "metadata": {},
   "source": [
    "---\n",
    "Sketch the function and identify three intervals of length one that contain a root.\n",
    "Then find the roots to six correct decimal places.\n",
    "- (a) $2x^3 - 6x - 1 = 0$\n",
    "- (b) $e^{x-2} + x^3 - x = 0$\n",
    "- (c) $1 + 5x - 6x^3 - e^{2x} = 0$"
   ]
  },
  {
   "cell_type": "code",
   "execution_count": 97,
   "metadata": {
    "collapsed": true
   },
   "outputs": [],
   "source": [
    "def generate_points(f,xs):\n",
    "    ys = np.zeros(xs.size)\n",
    "    for i in range(len(xs)):\n",
    "        ys[i] = f(xs[i])\n",
    "    return ys"
   ]
  },
  {
   "cell_type": "code",
   "execution_count": 183,
   "metadata": {},
   "outputs": [
    {
     "data": {
      "image/png": "[encoded data removed]",
      "text/plain": [
       "<matplotlib.figure.Figure at 0xa50cce2978>"
      ]
     },
     "metadata": {},
     "output_type": "display_data"
    },
    {
     "name": "stdout",
     "output_type": "stream",
     "text": [
      "x = 0.165165\n"
     ]
    }
   ],
   "source": [
    "fa = lambda x : 2 * math.pow(x,3) + 6 * x - 1\n",
    "xs = np.linspace(0,1,21)\n",
    "ys = generate_points(fa,xs)\n",
    "plt.plot(xs,ys)\n",
    "plt.xlabel('x-axis')\n",
    "plt.ylabel('y-axis')\n",
    "plt.grid(True)\n",
    "plt.show()\n",
    "\n",
    "fa_xc = bisect(fa,0,1,1e-7)\n",
    "print('x =',round(fa_xc,6))"
   ]
  },
  {
   "cell_type": "code",
   "execution_count": 185,
   "metadata": {},
   "outputs": [
    {
     "data": {
      "image/png": "[encoded data removed]",
      "text/plain": [
       "<matplotlib.figure.Figure at 0xa50e4f3f60>"
      ]
     },
     "metadata": {},
     "output_type": "display_data"
    },
    {
     "name": "stdout",
     "output_type": "stream",
     "text": [
      "x = -1.023482\n",
      "x = 0.163822\n",
      "x = 0.788941\n"
     ]
    }
   ],
   "source": [
    "fb = lambda x : math.exp(x - 2) + math.pow(x,3) - x\n",
    "xs = np.linspace(-1.5,1,31)\n",
    "ys = generate_points(fb,xs)\n",
    "\n",
    "plt.plot(xs,ys)\n",
    "plt.xlabel('x-axis')\n",
    "plt.ylabel('y-axis')\n",
    "plt.grid(True)\n",
    "plt.show()\n",
    "\n",
    "fb_xc = bisect(fb,-1.5,-0.5,1e-7)\n",
    "print('x =',round(fb_xc,6))\n",
    "fb_xc = bisect(fb,-0.5,0.5,1e-7)\n",
    "print('x =',round(fb_xc,6))\n",
    "fb_xc = bisect(fb,0.5,1.5,1e-7)\n",
    "print('x =',round(fb_xc,6))"
   ]
  },
  {
   "cell_type": "code",
   "execution_count": 195,
   "metadata": {},
   "outputs": [
    {
     "data": {
      "image/png": "[encoded data removed]",
      "text/plain": [
       "<matplotlib.figure.Figure at 0xa50e49d5f8>"
      ]
     },
     "metadata": {},
     "output_type": "display_data"
    },
    {
     "name": "stdout",
     "output_type": "stream",
     "text": [
      "x = -0.351014\n",
      "x = -0.749061\n"
     ]
    }
   ],
   "source": [
    "fc = lambda x : 1 + 5 * x - 6 * math.pow(x,3) + math.exp(2 * x) \n",
    "xs = np.linspace(-1,0,51)\n",
    "ys = generate_points(fc,xs)\n",
    "\n",
    "plt.plot(xs,ys)\n",
    "plt.xlabel('x-axis')\n",
    "plt.ylabel('y-axis')\n",
    "plt.grid(True)\n",
    "plt.show()\n",
    "\n",
    "fc_xc = bisect(fc,-0.5,0.5,1e-7)\n",
    "print('x =',round(fc_xc,6))\n",
    "fc_xc = bisect(fc,-1.5,-0.5,1e-7)\n",
    "print('x =',round(fc_xc,6))"
   ]
  },
  {
   "cell_type": "markdown",
   "metadata": {},
   "source": [
    "---\n",
    "The **Hilbert Matrix**  is the n × n matrix whose ijth entry is $\\frac{1}{i + j - 1}$. Let $A$ denote the\n",
    "5 × 5 Hilbert matrix. Its largest eigenvalue is about 1.567. Use the Bisection Method to decide\n",
    "how to change the upper left entry $A_{11}$ to make the largest eigenvalue of $A$ equal to $\\pi$."
   ]
  },
  {
   "cell_type": "code",
   "execution_count": 256,
   "metadata": {},
   "outputs": [
    {
     "data": {
      "image/png": "[encoded data removed]",
      "text/plain": [
       "<matplotlib.figure.Figure at 0xa50e31c080>"
      ]
     },
     "metadata": {},
     "output_type": "display_data"
    },
    {
     "name": "stdout",
     "output_type": "stream",
     "text": [
      "Make A[1,1] to be 2.948011 to make the largest eigenvalue equal to pi\n"
     ]
    }
   ],
   "source": [
    "def rev_hilbert_matrix_eigvals(upper_left_element):\n",
    "    hilbert_matrix = LA.hilbert(5)\n",
    "    hilbert_matrix[0][0] = upper_left_element\n",
    "    return LA.eigvals(hilbert_matrix)\n",
    "\n",
    "f = lambda x : np.max(rev_hilbert_matrix_eigvals(x)).real - scipy.pi\n",
    "xs = np.linspace(2,4,21)\n",
    "ys = generate_points(f,xs)\n",
    "\n",
    "plt.plot(xs,ys)\n",
    "plt.xlabel('x-axis')\n",
    "plt.ylabel('y-axis')\n",
    "plt.grid(True)\n",
    "plt.show()\n",
    "\n",
    "xc = bisect(f,2.5,3.5,1e-7)\n",
    "print('Make A[1,1] to be',round(xc,6),'to make the largest eigenvalue equal to pi')"
   ]
  }
 ],
 "metadata": {
  "kernelspec": {
   "display_name": "Python 3",
   "language": "python",
   "name": "python3"
  },
  "language_info": {
   "codemirror_mode": {
    "name": "ipython",
    "version": 3
   },
   "file_extension": ".py",
   "mimetype": "text/x-python",
   "name": "python",
   "nbconvert_exporter": "python",
   "pygments_lexer": "ipython3",
   "version": "3.5.3"
  }
 },
 "nbformat": 4,
 "nbformat_minor": 2
}
