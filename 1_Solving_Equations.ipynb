{
 "cells": [
  {
   "cell_type": "markdown",
   "metadata": {},
   "source": [
    "# ★ Solving Equations ★"
   ]
  },
  {
   "cell_type": "markdown",
   "metadata": {},
   "source": [
    "# 1.1 The Bisection Method"
   ]
  },
  {
   "cell_type": "markdown",
   "metadata": {},
   "source": [
    "## DEFINITION 1.1\n",
    "\n",
    "The function $f(x)$ has a root at $x = r$ if $f(r) = 0$"
   ]
  },
  {
   "cell_type": "markdown",
   "metadata": {},
   "source": [
    "## THEOREM 1.2\n",
    "\n",
    "Let $f$ be a continuous function on $[a, b]$, satisfying $f(a)f(b) < 0$. Then $f$ has a root between $a$ and $b$, that is, that exists a number $r$ satisfying $a < r < b$ and $f(r) = 0$."
   ]
  },
  {
   "cell_type": "code",
   "execution_count": 1,
   "metadata": {},
   "outputs": [],
   "source": [
    "# Import modules\n",
    "import traceback\n",
    "import math\n",
    "import numpy as np\n",
    "import scipy\n",
    "import scipy.linalg as LA\n",
    "import matplotlib.pyplot as plt\n",
    "import sympy\n",
    "import sympy.abc\n",
    "\n",
    "from scipy import optimize\n",
    "from IPython.display import display\n",
    "\n",
    "# Initialize sympy\n",
    "sympy.init_printing(use_unicode=True)"
   ]
  },
  {
   "cell_type": "code",
   "execution_count": 2,
   "metadata": {},
   "outputs": [],
   "source": [
    "def bisect(f, a, b, tol):\n",
    "    \"\"\"\n",
    "    Computes approximate solution of f(x)=0\n",
    "    \n",
    "    Arguments:\n",
    "        f (function prototype) : function handle \n",
    "        a (real number) : left bound of the interval\n",
    "        b (real number) : right bound of the interval\n",
    "        tol (real number) : tolerance\n",
    "        \n",
    "    Returns:\n",
    "        Approximate solution x\n",
    "        \n",
    "    Raises:\n",
    "        ValueError:\n",
    "            - a * b must be smaller than zero\n",
    "            - a > b will be considered to be wrong\n",
    "    \"\"\"\n",
    "    try:\n",
    "        if a > b :\n",
    "            raise ValueError('a must be <= b')\n",
    "        \n",
    "        fa = f(a)\n",
    "        fb = f(b)\n",
    "        \n",
    "        if np.sign(fa) * np.sign(fb) >= 0 :\n",
    "            raise ValueError('It must be verified that f(a) * f(b) < 0')\n",
    "            \n",
    "        while (b - a) / 2 > tol :\n",
    "            # Find the intermediate point  \n",
    "            c = (a + b) / 2\n",
    "            fc = f(c)\n",
    "            if fc == 0 :\n",
    "                return c\n",
    "            elif fa * fc < 0 :\n",
    "                b = c\n",
    "                fb = fc\n",
    "            else :\n",
    "                a = c\n",
    "                fa = fc\n",
    "                \n",
    "        return (a + b) / 2\n",
    "            \n",
    "    except ValueError as e :\n",
    "        print('ValueError Exception : ', e)\n",
    "        traceback.print_exception()\n",
    "    "
   ]
  },
  {
   "cell_type": "markdown",
   "metadata": {},
   "source": [
    "### Example \n",
    "\n",
    "Find a root of $f(x) = x^3 + x - 1$ by using the Bisection Method on the interval $[0, 1]$."
   ]
  },
  {
   "cell_type": "code",
   "execution_count": 3,
   "metadata": {
    "scrolled": true
   },
   "outputs": [
    {
     "name": "stdout",
     "output_type": "stream",
     "text": [
      "0.68232780\n"
     ]
    }
   ],
   "source": [
    "root = scipy.optimize.bisect(lambda x : np.power(x, 3) + x - 1, 0, 1)\n",
    "print('{:>.8f}'.format(root))"
   ]
  },
  {
   "cell_type": "markdown",
   "metadata": {},
   "source": [
    "## Definition 1.3\n",
    "A solution is correct within  $p$ decimal places if the error is less than $0.5 \\times 10^{-p}$."
   ]
  },
  {
   "cell_type": "markdown",
   "metadata": {},
   "source": [
    "### Example\n",
    "\n",
    "Use the Bisection Method to find a root of $f(x) = cosx - x$ in the interval $[0, 1]$ to within six correct places."
   ]
  },
  {
   "cell_type": "code",
   "execution_count": 4,
   "metadata": {},
   "outputs": [
    {
     "name": "stdout",
     "output_type": "stream",
     "text": [
      "0.739085\n"
     ]
    }
   ],
   "source": [
    "root = scipy.optimize.bisect(lambda x : np.cos(x) - x, 0, 1)\n",
    "print('{:>.6f}'.format(root))"
   ]
  },
  {
   "cell_type": "markdown",
   "metadata": {},
   "source": [
    "1. Apply two steps of the Bisection Method on the interval $[1, 2]$ to find the approximate root of $f(x) = 2x^3 - x - 7$."
   ]
  },
  {
   "cell_type": "code",
   "execution_count": 5,
   "metadata": {},
   "outputs": [
    {
     "name": "stdout",
     "output_type": "stream",
     "text": [
      "1.627889\n"
     ]
    }
   ],
   "source": [
    "root = scipy.optimize.bisect(lambda x : 2 * np.power(x, 3) - x - 7, 1, 2)\n",
    "print('{:>.6f}'.format(root))"
   ]
  },
  {
   "cell_type": "markdown",
   "metadata": {},
   "source": [
    "2. Use the ~bisect.m code~ (Bisection Method) to find the solution of $e^x = 3$ correct to six decimal places."
   ]
  },
  {
   "cell_type": "code",
   "execution_count": 6,
   "metadata": {},
   "outputs": [
    {
     "name": "stdout",
     "output_type": "stream",
     "text": [
      "1.098612\n"
     ]
    }
   ],
   "source": [
    "root = scipy.optimize.bisect(lambda x : np.exp(x) - 3, 1, 2)\n",
    "print('{:>.6f}'.format(root))"
   ]
  },
  {
   "cell_type": "markdown",
   "metadata": {},
   "source": [
    "## 1.1 Computer Problems"
   ]
  },
  {
   "cell_type": "markdown",
   "metadata": {},
   "source": [
    "1. Use the Bisection Method to ﬁnd the root to six correct decimal places."
   ]
  },
  {
   "cell_type": "markdown",
   "metadata": {},
   "source": [
    "(a) $x^3 = 9$"
   ]
  },
  {
   "cell_type": "code",
   "execution_count": 7,
   "metadata": {},
   "outputs": [
    {
     "name": "stdout",
     "output_type": "stream",
     "text": [
      "2.080084\n"
     ]
    }
   ],
   "source": [
    "root = scipy.optimize.bisect(lambda x : np.power(x, 3) - 9, 2, 3)\n",
    "print('{:>.6f}'.format(root))"
   ]
  },
  {
   "cell_type": "markdown",
   "metadata": {},
   "source": [
    "(b) $3x^3 + x^2 = x + 5$"
   ]
  },
  {
   "cell_type": "code",
   "execution_count": 8,
   "metadata": {},
   "outputs": [
    {
     "name": "stdout",
     "output_type": "stream",
     "text": [
      "1.169726\n"
     ]
    }
   ],
   "source": [
    "root = scipy.optimize.bisect(lambda x : 3 * np.power(x, 3) + np.power(x, 2) - x - 5, 1, 2)\n",
    "print('{:>.6f}'.format(root))"
   ]
  },
  {
   "cell_type": "markdown",
   "metadata": {},
   "source": [
    "(c) $\\cos^2{x} + 6 = x$"
   ]
  },
  {
   "cell_type": "code",
   "execution_count": 9,
   "metadata": {},
   "outputs": [
    {
     "name": "stdout",
     "output_type": "stream",
     "text": [
      "6.776092\n"
     ]
    }
   ],
   "source": [
    "root = scipy.optimize.bisect(lambda x : np.power(np.cos(x), 2) - x + 6, 0, 10)\n",
    "print('{:>.6f}'.format(root))"
   ]
  },
  {
   "cell_type": "markdown",
   "metadata": {},
   "source": [
    "---\n",
    "2. Use the Bisection Method to ﬁnd the root to eight correct decimal places."
   ]
  },
  {
   "cell_type": "markdown",
   "metadata": {},
   "source": [
    "(a) $x^5 + x = 1$"
   ]
  },
  {
   "cell_type": "code",
   "execution_count": 10,
   "metadata": {},
   "outputs": [
    {
     "name": "stdout",
     "output_type": "stream",
     "text": [
      "0.75487767\n"
     ]
    }
   ],
   "source": [
    "root = scipy.optimize.bisect(lambda x : np.power(x, 5) + x - 1, 0, 1)\n",
    "print('{:>.8f}'.format(root))"
   ]
  },
  {
   "cell_type": "markdown",
   "metadata": {},
   "source": [
    "(b) $sin{x} = 6x + 5$"
   ]
  },
  {
   "cell_type": "code",
   "execution_count": 11,
   "metadata": {},
   "outputs": [
    {
     "name": "stdout",
     "output_type": "stream",
     "text": [
      "-0.97089892\n"
     ]
    }
   ],
   "source": [
    "root = scipy.optimize.bisect(lambda x : np.sin(x) - 6 * x - 5, -5, 5)\n",
    "print('{:>.8f}'.format(root))"
   ]
  },
  {
   "cell_type": "markdown",
   "metadata": {},
   "source": [
    "(c) $ln{x} + x^2 = 3$"
   ]
  },
  {
   "cell_type": "code",
   "execution_count": 12,
   "metadata": {},
   "outputs": [
    {
     "name": "stdout",
     "output_type": "stream",
     "text": [
      "1.59214294\n"
     ]
    }
   ],
   "source": [
    "root = scipy.optimize.bisect(lambda x : np.log(x) + np.power(x, 2) - 3, 1, 2)\n",
    "print('{:>.8f}'.format(root))"
   ]
  },
  {
   "cell_type": "markdown",
   "metadata": {},
   "source": [
    "---\n",
    "3. Use the Bisection Method to locate all solutions of the following equations. Sketch the function by using MATLAB’s plot command and identify three intervals of length one that contain a root. Then find the roots to six correct decimal places."
   ]
  },
  {
   "cell_type": "code",
   "execution_count": 13,
   "metadata": {},
   "outputs": [],
   "source": [
    "def myplot(xpts, ypts, title = '', xlabel = 'x', ylabel = 'y'):\n",
    "    plt.plot(xpts, ypts, color='black')\n",
    "    plt.xlabel(xlabel)\n",
    "    plt.ylabel(ylabel)\n",
    "    plt.title(title)\n",
    "    plt.axhline(0, color='black', linestyle=':', linewidth=1)\n",
    "    plt.show()\n",
    "    plt.close()"
   ]
  },
  {
   "cell_type": "markdown",
   "metadata": {},
   "source": [
    "(a) $2x^3 - 6x - 1 = 0$"
   ]
  },
  {
   "cell_type": "code",
   "execution_count": 14,
   "metadata": {},
   "outputs": [
    {
     "data": {
      "image/png": "[encoded data removed]",
      "text/plain": [
       "<Figure size 432x288 with 1 Axes>"
      ]
     },
     "metadata": {
      "needs_background": "light"
     },
     "output_type": "display_data"
    },
    {
     "name": "stdout",
     "output_type": "stream",
     "text": [
      "root = -1.641784\n",
      "root = -0.168254\n",
      "root = +1.810038\n"
     ]
    }
   ],
   "source": [
    "f = lambda x : 2 * np.power(x, 3) - 6 * x - 1\n",
    "xpts = np.linspace(-2, 2, 41)\n",
    "ypts = f(xpts)\n",
    "\n",
    "myplot(xpts, ypts, '$f(x) = 2x^3 - 6x - 1$')\n",
    "print('root = {:>+.6f}'.format(scipy.optimize.bisect(f, -2, -1)))\n",
    "print('root = {:>+.6f}'.format(scipy.optimize.bisect(f, -0.5, 0)))\n",
    "print('root = {:>+.6f}'.format(scipy.optimize.bisect(f, 1.5, 2)))"
   ]
  },
  {
   "cell_type": "markdown",
   "metadata": {},
   "source": [
    "(b) $e^{x-2} + x^3 - x = 0$"
   ]
  },
  {
   "cell_type": "code",
   "execution_count": 15,
   "metadata": {},
   "outputs": [
    {
     "data": {
      "image/png": "[encoded data removed]",
      "text/plain": [
       "<Figure size 432x288 with 1 Axes>"
      ]
     },
     "metadata": {
      "needs_background": "light"
     },
     "output_type": "display_data"
    },
    {
     "name": "stdout",
     "output_type": "stream",
     "text": [
      "root = -1.023482\n",
      "root = +0.163822\n",
      "root = +0.788941\n"
     ]
    }
   ],
   "source": [
    "f = lambda x : np.exp(x - 2) + np.power(x, 3) - x\n",
    "xpts = np.linspace(-1.2, 1.2, 41)\n",
    "ypts = f(xpts)\n",
    "\n",
    "myplot(xpts, ypts, '$f(x) = e^{x - 2} + x^3 - x$')\n",
    "print('root = {:>+.6f}'.format(scipy.optimize.bisect(f, -1.5, -0.5)))\n",
    "print('root = {:>+.6f}'.format(scipy.optimize.bisect(f, -0.5, 0.5)))\n",
    "print('root = {:>+.6f}'.format(scipy.optimize.bisect(f, 0.5, 1.0)))"
   ]
  },
  {
   "cell_type": "markdown",
   "metadata": {},
   "source": [
    "(c) $1 + 5x - 6x^3 - e^{2x} = 0$"
   ]
  },
  {
   "cell_type": "code",
   "execution_count": 16,
   "metadata": {},
   "outputs": [
    {
     "data": {
      "image/png": "[encoded data removed]",
      "text/plain": [
       "<Figure size 432x288 with 1 Axes>"
      ]
     },
     "metadata": {
      "needs_background": "light"
     },
     "output_type": "display_data"
    },
    {
     "name": "stdout",
     "output_type": "stream",
     "text": [
      "root = -0.818094\n",
      "root = -0.000000\n",
      "root = +0.506308\n"
     ]
    }
   ],
   "source": [
    "f = lambda x : 1 + 5 * x - 6 * np.power(x, 3) - np.exp(2 * x)\n",
    "xpts = np.linspace(-1, 0.75, 41)\n",
    "ypts = f(xpts)\n",
    "\n",
    "myplot(xpts, ypts, '$f(x) = 1 + 5x - 6x^3 - e^{2x}$')\n",
    "print('root = {:>+.6f}'.format(scipy.optimize.bisect(f, -1.0, -0.5)))\n",
    "print('root = {:>+.6f}'.format(scipy.optimize.bisect(f, -0.5, 0.25)))\n",
    "print('root = {:>+.6f}'.format(scipy.optimize.bisect(f, 0.25, 0.75)))"
   ]
  },
  {
   "cell_type": "markdown",
   "metadata": {},
   "source": [
    "---\n",
    "4. Calculate the square roots of the following numbers to eight correct decimal places by using the Bisection Method to solve $x^2 - A = 0$, where A is (a) 2 (b) 3 (c) 5. State your starting interval and the number of steps needed."
   ]
  },
  {
   "cell_type": "markdown",
   "metadata": {},
   "source": [
    "(a) $f(x) = x^2 - 2$"
   ]
  },
  {
   "cell_type": "code",
   "execution_count": 17,
   "metadata": {},
   "outputs": [
    {
     "name": "stdout",
     "output_type": "stream",
     "text": [
      "x is 1.41421356 in [1, 2]\n"
     ]
    }
   ],
   "source": [
    "ranges = [1, 2]\n",
    "f = lambda x : np.power(x, 2) - 2\n",
    "root = scipy.optimize.bisect(f, *ranges)\n",
    "print('x is {:>.8f} in {:}'.format(root, ranges))"
   ]
  },
  {
   "cell_type": "markdown",
   "metadata": {},
   "source": [
    "(b) $f(x) = x^2 - 3$"
   ]
  },
  {
   "cell_type": "code",
   "execution_count": 18,
   "metadata": {},
   "outputs": [
    {
     "name": "stdout",
     "output_type": "stream",
     "text": [
      "x is 1.73205081 in [1, 2]\n"
     ]
    }
   ],
   "source": [
    "ranges = [1, 2]\n",
    "f = lambda x : np.power(x, 2) - 3\n",
    "root = scipy.optimize.bisect(f, *ranges)\n",
    "print('x is {:>.8f} in {:}'.format(root, ranges))"
   ]
  },
  {
   "cell_type": "markdown",
   "metadata": {},
   "source": [
    "(c) $f(x) = x^2 - 5$"
   ]
  },
  {
   "cell_type": "code",
   "execution_count": 19,
   "metadata": {},
   "outputs": [
    {
     "name": "stdout",
     "output_type": "stream",
     "text": [
      "x is 2.23606798 in [2, 3]\n"
     ]
    }
   ],
   "source": [
    "ranges = [2, 3]\n",
    "f = lambda x : np.power(x, 2) - 5\n",
    "root = scipy.optimize.bisect(f, *ranges)\n",
    "print('x is {:>.8f} in {:}'.format(root, ranges))"
   ]
  },
  {
   "cell_type": "markdown",
   "metadata": {},
   "source": [
    "---\n",
    "5. Calculate the cube roots of the following numbers to eight correct decimal places by using the Bisection Method to solve $x^3 - A = 0$, where A is (a) 2 (b) 3 (c) 5. State your starting interval and the number of steps needed."
   ]
  },
  {
   "cell_type": "markdown",
   "metadata": {},
   "source": [
    "(a) $f(x) = x^3 - 2$"
   ]
  },
  {
   "cell_type": "code",
   "execution_count": 20,
   "metadata": {},
   "outputs": [
    {
     "name": "stdout",
     "output_type": "stream",
     "text": [
      "x is 1.25992105 in [1, 2]\n"
     ]
    }
   ],
   "source": [
    "ranges = [1, 2]\n",
    "f = lambda x : np.power(x, 3) - 2\n",
    "root = scipy.optimize.bisect(f, *ranges)\n",
    "print('x is {:>.8f} in {:}'.format(root, ranges))"
   ]
  },
  {
   "cell_type": "markdown",
   "metadata": {},
   "source": [
    "(b) $f(x) = x^3 - 3$"
   ]
  },
  {
   "cell_type": "code",
   "execution_count": 21,
   "metadata": {},
   "outputs": [
    {
     "name": "stdout",
     "output_type": "stream",
     "text": [
      "x is 1.44224957 in [1, 2]\n"
     ]
    }
   ],
   "source": [
    "ranges = [1, 2]\n",
    "f = lambda x : np.power(x, 3) - 3\n",
    "root = scipy.optimize.bisect(f, *ranges)\n",
    "print('x is {:>.8f} in {:}'.format(root, ranges))"
   ]
  },
  {
   "cell_type": "markdown",
   "metadata": {},
   "source": [
    "(c) $f(x) = x^3 - 5$"
   ]
  },
  {
   "cell_type": "code",
   "execution_count": 22,
   "metadata": {},
   "outputs": [
    {
     "name": "stdout",
     "output_type": "stream",
     "text": [
      "x is 1.70997595 in [1, 2]\n"
     ]
    }
   ],
   "source": [
    "ranges = [1, 2]\n",
    "f = lambda x : np.power(x, 3) - 5\n",
    "root = scipy.optimize.bisect(f, *ranges)\n",
    "print('x is {:>.8f} in {:}'.format(root, ranges))"
   ]
  },
  {
   "cell_type": "markdown",
   "metadata": {},
   "source": [
    "---\n",
    "6. Use the Bisection Method to calculate the solution of $cos{x} = sin{x}$ in the interval $[0, 1]$ within six correct decimal places."
   ]
  },
  {
   "cell_type": "code",
   "execution_count": 23,
   "metadata": {},
   "outputs": [
    {
     "name": "stdout",
     "output_type": "stream",
     "text": [
      "x is 0.785398\n"
     ]
    }
   ],
   "source": [
    "ranges = [0, 1]\n",
    "f = lambda x : np.cos(x) - np.sin(x)\n",
    "root = scipy.optimize.bisect(f, *ranges)\n",
    "print('x is {:>.6f}'.format(root))"
   ]
  },
  {
   "cell_type": "markdown",
   "metadata": {},
   "source": [
    "---\n",
    "7. Use the Bisection Method to find the two real numbers x, within six correct decimal places, that make the determinant of the matrix \n",
    "\n",
    "$A = \n",
    "\\begin{bmatrix}\n",
    "1 & 2 & 3 & x \\\\ \n",
    "4 & 5 & x & 6 \\\\ \n",
    "7 & x & 8 & 9 \\\\ \n",
    "x & 10 & 11 & 12 \n",
    "\\end{bmatrix}\n",
    "$\n",
    "\n",
    "equal to 1000. For each solution you find, test it by computing the corresponding determinant and reporting how many correct decimal places (after the decimal point) the determinant has when your solution x is used. "
   ]
  },
  {
   "cell_type": "code",
   "execution_count": 24,
   "metadata": {},
   "outputs": [
    {
     "data": {
      "image/png": "[encoded data removed]",
      "text/plain": [
       "<Figure size 432x288 with 1 Axes>"
      ]
     },
     "metadata": {
      "needs_background": "light"
     },
     "output_type": "display_data"
    },
    {
     "name": "stdout",
     "output_type": "stream",
     "text": [
      "x is -17.188498 and 9.708299\n"
     ]
    }
   ],
   "source": [
    "def A(x):\n",
    "    template_A = '1 2 3 {0} ; 4 5 {0} 6 ; 7 {0} 8 9 ; {0} 10 11 12'.format(x)\n",
    "    _A = np.array(np.mat(template_A))\n",
    "    return _A\n",
    "\n",
    "def As(x):\n",
    "    _A = None\n",
    "    for _x in x:\n",
    "        template_A = '1 2 3 {0} ; 4 5 {0} 6 ; 7 {0} 8 9 ; {0} 10 11 12'.format(_x)\n",
    "        if _A is None:\n",
    "            _A = np.array(np.mat(template_A))\n",
    "        else:\n",
    "            newA = np.array(np.mat(template_A))\n",
    "            _A = np.concatenate((_A, newA))\n",
    "    _A = np.reshape(_A, (int(_A.size / 16), 4, 4))\n",
    "    return _A\n",
    "\n",
    "# define f(x) = det(A(x)) - 1000\n",
    "f = lambda x : np.linalg.det(A(x)) - 1000\n",
    "fs = lambda x : np.linalg.det(As(x)) - 1000\n",
    "\n",
    "# plot f(x)\n",
    "xpts = np.linspace(-20, 15, 41)\n",
    "ypts = fs(xpts)\n",
    "myplot(xpts, ypts, '$f(x) = det(A(x)) - 1000$', ylabel = 'f(x)')\n",
    "\n",
    "# Use bisection method to find root\n",
    "root1 = scipy.optimize.bisect(f, -20, -15)\n",
    "root2 = scipy.optimize.bisect(f, 5, 15)\n",
    "print('x is {:>.6f} and {:>.6f}'.format(root1, root2))"
   ]
  },
  {
   "cell_type": "markdown",
   "metadata": {},
   "source": [
    "---\n",
    "8. The **Hilbert Matrix**  is the n × n matrix whose ijth entry is $\\frac{1}{i + j - 1}$. Let $A$ denote the\n",
    "5 × 5 Hilbert matrix. Its largest eigenvalue is about 1.567. Use the Bisection Method to decide\n",
    "how to change the upper left entry $A_{11}$ to make the largest eigenvalue of $A$ equal to $\\pi$. Determine $A_\n",
    "{11}$ within six correct decimal places."
   ]
  },
  {
   "cell_type": "code",
   "execution_count": 25,
   "metadata": {},
   "outputs": [
    {
     "data": {
      "image/png": "[encoded data removed]",
      "text/plain": [
       "<Figure size 432x288 with 1 Axes>"
      ]
     },
     "metadata": {
      "needs_background": "light"
     },
     "output_type": "display_data"
    },
    {
     "name": "stdout",
     "output_type": "stream",
     "text": [
      "Make A[1,1] to be 2.948011 to make the largest eigenvalue equal to pi\n"
     ]
    }
   ],
   "source": [
    "def hilbert_matrix_eigvals(upper_left_element):\n",
    "    hilbert_matrix = LA.hilbert(5)\n",
    "    hilbert_matrix[0][0] = upper_left_element\n",
    "    return LA.eigvals(hilbert_matrix)\n",
    "\n",
    "f = lambda x : np.max(hilbert_matrix_eigvals(x)).real - scipy.pi\n",
    "\n",
    "def fs(f, xpts):\n",
    "    ypts = np.zeros(xpts.size)\n",
    "    for i in range(len(xpts)):\n",
    "        ypts[i] = f(xpts[i])\n",
    "    return ypts\n",
    "\n",
    "# Generate samples\n",
    "xpts = np.linspace(-2, 4, 21)\n",
    "ypts = fs(f, xpts)\n",
    "\n",
    "# Plot f(x)\n",
    "plt.plot(xpts,ypts)\n",
    "myplot(xpts, ypts, 'Eigenvalue of Hilbert Matrix $f(x) = eigval(H(x)) - \\pi$', ylabel = 'f(x)')\n",
    "\n",
    "root = scipy.optimize.bisect(f, 2, 4)\n",
    "print('Make A[1,1] to be {:>.6f} to make the largest eigenvalue equal to pi'.format(root))"
   ]
  },
  {
   "cell_type": "markdown",
   "metadata": {},
   "source": [
    "---\n",
    "9. Find the height reached by 1 cubic meter of water stored in a spherical tank of radius 1 meter. Give your answer ±1 mm. (Hint: First note that the sphere will be less than half full. The volume of the bottom $H$ meters of a hemisphere of radius $R$ is $\\pi H^2(R - 1/3H)$.)"
   ]
  },
  {
   "cell_type": "code",
   "execution_count": 26,
   "metadata": {},
   "outputs": [
    {
     "name": "stdout",
     "output_type": "stream",
     "text": [
      "0.635501 m\n"
     ]
    }
   ],
   "source": [
    "# First note implies that the range will be [0, 1]\n",
    "ranges = [0, 1]\n",
    "\n",
    "# Define f(x) = V(x, 1) - 1 where V(H, R) = pi * H^2 * (R - H / 3)\n",
    "volume = lambda H, R : scipy.pi * np.power(H, 2) * (R - H / 3) \n",
    "f = lambda x : volume(x, 1) - 1\n",
    "\n",
    "root = scipy.optimize.bisect(f, *ranges)\n",
    "print('{:>.6f} m'.format(root))"
   ]
  },
  {
   "cell_type": "markdown",
   "metadata": {},
   "source": [
    "---\n",
    "10. A planet orbiting the sun traverses an ellipse. The eccentricity $e$ of the ellipse is the distance between the center of the ellipse and either of its foci divided by the length of the semimajor axis. The perihelion is the nearest point of the orbit to the sun. *Kepler’s equation* $M = E - e\\sin{E}$ relates the *eccentric anomaly* $E$, the true angular distance (in radians) from perihelion, to the *mean anomaly* $M$, the fictitious angular distance from perihelion if it were on a circular orbit with the same period as the ellipse."
   ]
  },
  {
   "cell_type": "markdown",
   "metadata": {},
   "source": [
    "(a) Assume $e = 0.1$. Use the Bisection Method to find the eccentric anomalies $E$ when $M = \\pi/6$ and $M = \\pi/2$. Begin by finding a starting interval and explain why it works. "
   ]
  },
  {
   "cell_type": "code",
   "execution_count": 27,
   "metadata": {},
   "outputs": [
    {
     "data": {
      "image/png": "[encoded data removed]",
      "text/plain": [
       "<Figure size 432x288 with 1 Axes>"
      ]
     },
     "metadata": {
      "needs_background": "light"
     },
     "output_type": "display_data"
    },
    {
     "name": "stdout",
     "output_type": "stream",
     "text": [
      "eccentric anomalies is 0.578255 while M = π/6\n"
     ]
    },
    {
     "data": {
      "image/png": "[encoded data removed]",
      "text/plain": [
       "<Figure size 432x288 with 1 Axes>"
      ]
     },
     "metadata": {
      "needs_background": "light"
     },
     "output_type": "display_data"
    },
    {
     "name": "stdout",
     "output_type": "stream",
     "text": [
      "eccentric anomalies is 1.670302 while M = π/2\n"
     ]
    }
   ],
   "source": [
    "e = 0.1\n",
    "\n",
    "# define f(x) = M - E + e * sin(E)\n",
    "f = lambda E, e, M : M - E + e * np.sin(E)\n",
    "\n",
    "# when M = π/6\n",
    "M = scipy.pi / 6\n",
    "xpts = np.linspace(-1, 1, 21)\n",
    "ypts = f(xpts, e, M)\n",
    "myplot(xpts, ypts, '$M = \\pi/6, e = 0.1$', xlabel = 'E', ylabel = 'f(x)')\n",
    "root = scipy.optimize.bisect(lambda x : f(x, e, M), 0.25, 0.75)\n",
    "print('eccentric anomalies is {:>.6f} while M = π/6'.format(root))\n",
    "\n",
    "# when M = π/2\n",
    "M = scipy.pi / 2\n",
    "xpts = np.linspace(1, 2, 21)\n",
    "ypts = f(xpts, e, M)\n",
    "myplot(xpts, ypts, '$M = \\pi/2, e = 0.1$', xlabel = 'E', ylabel = 'f(x)')\n",
    "root = scipy.optimize.bisect(lambda x : f(x, e, M), 1, 2)\n",
    "print('eccentric anomalies is {:>.6f} while M = π/2'.format(root))"
   ]
  },
  {
   "cell_type": "markdown",
   "metadata": {},
   "source": [
    "(b) How do the answers to (a) change if the eccentricity is changed to $e = 0.2$?"
   ]
  },
  {
   "cell_type": "code",
   "execution_count": 28,
   "metadata": {},
   "outputs": [
    {
     "data": {
      "image/png": "[encoded data removed]",
      "text/plain": [
       "<Figure size 432x288 with 1 Axes>"
      ]
     },
     "metadata": {
      "needs_background": "light"
     },
     "output_type": "display_data"
    },
    {
     "name": "stdout",
     "output_type": "stream",
     "text": [
      "eccentric anomalies is 0.643617 while M = π/6\n"
     ]
    },
    {
     "data": {
      "image/png": "[encoded data removed]",
      "text/plain": [
       "<Figure size 432x288 with 1 Axes>"
      ]
     },
     "metadata": {
      "needs_background": "light"
     },
     "output_type": "display_data"
    },
    {
     "name": "stdout",
     "output_type": "stream",
     "text": [
      "eccentric anomalies is 1.766961 while M = π/2\n"
     ]
    }
   ],
   "source": [
    "e = 0.2\n",
    "\n",
    "# define f(x) = M - E + e * sin(E)\n",
    "f = lambda E, e, M : M - E + e * np.sin(E)\n",
    "\n",
    "# when M = π/6\n",
    "M = scipy.pi / 6\n",
    "xpts = np.linspace(-1, 1, 21)\n",
    "ypts = f(xpts, e, M)\n",
    "myplot(xpts, ypts, '$M = \\pi/6, e = 0.2$', xlabel = 'E', ylabel = 'f(x)')\n",
    "root = scipy.optimize.bisect(lambda x : f(x, e, M), 0.25, 0.75)\n",
    "print('eccentric anomalies is {:>.6f} while M = π/6'.format(root))\n",
    "\n",
    "# when M = π/2\n",
    "M = scipy.pi / 2\n",
    "xpts = np.linspace(1, 2, 21)\n",
    "ypts = f(xpts, e, M)\n",
    "myplot(xpts, ypts, '$M = \\pi/2, e = 0.2$', xlabel = 'E', ylabel = 'f(x)')\n",
    "root = scipy.optimize.bisect(lambda x : f(x, e, M), 1, 2)\n",
    "print('eccentric anomalies is {:>.6f} while M = π/2'.format(root))"
   ]
  },
  {
   "cell_type": "markdown",
   "metadata": {},
   "source": [
    "---\n",
    "# 1.2 Fixed-Point Iteration"
   ]
  },
  {
   "cell_type": "markdown",
   "metadata": {},
   "source": [
    "## DEFINITION 1.4\n",
    "\n",
    "The real number r is a **fixed point** of the function g if $g(r) = r$."
   ]
  },
  {
   "cell_type": "code",
   "execution_count": 29,
   "metadata": {},
   "outputs": [],
   "source": [
    "def fpi(g, x0, k, tol = 0):\n",
    "    \"\"\"\n",
    "    Computes approximate solution of g(x)=x by Fixed-Point Iteration\n",
    "    \n",
    "    Args:\n",
    "        g (function prototype) : function handle\n",
    "        x0 (real number) : starting guess \n",
    "        k (integer) : number of iteration steps\n",
    "        tol (real number) : tolerance (default : 0)\n",
    "        \n",
    "    Returns:\n",
    "        Approximate solution xc\n",
    "    \n",
    "    Raises:\n",
    "        ValueError :\n",
    "            - g is None\n",
    "            - k is not the type of positive integer \n",
    "            - tol is negative\n",
    "    \"\"\"\n",
    "    try:\n",
    "        if g is None :\n",
    "            raise ValueError('f is null')\n",
    "        if k != int(k) :\n",
    "            raise ValueError('k must be type of integer')\n",
    "        if k < 0 :\n",
    "            raise ValueError('k must be positive integer')\n",
    "        if tol < 0 :\n",
    "            raise ValueError('tol must be positive')\n",
    "            \n",
    "        x = x0\n",
    "        for _ in range(k) :\n",
    "            tx = g(x)\n",
    "            if tol > 0 and abs(tx - x) / abs(tx) < tol :\n",
    "                return tx\n",
    "            else :\n",
    "                x = tx\n",
    "        \n",
    "        return x\n",
    "    except ValueError as e:\n",
    "        print('ValueError Exception : ', e)\n",
    "        traceback.print_exception()"
   ]
  },
  {
   "cell_type": "markdown",
   "metadata": {},
   "source": [
    "## DEFINITION 1.5 \n",
    "\n",
    "Let $e_i$ denote the error at step $i$ of an iterative method. If \n",
    "\n",
    "$$\\lim_{i \\rightarrow \\infty} \\frac{e_{i+1}}{e_i} = S < 1$$\n",
    "\n",
    "the method is said to obey linear convergence with rate $S$."
   ]
  },
  {
   "cell_type": "markdown",
   "metadata": {},
   "source": [
    "## THEOREM 1.6\n",
    "\n",
    "Assume that $g$ is continuously differentiable, that $g(r) = r$, and that $S = \\left | {g}'(r) \\right | < 1$. Then Fixed-Point Iteration converges linearly with rate $S$ to the fixed point $r$ for initial guesses sufficiently close to $r$."
   ]
  },
  {
   "cell_type": "markdown",
   "metadata": {},
   "source": [
    "## DEFINITION 1.7\n",
    "\n",
    "An iterative method is called **locally convergent** to r if the method converges to r for initial guesses sufficiently close to r."
   ]
  },
  {
   "cell_type": "markdown",
   "metadata": {},
   "source": [
    "### Example\n",
    "Use Fixed-Point Iteration to find a root of $cosx = sinx$"
   ]
  },
  {
   "cell_type": "markdown",
   "metadata": {},
   "source": [
    "$x + \\cos{x} - \\sin{x} = x $\n",
    "\n",
    "$\\Rightarrow g(x) = x + \\cos{x} - \\sin{x}$ "
   ]
  },
  {
   "cell_type": "code",
   "execution_count": 30,
   "metadata": {},
   "outputs": [
    {
     "name": "stdout",
     "output_type": "stream",
     "text": [
      "0.78539816\n"
     ]
    }
   ],
   "source": [
    "g = lambda x : x + np.cos(x) - np.sin(x)\n",
    "root = scipy.optimize.fixed_point(g, 0, method='iteration')\n",
    "print('{:>.8f}'.format(root))"
   ]
  },
  {
   "cell_type": "markdown",
   "metadata": {},
   "source": [
    "### Example\n",
    "Find the fixed points of $g(x)=2.8x - x^2$"
   ]
  },
  {
   "cell_type": "code",
   "execution_count": 31,
   "metadata": {},
   "outputs": [
    {
     "name": "stdout",
     "output_type": "stream",
     "text": [
      "1.80000001\n"
     ]
    }
   ],
   "source": [
    "g = lambda x : 2.8 * x - np.power(x, 2)\n",
    "root = scipy.optimize.fixed_point(g, 0.1, method='iteration')\n",
    "print('{:>.8f}'.format(root))"
   ]
  },
  {
   "cell_type": "markdown",
   "metadata": {},
   "source": [
    "### Example\n",
    "Calculate $\\sqrt{2}$ by using **FPI**."
   ]
  },
  {
   "cell_type": "markdown",
   "metadata": {},
   "source": [
    "$x = \\sqrt{2} $\n",
    "\n",
    "$\\Rightarrow x - \\sqrt{2} = 0 $\n",
    "\n",
    "$\\Rightarrow x^2 - 2\\sqrt{2}x + 2 = 0 $\n",
    "\n",
    "$\\Rightarrow x^2 + 2 = 2\\sqrt{2}x $\n",
    "\n",
    "$\\Rightarrow g(x) = x = \\sqrt{2} = \\frac{x^2 + 2}{2x} $"
   ]
  },
  {
   "cell_type": "code",
   "execution_count": 32,
   "metadata": {},
   "outputs": [
    {
     "name": "stdout",
     "output_type": "stream",
     "text": [
      "1.41421356\n"
     ]
    }
   ],
   "source": [
    "g = lambda x : (np.power(x, 2) + 2) / (2 * x)\n",
    "root = scipy.optimize.fixed_point(g, 2.0, method='iteration')\n",
    "print('{:>.8f}'.format(root))"
   ]
  },
  {
   "cell_type": "markdown",
   "metadata": {},
   "source": [
    "---\n",
    "## 1.2 Computer Problems"
   ]
  },
  {
   "cell_type": "markdown",
   "metadata": {},
   "source": [
    "1. Apply Fixed-Point Iteration to find the solution of each equation to eight correct decimal places."
   ]
  },
  {
   "cell_type": "markdown",
   "metadata": {},
   "source": [
    "(a) $ x^3 = 2x + 2 $"
   ]
  },
  {
   "cell_type": "markdown",
   "metadata": {},
   "source": [
    "$ x^3 = 2x + 2 $\n",
    "\n",
    "$\\Rightarrow x = \\sqrt[3]{2x + 2}$\n",
    "\n",
    "$\\Rightarrow g(x) = \\sqrt[3]{2x + 2}$"
   ]
  },
  {
   "cell_type": "code",
   "execution_count": 33,
   "metadata": {},
   "outputs": [
    {
     "name": "stdout",
     "output_type": "stream",
     "text": [
      "1.76929236\n"
     ]
    }
   ],
   "source": [
    "root = scipy.optimize.fixed_point(lambda x : np.power(2 * x + 2, 1 / 3), 2.0, method='iteration')\n",
    "print('{:>.8f}'.format(root))"
   ]
  },
  {
   "cell_type": "markdown",
   "metadata": {},
   "source": [
    "(b) $ e^x + x = 7 $"
   ]
  },
  {
   "cell_type": "markdown",
   "metadata": {},
   "source": [
    "$ e^x + x = 7 $\n",
    "\n",
    "$ \\Rightarrow e^x = 7 - x $\n",
    "\n",
    "$ \\Rightarrow x = \\ln{7 - x} $\n",
    "\n",
    "$ \\Rightarrow g(x) = \\ln{7 - x} $"
   ]
  },
  {
   "cell_type": "code",
   "execution_count": 34,
   "metadata": {},
   "outputs": [
    {
     "name": "stdout",
     "output_type": "stream",
     "text": [
      "1.67282170\n"
     ]
    }
   ],
   "source": [
    "root = scipy.optimize.fixed_point(lambda x : np.log(7 - x), 0, method='iteration')\n",
    "print('{:>.8f}'.format(root))"
   ]
  },
  {
   "cell_type": "markdown",
   "metadata": {},
   "source": [
    "(c) $ e^x + \\sin{x} = 4 $"
   ]
  },
  {
   "cell_type": "markdown",
   "metadata": {},
   "source": [
    "$ e^x + \\sin{x} = 4 $\n",
    "\n",
    "$ \\Rightarrow e^x = 4 - \\sin{x} $\n",
    "\n",
    "$ \\Rightarrow x = \\ln{(4 - \\sin{x})} $\n",
    "\n",
    "$ \\Rightarrow g(x) = \\ln{(4 - \\sin{x})} $"
   ]
  },
  {
   "cell_type": "code",
   "execution_count": 35,
   "metadata": {},
   "outputs": [
    {
     "name": "stdout",
     "output_type": "stream",
     "text": [
      "1.12998050\n"
     ]
    }
   ],
   "source": [
    "root = scipy.optimize.fixed_point(lambda x : np.log(4 - np.sin(x)), 0, method='iteration')\n",
    "print('{:>.8f}'.format(root))"
   ]
  },
  {
   "cell_type": "markdown",
   "metadata": {},
   "source": [
    "---\n",
    "2. Apply Fixed-Point Iteration to find the solution of each equation to eight correct decimal places."
   ]
  },
  {
   "cell_type": "markdown",
   "metadata": {},
   "source": [
    "(a) $x^5 + x = 1$"
   ]
  },
  {
   "cell_type": "markdown",
   "metadata": {},
   "source": [
    "$ x^5 + x = 1 $\n",
    "\n",
    "$ \\Rightarrow x^5 = 1 - x $\n",
    "\n",
    "$ \\Rightarrow x = \\sqrt[5]{1 - x} $\n",
    "\n",
    "$ \\Rightarrow g(x) = \\sqrt[5]{1 - x} $"
   ]
  },
  {
   "cell_type": "code",
   "execution_count": 36,
   "metadata": {},
   "outputs": [
    {
     "name": "stdout",
     "output_type": "stream",
     "text": [
      "0.75487766\n"
     ]
    }
   ],
   "source": [
    "root = scipy.optimize.fixed_point(lambda x : np.power(1 - x, 1 / 5), 0.1, method='iteration')\n",
    "print('{:>.8f}'.format(root))"
   ]
  },
  {
   "cell_type": "markdown",
   "metadata": {},
   "source": [
    "(b) $\\sin{x} = 6x + 5$"
   ]
  },
  {
   "cell_type": "markdown",
   "metadata": {},
   "source": [
    "$ \\sin{x} = 6x + 5 $\n",
    "\n",
    "$ \\Rightarrow x = \\frac{\\sin{x} - 5}{6} $\n",
    "\n",
    "$ \\Rightarrow g(x) = \\frac{\\sin{x} - 5}{6} $"
   ]
  },
  {
   "cell_type": "code",
   "execution_count": 37,
   "metadata": {},
   "outputs": [
    {
     "name": "stdout",
     "output_type": "stream",
     "text": [
      "-0.97089892\n"
     ]
    }
   ],
   "source": [
    "root = scipy.optimize.fixed_point(lambda x : (np.sin(x) - 5) / 6, 0.1, method='iteration')\n",
    "print('{:>.8f}'.format(root))"
   ]
  },
  {
   "cell_type": "markdown",
   "metadata": {},
   "source": [
    "---\n",
    "3. Calculate the square roots of the following numbers to eight correct decimal places by using Fixed-Point Iteration as in Example 1.6: (a) 3 (b) 5. State your initial guess and the number of steps needed."
   ]
  },
  {
   "cell_type": "markdown",
   "metadata": {},
   "source": [
    "We can conclude that $g(x, c) = x = \\sqrt{c} = \\frac{x^2 + c}{2x}$ from Example 1.6. Then"
   ]
  },
  {
   "cell_type": "code",
   "execution_count": 38,
   "metadata": {},
   "outputs": [],
   "source": [
    "g = lambda x, c : (np.power(x, 2) + c) / (2 * x)"
   ]
  },
  {
   "cell_type": "markdown",
   "metadata": {},
   "source": [
    "(a) $g(x, 3) = \\frac{x^2 + 3}{2x}$"
   ]
  },
  {
   "cell_type": "code",
   "execution_count": 39,
   "metadata": {},
   "outputs": [
    {
     "name": "stdout",
     "output_type": "stream",
     "text": [
      "1.73205081\n"
     ]
    }
   ],
   "source": [
    "root = scipy.optimize.fixed_point(lambda x : g(x, 3), 0.1, method='iteration')\n",
    "print('{:>.8f}'.format(root))"
   ]
  },
  {
   "cell_type": "markdown",
   "metadata": {},
   "source": [
    "(b) $g(x, 5) = \\frac{x^2 + 5}{2x}$"
   ]
  },
  {
   "cell_type": "code",
   "execution_count": 40,
   "metadata": {},
   "outputs": [
    {
     "name": "stdout",
     "output_type": "stream",
     "text": [
      "2.23606798\n"
     ]
    }
   ],
   "source": [
    "root = scipy.optimize.fixed_point(lambda x : g(x, 5), 0.1, method='iteration')\n",
    "print('{:>.8f}'.format(root))"
   ]
  },
  {
   "cell_type": "markdown",
   "metadata": {},
   "source": [
    "---\n",
    "4. Calculate the cube roots of the following numbers to eight correct decimal places, by using Fixed-Point Iteration with $g(x) = (2x + A/x^2) / 3$, where A is (a) 2 (b) 3 (c) 5. State your initial guess and the number of steps needed."
   ]
  },
  {
   "cell_type": "markdown",
   "metadata": {},
   "source": [
    "Let $y^3 = x$ and $g(x, A) = (2y^3 + A/y^6)/3$\n",
    "\n",
    "$\\Rightarrow y^3 = (2y^3 + A/y^6)/3$\n",
    "\n",
    "$\\Rightarrow y = \\sqrt[3]{(2y^3 + A/y^6)/3}$\n",
    "\n",
    "$\\Rightarrow h(y, A) = \\sqrt[3]{(2y^3 + A/y^6)/3}$"
   ]
  },
  {
   "cell_type": "code",
   "execution_count": 41,
   "metadata": {},
   "outputs": [],
   "source": [
    "h = lambda y, A : np.power((2 * np.power(y, 3) + A / np.power(y, 6)) / 3, 1 / 3)"
   ]
  },
  {
   "cell_type": "markdown",
   "metadata": {},
   "source": [
    "(a) $h(y, 2) = \\sqrt[3]{(2y^3 + 2/y^6)/3}$"
   ]
  },
  {
   "cell_type": "code",
   "execution_count": 42,
   "metadata": {},
   "outputs": [
    {
     "name": "stdout",
     "output_type": "stream",
     "text": [
      "1.08005974\n"
     ]
    }
   ],
   "source": [
    "root = scipy.optimize.fixed_point(lambda y : h(y, 2), 1.0, method='iteration')\n",
    "print('{:>.8f}'.format(root))"
   ]
  },
  {
   "cell_type": "markdown",
   "metadata": {},
   "source": [
    "(b) $h(y, 3) = \\sqrt[3]{(2y^3 + 3/y^6)/3}$"
   ]
  },
  {
   "cell_type": "code",
   "execution_count": 43,
   "metadata": {},
   "outputs": [
    {
     "name": "stdout",
     "output_type": "stream",
     "text": [
      "1.12983096\n"
     ]
    }
   ],
   "source": [
    "root = scipy.optimize.fixed_point(lambda y : h(y, 3), 1.0, method='iteration')\n",
    "print('{:>.8f}'.format(root))"
   ]
  },
  {
   "cell_type": "markdown",
   "metadata": {},
   "source": [
    "(c) $h(y, 5) = \\sqrt[3]{(2y^3 + 5/y^6)/3}$"
   ]
  },
  {
   "cell_type": "code",
   "execution_count": 44,
   "metadata": {},
   "outputs": [
    {
     "name": "stdout",
     "output_type": "stream",
     "text": [
      "1.19581317\n"
     ]
    }
   ],
   "source": [
    "root = scipy.optimize.fixed_point(lambda y : h(y, 5), 1.0, method='iteration')\n",
    "print('{:>.8f}'.format(root))"
   ]
  },
  {
   "cell_type": "markdown",
   "metadata": {},
   "source": [
    "---\n",
    "5. Example 1.3 showed that $g(x) = \\cos{x}$ is a convergent FPI. Is the same true for $g(x) = \\cos^2{x}$? Find the fixed point to six correct decimal places, and report the number of FPI steps needed. Discuss local convergence, using Theorem 1.6."
   ]
  },
  {
   "cell_type": "code",
   "execution_count": 45,
   "metadata": {},
   "outputs": [
    {
     "name": "stdout",
     "output_type": "stream",
     "text": [
      "0.641714\n"
     ]
    }
   ],
   "source": [
    "root = scipy.optimize.fixed_point(lambda x : np.power(np.cos(x), 2), 1.0, method='iteration')\n",
    "print('{:>.6f}'.format(root))"
   ]
  },
  {
   "cell_type": "code",
   "execution_count": 46,
   "metadata": {},
   "outputs": [
    {
     "data": {
      "image/png": "[encoded data removed]",
      "text/latex": [
       "$\\displaystyle - 2 \\sin{\\left(x \\right)} \\cos{\\left(x \\right)}$"
      ],
      "text/plain": [
       "-2⋅sin(x)⋅cos(x)"
      ]
     },
     "metadata": {},
     "output_type": "display_data"
    },
    {
     "name": "stdout",
     "output_type": "stream",
     "text": [
      "S = 0.958993\n"
     ]
    }
   ],
   "source": [
    "dg = sympy.diff(sympy.cos(sympy.abc.x) ** 2)\n",
    "display(dg)\n",
    "S = np.abs(sympy.lambdify(sympy.abc.x, dg)(root))\n",
    "print('S = {:>.6f}'.format(S))"
   ]
  },
  {
   "cell_type": "markdown",
   "metadata": {},
   "source": [
    "Because $g'(x) = -2\\sin{x}\\cos{x}$ and $S = \\left | g'(x = 0.641714) \\right | = \\left | -0.958993 \\right | = 0.958993 < 1$. It is locally convergent."
   ]
  },
  {
   "cell_type": "markdown",
   "metadata": {},
   "source": [
    "---\n",
    "6. Derive three different $g(x)$ for finding roots to six correct decimal places of the following $f(x) = 0$ by Fixed-Point Iteration. Run FPI for each $g(x)$ and report results, convergence or divergence. Each equation $f(x) = 0$ has three roots. Derive more $g(x)$ if necessary until all roots are found by FPI. For each convergent run, determine the value of S from the errors $e_{i+1}/e_{i}$ , and compare with $S$ determined from calculus as in (1.11)."
   ]
  },
  {
   "cell_type": "markdown",
   "metadata": {},
   "source": [
    "(a) $f(x) = 2x^3 - 6x - 1$"
   ]
  },
  {
   "cell_type": "markdown",
   "metadata": {},
   "source": [
    "(1) $6x = 2x^3 - 1$\n",
    "\n",
    "$ \\Rightarrow g(x) = x = \\frac{2x^3 - 1}{6} $"
   ]
  },
  {
   "cell_type": "code",
   "execution_count": 47,
   "metadata": {},
   "outputs": [
    {
     "name": "stdout",
     "output_type": "stream",
     "text": [
      "1st root is -0.168254\n",
      "S = 0.028310\n"
     ]
    }
   ],
   "source": [
    "f = lambda x : (2 * np.power(x, 3) - 1) / 6\n",
    "root = scipy.optimize.fixed_point(f, 1.0, method='iteration')\n",
    "print('1st root is {:>.6f}'.format(root))\n",
    "\n",
    "dg = sympy.diff((2 * sympy.abc.x ** 3 - 1) / 6)\n",
    "S = np.abs(sympy.lambdify(sympy.abc.x, dg)(root))\n",
    "print('S = {:>.6f}'.format(S))"
   ]
  },
  {
   "cell_type": "markdown",
   "metadata": {},
   "source": [
    "It is locally convergent due to S = 0.028310 < 1"
   ]
  },
  {
   "cell_type": "markdown",
   "metadata": {},
   "source": [
    "(2) $ 2x^3 = 6x + 1 $\n",
    "\n",
    "$ \\Rightarrow g(x) = x = \\sqrt[3]{\\frac{6x + 1}{2}} $"
   ]
  },
  {
   "cell_type": "code",
   "execution_count": 48,
   "metadata": {},
   "outputs": [
    {
     "name": "stdout",
     "output_type": "stream",
     "text": [
      "2nd root is 1.810038\n",
      "S = 0.305228\n"
     ]
    }
   ],
   "source": [
    "f = lambda x : np.power((6 * x + 1) / 2, 1 / 3)\n",
    "root = scipy.optimize.fixed_point(f, 1.0, method='iteration')\n",
    "print('2nd root is {:>.6f}'.format(root))\n",
    "\n",
    "dg = sympy.diff( ((6 * sympy.abc.x + 1) / 2) ** (1 / 3) )\n",
    "S = np.abs(sympy.lambdify(sympy.abc.x, dg)(root))\n",
    "print('S = {:>.6f}'.format(S))"
   ]
  },
  {
   "cell_type": "markdown",
   "metadata": {},
   "source": [
    "It is locally convergent due to S = 0.305228 < 1"
   ]
  },
  {
   "cell_type": "markdown",
   "metadata": {},
   "source": [
    "(3) $ 2x \\cdot x^2 = 6x + 1 $\n",
    "\n",
    "$ \\Rightarrow g(x) = x = \\frac{\\sqrt{6/x + 1/x^2}}{2} $\n"
   ]
  },
  {
   "cell_type": "code",
   "execution_count": 49,
   "metadata": {},
   "outputs": [
    {
     "name": "stdout",
     "output_type": "stream",
     "text": [
      "3rd root is 1.195609\n",
      "S = 0.561172\n"
     ]
    }
   ],
   "source": [
    "f = lambda x : np.sqrt(6 / x + 1 / np.power(x, 2)) / 2\n",
    "root = scipy.optimize.fixed_point(f, 2.0, method='iteration')\n",
    "print('3rd root is {:>.6f}'.format(root))\n",
    "\n",
    "dg = sympy.diff( ((6 / sympy.abc.x + 1 / sympy.abc.x ** 2) ** 0.5) / 2 )\n",
    "S = np.abs(sympy.lambdify(sympy.abc.x, dg)(root))\n",
    "print('S = {:>.6f}'.format(S))"
   ]
  },
  {
   "cell_type": "markdown",
   "metadata": {},
   "source": [
    "It is locally convergent due to S = 0.561172 < 1"
   ]
  },
  {
   "cell_type": "markdown",
   "metadata": {},
   "source": [
    "(b) $f(x) = e^{x-2} + x^3 - x$"
   ]
  },
  {
   "cell_type": "markdown",
   "metadata": {},
   "source": [
    "(1) $x = e^{x-2} + x^3$\n",
    "\n",
    "$ \\Rightarrow g(x) = e^{x-2} + x^3 $"
   ]
  },
  {
   "cell_type": "code",
   "execution_count": 50,
   "metadata": {},
   "outputs": [
    {
     "name": "stdout",
     "output_type": "stream",
     "text": [
      "1st root is 0.163822\n",
      "S = 0.464096\n"
     ]
    }
   ],
   "source": [
    "g = lambda x : np.exp(x - 2) + np.power(x, 3)\n",
    "root = scipy.optimize.fixed_point(g, 0, method='iteration')\n",
    "print('1st root is {:>.6f}'.format(root))\n",
    "\n",
    "dg = sympy.diff(sympy.log(sympy.abc.x - 2) + sympy.abc.x ** 3)\n",
    "S = np.abs(sympy.lambdify(sympy.abc.x, dg)(root))\n",
    "print('S = {:>.6f}'.format(S))"
   ]
  },
  {
   "cell_type": "markdown",
   "metadata": {},
   "source": [
    "It is locally convergent due to S = 0.464096 < 1"
   ]
  },
  {
   "cell_type": "markdown",
   "metadata": {},
   "source": [
    "(2) $x^3 = x - e^{x-2} $\n",
    "\n",
    "$ \\Rightarrow x = \\sqrt[3]{x - e^{x-2}} $\n",
    "\n",
    "$ \\Rightarrow g(x) = \\sqrt[3]{x - e^{x-2}} $"
   ]
  },
  {
   "cell_type": "code",
   "execution_count": 51,
   "metadata": {},
   "outputs": [
    {
     "name": "stdout",
     "output_type": "stream",
     "text": [
      "2nd root is 0.788941\n",
      "S = 0.376010\n"
     ]
    }
   ],
   "source": [
    "g = lambda x : np.power(x - np.exp(x - 2), 1 / 3)\n",
    "root = scipy.optimize.fixed_point(g, 1, method='iteration')\n",
    "print('2nd root is {:>.6f}'.format(root))\n",
    "\n",
    "dg = sympy.diff((sympy.abc.x - sympy.exp(sympy.abc.x - 2)) ** (1 / 3))\n",
    "S = np.abs(sympy.lambdify(sympy.abc.x, dg)(root))\n",
    "print('S = {:>.6f}'.format(S))"
   ]
  },
  {
   "cell_type": "markdown",
   "metadata": {},
   "source": [
    "It is locally convergent due to S = 0.376010 < 1"
   ]
  },
  {
   "cell_type": "markdown",
   "metadata": {},
   "source": [
    "(3) $e^{x-2} = x - x^3$\n",
    "\n",
    "$ \\Rightarrow x - 2 = \\ln{(x - x^3)} $\n",
    "\n",
    "$ \\Rightarrow g(x) = 2 + \\ln{(x - x^3)} $"
   ]
  },
  {
   "cell_type": "code",
   "execution_count": 52,
   "metadata": {},
   "outputs": [
    {
     "name": "stdout",
     "output_type": "stream",
     "text": [
      "Diverge, cannot find 3rd root by FPI\n",
      "3rd root is -1.023482\n",
      "S = 44.056711\n"
     ]
    }
   ],
   "source": [
    "g = lambda x : np.exp(x - 2) + x ** 3 - x\n",
    "print('Diverge, cannot find 3rd root by FPI')\n",
    "\n",
    "# We use other method to find 3rd root\n",
    "root = scipy.optimize.fsolve(g, -1)[0]\n",
    "print('3rd root is {:>.6f}'.format(root))\n",
    "\n",
    "dg = sympy.diff(2 + sympy.log(sympy.abc.x - sympy.abc.x ** 3))\n",
    "S = np.abs(sympy.lambdify(sympy.abc.x, dg)(root))\n",
    "print('S = {:>.6f}'.format(S))"
   ]
  },
  {
   "cell_type": "markdown",
   "metadata": {},
   "source": [
    "(c) $f(x) = 1 + 5x - 6x^3 - e^{2x}$"
   ]
  },
  {
   "cell_type": "markdown",
   "metadata": {},
   "source": [
    "(1) $f(x) = 1 + 5x - 6x^3 - e^{2x}$\n",
    "\n",
    "$ \\Rightarrow 5x = 6x^3 + e^{2x} - 1$\n",
    "\n",
    "$ \\Rightarrow g(x) = x = \\frac{6x^3 + e^{2x} - 1}{5}$"
   ]
  },
  {
   "cell_type": "code",
   "execution_count": 53,
   "metadata": {},
   "outputs": [
    {
     "name": "stdout",
     "output_type": "stream",
     "text": [
      "1st root is 0.000000\n",
      "S = 0.400000\n"
     ]
    }
   ],
   "source": [
    "g = lambda x : (6 * np.power(x, 3) + np.exp(2 * x) - 1) / 5\n",
    "root = scipy.optimize.fixed_point(g, 0.5, method='iteration')\n",
    "print('1st root is {:>.6f}'.format(root))\n",
    "\n",
    "dg = sympy.diff((6 * sympy.abc.x ** 3 + sympy.exp(2 * sympy.abc.x) - 1) / 5)\n",
    "S = np.abs(sympy.lambdify(sympy.abc.x, dg)(root))\n",
    "print('S = {:>.6f}'.format(S))"
   ]
  },
  {
   "cell_type": "markdown",
   "metadata": {},
   "source": [
    "It is locally convergent due to S = 0.400000 < 1"
   ]
  },
  {
   "cell_type": "markdown",
   "metadata": {},
   "source": [
    "(2) $f(x) = 1 + 5x - 6x^3 - e^{2x}$\n",
    "\n",
    "$ \\Rightarrow 6x^3 = 1 + 5x - e^{2x}$\n",
    "\n",
    "$ \\Rightarrow x^3 = \\frac{1 + 5x - e^{2x}}{6}$\n",
    "\n",
    "$ \\Rightarrow g(x) = x =  \\sqrt[3]{\\frac{1 + 5x - e^{2x}}{6}}$"
   ]
  },
  {
   "cell_type": "code",
   "execution_count": 54,
   "metadata": {},
   "outputs": [
    {
     "name": "stdout",
     "output_type": "stream",
     "text": [
      "2nd root is 0.506308\n",
      "S = 0.199103\n"
     ]
    }
   ],
   "source": [
    "g = lambda x : np.power((1 + 5 * x - np.exp(2 * x)) / 6, 1 / 3)\n",
    "root = scipy.optimize.fixed_point(g, 0.5, method='iteration')\n",
    "print('2nd root is {:>.6f}'.format(root))\n",
    "\n",
    "dg = sympy.diff((1 + 5 * sympy.abc.x - sympy.exp(2 * sympy.abc.x)) ** (1 / 3))\n",
    "S = np.abs(sympy.lambdify(sympy.abc.x, dg)(root))\n",
    "print('S = {:>.6f}'.format(S))"
   ]
  },
  {
   "cell_type": "markdown",
   "metadata": {},
   "source": [
    "It is locally convergent due to S = 0.506308 < 1"
   ]
  },
  {
   "cell_type": "markdown",
   "metadata": {},
   "source": [
    "(3) $f(x) = 1 + 5x - 6x^3 - e^{2x}$\n",
    "\n",
    "$ \\Rightarrow e^{2x} = 1 + 5x - 6x^3$\n",
    "\n",
    "$ \\Rightarrow 2x = \\ln{(1 + 5x - 6x^3)}$\n",
    "\n",
    "$ \\Rightarrow g(x) = x = \\frac{\\ln{(1 + 5x - 6x^3)}}{2} $"
   ]
  },
  {
   "cell_type": "code",
   "execution_count": 55,
   "metadata": {},
   "outputs": [
    {
     "name": "stdout",
     "output_type": "stream",
     "text": [
      "Diverge, cannot find 3rd root by FPI\n",
      "3rd root is -0.912871\n",
      "S = 5.000000\n"
     ]
    }
   ],
   "source": [
    "g = lambda x : np.log(1 + 5 * x - 6 * np.power(x, 3)) / 2\n",
    "print('Diverge, cannot find 3rd root by FPI')\n",
    "\n",
    "# We use other method to find 3rd root\n",
    "root = scipy.optimize.fsolve(g, -1)[0]\n",
    "print('3rd root is {:>.6f}'.format(root))\n",
    "\n",
    "dg = sympy.diff(sympy.log(1 + 5 * sympy.abc.x - 6 * sympy.abc.x ** 3) / 2)\n",
    "S = np.abs(sympy.lambdify(sympy.abc.x, dg)(root))\n",
    "print('S = {:>.6f}'.format(S))"
   ]
  },
  {
   "cell_type": "markdown",
   "metadata": {},
   "source": [
    "---\n",
    "# 1.3 Limits of Accuracy"
   ]
  },
  {
   "cell_type": "markdown",
   "metadata": {},
   "source": [
    "### Example\n",
    "\n",
    "Use the Bisection Method to find the root of $f(x) = x^3 - 2x^2 + \\frac{4}{3}x - \\frac{8}{27}$ to within six correct significant digits"
   ]
  },
  {
   "cell_type": "code",
   "execution_count": 56,
   "metadata": {},
   "outputs": [
    {
     "name": "stdout",
     "output_type": "stream",
     "text": [
      "0.666664123535\n"
     ]
    }
   ],
   "source": [
    "root = scipy.optimize.bisect(lambda x : np.power(x, 3) - 2 * np.power(x, 2) + 4 / 3 * x - 8 / 27, 0, 2)\n",
    "print('{:>.12f}'.format(root))"
   ]
  },
  {
   "cell_type": "markdown",
   "metadata": {},
   "source": [
    "## DEFINITION 1.8\n",
    "\n",
    "Assume that $f$ is a function and that $r$ is a root, meaning that it satisfies $f(r) = 0$. Assume that $x_a$ is an approximation to $r$. For the root-finding problem, the **backward error** of the approximation $x_a$ is $\\left | f(x_a) \\right |$ and  the **forward error**  is $\\left | r - x_a \\right |$"
   ]
  },
  {
   "cell_type": "markdown",
   "metadata": {},
   "source": [
    "## DEFINITION 1.9\n",
    "\n",
    "Assume that $r$ is a root of the differentiable function $f$ ; that is, assume that $f(r) = 0$. Then if $0 = f(r) = f'(r) = f''(r) = \\dots = f^{(m-1)}(r)$, but $f^{(m)}(r) \\neq 0$, we say that $f$ has a **root** of **multiplicity** $m$ at $r$. We say that $f$ has a **multiple root** at $r$ if the multiplicity is greater than one. The root is called **simple** if the multiplicity is one."
   ]
  },
  {
   "cell_type": "markdown",
   "metadata": {},
   "source": [
    "### Example\n",
    "\n",
    "The function $f(x) = sinx - x$ has  a triple root at $r = 0$. Find the forward and backward error of the approximate root $x_a = 0.001$."
   ]
  },
  {
   "cell_type": "markdown",
   "metadata": {},
   "source": [
    "$f(0) = \\sin0 - 0 = 0$<br/>\n",
    "$f'(0) = \\cos0 - 1 = 0$<br/>\n",
    "$f''(0) = -\\sin0 - 0 = 0$<br/>\n",
    "$f'''(0) = -\\cos0 - 0 = -1$<br/>\n",
    "\n",
    "The forward error is $\\left | r - x_a \\right | = 10^{-3}$<br/>\n",
    "The backward error is $\\left | f(x_a) \\right | = \\left | sin(0.001) - 0.001 \\right | \\approx 1.6667 \\times 10^{-10}$"
   ]
  },
  {
   "cell_type": "markdown",
   "metadata": {},
   "source": [
    "   ### Sensitivity Formula for Roots\n",
    "   \n",
    "   Assume that $r$ is a root of $f(x)$ and $r + \\Delta r$ is a root of $f(x) + \\epsilon g(x)$. Then \n",
    "   $$ \\Delta r \\approx -\\frac{\\epsilon g(r)}{f'(r)}$$\n",
    "   if $\\epsilon \\ll  f'(r)$"
   ]
  },
  {
   "cell_type": "markdown",
   "metadata": {},
   "source": [
    "### Error Magnification Factor\n",
    "\n",
    "$$\\textbf{error magnification factor} = \\frac{\\text{relative forward error}}{\\text{relative backward error}}$$\n",
    "\n",
    "$$ \n",
    "\\text{error magnification factor} \n",
    "= \\left | \\frac{\\Delta{r}/r}{\\epsilon{g(r)/g(r)}} \\right |\n",
    "= \\left | \\frac{-\\epsilon{g(r)/(rf'(r))}}{\\epsilon} \\right |\n",
    "= \\frac{\\left | g(r) \\right |}{\\left | rf'(r) \\right |}\n",
    "$$"
   ]
  },
  {
   "cell_type": "markdown",
   "metadata": {},
   "source": [
    "### Additional Examples\n",
    "\n",
    "1. Find the multiplicity of the root $r = 0$ of $f(x) = 6x − 6\\sin{x} − x^3$.\n",
    "\n",
    "$f(x) = 6x − 6\\sin{(x)} − x^3, f(x = 0) = 0$\n",
    "\n",
    "$f'(x) = -3x^2 - 6\\cos{(x)} + 6, f'(x = 0) = 0$\n",
    "\n",
    "$f''(x) = -6x + 6\\sin{(x)}, f''(x = 0) = 0$\n",
    "\n",
    "$f^{(3)}(x) = -6 + 6\\cos{(x)}, f^{(3)}(x = 0) = 0$\n",
    "\n",
    "$f^{(4)}(x) = - 6\\sin{(x)}, f^{(4)}(x = 0) = 0$\n",
    "\n",
    "$f^{(5)}(x) = - 6\\cos{(x)}, f^{(5)}(x = 0) = -6$\n",
    "\n",
    "The root at 0 has multiplicity **five**."
   ]
  },
  {
   "cell_type": "markdown",
   "metadata": {},
   "source": [
    "2. Use the MATLAB command fzero with initial guess 0.001 to approximate the root of $f(x) = 6x - 6\\sin{x} - x^3$. Compute the forward and backward errors of the approximate root."
   ]
  },
  {
   "cell_type": "code",
   "execution_count": 57,
   "metadata": {},
   "outputs": [
    {
     "name": "stdout",
     "output_type": "stream",
     "text": [
      "0.000000\n"
     ]
    }
   ],
   "source": [
    "f = lambda x : 6 * x - 6 * np.sin(x) - np.power(x, 3)\n",
    "root = scipy.optimize.fsolve(g, 0.001)[0]\n",
    "print('{:>.6f}'.format(root))"
   ]
  },
  {
   "cell_type": "markdown",
   "metadata": {},
   "source": [
    "---\n",
    "## 1.3 Computer Problems"
   ]
  },
  {
   "cell_type": "markdown",
   "metadata": {},
   "source": [
    "1. Let $f(x) = sinx - x$.\n",
    "\n",
    "(a) Find the multiplicity of the root r = 0.\n",
    "\n",
    "$f(0) = \\sin{0} - 0 = 0$\n",
    "\n",
    "$f'(0) = \\cos0 - 1 = 0$\n",
    "\n",
    "$f''(0) = -\\sin0 = 0$\n",
    "\n",
    "$f'''(0) = -\\cos0 = -1$\n",
    "\n",
    "The multiplicity is 3"
   ]
  },
  {
   "cell_type": "markdown",
   "metadata": {},
   "source": [
    "(b) Use initial guess x = 0.1 to locate a root. What are the forward and backward errors."
   ]
  },
  {
   "cell_type": "code",
   "execution_count": 58,
   "metadata": {},
   "outputs": [
    {
     "name": "stdout",
     "output_type": "stream",
     "text": [
      "forward error  = 0.0000000213751396\n",
      "backward error = 0.0000000000000000\n"
     ]
    }
   ],
   "source": [
    "f = lambda x : np.sin(x) - x\n",
    "root = scipy.optimize.fsolve(f, 0.1)[0]\n",
    "print('forward error  = %.16f' %(np.abs(root)))\n",
    "print('backward error = %.16f' %(np.abs(f(root))))"
   ]
  },
  {
   "cell_type": "markdown",
   "metadata": {},
   "source": [
    "---\n",
    "2. Carry out Computer Problem 1 for $f(x) = \\sin{x^3} - x^3$.\n",
    "\n",
    "(a) Find the multiplicity of the root r = 0."
   ]
  },
  {
   "cell_type": "code",
   "execution_count": 59,
   "metadata": {},
   "outputs": [
    {
     "data": {
      "image/png": "[encoded data removed]",
      "text/latex": [
       "$\\displaystyle - x^{3} + \\sin{\\left(x^{3} \\right)}$"
      ],
      "text/plain": [
       "   3      ⎛ 3⎞\n",
       "- x  + sin⎝x ⎠"
      ]
     },
     "metadata": {},
     "output_type": "display_data"
    },
    {
     "data": {
      "image/png": "[encoded data removed]",
      "text/latex": [
       "$\\displaystyle 0.0$"
      ],
      "text/plain": [
       "0.0"
      ]
     },
     "metadata": {},
     "output_type": "display_data"
    },
    {
     "data": {
      "image/png": "[encoded data removed]",
      "text/latex": [
       "$\\displaystyle 3 x^{2} \\cos{\\left(x^{3} \\right)} - 3 x^{2}$"
      ],
      "text/plain": [
       "   2    ⎛ 3⎞      2\n",
       "3⋅x ⋅cos⎝x ⎠ - 3⋅x "
      ]
     },
     "metadata": {},
     "output_type": "display_data"
    },
    {
     "data": {
      "image/png": "[encoded data removed]",
      "text/latex": [
       "$\\displaystyle 0.0$"
      ],
      "text/plain": [
       "0.0"
      ]
     },
     "metadata": {},
     "output_type": "display_data"
    },
    {
     "data": {
      "image/png": "[encoded data removed]",
      "text/latex": [
       "$\\displaystyle - 9 x^{4} \\sin{\\left(x^{3} \\right)} + 6 x \\cos{\\left(x^{3} \\right)} - 6 x$"
      ],
      "text/plain": [
       "     4    ⎛ 3⎞          ⎛ 3⎞      \n",
       "- 9⋅x ⋅sin⎝x ⎠ + 6⋅x⋅cos⎝x ⎠ - 6⋅x"
      ]
     },
     "metadata": {},
     "output_type": "display_data"
    },
    {
     "data": {
      "image/png": "[encoded data removed]",
      "text/latex": [
       "$\\displaystyle 0.0$"
      ],
      "text/plain": [
       "0.0"
      ]
     },
     "metadata": {},
     "output_type": "display_data"
    },
    {
     "data": {
      "image/png": "[encoded data removed]",
      "text/latex": [
       "$\\displaystyle - 27 x^{6} \\cos{\\left(x^{3} \\right)} - 54 x^{3} \\sin{\\left(x^{3} \\right)} + 6 \\cos{\\left(x^{3} \\right)} - 6$"
      ],
      "text/plain": [
       "      6    ⎛ 3⎞       3    ⎛ 3⎞        ⎛ 3⎞    \n",
       "- 27⋅x ⋅cos⎝x ⎠ - 54⋅x ⋅sin⎝x ⎠ + 6⋅cos⎝x ⎠ - 6"
      ]
     },
     "metadata": {},
     "output_type": "display_data"
    },
    {
     "data": {
      "image/png": "[encoded data removed]",
      "text/latex": [
       "$\\displaystyle 0.0$"
      ],
      "text/plain": [
       "0.0"
      ]
     },
     "metadata": {},
     "output_type": "display_data"
    },
    {
     "data": {
      "image/png": "[encoded data removed]",
      "text/latex": [
       "$\\displaystyle 81 x^{8} \\sin{\\left(x^{3} \\right)} - 324 x^{5} \\cos{\\left(x^{3} \\right)} - 180 x^{2} \\sin{\\left(x^{3} \\right)}$"
      ],
      "text/plain": [
       "    8    ⎛ 3⎞        5    ⎛ 3⎞        2    ⎛ 3⎞\n",
       "81⋅x ⋅sin⎝x ⎠ - 324⋅x ⋅cos⎝x ⎠ - 180⋅x ⋅sin⎝x ⎠"
      ]
     },
     "metadata": {},
     "output_type": "display_data"
    },
    {
     "data": {
      "image/png": "[encoded data removed]",
      "text/latex": [
       "$\\displaystyle 0.0$"
      ],
      "text/plain": [
       "0.0"
      ]
     },
     "metadata": {},
     "output_type": "display_data"
    },
    {
     "data": {
      "image/png": "[encoded data removed]",
      "text/latex": [
       "$\\displaystyle 243 x^{10} \\cos{\\left(x^{3} \\right)} + 1620 x^{7} \\sin{\\left(x^{3} \\right)} - 2160 x^{4} \\cos{\\left(x^{3} \\right)} - 360 x \\sin{\\left(x^{3} \\right)}$"
      ],
      "text/plain": [
       "     10    ⎛ 3⎞         7    ⎛ 3⎞         4    ⎛ 3⎞            ⎛ 3⎞\n",
       "243⋅x  ⋅cos⎝x ⎠ + 1620⋅x ⋅sin⎝x ⎠ - 2160⋅x ⋅cos⎝x ⎠ - 360⋅x⋅sin⎝x ⎠"
      ]
     },
     "metadata": {},
     "output_type": "display_data"
    },
    {
     "data": {
      "image/png": "[encoded data removed]",
      "text/latex": [
       "$\\displaystyle 0.0$"
      ],
      "text/plain": [
       "0.0"
      ]
     },
     "metadata": {},
     "output_type": "display_data"
    },
    {
     "data": {
      "image/png": "[encoded data removed]",
      "text/latex": [
       "$\\displaystyle - 729 x^{12} \\sin{\\left(x^{3} \\right)} + 7290 x^{9} \\cos{\\left(x^{3} \\right)} + 17820 x^{6} \\sin{\\left(x^{3} \\right)} - 9720 x^{3} \\cos{\\left(x^{3} \\right)} - 360 \\sin{\\left(x^{3} \\right)}$"
      ],
      "text/plain": [
       "       12    ⎛ 3⎞         9    ⎛ 3⎞          6    ⎛ 3⎞         3    ⎛ 3⎞      \n",
       "- 729⋅x  ⋅sin⎝x ⎠ + 7290⋅x ⋅cos⎝x ⎠ + 17820⋅x ⋅sin⎝x ⎠ - 9720⋅x ⋅cos⎝x ⎠ - 360\n",
       "\n",
       "    ⎛ 3⎞\n",
       "⋅sin⎝x ⎠"
      ]
     },
     "metadata": {},
     "output_type": "display_data"
    },
    {
     "data": {
      "image/png": "[encoded data removed]",
      "text/latex": [
       "$\\displaystyle 0.0$"
      ],
      "text/plain": [
       "0.0"
      ]
     },
     "metadata": {},
     "output_type": "display_data"
    },
    {
     "data": {
      "image/png": "[encoded data removed]",
      "text/latex": [
       "$\\displaystyle - 2187 x^{14} \\cos{\\left(x^{3} \\right)} - 30618 x^{11} \\sin{\\left(x^{3} \\right)} + 119070 x^{8} \\cos{\\left(x^{3} \\right)} + 136080 x^{5} \\sin{\\left(x^{3} \\right)} - 30240 x^{2} \\cos{\\left(x^{3} \\right)}$"
      ],
      "text/plain": [
       "        14    ⎛ 3⎞          11    ⎛ 3⎞           8    ⎛ 3⎞           5    ⎛ 3⎞\n",
       "- 2187⋅x  ⋅cos⎝x ⎠ - 30618⋅x  ⋅sin⎝x ⎠ + 119070⋅x ⋅cos⎝x ⎠ + 136080⋅x ⋅sin⎝x ⎠\n",
       "\n",
       "          2    ⎛ 3⎞\n",
       " - 30240⋅x ⋅cos⎝x ⎠"
      ]
     },
     "metadata": {},
     "output_type": "display_data"
    },
    {
     "data": {
      "image/png": "[encoded data removed]",
      "text/latex": [
       "$\\displaystyle 0.0$"
      ],
      "text/plain": [
       "0.0"
      ]
     },
     "metadata": {},
     "output_type": "display_data"
    },
    {
     "data": {
      "image/png": "[encoded data removed]",
      "text/latex": [
       "$\\displaystyle 6561 x^{16} \\sin{\\left(x^{3} \\right)} - 122472 x^{13} \\cos{\\left(x^{3} \\right)} - 694008 x^{10} \\sin{\\left(x^{3} \\right)} + 1360800 x^{7} \\cos{\\left(x^{3} \\right)} + 771120 x^{4} \\sin{\\left(x^{3} \\right)} - 60480 x \\cos{\\left(x^{3} \\right)}$"
      ],
      "text/plain": [
       "      16    ⎛ 3⎞           13    ⎛ 3⎞           10    ⎛ 3⎞            7    ⎛ 3\n",
       "6561⋅x  ⋅sin⎝x ⎠ - 122472⋅x  ⋅cos⎝x ⎠ - 694008⋅x  ⋅sin⎝x ⎠ + 1360800⋅x ⋅cos⎝x \n",
       "\n",
       "⎞           4    ⎛ 3⎞              ⎛ 3⎞\n",
       "⎠ + 771120⋅x ⋅sin⎝x ⎠ - 60480⋅x⋅cos⎝x ⎠"
      ]
     },
     "metadata": {},
     "output_type": "display_data"
    },
    {
     "data": {
      "image/png": "[encoded data removed]",
      "text/latex": [
       "$\\displaystyle 0.0$"
      ],
      "text/plain": [
       "0.0"
      ]
     },
     "metadata": {},
     "output_type": "display_data"
    },
    {
     "data": {
      "image/png": "[encoded data removed]",
      "text/latex": [
       "$\\displaystyle 19683 x^{18} \\cos{\\left(x^{3} \\right)} + 472392 x^{15} \\sin{\\left(x^{3} \\right)} - 3674160 x^{12} \\cos{\\left(x^{3} \\right)} - 11022480 x^{9} \\sin{\\left(x^{3} \\right)} + 11838960 x^{6} \\cos{\\left(x^{3} \\right)} + 3265920 x^{3} \\sin{\\left(x^{3} \\right)} - 60480 \\cos{\\left(x^{3} \\right)}$"
      ],
      "text/plain": [
       "       18    ⎛ 3⎞           15    ⎛ 3⎞            12    ⎛ 3⎞             9    \n",
       "19683⋅x  ⋅cos⎝x ⎠ + 472392⋅x  ⋅sin⎝x ⎠ - 3674160⋅x  ⋅cos⎝x ⎠ - 11022480⋅x ⋅sin\n",
       "\n",
       "⎛ 3⎞             6    ⎛ 3⎞            3    ⎛ 3⎞            ⎛ 3⎞\n",
       "⎝x ⎠ + 11838960⋅x ⋅cos⎝x ⎠ + 3265920⋅x ⋅sin⎝x ⎠ - 60480⋅cos⎝x ⎠"
      ]
     },
     "metadata": {},
     "output_type": "display_data"
    },
    {
     "data": {
      "image/png": "[encoded data removed]",
      "text/latex": [
       "$\\displaystyle -60480.0$"
      ],
      "text/plain": [
       "-60480.0"
      ]
     },
     "metadata": {},
     "output_type": "display_data"
    },
    {
     "name": "stdout",
     "output_type": "stream",
     "text": [
      "multiplicity is 10\n"
     ]
    }
   ],
   "source": [
    "def derivative_f(f):\n",
    "    while True:\n",
    "        f = sympy.diff(f)\n",
    "        yield f\n",
    "    \n",
    "f = sympy.sin(sympy.abc.x ** 3) - sympy.abc.x ** 3\n",
    "fx = sympy.lambdify(sympy.abc.x, f)(0)\n",
    "df_generator = derivative_f(f)\n",
    "\n",
    "display(f)\n",
    "display(fx)\n",
    "\n",
    "while fx == 0:\n",
    "    f = next(df_generator)\n",
    "    fx = sympy.lambdify(sympy.abc.x, f)(0)\n",
    "    display(f)\n",
    "    display(fx)\n",
    "\n",
    "print('multiplicity is 10')"
   ]
  },
  {
   "cell_type": "markdown",
   "metadata": {},
   "source": [
    "(b) Use initial guess x = 0.1 to locate a root. What are the forward and backward errors."
   ]
  },
  {
   "cell_type": "code",
   "execution_count": 60,
   "metadata": {},
   "outputs": [
    {
     "name": "stdout",
     "output_type": "stream",
     "text": [
      "forward error  = 0.0026072710744117\n",
      "backward error = 0.0000000000000000\n"
     ]
    }
   ],
   "source": [
    "f = lambda x : np.sin(np.power(x, 3)) - np.power(x, 3)\n",
    "root = scipy.optimize.fsolve(f, 0.1)[0]\n",
    "print('forward error  = %.16f' %(np.abs(root)))\n",
    "print('backward error = %.16f' %(np.abs(f(root))))"
   ]
  },
  {
   "cell_type": "markdown",
   "metadata": {},
   "source": [
    "---\n",
    "3. (a) Use fzero to find the root of $f(x) = 2x\\cos{x} - 2x + \\sin{x^3}$ on $\\left [ -0.1, 0.2 \\right ]$. Report the forward and backward errors."
   ]
  },
  {
   "cell_type": "code",
   "execution_count": 61,
   "metadata": {},
   "outputs": [
    {
     "name": "stdout",
     "output_type": "stream",
     "text": [
      "root = 0.0001214090717832\n",
      "forward  error : 0.0001214090717832\n",
      "backward error : 0.0000000000000000\n"
     ]
    }
   ],
   "source": [
    "f = lambda x : 2 * x * np.cos(x) - 2 * x + np.sin(np.power(x, 3))\n",
    "root = scipy.optimize.fsolve(f, 0.03)[0]\n",
    "print('root = %.16f' % root)\n",
    "print('forward  error : %.16f' % np.abs(root) )\n",
    "print('backward error : %.16f' % np.abs(f(root)) )"
   ]
  },
  {
   "cell_type": "markdown",
   "metadata": {},
   "source": [
    "(b) Run the Bisection Method with initial interval $\\left [ -0.1, 0.2 \\right ]$ to find as many correct digits as possible"
   ]
  },
  {
   "cell_type": "markdown",
   "metadata": {},
   "source": [
    "$f(x) = 2x\\cos{x} - 2x + \\sin{x^3}$\n",
    "\n",
    "$\\Rightarrow \\frac{2x \\cdot (\\cos^2{x} - 1) + (\\cos{x} + 1) \\cdot \\sin{x^3}}{(\\cos{x} + 1)}$\n",
    "\n",
    "$\\Rightarrow \\frac{-2x\\sin^2{x} + (\\cos{x} + 1) \\cdot \\sin{x^3}}{(\\cos{x} + 1)}$"
   ]
  },
  {
   "cell_type": "code",
   "execution_count": 62,
   "metadata": {},
   "outputs": [
    {
     "name": "stdout",
     "output_type": "stream",
     "text": [
      "x = -0.0000000238418579\n",
      "forward  error : 0.0000000238418579\n",
      "backward error : 0.0000000000000000\n"
     ]
    }
   ],
   "source": [
    "f = lambda x : (2 * x * -np.power(np.sin(x), 2) + (np.cos(x) + 1) * np.sin(np.power(x, 3))) / (np.cos(x) + 1)\n",
    "root = scipy.optimize.bisect(f, -0.1, 0.2)\n",
    "print('x = %.16f' % root)\n",
    "print('forward  error : %.16f' % np.abs(root))\n",
    "print('backward error : %.16f' % np.abs(f(root)))"
   ]
  },
  {
   "cell_type": "markdown",
   "metadata": {},
   "source": [
    "---\n",
    "4. (a) Use (1.21) to approximate the root near 3 of $f(x) = (1 + \\epsilon)x^3 - 3x^2 + x - 3$ for a constant $\\epsilon$."
   ]
  },
  {
   "cell_type": "code",
   "execution_count": 63,
   "metadata": {},
   "outputs": [
    {
     "name": "stdout",
     "output_type": "stream",
     "text": [
      "x = r + Δr = 2.99999730\n",
      "Δr = -0.00000270\n",
      "r = x - Δr = 3.00000000\n"
     ]
    }
   ],
   "source": [
    "epsilon = 1e-6\n",
    "f = lambda x : np.power(x, 3) - 3 * np.power(x, 2) + x - 3\n",
    "df = lambda x : 3 * np.power(x, 2) - 6 * x + 1\n",
    "g = lambda x : np.power(x, 3)\n",
    "f_eps = lambda x, epsilon : f(x) + g(x) * epsilon\n",
    "root = scipy.optimize.fsolve(lambda x : f_eps(x, epsilon), 3)\n",
    "droot = -epsilon * g(3) / df(3)\n",
    "print('x = r + Δr = %.8f' % root)\n",
    "print('Δr = %.8f' % droot)\n",
    "print('r = x - Δr = %.8f' % (root - droot))"
   ]
  },
  {
   "cell_type": "markdown",
   "metadata": {},
   "source": [
    "(b) Setting $\\epsilon = 10^{−3}$, find the actual root and compare with part (a)."
   ]
  },
  {
   "cell_type": "code",
   "execution_count": 64,
   "metadata": {},
   "outputs": [
    {
     "name": "stdout",
     "output_type": "stream",
     "text": [
      "x = r + Δr = 2.99730291\n",
      "Δr = -0.00270000\n",
      "r = x - Δr = 3.00000291\n"
     ]
    }
   ],
   "source": [
    "epsilon = 1e-3\n",
    "f = lambda x : np.power(x, 3) - 3 * np.power(x, 2) + x - 3\n",
    "df = lambda x : 3 * np.power(x, 2) - 6 * x + 1\n",
    "g = lambda x : np.power(x, 3)\n",
    "f_eps = lambda x, epsilon : f(x) + g(x) * epsilon\n",
    "root = scipy.optimize.fsolve(lambda x : f_eps(x, epsilon), 3)\n",
    "droot = -epsilon * g(3) / df(3)\n",
    "print('x = r + Δr = %.8f' % root)\n",
    "print('Δr = %.8f' % droot)\n",
    "print('r = x - Δr = %.8f' % (root - droot))"
   ]
  },
  {
   "cell_type": "markdown",
   "metadata": {},
   "source": [
    "---\n",
    "5. Use (1.21) to approximate the root of $f(x) = (x - 1)(x - 2)(x - 3)(x - 4) - 10^{-6}x^6$ near $r = 4$. Find the error magnification factor. Use fzero to check your approximation."
   ]
  },
  {
   "cell_type": "code",
   "execution_count": 65,
   "metadata": {},
   "outputs": [
    {
     "name": "stdout",
     "output_type": "stream",
     "text": [
      "x = r + Δr = 4.00068251\n",
      "Δr = 0.00068267\n",
      "r = x - Δr = 3.99999984\n",
      "error magnification factor = 170.666667\n"
     ]
    }
   ],
   "source": [
    "epsilon = -1e-6\n",
    "f = lambda x : (x - 1) * (x - 2) * (x - 3) * (x - 4)\n",
    "df = lambda x : 4 * np.power(x, 3) - 30 * np.power(x, 2) + 70 * x - 50\n",
    "g = lambda x : np.power(x, 6)\n",
    "f_eps = lambda x, epsilon : f(x) + g(x) * epsilon\n",
    "root = scipy.optimize.fsolve(lambda x : f_eps(x, epsilon), 4)\n",
    "droot = -epsilon * g(4) / df(4)\n",
    "print('x = r + Δr = %.8f' % root)\n",
    "print('Δr = %.8f' % droot)\n",
    "print('r = x - Δr = %.8f' % (root - droot))\n",
    "emf = np.abs(g(4)) / np.abs(4 * df(4))\n",
    "print('error magnification factor = %.6f' % (emf))"
   ]
  },
  {
   "cell_type": "markdown",
   "metadata": {},
   "source": [
    "---\n",
    "6. Use the MATLAB command fzero to find the root of the Wilkinson polynomial near $x = 15$ with a relative change of $\\epsilon = 2 × 10^{−15}$ in the $x^{15}$ coefficient, making the coefficient slightly more negative. Compare with the prediction made by (1.21)."
   ]
  },
  {
   "cell_type": "code",
   "execution_count": 66,
   "metadata": {},
   "outputs": [
    {
     "name": "stdout",
     "output_type": "stream",
     "text": [
      "x = r + Δr = 14.85625953\n",
      "Δr = -0.13999692\n",
      "r = x - Δr = 14.99625645\n"
     ]
    }
   ],
   "source": [
    "def wilkinson(x):\n",
    "    poly = 1\n",
    "    for i in range(1, 21):\n",
    "        poly *= (x - i)\n",
    "    return poly\n",
    "\n",
    "def dW(x):\n",
    "    poly = 1\n",
    "    if 1 <= x <= 20:\n",
    "        for i in range(1, 21):\n",
    "            poly *= (x - i) if i != x else 1\n",
    "    else:\n",
    "        raise ValueError('x must be netween [1, 20]')\n",
    "    return poly\n",
    "\n",
    "epsilon = 2e-15\n",
    "f = lambda x : wilkinson(x)\n",
    "df = lambda x : dW(x)\n",
    "g = lambda x : -1672280820.0 * np.power(x, 15.0)\n",
    "f_eps = lambda x, epsilon : f(x) + g(x) * epsilon\n",
    "root = scipy.optimize.fsolve(lambda x : f_eps(x, epsilon), 15.0)[0]\n",
    "droot = -epsilon * g(15.0) / df(15.0)\n",
    "print('x = r + Δr = %.8f' % root)\n",
    "print('Δr = %.8f' % droot)\n",
    "print('r = x - Δr = %.8f' % (root - droot))"
   ]
  },
  {
   "cell_type": "markdown",
   "metadata": {},
   "source": [
    "---\n",
    "# 1.4 Newton's Method"
   ]
  },
  {
   "cell_type": "code",
   "execution_count": 67,
   "metadata": {},
   "outputs": [],
   "source": [
    "def newton_method( f, df, x0, k = 500, tol = 1e-6) :\n",
    "    \"\"\"\n",
    "    Use Newton's method to find the root of the function\n",
    "    \n",
    "    Args:\n",
    "        f (function prototype) : function handle\n",
    "        df (function prototype) : derivative function handle\n",
    "        x0 (real number) : starting guess \n",
    "        k (integer) : number of iteration steps (default : 500)\n",
    "        tol (real number) : tolerance (default : 1e-6)\n",
    "        \n",
    "    Return:\n",
    "        Approximate solution xc\n",
    "        \n",
    "    Raises:\n",
    "        ValueError :\n",
    "            - f or df is None\n",
    "            - k is smaller than 0\n",
    "    \"\"\"\n",
    "    try:\n",
    "        if f is None or df is None :\n",
    "            raise ValueError('Function handle f or df is Null')\n",
    "        \n",
    "        if k <= 0 :\n",
    "            raise ValueError('Iteration k must be larger than 0')\n",
    "        \n",
    "        xc = x0\n",
    "        for _ in range(k) :\n",
    "            xt = xc - f(xc) / df(xc)\n",
    "            if tol > 0 and abs(xt - xc) / abs(xc) < tol :\n",
    "                return xt\n",
    "            else :\n",
    "                xc = xt\n",
    "        return xc\n",
    "    except ValueError as e :\n",
    "        print('ValueError Exception : ', e)\n",
    "        traceback.print_exception()   "
   ]
  },
  {
   "cell_type": "markdown",
   "metadata": {},
   "source": [
    "### Example\n",
    "Find the Newton's Method formula for the equation $x^3 + x - 1 = 0$."
   ]
  },
  {
   "cell_type": "code",
   "execution_count": 68,
   "metadata": {},
   "outputs": [
    {
     "name": "stdout",
     "output_type": "stream",
     "text": [
      "0.68232780\n"
     ]
    }
   ],
   "source": [
    "f = lambda x : np.power(x, 3) + x - 1\n",
    "df = lambda x : 3 * np.power(x, 2) + 1\n",
    "root = scipy.optimize.newton(f, 0, df)\n",
    "print('{:>.8f}'.format(root))"
   ]
  },
  {
   "cell_type": "markdown",
   "metadata": {},
   "source": [
    "## DEFINITION 1.10\n",
    "\n",
    "Let $e_i$ denote the error after step $i$ of an iterative method. The iteration is **quadratically convergent** if\n",
    "\n",
    "$$\n",
    "M = \\lim_{i \\rightarrow \\infty}{\\frac{e_{i + 1}}{e_i^2} < \\infty}\n",
    "$$"
   ]
  },
  {
   "cell_type": "markdown",
   "metadata": {},
   "source": [
    "## THEOREM 1.11 \n",
    "\n",
    "Let $f$ be twice continuously differentiable and $f(r) = 0$. If $f'(r) = 0$, then Newton’s Method is locally and quadratically convergent to $r$. The error $e_i$ at step $i$ satisfies\n",
    "\n",
    "$$ \\lim_{i \\rightarrow \\infty}{\\frac{e_{i + 1}}{e_i^2}} = M $$\n",
    "\n",
    "where\n",
    "\n",
    "$$ M = \\frac{f''(r)}{2f'(r)}$$."
   ]
  },
  {
   "cell_type": "markdown",
   "metadata": {},
   "source": [
    "### Example\n",
    "Find the Newton's Method formula for the equation $f(x) = x^2$."
   ]
  },
  {
   "cell_type": "code",
   "execution_count": 69,
   "metadata": {},
   "outputs": [
    {
     "name": "stdout",
     "output_type": "stream",
     "text": [
      "0.00000001\n"
     ]
    }
   ],
   "source": [
    "f = lambda x : np.power(x, 2)\n",
    "df = lambda x : 2 * x\n",
    "root = scipy.optimize.newton(f, 1, df)\n",
    "print('{:>.8f}'.format(root))"
   ]
  },
  {
   "cell_type": "markdown",
   "metadata": {},
   "source": [
    "## THEOREM 1.12\n",
    "\n",
    "Assume that the $(m + 1)$-times continuously differentiable function $f$ on $[a,b]$ has a multiplicity $m$ root at $r$. Then Newton’s Method is locally convergent to $r$, and the error $e_i$ at step $i$ satisfies\n",
    "\n",
    "$$ \\lim_{i \\rightarrow \\infty}{\\frac{e_{i + 1}}{e_i}} = S $$\n",
    "\n",
    "where $ S = (m − 1)/m $."
   ]
  },
  {
   "cell_type": "markdown",
   "metadata": {},
   "source": [
    "## THEOREM 1.13\n",
    "\n",
    "If $f$ is $(m + 1)$-times continuously differentiable on $[a,b]$, which contains a root $r$ of multiplicity $m > 1$, then Modified Newton’s Method\n",
    "\n",
    "$$\n",
    "x_{i+1} = x_i - \\frac{mf(x_i)}{f'(x_i)}\n",
    "$$\n",
    "\n",
    "converges locally and quadratically to $r$."
   ]
  },
  {
   "cell_type": "markdown",
   "metadata": {},
   "source": [
    "### Example\n",
    "\n",
    "Apply Newton’s Method to $f(x) = 4x^4 − 6x^2 − 11/4$ with starting guess $x_0 = 1/2$."
   ]
  },
  {
   "cell_type": "code",
   "execution_count": 70,
   "metadata": {},
   "outputs": [
    {
     "name": "stdout",
     "output_type": "stream",
     "text": [
      "Failed to converge after 50 iterations, value is 0.5.\n"
     ]
    }
   ],
   "source": [
    "try:\n",
    "    f = lambda x : 4 * np.power(x, 4) - 6 * np.power(x, 2) - 11 / 4\n",
    "    df = lambda x : 16 * np.power(x, 3) - 12 * x\n",
    "    root = scipy.optimize.newton(f, 0.5, df)\n",
    "    print('{:>.8f}'.format(root))\n",
    "except RuntimeError as e:\n",
    "    print(e)"
   ]
  },
  {
   "cell_type": "markdown",
   "metadata": {},
   "source": [
    "---\n",
    "## 1.4 Computer Problems"
   ]
  },
  {
   "cell_type": "markdown",
   "metadata": {},
   "source": [
    "1. Each equation has one root. Use Newton’s Method to approximate the root to eight correct decimal places."
   ]
  },
  {
   "cell_type": "markdown",
   "metadata": {},
   "source": [
    " (a) $x^3 = 2x + 2$"
   ]
  },
  {
   "cell_type": "code",
   "execution_count": 71,
   "metadata": {},
   "outputs": [
    {
     "name": "stdout",
     "output_type": "stream",
     "text": [
      "1.76929235\n"
     ]
    }
   ],
   "source": [
    "f = lambda x : np.power(x, 3) - 2 * x - 2\n",
    "df = lambda x : 3 * np.power(x, 2) - 2\n",
    "root = scipy.optimize.newton(f, 1, df)\n",
    "print('{:>.8f}'.format(root))"
   ]
  },
  {
   "cell_type": "markdown",
   "metadata": {},
   "source": [
    "(b) $e^x + x = 7$"
   ]
  },
  {
   "cell_type": "code",
   "execution_count": 72,
   "metadata": {},
   "outputs": [
    {
     "name": "stdout",
     "output_type": "stream",
     "text": [
      "1.67282170\n"
     ]
    }
   ],
   "source": [
    "f = lambda x : np.exp(x) + x - 7\n",
    "df = lambda x : np.exp(x) + 1\n",
    "root = scipy.optimize.newton(f, 1, df)\n",
    "print('{:>.8f}'.format(root))"
   ]
  },
  {
   "cell_type": "markdown",
   "metadata": {},
   "source": [
    "(c) $e^x + \\sin{x} = 4$"
   ]
  },
  {
   "cell_type": "code",
   "execution_count": 73,
   "metadata": {},
   "outputs": [
    {
     "name": "stdout",
     "output_type": "stream",
     "text": [
      "1.12998050\n"
     ]
    }
   ],
   "source": [
    "f = lambda x : np.exp(x) + np.sin(x) - 4\n",
    "df = lambda x : np.exp(x) + np.cos(x)\n",
    "root = scipy.optimize.newton(f, 1, df)\n",
    "print('{:>.8f}'.format(root))"
   ]
  },
  {
   "cell_type": "markdown",
   "metadata": {},
   "source": [
    "---\n",
    "2. Each equation has one real root. Use Newton’s Method to approximate the root to eight correct decimal places."
   ]
  },
  {
   "cell_type": "markdown",
   "metadata": {},
   "source": [
    "(a) $x^5 + x = 1$"
   ]
  },
  {
   "cell_type": "code",
   "execution_count": 74,
   "metadata": {},
   "outputs": [
    {
     "name": "stdout",
     "output_type": "stream",
     "text": [
      "0.75487767\n"
     ]
    }
   ],
   "source": [
    "f = lambda x : np.power(x, 5) + x - 1\n",
    "df = lambda x : 5 * np.power(x, 4) + 1\n",
    "root = scipy.optimize.newton(f, 1, df)\n",
    "print('{:>.8f}'.format(root))"
   ]
  },
  {
   "cell_type": "markdown",
   "metadata": {},
   "source": [
    " (b) $\\sin{x} = 6x + 5$"
   ]
  },
  {
   "cell_type": "code",
   "execution_count": 75,
   "metadata": {},
   "outputs": [
    {
     "name": "stdout",
     "output_type": "stream",
     "text": [
      "-0.97089892\n"
     ]
    }
   ],
   "source": [
    "f = lambda x : np.sin(x) - 6 * x - 5\n",
    "df = lambda x : np.cos(x) - 6\n",
    "root = scipy.optimize.newton(f, 1, df)\n",
    "print('{:>.8f}'.format(root))"
   ]
  },
  {
   "cell_type": "markdown",
   "metadata": {},
   "source": [
    "(c) $ln{x} + x^2 = 3$"
   ]
  },
  {
   "cell_type": "code",
   "execution_count": 76,
   "metadata": {},
   "outputs": [
    {
     "name": "stdout",
     "output_type": "stream",
     "text": [
      "1.59214294\n"
     ]
    }
   ],
   "source": [
    "f = lambda x : np.log(x) + np.power(x, 2) - 3\n",
    "df = lambda x : 1 / x + 2 * x\n",
    "root = scipy.optimize.newton(f, 1, df)\n",
    "print('{:>.8f}'.format(root))"
   ]
  },
  {
   "cell_type": "markdown",
   "metadata": {},
   "source": [
    "---\n",
    "3. Apply Newton’s Method to find the only root to as much accuracy as possible, and find the root’s multiplicity. Then use Modified Newton’s Method to converge to the root quadratically. Report the forward and backward errors of the best approximation obtained from each method."
   ]
  },
  {
   "cell_type": "markdown",
   "metadata": {},
   "source": [
    "(a) $f(x) = 27x^3 + 54x^2 + 36x + 8$"
   ]
  },
  {
   "cell_type": "code",
   "execution_count": 77,
   "metadata": {},
   "outputs": [
    {
     "name": "stdout",
     "output_type": "stream",
     "text": [
      "root = -0.66666226\n",
      "0.666616 ≈ 2/3 implies that multiplicity is 3 according to theorem 1.12\n",
      "forward  error : 0.00000441\n",
      "backward error : 0.00000000\n"
     ]
    }
   ],
   "source": [
    "f = lambda x : 27 * np.power(x, 3) + 54 * np.power(x, 2) + 36 * x + 8\n",
    "df = lambda x : 81 * np.power(x, 2) + 108 * x + 36\n",
    "root = scipy.optimize.newton(f, 1, df)\n",
    "print('root = {:>.8f}'.format(root))\n",
    "\n",
    "e_i = np.abs(scipy.optimize.newton(f, 1, df, maxiter = 10, disp = False) - root)\n",
    "e_ii = np.abs(scipy.optimize.newton(f, 1, df, maxiter = 11, disp = False) - root)\n",
    "print('{:.6f} ≈ 2/3 implies that multiplicity is 3 according to theorem 1.12'.format(e_ii / e_i))\n",
    "\n",
    "print('forward  error : {:.8f}'.format(np.abs(- 2 / 3 - root)))\n",
    "print('backward error : {:.8f}'.format(np.abs(f(root))))"
   ]
  },
  {
   "cell_type": "markdown",
   "metadata": {},
   "source": [
    "# 1.5 Root-Finding Without Derivatives"
   ]
  },
  {
   "cell_type": "code",
   "execution_count": 78,
   "metadata": {},
   "outputs": [],
   "source": [
    "def secant_method(f, x0, x1, k=500) :\n",
    "    \"\"\"\n",
    "    Use Secant's method to find the root of the formula\n",
    "    \n",
    "    Args:\n",
    "        f (function prototype) : function handle\n",
    "        x0 (real number) : initial guess\n",
    "        x1 (real number) : initial guess \n",
    "        k (integer) : number of iteration steps (default : 500)\n",
    "        \n",
    "    Return:\n",
    "        Approximate solution xc\n",
    "        \n",
    "    Raises:\n",
    "    \n",
    "    \"\"\"\n",
    "    x = np.zeros(k)\n",
    "    x[0] = x0\n",
    "    x[1] = x1\n",
    "    for i in range(1,k - 1):\n",
    "        if f(x[i]) - f(x[i - 1]) == 0 :\n",
    "            return x[i]\n",
    "        x[i + 1] = x[i] - f(x[i]) * (x[i] - x[i - 1])  / (f(x[i]) - f(x[i - 1]))\n",
    "        \n",
    "    return x[k - 1]"
   ]
  },
  {
   "cell_type": "markdown",
   "metadata": {},
   "source": [
    "### Example \n",
    "Apply the Secant Method with starting guesses $x_0 = 0,x_1 = 1$ to find the root of $f(x)=x^3 + x + 1$"
   ]
  },
  {
   "cell_type": "code",
   "execution_count": 79,
   "metadata": {},
   "outputs": [
    {
     "data": {
      "image/png": "[encoded data removed]",
      "text/latex": [
       "$\\displaystyle 0.682327803828019$"
      ],
      "text/plain": [
       "0.6823278038280193"
      ]
     },
     "execution_count": 79,
     "metadata": {},
     "output_type": "execute_result"
    }
   ],
   "source": [
    "f = lambda x : math.pow(x, 3) + x - 1\n",
    "secant_method(f, 0, 1, 100)"
   ]
  },
  {
   "cell_type": "code",
   "execution_count": 80,
   "metadata": {},
   "outputs": [],
   "source": [
    "def false_position_method(f, a, b, k) :\n",
    "    \"\"\"\n",
    "    Use false position method to find the root of the formula f\n",
    "    \n",
    "    Args:\n",
    "        f (function prototype) : function handle\n",
    "        a (real number) : the lowerbound of the bracket of initial guess\n",
    "        b (real number) : the upperbound of the bracket of initial guess\n",
    "        k (integer) : number of iteration steps (default : 500)\n",
    "        \n",
    "    Return:\n",
    "        Approximate solution xc\n",
    "        \n",
    "    Raises:\n",
    "        ValueError:\n",
    "            - f(a) * f(b) must be smaller than 0 (exclude zero)\n",
    "        \n",
    "    \"\"\"\n",
    "    if f(a) * f(b) >= 0 :\n",
    "        raise ValueError('f(a) * f(b) must be < 0')\n",
    "    for _ in range(k) :\n",
    "        c = (b * f(a) - a * f(b)) / (f(a) - f(b))\n",
    "        if f(c) == 0 :\n",
    "            return c\n",
    "        if f(a) * f(c) < 0 :\n",
    "            b = c\n",
    "        else :\n",
    "            a = c\n",
    "    return c"
   ]
  },
  {
   "cell_type": "markdown",
   "metadata": {},
   "source": [
    "### Example\n",
    "Apply the Method of False Position on interval $[-1,1]$ to find the root $r = 0$ of $f(x) = x^3 - 2x^2 + \\frac{3}{2}x$"
   ]
  },
  {
   "cell_type": "code",
   "execution_count": 81,
   "metadata": {},
   "outputs": [
    {
     "data": {
      "image/png": "[encoded data removed]",
      "text/latex": [
       "$\\displaystyle 7.5283500535915 \\cdot 10^{-18}$"
      ],
      "text/plain": [
       "7.528350053591502e-18"
      ]
     },
     "execution_count": 81,
     "metadata": {},
     "output_type": "execute_result"
    }
   ],
   "source": [
    "f = lambda x : pow(x, 3) - 2 * pow(x, 2) + 1.5 * x\n",
    "false_position_method(f, -1, 1, 100)"
   ]
  },
  {
   "cell_type": "code",
   "execution_count": 82,
   "metadata": {},
   "outputs": [],
   "source": [
    "def inverse_quadratic_interpolation(f, x0, x1, x2, k):\n",
    "    a = x0\n",
    "    b = x1\n",
    "    c = x2\n",
    "    for _ in range(k) :\n",
    "        q = f(a) / f(b)\n",
    "        r = f(c) / f(b)\n",
    "        s = f(c) / f(a)\n",
    "        \n",
    "        denominator = (q - 1) * (r - 1) * (s - 1)\n",
    "        if denominator == 0 :\n",
    "            break\n",
    "        \n",
    "        tmp = c - (r * (r - q) * (c - b) + (1 - r) * s * (c - a)) / denominator\n",
    "        a = b\n",
    "        b = c\n",
    "        c = tmp\n",
    "        \n",
    "        \n",
    "    return c"
   ]
  },
  {
   "cell_type": "code",
   "execution_count": 83,
   "metadata": {},
   "outputs": [
    {
     "data": {
      "image/png": "[encoded data removed]",
      "text/latex": [
       "$\\displaystyle 0.682327803828019$"
      ],
      "text/plain": [
       "0.6823278038280193"
      ]
     },
     "execution_count": 83,
     "metadata": {},
     "output_type": "execute_result"
    }
   ],
   "source": [
    "f = lambda x : pow(x, 3) + x - 1\n",
    "inverse_quadratic_interpolation(f, 0, 0.5, 1, 20)"
   ]
  },
  {
   "cell_type": "markdown",
   "metadata": {},
   "source": [
    "---\n",
    "## MIT License\n",
    "\n",
    "Copyright (c) 2020 Jim00000\n",
    "\n",
    "Permission is hereby granted, free of charge, to any person obtaining a copy\n",
    "of this software and associated documentation files (the \"Software\"), to deal\n",
    "in the Software without restriction, including without limitation the rights\n",
    "to use, copy, modify, merge, publish, distribute, sublicense, and/or sell\n",
    "copies of the Software, and to permit persons to whom the Software is\n",
    "furnished to do so, subject to the following conditions:\n",
    "\n",
    "The above copyright notice and this permission notice shall be included in all\n",
    "copies or substantial portions of the Software."
   ]
  }
 ],
 "metadata": {
  "kernelspec": {
   "display_name": "Python 3",
   "language": "python",
   "name": "python3"
  },
  "language_info": {
   "codemirror_mode": {
    "name": "ipython",
    "version": 3
   },
   "file_extension": ".py",
   "mimetype": "text/x-python",
   "name": "python",
   "nbconvert_exporter": "python",
   "pygments_lexer": "ipython3",
   "version": "3.8.6"
  }
 },
 "nbformat": 4,
 "nbformat_minor": 2
}
