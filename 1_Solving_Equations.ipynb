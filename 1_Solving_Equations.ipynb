{
 "cells": [
  {
   "cell_type": "markdown",
   "metadata": {},
   "source": [
    "# ★ Solving Equations ★"
   ]
  },
  {
   "cell_type": "markdown",
   "metadata": {},
   "source": [
    "# 1.1 The Bisection Method"
   ]
  },
  {
   "cell_type": "markdown",
   "metadata": {},
   "source": [
    "## DEFINITION 1.1\n",
    "\n",
    "The function $f(x)$ has a root at $x = r$ if $f(r) = 0$"
   ]
  },
  {
   "cell_type": "markdown",
   "metadata": {},
   "source": [
    "## THEOREM 1.2\n",
    "\n",
    "Let $f$ be a continuous function on $[a, b]$, satisfying $f(a)f(b) < 0$. Then $f$ has a root between $a$ and $b$, that is, that exists a number $r$ satisfying $a < r < b$ and $f(r) = 0$."
   ]
  },
  {
   "cell_type": "code",
   "execution_count": 1,
   "metadata": {},
   "outputs": [],
   "source": [
    "# Import modules\n",
    "import traceback\n",
    "import math\n",
    "import pandas as pd\n",
    "import numpy as np\n",
    "import scipy\n",
    "import scipy.linalg as LA\n",
    "import matplotlib.pyplot as plt\n",
    "\n",
    "from scipy import optimize"
   ]
  },
  {
   "cell_type": "code",
   "execution_count": 2,
   "metadata": {},
   "outputs": [],
   "source": [
    "def bisect(f, a, b, tol):\n",
    "    \"\"\"\n",
    "    Computes approximate solution of f(x)=0\n",
    "    \n",
    "    Arguments:\n",
    "        f (function prototype) : function handle \n",
    "        a (real number) : left bound of the interval\n",
    "        b (real number) : right bound of the interval\n",
    "        tol (real number) : tolerance\n",
    "        \n",
    "    Returns:\n",
    "        Approximate solution x\n",
    "        \n",
    "    Raises:\n",
    "        ValueError:\n",
    "            - a * b must be smaller than zero\n",
    "            - a > b will be considered to be wrong\n",
    "    \"\"\"\n",
    "    try:\n",
    "        if a > b :\n",
    "            raise ValueError('a must be <= b')\n",
    "        \n",
    "        fa = f(a)\n",
    "        fb = f(b)\n",
    "        \n",
    "        if np.sign(fa) * np.sign(fb) >= 0 :\n",
    "            raise ValueError('It must be verified that f(a) * f(b) < 0')\n",
    "            \n",
    "        while (b - a) / 2 > tol :\n",
    "            # Find the intermediate point  \n",
    "            c = (a + b) / 2\n",
    "            fc = f(c)\n",
    "            if fc == 0 :\n",
    "                return c\n",
    "            elif fa * fc < 0 :\n",
    "                b = c\n",
    "                fb = fc\n",
    "            else :\n",
    "                a = c\n",
    "                fa = fc\n",
    "                \n",
    "        return (a + b) / 2\n",
    "            \n",
    "    except ValueError as e :\n",
    "        print('ValueError Exception : ', e)\n",
    "        traceback.print_exception()\n",
    "    "
   ]
  },
  {
   "cell_type": "markdown",
   "metadata": {},
   "source": [
    "### Example \n",
    "\n",
    "Find a root of $f(x) = x^3 + x - 1$ by using the Bisection Method on the interval $[0, 1]$."
   ]
  },
  {
   "cell_type": "code",
   "execution_count": 3,
   "metadata": {
    "scrolled": true
   },
   "outputs": [
    {
     "name": "stdout",
     "output_type": "stream",
     "text": [
      "0.68232780\n"
     ]
    }
   ],
   "source": [
    "root = scipy.optimize.bisect(lambda x : math.pow(x, 3) + x - 1, 0, 1)\n",
    "print('{:>.8f}'.format(root))"
   ]
  },
  {
   "cell_type": "markdown",
   "metadata": {},
   "source": [
    "## Definition 1.3\n",
    "A solution is correct within  $p$ decimal places if the error is less than $0.5 \\times 10^{-p}$."
   ]
  },
  {
   "cell_type": "markdown",
   "metadata": {},
   "source": [
    "### Example\n",
    "\n",
    "Use the Bisection Method to find a root of $f(x) = cosx - x$ in the interval $[0, 1]$ to within six correct places."
   ]
  },
  {
   "cell_type": "code",
   "execution_count": 4,
   "metadata": {},
   "outputs": [
    {
     "name": "stdout",
     "output_type": "stream",
     "text": [
      "0.739085\n"
     ]
    }
   ],
   "source": [
    "root = scipy.optimize.bisect(lambda x : math.cos(x) - x, 0, 1)\n",
    "print('{:>.6f}'.format(root))"
   ]
  },
  {
   "cell_type": "markdown",
   "metadata": {},
   "source": [
    "## 1.1 Computer Problems"
   ]
  },
  {
   "cell_type": "markdown",
   "metadata": {},
   "source": [
    "1. Use the Bisection Method to ﬁnd the root to six correct decimal places."
   ]
  },
  {
   "cell_type": "markdown",
   "metadata": {},
   "source": [
    "(a) $x^3 = 9$"
   ]
  },
  {
   "cell_type": "code",
   "execution_count": 5,
   "metadata": {},
   "outputs": [
    {
     "name": "stdout",
     "output_type": "stream",
     "text": [
      "2.080084\n"
     ]
    }
   ],
   "source": [
    "root = scipy.optimize.bisect(lambda x : np.power(x, 3) - 9, 2, 3)\n",
    "print('{:>.6f}'.format(root))"
   ]
  },
  {
   "cell_type": "markdown",
   "metadata": {},
   "source": [
    "(b) $3x^3 + x^2 = x + 5$"
   ]
  },
  {
   "cell_type": "code",
   "execution_count": 6,
   "metadata": {},
   "outputs": [
    {
     "name": "stdout",
     "output_type": "stream",
     "text": [
      "1.169726\n"
     ]
    }
   ],
   "source": [
    "root = scipy.optimize.bisect(lambda x : 3 * np.power(x, 3) + np.power(x, 2) - x - 5, 1, 2)\n",
    "print('{:>.6f}'.format(root))"
   ]
  },
  {
   "cell_type": "markdown",
   "metadata": {},
   "source": [
    "(c) $\\cos^2{x} + 6 = x$"
   ]
  },
  {
   "cell_type": "code",
   "execution_count": 7,
   "metadata": {},
   "outputs": [
    {
     "name": "stdout",
     "output_type": "stream",
     "text": [
      "6.776092\n"
     ]
    }
   ],
   "source": [
    "root = scipy.optimize.bisect(lambda x : np.power(np.cos(x), 2) - x + 6, 0, 10)\n",
    "print('{:>.6f}'.format(root))"
   ]
  },
  {
   "cell_type": "markdown",
   "metadata": {},
   "source": [
    "---\n",
    "2. Use the Bisection Method to ﬁnd the root to eight correct decimal places."
   ]
  },
  {
   "cell_type": "markdown",
   "metadata": {},
   "source": [
    "(a) $x^5 + x = 1$"
   ]
  },
  {
   "cell_type": "code",
   "execution_count": 8,
   "metadata": {},
   "outputs": [
    {
     "name": "stdout",
     "output_type": "stream",
     "text": [
      "0.75487767\n"
     ]
    }
   ],
   "source": [
    "root = scipy.optimize.bisect(lambda x : np.power(x, 5) + x - 1, 0, 1)\n",
    "print('{:>.8f}'.format(root))"
   ]
  },
  {
   "cell_type": "markdown",
   "metadata": {},
   "source": [
    "(b) $sin{x} = 6x + 5$"
   ]
  },
  {
   "cell_type": "code",
   "execution_count": 9,
   "metadata": {},
   "outputs": [
    {
     "name": "stdout",
     "output_type": "stream",
     "text": [
      "-0.97089892\n"
     ]
    }
   ],
   "source": [
    "root = scipy.optimize.bisect(lambda x : np.sin(x) - 6 * x - 5, -5, 5)\n",
    "print('{:>.8f}'.format(root))"
   ]
  },
  {
   "cell_type": "markdown",
   "metadata": {},
   "source": [
    "(c) $ln{x} + x^2 = 3$"
   ]
  },
  {
   "cell_type": "code",
   "execution_count": 10,
   "metadata": {},
   "outputs": [
    {
     "name": "stdout",
     "output_type": "stream",
     "text": [
      "1.59214294\n"
     ]
    }
   ],
   "source": [
    "root = scipy.optimize.bisect(lambda x : np.log(x) + np.power(x, 2) - 3, 1, 2)\n",
    "print('{:>.8f}'.format(root))"
   ]
  },
  {
   "cell_type": "markdown",
   "metadata": {},
   "source": [
    "---\n",
    "3. Use the Bisection Method to locate all solutions of the following equations. Sketch the function by using MATLAB’s plot command and identify three intervals of length one that contain a root. Then find the roots to six correct decimal places."
   ]
  },
  {
   "cell_type": "markdown",
   "metadata": {},
   "source": [
    "(a) $2x^3 - 6x - 1 = 0$"
   ]
  },
  {
   "cell_type": "code",
   "execution_count": 57,
   "metadata": {},
   "outputs": [
    {
     "data": {
      "image/png": "[encoded data removed]",
      "text/plain": [
       "<Figure size 432x288 with 1 Axes>"
      ]
     },
     "metadata": {
      "needs_background": "light"
     },
     "output_type": "display_data"
    }
   ],
   "source": [
    "f = lambda x : 2 * np.power(x, 3) - 6 * x - 1\n",
    "xpts = np.linspace(-2, 2, 101)\n",
    "ypts = f(xpts)\n",
    "\n",
    "plt.plot(xpts, ypts)\n",
    "plt.xlabel('x')\n",
    "plt.ylabel('y')\n",
    "plt.title('$f(x) = 2x^3 - 6x - 1$')\n",
    "plt.grid(True)\n",
    "plt.show()"
   ]
  },
  {
   "cell_type": "markdown",
   "metadata": {},
   "source": [
    "(b) $e^{x-2} + x^3 - x = 0$"
   ]
  },
  {
   "cell_type": "markdown",
   "metadata": {},
   "source": [
    "(c) $1 + 5x - 6x^3 - e^{2x} = 0$"
   ]
  },
  {
   "cell_type": "code",
   "execution_count": 11,
   "metadata": {},
   "outputs": [],
   "source": [
    "def generate_points(f,xs):\n",
    "    ys = np.zeros(xs.size)\n",
    "    for i in range(len(xs)):\n",
    "        ys[i] = f(xs[i])\n",
    "    return ys"
   ]
  },
  {
   "cell_type": "code",
   "execution_count": 12,
   "metadata": {},
   "outputs": [
    {
     "data": {
      "image/png": "[encoded data removed]",
      "text/plain": [
       "<Figure size 432x288 with 1 Axes>"
      ]
     },
     "metadata": {
      "needs_background": "light"
     },
     "output_type": "display_data"
    },
    {
     "name": "stdout",
     "output_type": "stream",
     "text": [
      "x = 0.165165\n"
     ]
    }
   ],
   "source": [
    "fa = lambda x : 2 * math.pow(x,3) + 6 * x - 1\n",
    "xs = np.linspace(0,1,21)\n",
    "ys = generate_points(fa,xs)\n",
    "plt.plot(xs,ys)\n",
    "plt.xlabel('x-axis')\n",
    "plt.ylabel('y-axis')\n",
    "plt.grid(True)\n",
    "plt.show()\n",
    "\n",
    "fa_xc = bisect(fa,0,1,1e-7)\n",
    "print('x =',round(fa_xc,6))"
   ]
  },
  {
   "cell_type": "code",
   "execution_count": 13,
   "metadata": {},
   "outputs": [
    {
     "data": {
      "image/png": "[encoded data removed]",
      "text/plain": [
       "<Figure size 432x288 with 1 Axes>"
      ]
     },
     "metadata": {
      "needs_background": "light"
     },
     "output_type": "display_data"
    },
    {
     "name": "stdout",
     "output_type": "stream",
     "text": [
      "x = -1.023482\n",
      "x = 0.163822\n",
      "x = 0.788941\n"
     ]
    }
   ],
   "source": [
    "fb = lambda x : math.exp(x - 2) + math.pow(x,3) - x\n",
    "xs = np.linspace(-1.5,1,31)\n",
    "ys = generate_points(fb,xs)\n",
    "\n",
    "plt.plot(xs,ys)\n",
    "plt.xlabel('x-axis')\n",
    "plt.ylabel('y-axis')\n",
    "plt.grid(True)\n",
    "plt.show()\n",
    "\n",
    "fb_xc = bisect(fb,-1.5,-0.5,1e-7)\n",
    "print('x =',round(fb_xc,6))\n",
    "fb_xc = bisect(fb,-0.5,0.5,1e-7)\n",
    "print('x =',round(fb_xc,6))\n",
    "fb_xc = bisect(fb,0.5,1.5,1e-7)\n",
    "print('x =',round(fb_xc,6))"
   ]
  },
  {
   "cell_type": "code",
   "execution_count": 14,
   "metadata": {},
   "outputs": [
    {
     "data": {
      "image/png": "[encoded data removed]",
      "text/plain": [
       "<Figure size 432x288 with 1 Axes>"
      ]
     },
     "metadata": {
      "needs_background": "light"
     },
     "output_type": "display_data"
    },
    {
     "name": "stdout",
     "output_type": "stream",
     "text": [
      "x = -0.351014\n",
      "x = -0.749061\n"
     ]
    }
   ],
   "source": [
    "fc = lambda x : 1 + 5 * x - 6 * math.pow(x,3) + math.exp(2 * x) \n",
    "xs = np.linspace(-1,0,51)\n",
    "ys = generate_points(fc,xs)\n",
    "\n",
    "plt.plot(xs,ys)\n",
    "plt.xlabel('x-axis')\n",
    "plt.ylabel('y-axis')\n",
    "plt.grid(True)\n",
    "plt.show()\n",
    "\n",
    "fc_xc = bisect(fc,-0.5,0.5,1e-7)\n",
    "print('x =',round(fc_xc,6))\n",
    "fc_xc = bisect(fc,-1.5,-0.5,1e-7)\n",
    "print('x =',round(fc_xc,6))"
   ]
  },
  {
   "cell_type": "markdown",
   "metadata": {},
   "source": [
    "---\n",
    "The **Hilbert Matrix**  is the n × n matrix whose ijth entry is $\\frac{1}{i + j - 1}$. Let $A$ denote the\n",
    "5 × 5 Hilbert matrix. Its largest eigenvalue is about 1.567. Use the Bisection Method to decide\n",
    "how to change the upper left entry $A_{11}$ to make the largest eigenvalue of $A$ equal to $\\pi$."
   ]
  },
  {
   "cell_type": "code",
   "execution_count": 15,
   "metadata": {},
   "outputs": [
    {
     "data": {
      "image/png": "[encoded data removed]",
      "text/plain": [
       "<Figure size 432x288 with 1 Axes>"
      ]
     },
     "metadata": {
      "needs_background": "light"
     },
     "output_type": "display_data"
    },
    {
     "name": "stdout",
     "output_type": "stream",
     "text": [
      "Make A[1,1] to be 2.948011 to make the largest eigenvalue equal to pi\n"
     ]
    }
   ],
   "source": [
    "def rev_hilbert_matrix_eigvals(upper_left_element):\n",
    "    hilbert_matrix = LA.hilbert(5)\n",
    "    hilbert_matrix[0][0] = upper_left_element\n",
    "    return LA.eigvals(hilbert_matrix)\n",
    "\n",
    "f = lambda x : np.max(rev_hilbert_matrix_eigvals(x)).real - scipy.pi\n",
    "xs = np.linspace(2,4,21)\n",
    "ys = generate_points(f,xs)\n",
    "\n",
    "plt.plot(xs,ys)\n",
    "plt.xlabel('x-axis')\n",
    "plt.ylabel('y-axis')\n",
    "plt.grid(True)\n",
    "plt.show()\n",
    "\n",
    "xc = bisect(f,2.5,3.5,1e-7)\n",
    "print('Make A[1,1] to be',round(xc,6),'to make the largest eigenvalue equal to pi')"
   ]
  },
  {
   "cell_type": "markdown",
   "metadata": {},
   "source": [
    "# 1.2 Fixed-Point Iteration"
   ]
  },
  {
   "cell_type": "code",
   "execution_count": 16,
   "metadata": {},
   "outputs": [],
   "source": [
    "def fpi(g, x0, k, tol = 0):\n",
    "    \"\"\"\n",
    "    Computes approximate solution of g(x)=x by Fixed-Point Iteration\n",
    "    \n",
    "    Args:\n",
    "        g (function prototype) : function handle\n",
    "        x0 (real number) : starting guess \n",
    "        k (integer) : number of iteration steps\n",
    "        tol (real number) : tolerance (default : 0)\n",
    "        \n",
    "    Returns:\n",
    "        Approximate solution xc\n",
    "    \n",
    "    Raises:\n",
    "        ValueError :\n",
    "            - g is None\n",
    "            - k is not the type of positive integer \n",
    "            - tol is negative\n",
    "    \"\"\"\n",
    "    try:\n",
    "        if g is None :\n",
    "            raise ValueError('f is null')\n",
    "        if k != int(k) :\n",
    "            raise ValueError('k must be type of integer')\n",
    "        if k < 0 :\n",
    "            raise ValueError('k must be positive integer')\n",
    "        if tol < 0 :\n",
    "            raise ValueError('tol must be positive')\n",
    "            \n",
    "        x = x0\n",
    "        for _ in range(k) :\n",
    "            tx = g(x)\n",
    "            if tol > 0 and abs(tx - x) / abs(tx) < tol :\n",
    "                return tx\n",
    "            else :\n",
    "                x = tx\n",
    "        \n",
    "        return x\n",
    "    except ValueError as e:\n",
    "        print('ValueError Exception : ', e)\n",
    "        traceback.print_exception()"
   ]
  },
  {
   "cell_type": "markdown",
   "metadata": {},
   "source": [
    "### Theorem\n",
    "Assume that $g$ is continuously differentiable, that $g(r) = r$, and that $S = \\left | {g}'(r) \\right | < 1$. Then Fixed-Point Iteration converges linearly with rate $S$ to the fixed point $r$ for initial guesses sufficiently close to $r$."
   ]
  },
  {
   "cell_type": "markdown",
   "metadata": {},
   "source": [
    "### Example\n",
    "Use Fixed-Point Iteration to find a root of $cosx = sinx$"
   ]
  },
  {
   "cell_type": "code",
   "execution_count": 17,
   "metadata": {},
   "outputs": [
    {
     "name": "stdout",
     "output_type": "stream",
     "text": [
      "        g(x)\n",
      "0   0.000000\n",
      "1   1.000000\n",
      "2   0.698831\n",
      "3   0.821102\n",
      "4   0.770620\n",
      "5   0.791519\n",
      "6   0.782863\n",
      "7   0.786448\n",
      "8   0.784963\n",
      "9   0.785578\n",
      "10  0.785324\n",
      "11  0.785429\n",
      "12  0.785385\n",
      "13  0.785403\n",
      "14  0.785396\n",
      "15  0.785399\n",
      "16  0.785398\n",
      "17  0.785398\n",
      "18  0.785398\n",
      "19  0.785398\n",
      "20  0.785398\n"
     ]
    }
   ],
   "source": [
    "\"\"\"\n",
    "cosx = sinx\n",
    "=> x + cosx - sinx = x\n",
    "=> g(x) = x + cosx - sinx\n",
    "\"\"\"\n",
    "g = lambda x : x + math.cos(x) - math.sin(x)\n",
    "x = np.arange(21)\n",
    "df = pd.DataFrame()\n",
    "\n",
    "df['g(x)']= [fpi(g, 0, x[i]) for i in range(21)]\n",
    "\n",
    "print(df)"
   ]
  },
  {
   "cell_type": "markdown",
   "metadata": {},
   "source": [
    "### Example\n",
    "Find the fixed points of $g(x)=2.8x - x^2$"
   ]
  },
  {
   "cell_type": "code",
   "execution_count": 18,
   "metadata": {},
   "outputs": [
    {
     "name": "stdout",
     "output_type": "stream",
     "text": [
      "1.8000000000000003\n"
     ]
    }
   ],
   "source": [
    "g = lambda x : 2.8 * x - math.pow(x,2)\n",
    "print(fpi(g, 0.1, 300))"
   ]
  },
  {
   "cell_type": "markdown",
   "metadata": {},
   "source": [
    "## 1.2 Computer Problems"
   ]
  },
  {
   "cell_type": "markdown",
   "metadata": {},
   "source": [
    "Apply Fixed-Point Iteration to find the solution of each equation to eight correct decimal places.\n",
    "- (a) $ x^3 = 2x + 2 $\n",
    "- (b) $ e^x + x = 7 $\n",
    "- (c) $ e^x + \\sin x = 4$"
   ]
  },
  {
   "cell_type": "code",
   "execution_count": 19,
   "metadata": {},
   "outputs": [
    {
     "name": "stdout",
     "output_type": "stream",
     "text": [
      "1.7692923532114473\n"
     ]
    }
   ],
   "source": [
    "\"\"\"\n",
    "(a) x^3 = 2x + 2\n",
    "==> x = (2x + 2)^(1/3)\n",
    "==> g(x) = (2x + 2)^(1/3)\n",
    "\"\"\"\n",
    "a = lambda x : math.pow(2 * x + 2, 1 / 3)\n",
    "print(fpi(a,0,100,1e-8))"
   ]
  },
  {
   "cell_type": "code",
   "execution_count": 20,
   "metadata": {},
   "outputs": [
    {
     "name": "stdout",
     "output_type": "stream",
     "text": [
      "1.6728216991633662\n"
     ]
    }
   ],
   "source": [
    "\"\"\"\n",
    "(b) e^x + x = 7\n",
    "==> e^x = 7 - x\n",
    "==> ln(7 - x) = x\n",
    "==> g(x) = ln(7 - x)\n",
    "\"\"\"\n",
    "b = lambda x : math.log(7 - x)\n",
    "print(fpi(b,0,200,1e-8))"
   ]
  },
  {
   "cell_type": "code",
   "execution_count": 21,
   "metadata": {},
   "outputs": [
    {
     "name": "stdout",
     "output_type": "stream",
     "text": [
      "1.1299804991229483\n"
     ]
    }
   ],
   "source": [
    "\"\"\"\n",
    "(c) e^x + sinx = 4\n",
    "==> e^x = 4 - sinx\n",
    "==> x = ln(4 - sinx)\n",
    "\"\"\"\n",
    "c = lambda x : math.log(4 - math.sin(x))\n",
    "print(fpi(c,0,100,1e-8))"
   ]
  },
  {
   "cell_type": "markdown",
   "metadata": {},
   "source": [
    "# 1.3 Limits of Accuracy"
   ]
  },
  {
   "cell_type": "markdown",
   "metadata": {},
   "source": [
    "### Definition\n",
    "Assume that $f$ is a function and  that $r$ is a root, meaning that it satisfies $f(r)=0$. Assume that $x_a$ is an approximation to $r$. For the root-finding problem, the ** backward error ** of the approximation $x_a$ is $\\left | f(x_a) \\right |$ and  the ** forward error **  is $\\left | r - x_a \\right |$"
   ]
  },
  {
   "cell_type": "markdown",
   "metadata": {},
   "source": [
    "### Definition\n",
    "Assume that $r$ is a root of the differentiable function $f$ ; that is, assume that $f(r) = 0$. Then if $0 = f(r) = f'(r) = f''(r) = ... = f^{(m-1)}(r)$, but $f^{(m)}(r) \\neq 0$, we say that $f$ has a **root** of **multiplicity** $m$ at $r$. We say that $f$ has a **multiple root** at $r$ if the multiplicity is greater than one. The root is called **simple** if the multiplicity is one."
   ]
  },
  {
   "cell_type": "markdown",
   "metadata": {},
   "source": [
    "### Example\n",
    "The function $f(x) = sinx - x$ has  a triple root at $r = 0$. Find the forward and backward error of the approximate root $x_a = 0.001$."
   ]
  },
  {
   "cell_type": "markdown",
   "metadata": {},
   "source": [
    "$f(0) = \\sin0 - 0 = 0$<br/>\n",
    "$f'(0) = \\cos0 - 1 = 0$<br/>\n",
    "$f''(0) = -\\sin0 - 0 = 0$<br/>\n",
    "$f'''(0) = -\\cos0 - 0 = -1$<br/>\n",
    "\n",
    "The forward error is $\\left | r - x_a \\right | = 10^{-3}$<br/>\n",
    "The backward error is $\\left | f(x_a) \\right | = \\left | sin(0.001) - 0.001 \\right | \\approx 1.6667 \\times 10^{-10}$"
   ]
  },
  {
   "cell_type": "markdown",
   "metadata": {},
   "source": [
    "   ### Sensitivity Formula for Roots\n",
    "   Assume that $r$ is a root of $f(x)$ and $r + \\Delta r$ is a root of $f(x) + \\epsilon g(x)$. Then \n",
    "   $$ \\Delta r \\approx -\\frac{\\epsilon g(r)}{f'(r)}$$\n",
    "   if $\\epsilon \\ll  f'(r)$"
   ]
  },
  {
   "cell_type": "markdown",
   "metadata": {},
   "source": [
    "## 1.3 Computer Problems"
   ]
  },
  {
   "cell_type": "markdown",
   "metadata": {},
   "source": [
    "Let $f(x) = sinx - x$.\n",
    "- (a) Find the multiplicity of the root r = 0.\n",
    "- (b) Use initial guess x = 0.1 to locate a root. What are the forward and backward errors"
   ]
  },
  {
   "cell_type": "markdown",
   "metadata": {},
   "source": [
    "$f'(0) = \\cos0 - 1 = 0$<br/>\n",
    "$f''(0) = -\\sin0 = 0$<br/>\n",
    "$f'''(0) = -\\cos0 = -1$<br/>\n",
    "\n",
    "multiplicity = 3"
   ]
  },
  {
   "cell_type": "code",
   "execution_count": 22,
   "metadata": {},
   "outputs": [
    {
     "name": "stdout",
     "output_type": "stream",
     "text": [
      "forward error = 0.0000000213751396\n",
      "backward error = 0.0000000000000000\n"
     ]
    }
   ],
   "source": [
    "from scipy.optimize import fsolve\n",
    "f = lambda x : math.sin(x) - x\n",
    "r = fsolve(f,0.1)[0]\n",
    "print('forward error = %.16f' %(abs(r)))\n",
    "print('backward error = %.16f' %(abs(f(r))))"
   ]
  },
  {
   "cell_type": "markdown",
   "metadata": {},
   "source": [
    "---\n",
    "(a) Use fzero to find the root of $f(x) = 2x\\cos{x} - 2x + \\sin{x^3}$ on $\\left [ -0.1, 0.2 \\right ]$. Report the forward and backward errors.\n",
    "\n",
    "(b) Run the Bisection Method with initial interval $\\left [ -0.1, 0.2 \\right ]$ to find as many correct digits as possible"
   ]
  },
  {
   "cell_type": "code",
   "execution_count": 23,
   "metadata": {},
   "outputs": [
    {
     "name": "stdout",
     "output_type": "stream",
     "text": [
      "x = 0.0001217354799952\n",
      "forward  error : 1.217355e-04\n",
      "backward error : 2.019484e-28\n"
     ]
    }
   ],
   "source": [
    "from scipy.optimize import fsolve\n",
    "f = lambda x : 2 * x * math.cos(x) - 2 * x + math.sin(math.pow(x, 3))\n",
    "r = fsolve(f,0.04)[0]\n",
    "print('x = %.16f' % r)\n",
    "print('forward  error : %e' % abs(r) )\n",
    "print('backward error : %e' % abs(f(r)) )"
   ]
  },
  {
   "cell_type": "code",
   "execution_count": 24,
   "metadata": {},
   "outputs": [
    {
     "name": "stdout",
     "output_type": "stream",
     "text": [
      "x = -0.0000000238418579\n",
      "forward  error : 2.384186e-08\n",
      "backward error : 2.938736e-39\n"
     ]
    }
   ],
   "source": [
    "\"\"\"\n",
    "f(x) \n",
    "=> 2x * (cos(x) - 1) + sin(x^3)\n",
    "=> (2x * (cos^2(x) - 1) + (cos(x) + 1) * sin(x^3)) / (cos(x) + 1)\n",
    "=> (2x * -sin^2(x)  + (cos(x) + 1) * sin(x^3)) / (cos(x) + 1)\n",
    "\"\"\"\n",
    "f = lambda x : (2 * x * -math.pow(math.sin(x), 2) + (math.cos(x) + 1) * math.sin(math.pow(x, 3))) / (math.cos(x) + 1)\n",
    "r = bisect(f,-0.1,0.2,1e-7)\n",
    "print('x = %.16f' % r)\n",
    "print('forward  error : %e' % abs(r) )\n",
    "print('backward error : %e' % abs(f(r)) )"
   ]
  },
  {
   "cell_type": "markdown",
   "metadata": {},
   "source": [
    "# 1.4 Newton's Method"
   ]
  },
  {
   "cell_type": "code",
   "execution_count": 25,
   "metadata": {},
   "outputs": [],
   "source": [
    "def newton_method( f, df, x0, k = 500, tol = 1e-6) :\n",
    "    \"\"\"\n",
    "    Use Newton's method to find the root of the function\n",
    "    \n",
    "    Args:\n",
    "        f (function prototype) : function handle\n",
    "        df (function prototype) : derivative function handle\n",
    "        x0 (real number) : starting guess \n",
    "        k (integer) : number of iteration steps (default : 500)\n",
    "        tol (real number) : tolerance (default : 1e-6)\n",
    "        \n",
    "    Return:\n",
    "        Approximate solution xc\n",
    "        \n",
    "    Raises:\n",
    "        ValueError :\n",
    "            - f or df is None\n",
    "            - k is smaller than 0\n",
    "    \"\"\"\n",
    "    try:\n",
    "        if f is None or df is None :\n",
    "            raise ValueError('Function handle f or df is Null')\n",
    "        \n",
    "        if k <= 0 :\n",
    "            raise ValueError('Iteration k must be larger than 0')\n",
    "        \n",
    "        xc = x0\n",
    "        for _ in range(k) :\n",
    "            xt = xc - f(xc) / df(xc)\n",
    "            if tol > 0 and abs(xt - xc) / abs(xc) < tol :\n",
    "                return xt\n",
    "            else :\n",
    "                xc = xt\n",
    "        return xc\n",
    "    except ValueError as e :\n",
    "        print('ValueError Exception : ', e)\n",
    "        traceback.print_exception()   "
   ]
  },
  {
   "cell_type": "markdown",
   "metadata": {},
   "source": [
    "### Example\n",
    "Find the Newton's Method formula for the equation $x^3 + x - 1 = 0$."
   ]
  },
  {
   "cell_type": "code",
   "execution_count": 26,
   "metadata": {},
   "outputs": [
    {
     "name": "stdout",
     "output_type": "stream",
     "text": [
      "x = 0.68232780\n"
     ]
    }
   ],
   "source": [
    "f = lambda x : math.pow(x,3) + x - 1\n",
    "df = lambda x : 3 * math.pow(x,2) + 1\n",
    "xc = newton_method(f, df, -0.7, 25, 1e-8)\n",
    "print ('x = %.8f' % xc)"
   ]
  },
  {
   "cell_type": "markdown",
   "metadata": {},
   "source": [
    "# 1.5 Root-Finding Without Derivatives"
   ]
  },
  {
   "cell_type": "code",
   "execution_count": 27,
   "metadata": {},
   "outputs": [],
   "source": [
    "def secant_method(f, x0, x1, k=500) :\n",
    "    \"\"\"\n",
    "    Use Secant's method to find the root of the formula\n",
    "    \n",
    "    Args:\n",
    "        f (function prototype) : function handle\n",
    "        x0 (real number) : initial guess\n",
    "        x1 (real number) : initial guess \n",
    "        k (integer) : number of iteration steps (default : 500)\n",
    "        \n",
    "    Return:\n",
    "        Approximate solution xc\n",
    "        \n",
    "    Raises:\n",
    "    \n",
    "    \"\"\"\n",
    "    x = np.zeros(k)\n",
    "    x[0] = x0\n",
    "    x[1] = x1\n",
    "    for i in range(1,k - 1):\n",
    "        if f(x[i]) - f(x[i - 1]) == 0 :\n",
    "            return x[i]\n",
    "        x[i + 1] = x[i] - f(x[i]) * (x[i] - x[i - 1])  / (f(x[i]) - f(x[i - 1]))\n",
    "        \n",
    "    return x[k - 1]"
   ]
  },
  {
   "cell_type": "markdown",
   "metadata": {},
   "source": [
    "### Example \n",
    "Apply the Secant Method with starting guesses $x_0 = 0,x_1 = 1$ to find the root of $f(x)=x^3 + x + 1$"
   ]
  },
  {
   "cell_type": "code",
   "execution_count": 28,
   "metadata": {},
   "outputs": [
    {
     "data": {
      "text/plain": [
       "0.6823278038280193"
      ]
     },
     "execution_count": 28,
     "metadata": {},
     "output_type": "execute_result"
    }
   ],
   "source": [
    "f = lambda x : math.pow(x, 3) + x - 1\n",
    "secant_method(f, 0, 1, 100)"
   ]
  },
  {
   "cell_type": "code",
   "execution_count": 29,
   "metadata": {},
   "outputs": [],
   "source": [
    "def false_position_method(f, a, b, k) :\n",
    "    \"\"\"\n",
    "    Use false position method to find the root of the formula f\n",
    "    \n",
    "    Args:\n",
    "        f (function prototype) : function handle\n",
    "        a (real number) : the lowerbound of the bracket of initial guess\n",
    "        b (real number) : the upperbound of the bracket of initial guess\n",
    "        k (integer) : number of iteration steps (default : 500)\n",
    "        \n",
    "    Return:\n",
    "        Approximate solution xc\n",
    "        \n",
    "    Raises:\n",
    "        ValueError:\n",
    "            - f(a) * f(b) must be smaller than 0 (exclude zero)\n",
    "        \n",
    "    \"\"\"\n",
    "    if f(a) * f(b) >= 0 :\n",
    "        raise ValueError('f(a) * f(b) must be < 0')\n",
    "    for _ in range(k) :\n",
    "        c = (b * f(a) - a * f(b)) / (f(a) - f(b))\n",
    "        if f(c) == 0 :\n",
    "            return c\n",
    "        if f(a) * f(c) < 0 :\n",
    "            b = c\n",
    "        else :\n",
    "            a = c\n",
    "    return c"
   ]
  },
  {
   "cell_type": "markdown",
   "metadata": {},
   "source": [
    "### Example\n",
    "Apply the Method of False Position on interval $[-1,1]$ to find the root $r = 0$ of $f(x) = x^3 - 2x^2 + \\frac{3}{2}x$"
   ]
  },
  {
   "cell_type": "code",
   "execution_count": 30,
   "metadata": {},
   "outputs": [
    {
     "data": {
      "text/plain": [
       "7.528350053591502e-18"
      ]
     },
     "execution_count": 30,
     "metadata": {},
     "output_type": "execute_result"
    }
   ],
   "source": [
    "f = lambda x : pow(x, 3) - 2 * pow(x, 2) + 1.5 * x\n",
    "false_position_method(f, -1, 1, 100)"
   ]
  },
  {
   "cell_type": "code",
   "execution_count": 31,
   "metadata": {},
   "outputs": [],
   "source": [
    "def inverse_quadratic_interpolation(f, x0, x1, x2, k):\n",
    "    a = x0\n",
    "    b = x1\n",
    "    c = x2\n",
    "    for _ in range(k) :\n",
    "        q = f(a) / f(b)\n",
    "        r = f(c) / f(b)\n",
    "        s = f(c) / f(a)\n",
    "        \n",
    "        denominator = (q - 1) * (r - 1) * (s - 1)\n",
    "        if denominator == 0 :\n",
    "            break\n",
    "        \n",
    "        tmp = c - (r * (r - q) * (c - b) + (1 - r) * s * (c - a)) / denominator\n",
    "        a = b\n",
    "        b = c\n",
    "        c = tmp\n",
    "        \n",
    "        \n",
    "    return c"
   ]
  },
  {
   "cell_type": "code",
   "execution_count": 32,
   "metadata": {},
   "outputs": [
    {
     "data": {
      "text/plain": [
       "0.6823278038280193"
      ]
     },
     "execution_count": 32,
     "metadata": {},
     "output_type": "execute_result"
    }
   ],
   "source": [
    "f = lambda x : pow(x, 3) + x - 1\n",
    "inverse_quadratic_interpolation(f, 0, 0.5, 1, 20)"
   ]
  }
 ],
 "metadata": {
  "kernelspec": {
   "display_name": "Python 3",
   "language": "python",
   "name": "python3"
  },
  "language_info": {
   "codemirror_mode": {
    "name": "ipython",
    "version": 3
   },
   "file_extension": ".py",
   "mimetype": "text/x-python",
   "name": "python",
   "nbconvert_exporter": "python",
   "pygments_lexer": "ipython3",
   "version": "3.8.6"
  }
 },
 "nbformat": 4,
 "nbformat_minor": 2
}
