{
 "cells": [
  {
   "cell_type": "markdown",
   "metadata": {},
   "source": [
    "# ★ 1_Solving_Equations ★"
   ]
  },
  {
   "cell_type": "markdown",
   "metadata": {},
   "source": [
    "# 1.1 The Bisection Method"
   ]
  },
  {
   "cell_type": "code",
   "execution_count": 1,
   "metadata": {
    "collapsed": true
   },
   "outputs": [],
   "source": [
    "# Import modules\n",
    "import traceback\n",
    "import math\n",
    "import numpy as np"
   ]
  },
  {
   "cell_type": "code",
   "execution_count": 9,
   "metadata": {
    "collapsed": true
   },
   "outputs": [],
   "source": [
    "def bisect(f,a,b,tol):\n",
    "    \"\"\"\n",
    "    Computes approximate solution of f(x)=0\n",
    "    \n",
    "    Args:\n",
    "        f (function prototype) : function handle \n",
    "        a (float) : left bound of the interval\n",
    "        b (float) : right bound of the interval\n",
    "        tol (float) : tolerance\n",
    "        \n",
    "    Returns:\n",
    "        Approximate solution x\n",
    "        \n",
    "    Raises:\n",
    "        ValueError:\n",
    "            - a * b must be smaller than zero\n",
    "            - a > b will be considered to be wrong\n",
    "    \"\"\"\n",
    "    try:\n",
    "        if a > b :\n",
    "            raise ValueError('a must be <= b')\n",
    "        \n",
    "        fa = f(a)\n",
    "        fb = f(b)\n",
    "        \n",
    "        if np.sign(fa) * np.sign(fb) >= 0 :\n",
    "            raise ValueError('It must be verified that f(a) * f(b) < 0')\n",
    "            \n",
    "        while (b - a) / 2 > tol :\n",
    "            # Find the intermediate point  \n",
    "            c = (a + b) / 2\n",
    "            fc = f(c)\n",
    "            if fc == 0 :\n",
    "                return c\n",
    "            elif fa * fc < 0 :\n",
    "                b = c\n",
    "                fb = fc\n",
    "            else :\n",
    "                a = c\n",
    "                fa = fc\n",
    "                \n",
    "        return (a + b) / 2\n",
    "            \n",
    "    except ValueError as e :\n",
    "        print('ValueError Exception : ', e)\n",
    "        traceback.print_exception()\n",
    "    "
   ]
  },
  {
   "cell_type": "markdown",
   "metadata": {},
   "source": [
    "### Example\n",
    "find a root of $f(x) = x^3 + x - 1$ on the interval $[0 , 1]$"
   ]
  },
  {
   "cell_type": "code",
   "execution_count": 25,
   "metadata": {},
   "outputs": [
    {
     "name": "stdout",
     "output_type": "stream",
     "text": [
      "0.681629 ~ 0.682629\n"
     ]
    }
   ],
   "source": [
    "f = lambda x : math.pow(x,3) + math.pow(x,1) - 1\n",
    "tolerance = 0.0005\n",
    "xc = bisect(f,0,1,tolerance)\n",
    "print('%f ~ %f' %(xc - tolerance, xc + tolerance))"
   ]
  }
 ],
 "metadata": {
  "kernelspec": {
   "display_name": "Python 3",
   "language": "python",
   "name": "python3"
  },
  "language_info": {
   "codemirror_mode": {
    "name": "ipython",
    "version": 3
   },
   "file_extension": ".py",
   "mimetype": "text/x-python",
   "name": "python",
   "nbconvert_exporter": "python",
   "pygments_lexer": "ipython3",
   "version": "3.5.3"
  }
 },
 "nbformat": 4,
 "nbformat_minor": 2
}
