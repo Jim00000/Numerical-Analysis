{
 "cells": [
  {
   "cell_type": "markdown",
   "metadata": {},
   "source": [
    "# ★ Solving Equations ★"
   ]
  },
  {
   "cell_type": "markdown",
   "metadata": {},
   "source": [
    "# 1.1 The Bisection Method"
   ]
  },
  {
   "cell_type": "markdown",
   "metadata": {},
   "source": [
    "## DEFINITION 1.1\n",
    "\n",
    "The function $f(x)$ has a root at $x = r$ if $f(r) = 0$"
   ]
  },
  {
   "cell_type": "markdown",
   "metadata": {},
   "source": [
    "## THEOREM 1.2\n",
    "\n",
    "Let $f$ be a continuous function on $[a, b]$, satisfying $f(a)f(b) < 0$. Then $f$ has a root between $a$ and $b$, that is, that exists a number $r$ satisfying $a < r < b$ and $f(r) = 0$."
   ]
  },
  {
   "cell_type": "code",
   "execution_count": 1,
   "metadata": {},
   "outputs": [],
   "source": [
    "# Import modules\n",
    "import traceback\n",
    "import math\n",
    "import numpy as np\n",
    "import scipy\n",
    "import scipy.linalg as LA\n",
    "import matplotlib.pyplot as plt\n",
    "import sympy\n",
    "import sympy.abc\n",
    "\n",
    "from scipy import optimize\n",
    "from IPython.display import display\n",
    "\n",
    "# Initialize sympy\n",
    "sympy.init_printing(use_unicode=True)"
   ]
  },
  {
   "cell_type": "code",
   "execution_count": 2,
   "metadata": {},
   "outputs": [],
   "source": [
    "def bisect(f, a, b, tol):\n",
    "    \"\"\"\n",
    "    Computes approximate solution of f(x)=0\n",
    "    \n",
    "    Arguments:\n",
    "        f (function prototype) : function handle \n",
    "        a (real number) : left bound of the interval\n",
    "        b (real number) : right bound of the interval\n",
    "        tol (real number) : tolerance\n",
    "        \n",
    "    Returns:\n",
    "        Approximate solution x\n",
    "        \n",
    "    Raises:\n",
    "        ValueError:\n",
    "            - a * b must be smaller than zero\n",
    "            - a > b will be considered to be wrong\n",
    "    \"\"\"\n",
    "    try:\n",
    "        if a > b :\n",
    "            raise ValueError('a must be <= b')\n",
    "        \n",
    "        fa = f(a)\n",
    "        fb = f(b)\n",
    "        \n",
    "        if np.sign(fa) * np.sign(fb) >= 0 :\n",
    "            raise ValueError('It must be verified that f(a) * f(b) < 0')\n",
    "            \n",
    "        while (b - a) / 2 > tol :\n",
    "            # Find the intermediate point  \n",
    "            c = (a + b) / 2\n",
    "            fc = f(c)\n",
    "            if fc == 0 :\n",
    "                return c\n",
    "            elif fa * fc < 0 :\n",
    "                b = c\n",
    "                fb = fc\n",
    "            else :\n",
    "                a = c\n",
    "                fa = fc\n",
    "                \n",
    "        return (a + b) / 2\n",
    "            \n",
    "    except ValueError as e :\n",
    "        print('ValueError Exception : ', e)\n",
    "        traceback.print_exception()\n",
    "    "
   ]
  },
  {
   "cell_type": "markdown",
   "metadata": {},
   "source": [
    "### Example \n",
    "\n",
    "Find a root of $f(x) = x^3 + x - 1$ by using the Bisection Method on the interval $[0, 1]$."
   ]
  },
  {
   "cell_type": "code",
   "execution_count": 3,
   "metadata": {
    "scrolled": true
   },
   "outputs": [
    {
     "name": "stdout",
     "output_type": "stream",
     "text": [
      "0.68232780\n"
     ]
    }
   ],
   "source": [
    "root = scipy.optimize.bisect(lambda x : np.power(x, 3) + x - 1, 0, 1)\n",
    "print('{:>.8f}'.format(root))"
   ]
  },
  {
   "cell_type": "markdown",
   "metadata": {},
   "source": [
    "## Definition 1.3\n",
    "A solution is correct within  $p$ decimal places if the error is less than $0.5 \\times 10^{-p}$."
   ]
  },
  {
   "cell_type": "markdown",
   "metadata": {},
   "source": [
    "### Example\n",
    "\n",
    "Use the Bisection Method to find a root of $f(x) = cosx - x$ in the interval $[0, 1]$ to within six correct places."
   ]
  },
  {
   "cell_type": "code",
   "execution_count": 4,
   "metadata": {},
   "outputs": [
    {
     "name": "stdout",
     "output_type": "stream",
     "text": [
      "0.739085\n"
     ]
    }
   ],
   "source": [
    "root = scipy.optimize.bisect(lambda x : np.cos(x) - x, 0, 1)\n",
    "print('{:>.6f}'.format(root))"
   ]
  },
  {
   "cell_type": "markdown",
   "metadata": {},
   "source": [
    "### Additional Examples"
   ]
  },
  {
   "cell_type": "markdown",
   "metadata": {},
   "source": [
    "1. Apply two steps of the Bisection Method on the interval $[1, 2]$ to find the approximate root of $f(x) = 2x^3 - x - 7$."
   ]
  },
  {
   "cell_type": "code",
   "execution_count": 5,
   "metadata": {},
   "outputs": [
    {
     "name": "stdout",
     "output_type": "stream",
     "text": [
      "1.627889\n"
     ]
    }
   ],
   "source": [
    "root = scipy.optimize.bisect(lambda x : 2 * np.power(x, 3) - x - 7, 1, 2)\n",
    "print('{:>.6f}'.format(root))"
   ]
  },
  {
   "cell_type": "markdown",
   "metadata": {},
   "source": [
    "2. Use the ~bisect.m code~ (Bisection Method) to find the solution of $e^x = 3$ correct to six decimal places."
   ]
  },
  {
   "cell_type": "code",
   "execution_count": 6,
   "metadata": {},
   "outputs": [
    {
     "name": "stdout",
     "output_type": "stream",
     "text": [
      "1.098612\n"
     ]
    }
   ],
   "source": [
    "root = scipy.optimize.bisect(lambda x : np.exp(x) - 3, 1, 2)\n",
    "print('{:>.6f}'.format(root))"
   ]
  },
  {
   "cell_type": "markdown",
   "metadata": {},
   "source": [
    "## 1.1 Computer Problems"
   ]
  },
  {
   "cell_type": "markdown",
   "metadata": {},
   "source": [
    "1. Use the Bisection Method to ﬁnd the root to six correct decimal places."
   ]
  },
  {
   "cell_type": "markdown",
   "metadata": {},
   "source": [
    "(a) $x^3 = 9$"
   ]
  },
  {
   "cell_type": "code",
   "execution_count": 7,
   "metadata": {},
   "outputs": [
    {
     "name": "stdout",
     "output_type": "stream",
     "text": [
      "2.080084\n"
     ]
    }
   ],
   "source": [
    "root = scipy.optimize.bisect(lambda x : np.power(x, 3) - 9, 2, 3)\n",
    "print('{:>.6f}'.format(root))"
   ]
  },
  {
   "cell_type": "markdown",
   "metadata": {},
   "source": [
    "(b) $3x^3 + x^2 = x + 5$"
   ]
  },
  {
   "cell_type": "code",
   "execution_count": 8,
   "metadata": {},
   "outputs": [
    {
     "name": "stdout",
     "output_type": "stream",
     "text": [
      "1.169726\n"
     ]
    }
   ],
   "source": [
    "root = scipy.optimize.bisect(lambda x : 3 * np.power(x, 3) + np.power(x, 2) - x - 5, 1, 2)\n",
    "print('{:>.6f}'.format(root))"
   ]
  },
  {
   "cell_type": "markdown",
   "metadata": {},
   "source": [
    "(c) $\\cos^2{x} + 6 = x$"
   ]
  },
  {
   "cell_type": "code",
   "execution_count": 9,
   "metadata": {},
   "outputs": [
    {
     "name": "stdout",
     "output_type": "stream",
     "text": [
      "6.776092\n"
     ]
    }
   ],
   "source": [
    "root = scipy.optimize.bisect(lambda x : np.power(np.cos(x), 2) - x + 6, 0, 10)\n",
    "print('{:>.6f}'.format(root))"
   ]
  },
  {
   "cell_type": "markdown",
   "metadata": {},
   "source": [
    "---\n",
    "2. Use the Bisection Method to ﬁnd the root to eight correct decimal places."
   ]
  },
  {
   "cell_type": "markdown",
   "metadata": {},
   "source": [
    "(a) $x^5 + x = 1$"
   ]
  },
  {
   "cell_type": "code",
   "execution_count": 10,
   "metadata": {},
   "outputs": [
    {
     "name": "stdout",
     "output_type": "stream",
     "text": [
      "0.75487767\n"
     ]
    }
   ],
   "source": [
    "root = scipy.optimize.bisect(lambda x : np.power(x, 5) + x - 1, 0, 1)\n",
    "print('{:>.8f}'.format(root))"
   ]
  },
  {
   "cell_type": "markdown",
   "metadata": {},
   "source": [
    "(b) $sin{x} = 6x + 5$"
   ]
  },
  {
   "cell_type": "code",
   "execution_count": 11,
   "metadata": {},
   "outputs": [
    {
     "name": "stdout",
     "output_type": "stream",
     "text": [
      "-0.97089892\n"
     ]
    }
   ],
   "source": [
    "root = scipy.optimize.bisect(lambda x : np.sin(x) - 6 * x - 5, -5, 5)\n",
    "print('{:>.8f}'.format(root))"
   ]
  },
  {
   "cell_type": "markdown",
   "metadata": {},
   "source": [
    "(c) $ln{x} + x^2 = 3$"
   ]
  },
  {
   "cell_type": "code",
   "execution_count": 12,
   "metadata": {},
   "outputs": [
    {
     "name": "stdout",
     "output_type": "stream",
     "text": [
      "1.59214294\n"
     ]
    }
   ],
   "source": [
    "root = scipy.optimize.bisect(lambda x : np.log(x) + np.power(x, 2) - 3, 1, 2)\n",
    "print('{:>.8f}'.format(root))"
   ]
  },
  {
   "cell_type": "markdown",
   "metadata": {},
   "source": [
    "---\n",
    "3. Use the Bisection Method to locate all solutions of the following equations. Sketch the function by using MATLAB’s plot command and identify three intervals of length one that contain a root. Then find the roots to six correct decimal places."
   ]
  },
  {
   "cell_type": "code",
   "execution_count": 13,
   "metadata": {},
   "outputs": [],
   "source": [
    "def myplot(xpts, ypts, title = '', xlabel = 'x', ylabel = 'y'):\n",
    "    plt.plot(xpts, ypts, color='black')\n",
    "    plt.xlabel(xlabel)\n",
    "    plt.ylabel(ylabel)\n",
    "    plt.title(title)\n",
    "    plt.axhline(0, color='black', linestyle=':', linewidth=1)\n",
    "    plt.show()\n",
    "    plt.close()"
   ]
  },
  {
   "cell_type": "markdown",
   "metadata": {},
   "source": [
    "(a) $2x^3 - 6x - 1 = 0$"
   ]
  },
  {
   "cell_type": "code",
   "execution_count": 14,
   "metadata": {},
   "outputs": [
    {
     "data": {
      "image/png": "[encoded data removed]",
      "text/plain": [
       "<Figure size 432x288 with 1 Axes>"
      ]
     },
     "metadata": {
      "needs_background": "light"
     },
     "output_type": "display_data"
    },
    {
     "name": "stdout",
     "output_type": "stream",
     "text": [
      "root = -1.641784\n",
      "root = -0.168254\n",
      "root = +1.810038\n"
     ]
    }
   ],
   "source": [
    "f = lambda x : 2 * np.power(x, 3) - 6 * x - 1\n",
    "xpts = np.linspace(-2, 2, 201)\n",
    "ypts = f(xpts)\n",
    "\n",
    "myplot(xpts, ypts, '$f(x) = 2x^3 - 6x - 1$')\n",
    "print('root = {:>+.6f}'.format(scipy.optimize.bisect(f, -2, -1)))\n",
    "print('root = {:>+.6f}'.format(scipy.optimize.bisect(f, -0.5, 0)))\n",
    "print('root = {:>+.6f}'.format(scipy.optimize.bisect(f, 1.5, 2)))"
   ]
  },
  {
   "cell_type": "markdown",
   "metadata": {},
   "source": [
    "(b) $e^{x-2} + x^3 - x = 0$"
   ]
  },
  {
   "cell_type": "code",
   "execution_count": 15,
   "metadata": {},
   "outputs": [
    {
     "data": {
      "image/png": "[encoded data removed]",
      "text/plain": [
       "<Figure size 432x288 with 1 Axes>"
      ]
     },
     "metadata": {
      "needs_background": "light"
     },
     "output_type": "display_data"
    },
    {
     "name": "stdout",
     "output_type": "stream",
     "text": [
      "root = -1.023482\n",
      "root = +0.163822\n",
      "root = +0.788941\n"
     ]
    }
   ],
   "source": [
    "f = lambda x : np.exp(x - 2) + np.power(x, 3) - x\n",
    "xpts = np.linspace(-1.2, 1.2, 201)\n",
    "ypts = f(xpts)\n",
    "\n",
    "myplot(xpts, ypts, '$f(x) = e^{x - 2} + x^3 - x$')\n",
    "print('root = {:>+.6f}'.format(scipy.optimize.bisect(f, -1.5, -0.5)))\n",
    "print('root = {:>+.6f}'.format(scipy.optimize.bisect(f, -0.5, 0.5)))\n",
    "print('root = {:>+.6f}'.format(scipy.optimize.bisect(f, 0.5, 1.0)))"
   ]
  },
  {
   "cell_type": "markdown",
   "metadata": {},
   "source": [
    "(c) $1 + 5x - 6x^3 - e^{2x} = 0$"
   ]
  },
  {
   "cell_type": "code",
   "execution_count": 16,
   "metadata": {},
   "outputs": [
    {
     "data": {
      "image/png": "[encoded data removed]",
      "text/plain": [
       "<Figure size 432x288 with 1 Axes>"
      ]
     },
     "metadata": {
      "needs_background": "light"
     },
     "output_type": "display_data"
    },
    {
     "name": "stdout",
     "output_type": "stream",
     "text": [
      "root = -0.818094\n",
      "root = -0.000000\n",
      "root = +0.506308\n"
     ]
    }
   ],
   "source": [
    "f = lambda x : 1 + 5 * x - 6 * np.power(x, 3) - np.exp(2 * x)\n",
    "xpts = np.linspace(-1, 0.75, 201)\n",
    "ypts = f(xpts)\n",
    "\n",
    "myplot(xpts, ypts, '$f(x) = 1 + 5x - 6x^3 - e^{2x}$')\n",
    "print('root = {:>+.6f}'.format(scipy.optimize.bisect(f, -1.0, -0.5)))\n",
    "print('root = {:>+.6f}'.format(scipy.optimize.bisect(f, -0.5, 0.25)))\n",
    "print('root = {:>+.6f}'.format(scipy.optimize.bisect(f, 0.25, 0.75)))"
   ]
  },
  {
   "cell_type": "markdown",
   "metadata": {},
   "source": [
    "---\n",
    "4. Calculate the square roots of the following numbers to eight correct decimal places by using the Bisection Method to solve $x^2 - A = 0$, where A is (a) 2 (b) 3 (c) 5. State your starting interval and the number of steps needed."
   ]
  },
  {
   "cell_type": "markdown",
   "metadata": {},
   "source": [
    "(a) $f(x) = x^2 - 2$"
   ]
  },
  {
   "cell_type": "code",
   "execution_count": 17,
   "metadata": {},
   "outputs": [
    {
     "name": "stdout",
     "output_type": "stream",
     "text": [
      "x is 1.41421356 in [1, 2]\n"
     ]
    }
   ],
   "source": [
    "ranges = [1, 2]\n",
    "f = lambda x : np.power(x, 2) - 2\n",
    "root = scipy.optimize.bisect(f, *ranges)\n",
    "print('x is {:>.8f} in {:}'.format(root, ranges))"
   ]
  },
  {
   "cell_type": "markdown",
   "metadata": {},
   "source": [
    "(b) $f(x) = x^2 - 3$"
   ]
  },
  {
   "cell_type": "code",
   "execution_count": 18,
   "metadata": {},
   "outputs": [
    {
     "name": "stdout",
     "output_type": "stream",
     "text": [
      "x is 1.73205081 in [1, 2]\n"
     ]
    }
   ],
   "source": [
    "ranges = [1, 2]\n",
    "f = lambda x : np.power(x, 2) - 3\n",
    "root = scipy.optimize.bisect(f, *ranges)\n",
    "print('x is {:>.8f} in {:}'.format(root, ranges))"
   ]
  },
  {
   "cell_type": "markdown",
   "metadata": {},
   "source": [
    "(c) $f(x) = x^2 - 5$"
   ]
  },
  {
   "cell_type": "code",
   "execution_count": 19,
   "metadata": {},
   "outputs": [
    {
     "name": "stdout",
     "output_type": "stream",
     "text": [
      "x is 2.23606798 in [2, 3]\n"
     ]
    }
   ],
   "source": [
    "ranges = [2, 3]\n",
    "f = lambda x : np.power(x, 2) - 5\n",
    "root = scipy.optimize.bisect(f, *ranges)\n",
    "print('x is {:>.8f} in {:}'.format(root, ranges))"
   ]
  },
  {
   "cell_type": "markdown",
   "metadata": {},
   "source": [
    "---\n",
    "5. Calculate the cube roots of the following numbers to eight correct decimal places by using the Bisection Method to solve $x^3 - A = 0$, where A is (a) 2 (b) 3 (c) 5. State your starting interval and the number of steps needed."
   ]
  },
  {
   "cell_type": "markdown",
   "metadata": {},
   "source": [
    "(a) $f(x) = x^3 - 2$"
   ]
  },
  {
   "cell_type": "code",
   "execution_count": 20,
   "metadata": {},
   "outputs": [
    {
     "name": "stdout",
     "output_type": "stream",
     "text": [
      "x is 1.25992105 in [1, 2]\n"
     ]
    }
   ],
   "source": [
    "ranges = [1, 2]\n",
    "f = lambda x : np.power(x, 3) - 2\n",
    "root = scipy.optimize.bisect(f, *ranges)\n",
    "print('x is {:>.8f} in {:}'.format(root, ranges))"
   ]
  },
  {
   "cell_type": "markdown",
   "metadata": {},
   "source": [
    "(b) $f(x) = x^3 - 3$"
   ]
  },
  {
   "cell_type": "code",
   "execution_count": 21,
   "metadata": {},
   "outputs": [
    {
     "name": "stdout",
     "output_type": "stream",
     "text": [
      "x is 1.44224957 in [1, 2]\n"
     ]
    }
   ],
   "source": [
    "ranges = [1, 2]\n",
    "f = lambda x : np.power(x, 3) - 3\n",
    "root = scipy.optimize.bisect(f, *ranges)\n",
    "print('x is {:>.8f} in {:}'.format(root, ranges))"
   ]
  },
  {
   "cell_type": "markdown",
   "metadata": {},
   "source": [
    "(c) $f(x) = x^3 - 5$"
   ]
  },
  {
   "cell_type": "code",
   "execution_count": 22,
   "metadata": {},
   "outputs": [
    {
     "name": "stdout",
     "output_type": "stream",
     "text": [
      "x is 1.70997595 in [1, 2]\n"
     ]
    }
   ],
   "source": [
    "ranges = [1, 2]\n",
    "f = lambda x : np.power(x, 3) - 5\n",
    "root = scipy.optimize.bisect(f, *ranges)\n",
    "print('x is {:>.8f} in {:}'.format(root, ranges))"
   ]
  },
  {
   "cell_type": "markdown",
   "metadata": {},
   "source": [
    "---\n",
    "6. Use the Bisection Method to calculate the solution of $cos{x} = sin{x}$ in the interval $[0, 1]$ within six correct decimal places."
   ]
  },
  {
   "cell_type": "code",
   "execution_count": 23,
   "metadata": {},
   "outputs": [
    {
     "name": "stdout",
     "output_type": "stream",
     "text": [
      "x is 0.785398\n"
     ]
    }
   ],
   "source": [
    "ranges = [0, 1]\n",
    "f = lambda x : np.cos(x) - np.sin(x)\n",
    "root = scipy.optimize.bisect(f, *ranges)\n",
    "print('x is {:>.6f}'.format(root))"
   ]
  },
  {
   "cell_type": "markdown",
   "metadata": {},
   "source": [
    "---\n",
    "7. Use the Bisection Method to find the two real numbers x, within six correct decimal places, that make the determinant of the matrix \n",
    "\n",
    "$A = \n",
    "\\begin{bmatrix}\n",
    "1 & 2 & 3 & x \\\\ \n",
    "4 & 5 & x & 6 \\\\ \n",
    "7 & x & 8 & 9 \\\\ \n",
    "x & 10 & 11 & 12 \n",
    "\\end{bmatrix}\n",
    "$\n",
    "\n",
    "equal to 1000. For each solution you find, test it by computing the corresponding determinant and reporting how many correct decimal places (after the decimal point) the determinant has when your solution x is used. "
   ]
  },
  {
   "cell_type": "code",
   "execution_count": 24,
   "metadata": {},
   "outputs": [
    {
     "data": {
      "image/png": "[encoded data removed]",
      "text/plain": [
       "<Figure size 432x288 with 1 Axes>"
      ]
     },
     "metadata": {
      "needs_background": "light"
     },
     "output_type": "display_data"
    },
    {
     "name": "stdout",
     "output_type": "stream",
     "text": [
      "x is -17.188498 and 9.708299\n"
     ]
    }
   ],
   "source": [
    "def A(x):\n",
    "    template_A = '1 2 3 {0} ; 4 5 {0} 6 ; 7 {0} 8 9 ; {0} 10 11 12'.format(x)\n",
    "    _A = np.array(np.mat(template_A))\n",
    "    return _A\n",
    "\n",
    "def As(x):\n",
    "    _A = None\n",
    "    for _x in x:\n",
    "        template_A = '1 2 3 {0} ; 4 5 {0} 6 ; 7 {0} 8 9 ; {0} 10 11 12'.format(_x)\n",
    "        if _A is None:\n",
    "            _A = np.array(np.mat(template_A))\n",
    "        else:\n",
    "            newA = np.array(np.mat(template_A))\n",
    "            _A = np.concatenate((_A, newA))\n",
    "    _A = np.reshape(_A, (int(_A.size / 16), 4, 4))\n",
    "    return _A\n",
    "\n",
    "# define f(x) = det(A(x)) - 1000\n",
    "f = lambda x : np.linalg.det(A(x)) - 1000\n",
    "fs = lambda x : np.linalg.det(As(x)) - 1000\n",
    "\n",
    "# plot f(x)\n",
    "xpts = np.linspace(-20, 15, 401)\n",
    "ypts = fs(xpts)\n",
    "myplot(xpts, ypts, '$f(x) = det(A(x)) - 1000$', ylabel = 'f(x)')\n",
    "\n",
    "# Use bisection method to find root\n",
    "root1 = scipy.optimize.bisect(f, -20, -15)\n",
    "root2 = scipy.optimize.bisect(f, 5, 15)\n",
    "print('x is {:>.6f} and {:>.6f}'.format(root1, root2))"
   ]
  },
  {
   "cell_type": "markdown",
   "metadata": {},
   "source": [
    "---\n",
    "8. The **Hilbert Matrix**  is the n × n matrix whose ijth entry is $\\frac{1}{i + j - 1}$. Let $A$ denote the\n",
    "5 × 5 Hilbert matrix. Its largest eigenvalue is about 1.567. Use the Bisection Method to decide\n",
    "how to change the upper left entry $A_{11}$ to make the largest eigenvalue of $A$ equal to $\\pi$. Determine $A_\n",
    "{11}$ within six correct decimal places."
   ]
  },
  {
   "cell_type": "code",
   "execution_count": 25,
   "metadata": {},
   "outputs": [
    {
     "data": {
      "image/png": "[encoded data removed]",
      "text/plain": [
       "<Figure size 432x288 with 1 Axes>"
      ]
     },
     "metadata": {
      "needs_background": "light"
     },
     "output_type": "display_data"
    },
    {
     "name": "stdout",
     "output_type": "stream",
     "text": [
      "Make A[1,1] to be 2.948011 to make the largest eigenvalue equal to pi\n"
     ]
    }
   ],
   "source": [
    "def hilbert_matrix_eigvals(upper_left_element):\n",
    "    hilbert_matrix = LA.hilbert(5)\n",
    "    hilbert_matrix[0][0] = upper_left_element\n",
    "    return LA.eigvals(hilbert_matrix)\n",
    "\n",
    "f = lambda x : np.max(hilbert_matrix_eigvals(x)).real - scipy.pi\n",
    "\n",
    "def fs(f, xpts):\n",
    "    ypts = np.zeros(xpts.size)\n",
    "    for i in range(len(xpts)):\n",
    "        ypts[i] = f(xpts[i])\n",
    "    return ypts\n",
    "\n",
    "# Generate samples\n",
    "xpts = np.linspace(-2, 4, 201)\n",
    "ypts = fs(f, xpts)\n",
    "\n",
    "# Plot f(x)\n",
    "plt.plot(xpts,ypts)\n",
    "myplot(xpts, ypts, 'Eigenvalue of Hilbert Matrix $f(x) = eigval(H(x)) - \\pi$', ylabel = 'f(x)')\n",
    "\n",
    "root = scipy.optimize.bisect(f, 2, 4)\n",
    "print('Make A[1,1] to be {:>.6f} to make the largest eigenvalue equal to pi'.format(root))"
   ]
  },
  {
   "cell_type": "markdown",
   "metadata": {},
   "source": [
    "---\n",
    "9. Find the height reached by 1 cubic meter of water stored in a spherical tank of radius 1 meter. Give your answer ±1 mm. (Hint: First note that the sphere will be less than half full. The volume of the bottom $H$ meters of a hemisphere of radius $R$ is $\\pi H^2(R - 1/3H)$.)"
   ]
  },
  {
   "cell_type": "code",
   "execution_count": 26,
   "metadata": {},
   "outputs": [
    {
     "name": "stdout",
     "output_type": "stream",
     "text": [
      "0.635501 m\n"
     ]
    }
   ],
   "source": [
    "# First note implies that the range will be [0, 1]\n",
    "ranges = [0, 1]\n",
    "\n",
    "# Define f(x) = V(x, 1) - 1 where V(H, R) = pi * H^2 * (R - H / 3)\n",
    "volume = lambda H, R : scipy.pi * np.power(H, 2) * (R - H / 3) \n",
    "f = lambda x : volume(x, 1) - 1\n",
    "\n",
    "root = scipy.optimize.bisect(f, *ranges)\n",
    "print('{:>.6f} m'.format(root))"
   ]
  },
  {
   "cell_type": "markdown",
   "metadata": {},
   "source": [
    "---\n",
    "10. A planet orbiting the sun traverses an ellipse. The eccentricity $e$ of the ellipse is the distance between the center of the ellipse and either of its foci divided by the length of the semimajor axis. The perihelion is the nearest point of the orbit to the sun. *Kepler’s equation* $M = E - e\\sin{E}$ relates the *eccentric anomaly* $E$, the true angular distance (in radians) from perihelion, to the *mean anomaly* $M$, the fictitious angular distance from perihelion if it were on a circular orbit with the same period as the ellipse."
   ]
  },
  {
   "cell_type": "markdown",
   "metadata": {},
   "source": [
    "(a) Assume $e = 0.1$. Use the Bisection Method to find the eccentric anomalies $E$ when $M = \\pi/6$ and $M = \\pi/2$. Begin by finding a starting interval and explain why it works. "
   ]
  },
  {
   "cell_type": "code",
   "execution_count": 27,
   "metadata": {},
   "outputs": [
    {
     "data": {
      "image/png": "[encoded data removed]",
      "text/plain": [
       "<Figure size 432x288 with 1 Axes>"
      ]
     },
     "metadata": {
      "needs_background": "light"
     },
     "output_type": "display_data"
    },
    {
     "name": "stdout",
     "output_type": "stream",
     "text": [
      "eccentric anomalies is 0.578255 while M = π/6\n"
     ]
    },
    {
     "data": {
      "image/png": "[encoded data removed]",
      "text/plain": [
       "<Figure size 432x288 with 1 Axes>"
      ]
     },
     "metadata": {
      "needs_background": "light"
     },
     "output_type": "display_data"
    },
    {
     "name": "stdout",
     "output_type": "stream",
     "text": [
      "eccentric anomalies is 1.670302 while M = π/2\n"
     ]
    }
   ],
   "source": [
    "e = 0.1\n",
    "\n",
    "# define f(x) = M - E + e * sin(E)\n",
    "f = lambda E, e, M : M - E + e * np.sin(E)\n",
    "\n",
    "# when M = π/6\n",
    "M = scipy.pi / 6\n",
    "xpts = np.linspace(-1, 1, 201)\n",
    "ypts = f(xpts, e, M)\n",
    "myplot(xpts, ypts, '$M = \\pi/6, e = 0.1$', xlabel = 'E', ylabel = 'f(x)')\n",
    "root = scipy.optimize.bisect(lambda x : f(x, e, M), 0.25, 0.75)\n",
    "print('eccentric anomalies is {:>.6f} while M = π/6'.format(root))\n",
    "\n",
    "# when M = π/2\n",
    "M = scipy.pi / 2\n",
    "xpts = np.linspace(1, 2, 201)\n",
    "ypts = f(xpts, e, M)\n",
    "myplot(xpts, ypts, '$M = \\pi/2, e = 0.1$', xlabel = 'E', ylabel = 'f(x)')\n",
    "root = scipy.optimize.bisect(lambda x : f(x, e, M), 1, 2)\n",
    "print('eccentric anomalies is {:>.6f} while M = π/2'.format(root))"
   ]
  },
  {
   "cell_type": "markdown",
   "metadata": {},
   "source": [
    "(b) How do the answers to (a) change if the eccentricity is changed to $e = 0.2$?"
   ]
  },
  {
   "cell_type": "code",
   "execution_count": 28,
   "metadata": {},
   "outputs": [
    {
     "data": {
      "image/png": "[encoded data removed]",
      "text/plain": [
       "<Figure size 432x288 with 1 Axes>"
      ]
     },
     "metadata": {
      "needs_background": "light"
     },
     "output_type": "display_data"
    },
    {
     "name": "stdout",
     "output_type": "stream",
     "text": [
      "eccentric anomalies is 0.643617 while M = π/6\n"
     ]
    },
    {
     "data": {
      "image/png": "[encoded data removed]",
      "text/plain": [
       "<Figure size 432x288 with 1 Axes>"
      ]
     },
     "metadata": {
      "needs_background": "light"
     },
     "output_type": "display_data"
    },
    {
     "name": "stdout",
     "output_type": "stream",
     "text": [
      "eccentric anomalies is 1.766961 while M = π/2\n"
     ]
    }
   ],
   "source": [
    "e = 0.2\n",
    "\n",
    "# define f(x) = M - E + e * sin(E)\n",
    "f = lambda E, e, M : M - E + e * np.sin(E)\n",
    "\n",
    "# when M = π/6\n",
    "M = scipy.pi / 6\n",
    "xpts = np.linspace(-1, 1, 201)\n",
    "ypts = f(xpts, e, M)\n",
    "myplot(xpts, ypts, '$M = \\pi/6, e = 0.2$', xlabel = 'E', ylabel = 'f(x)')\n",
    "root = scipy.optimize.bisect(lambda x : f(x, e, M), 0.25, 0.75)\n",
    "print('eccentric anomalies is {:>.6f} while M = π/6'.format(root))\n",
    "\n",
    "# when M = π/2\n",
    "M = scipy.pi / 2\n",
    "xpts = np.linspace(1, 2, 201)\n",
    "ypts = f(xpts, e, M)\n",
    "myplot(xpts, ypts, '$M = \\pi/2, e = 0.2$', xlabel = 'E', ylabel = 'f(x)')\n",
    "root = scipy.optimize.bisect(lambda x : f(x, e, M), 1, 2)\n",
    "print('eccentric anomalies is {:>.6f} while M = π/2'.format(root))"
   ]
  },
  {
   "cell_type": "markdown",
   "metadata": {},
   "source": [
    "---\n",
    "# 1.2 Fixed-Point Iteration"
   ]
  },
  {
   "cell_type": "markdown",
   "metadata": {},
   "source": [
    "## DEFINITION 1.4\n",
    "\n",
    "The real number r is a **fixed point** of the function g if $g(r) = r$."
   ]
  },
  {
   "cell_type": "code",
   "execution_count": 29,
   "metadata": {},
   "outputs": [],
   "source": [
    "def fpi(g, x0, k, tol = 0):\n",
    "    \"\"\"\n",
    "    Computes approximate solution of g(x)=x by Fixed-Point Iteration\n",
    "    \n",
    "    Args:\n",
    "        g (function prototype) : function handle\n",
    "        x0 (real number) : starting guess \n",
    "        k (integer) : number of iteration steps\n",
    "        tol (real number) : tolerance (default : 0)\n",
    "        \n",
    "    Returns:\n",
    "        Approximate solution xc\n",
    "    \n",
    "    Raises:\n",
    "        ValueError :\n",
    "            - g is None\n",
    "            - k is not the type of positive integer \n",
    "            - tol is negative\n",
    "    \"\"\"\n",
    "    try:\n",
    "        if g is None :\n",
    "            raise ValueError('f is null')\n",
    "        if k != int(k) :\n",
    "            raise ValueError('k must be type of integer')\n",
    "        if k < 0 :\n",
    "            raise ValueError('k must be positive integer')\n",
    "        if tol < 0 :\n",
    "            raise ValueError('tol must be positive')\n",
    "            \n",
    "        x = x0\n",
    "        for _ in range(k) :\n",
    "            tx = g(x)\n",
    "            if tol > 0 and abs(tx - x) / abs(tx) < tol :\n",
    "                return tx\n",
    "            else :\n",
    "                x = tx\n",
    "        \n",
    "        return x\n",
    "    except ValueError as e:\n",
    "        print('ValueError Exception : ', e)\n",
    "        traceback.print_exception()"
   ]
  },
  {
   "cell_type": "markdown",
   "metadata": {},
   "source": [
    "## DEFINITION 1.5 \n",
    "\n",
    "Let $e_i$ denote the error at step $i$ of an iterative method. If \n",
    "\n",
    "$$\\lim_{i \\rightarrow \\infty} \\frac{e_{i+1}}{e_i} = S < 1$$\n",
    "\n",
    "the method is said to obey linear convergence with rate $S$."
   ]
  },
  {
   "cell_type": "markdown",
   "metadata": {},
   "source": [
    "## THEOREM 1.6\n",
    "\n",
    "Assume that $g$ is continuously differentiable, that $g(r) = r$, and that $S = \\left | {g}'(r) \\right | < 1$. Then Fixed-Point Iteration converges linearly with rate $S$ to the fixed point $r$ for initial guesses sufficiently close to $r$."
   ]
  },
  {
   "cell_type": "markdown",
   "metadata": {},
   "source": [
    "## DEFINITION 1.7\n",
    "\n",
    "An iterative method is called **locally convergent** to r if the method converges to r for initial guesses sufficiently close to r."
   ]
  },
  {
   "cell_type": "markdown",
   "metadata": {},
   "source": [
    "### Example\n",
    "Use Fixed-Point Iteration to find a root of $cosx = sinx$"
   ]
  },
  {
   "cell_type": "markdown",
   "metadata": {},
   "source": [
    "$x + \\cos{x} - \\sin{x} = x $\n",
    "\n",
    "$\\Rightarrow g(x) = x + \\cos{x} - \\sin{x}$ "
   ]
  },
  {
   "cell_type": "code",
   "execution_count": 30,
   "metadata": {},
   "outputs": [
    {
     "name": "stdout",
     "output_type": "stream",
     "text": [
      "0.78539816\n"
     ]
    }
   ],
   "source": [
    "g = lambda x : x + np.cos(x) - np.sin(x)\n",
    "root = scipy.optimize.fixed_point(g, 0, method='iteration')\n",
    "print('{:>.8f}'.format(root))"
   ]
  },
  {
   "cell_type": "markdown",
   "metadata": {},
   "source": [
    "### Example\n",
    "Find the fixed points of $g(x)=2.8x - x^2$"
   ]
  },
  {
   "cell_type": "code",
   "execution_count": 31,
   "metadata": {},
   "outputs": [
    {
     "name": "stdout",
     "output_type": "stream",
     "text": [
      "1.80000001\n"
     ]
    }
   ],
   "source": [
    "g = lambda x : 2.8 * x - np.power(x, 2)\n",
    "root = scipy.optimize.fixed_point(g, 0.1, method='iteration')\n",
    "print('{:>.8f}'.format(root))"
   ]
  },
  {
   "cell_type": "markdown",
   "metadata": {},
   "source": [
    "### Example\n",
    "Calculate $\\sqrt{2}$ by using **FPI**."
   ]
  },
  {
   "cell_type": "markdown",
   "metadata": {},
   "source": [
    "$x = \\sqrt{2} $\n",
    "\n",
    "$\\Rightarrow x - \\sqrt{2} = 0 $\n",
    "\n",
    "$\\Rightarrow x^2 - 2\\sqrt{2}x + 2 = 0 $\n",
    "\n",
    "$\\Rightarrow x^2 + 2 = 2\\sqrt{2}x $\n",
    "\n",
    "$\\Rightarrow g(x) = x = \\sqrt{2} = \\frac{x^2 + 2}{2x} $"
   ]
  },
  {
   "cell_type": "code",
   "execution_count": 32,
   "metadata": {},
   "outputs": [
    {
     "name": "stdout",
     "output_type": "stream",
     "text": [
      "1.41421356\n"
     ]
    }
   ],
   "source": [
    "g = lambda x : (np.power(x, 2) + 2) / (2 * x)\n",
    "root = scipy.optimize.fixed_point(g, 2.0, method='iteration')\n",
    "print('{:>.8f}'.format(root))"
   ]
  },
  {
   "cell_type": "markdown",
   "metadata": {},
   "source": [
    "---\n",
    "## 1.2 Computer Problems"
   ]
  },
  {
   "cell_type": "markdown",
   "metadata": {},
   "source": [
    "1. Apply Fixed-Point Iteration to find the solution of each equation to eight correct decimal places."
   ]
  },
  {
   "cell_type": "markdown",
   "metadata": {},
   "source": [
    "(a) $ x^3 = 2x + 2 $"
   ]
  },
  {
   "cell_type": "markdown",
   "metadata": {},
   "source": [
    "$ x^3 = 2x + 2 $\n",
    "\n",
    "$\\Rightarrow x = \\sqrt[3]{2x + 2}$\n",
    "\n",
    "$\\Rightarrow g(x) = \\sqrt[3]{2x + 2}$"
   ]
  },
  {
   "cell_type": "code",
   "execution_count": 33,
   "metadata": {},
   "outputs": [
    {
     "name": "stdout",
     "output_type": "stream",
     "text": [
      "1.76929236\n"
     ]
    }
   ],
   "source": [
    "root = scipy.optimize.fixed_point(lambda x : np.power(2 * x + 2, 1 / 3), 2.0, method='iteration')\n",
    "print('{:>.8f}'.format(root))"
   ]
  },
  {
   "cell_type": "markdown",
   "metadata": {},
   "source": [
    "(b) $ e^x + x = 7 $"
   ]
  },
  {
   "cell_type": "markdown",
   "metadata": {},
   "source": [
    "$ e^x + x = 7 $\n",
    "\n",
    "$ \\Rightarrow e^x = 7 - x $\n",
    "\n",
    "$ \\Rightarrow x = \\ln{7 - x} $\n",
    "\n",
    "$ \\Rightarrow g(x) = \\ln{7 - x} $"
   ]
  },
  {
   "cell_type": "code",
   "execution_count": 34,
   "metadata": {},
   "outputs": [
    {
     "name": "stdout",
     "output_type": "stream",
     "text": [
      "1.67282170\n"
     ]
    }
   ],
   "source": [
    "root = scipy.optimize.fixed_point(lambda x : np.log(7 - x), 0, method='iteration')\n",
    "print('{:>.8f}'.format(root))"
   ]
  },
  {
   "cell_type": "markdown",
   "metadata": {},
   "source": [
    "(c) $ e^x + \\sin{x} = 4 $"
   ]
  },
  {
   "cell_type": "markdown",
   "metadata": {},
   "source": [
    "$ e^x + \\sin{x} = 4 $\n",
    "\n",
    "$ \\Rightarrow e^x = 4 - \\sin{x} $\n",
    "\n",
    "$ \\Rightarrow x = \\ln{(4 - \\sin{x})} $\n",
    "\n",
    "$ \\Rightarrow g(x) = \\ln{(4 - \\sin{x})} $"
   ]
  },
  {
   "cell_type": "code",
   "execution_count": 35,
   "metadata": {},
   "outputs": [
    {
     "name": "stdout",
     "output_type": "stream",
     "text": [
      "1.12998050\n"
     ]
    }
   ],
   "source": [
    "root = scipy.optimize.fixed_point(lambda x : np.log(4 - np.sin(x)), 0, method='iteration')\n",
    "print('{:>.8f}'.format(root))"
   ]
  },
  {
   "cell_type": "markdown",
   "metadata": {},
   "source": [
    "---\n",
    "2. Apply Fixed-Point Iteration to find the solution of each equation to eight correct decimal places."
   ]
  },
  {
   "cell_type": "markdown",
   "metadata": {},
   "source": [
    "(a) $x^5 + x = 1$"
   ]
  },
  {
   "cell_type": "markdown",
   "metadata": {},
   "source": [
    "$ x^5 + x = 1 $\n",
    "\n",
    "$ \\Rightarrow x^5 = 1 - x $\n",
    "\n",
    "$ \\Rightarrow x = \\sqrt[5]{1 - x} $\n",
    "\n",
    "$ \\Rightarrow g(x) = \\sqrt[5]{1 - x} $"
   ]
  },
  {
   "cell_type": "code",
   "execution_count": 36,
   "metadata": {},
   "outputs": [
    {
     "name": "stdout",
     "output_type": "stream",
     "text": [
      "0.75487766\n"
     ]
    }
   ],
   "source": [
    "root = scipy.optimize.fixed_point(lambda x : np.power(1 - x, 1 / 5), 0.1, method='iteration')\n",
    "print('{:>.8f}'.format(root))"
   ]
  },
  {
   "cell_type": "markdown",
   "metadata": {},
   "source": [
    "(b) $\\sin{x} = 6x + 5$"
   ]
  },
  {
   "cell_type": "markdown",
   "metadata": {},
   "source": [
    "$ \\sin{x} = 6x + 5 $\n",
    "\n",
    "$ \\Rightarrow x = \\frac{\\sin{x} - 5}{6} $\n",
    "\n",
    "$ \\Rightarrow g(x) = \\frac{\\sin{x} - 5}{6} $"
   ]
  },
  {
   "cell_type": "code",
   "execution_count": 37,
   "metadata": {},
   "outputs": [
    {
     "name": "stdout",
     "output_type": "stream",
     "text": [
      "-0.97089892\n"
     ]
    }
   ],
   "source": [
    "root = scipy.optimize.fixed_point(lambda x : (np.sin(x) - 5) / 6, 0.1, method='iteration')\n",
    "print('{:>.8f}'.format(root))"
   ]
  },
  {
   "cell_type": "markdown",
   "metadata": {},
   "source": [
    "---\n",
    "3. Calculate the square roots of the following numbers to eight correct decimal places by using Fixed-Point Iteration as in Example 1.6: (a) 3 (b) 5. State your initial guess and the number of steps needed."
   ]
  },
  {
   "cell_type": "markdown",
   "metadata": {},
   "source": [
    "We can conclude that $g(x, c) = x = \\sqrt{c} = \\frac{x^2 + c}{2x}$ from Example 1.6. Then"
   ]
  },
  {
   "cell_type": "code",
   "execution_count": 38,
   "metadata": {},
   "outputs": [],
   "source": [
    "g = lambda x, c : (np.power(x, 2) + c) / (2 * x)"
   ]
  },
  {
   "cell_type": "markdown",
   "metadata": {},
   "source": [
    "(a) $g(x, 3) = \\frac{x^2 + 3}{2x}$"
   ]
  },
  {
   "cell_type": "code",
   "execution_count": 39,
   "metadata": {},
   "outputs": [
    {
     "name": "stdout",
     "output_type": "stream",
     "text": [
      "1.73205081\n"
     ]
    }
   ],
   "source": [
    "root = scipy.optimize.fixed_point(lambda x : g(x, 3), 0.1, method='iteration')\n",
    "print('{:>.8f}'.format(root))"
   ]
  },
  {
   "cell_type": "markdown",
   "metadata": {},
   "source": [
    "(b) $g(x, 5) = \\frac{x^2 + 5}{2x}$"
   ]
  },
  {
   "cell_type": "code",
   "execution_count": 40,
   "metadata": {},
   "outputs": [
    {
     "name": "stdout",
     "output_type": "stream",
     "text": [
      "2.23606798\n"
     ]
    }
   ],
   "source": [
    "root = scipy.optimize.fixed_point(lambda x : g(x, 5), 0.1, method='iteration')\n",
    "print('{:>.8f}'.format(root))"
   ]
  },
  {
   "cell_type": "markdown",
   "metadata": {},
   "source": [
    "---\n",
    "4. Calculate the cube roots of the following numbers to eight correct decimal places, by using Fixed-Point Iteration with $g(x) = (2x + A/x^2) / 3$, where A is (a) 2 (b) 3 (c) 5. State your initial guess and the number of steps needed."
   ]
  },
  {
   "cell_type": "markdown",
   "metadata": {},
   "source": [
    "Let $y^3 = x$ and $g(x, A) = (2y^3 + A/y^6)/3$\n",
    "\n",
    "$\\Rightarrow y^3 = (2y^3 + A/y^6)/3$\n",
    "\n",
    "$\\Rightarrow y = \\sqrt[3]{(2y^3 + A/y^6)/3}$\n",
    "\n",
    "$\\Rightarrow h(y, A) = \\sqrt[3]{(2y^3 + A/y^6)/3}$"
   ]
  },
  {
   "cell_type": "code",
   "execution_count": 41,
   "metadata": {},
   "outputs": [],
   "source": [
    "h = lambda y, A : np.power((2 * np.power(y, 3) + A / np.power(y, 6)) / 3, 1 / 3)"
   ]
  },
  {
   "cell_type": "markdown",
   "metadata": {},
   "source": [
    "(a) $h(y, 2) = \\sqrt[3]{(2y^3 + 2/y^6)/3}$"
   ]
  },
  {
   "cell_type": "code",
   "execution_count": 42,
   "metadata": {},
   "outputs": [
    {
     "name": "stdout",
     "output_type": "stream",
     "text": [
      "1.08005974\n"
     ]
    }
   ],
   "source": [
    "root = scipy.optimize.fixed_point(lambda y : h(y, 2), 1.0, method='iteration')\n",
    "print('{:>.8f}'.format(root))"
   ]
  },
  {
   "cell_type": "markdown",
   "metadata": {},
   "source": [
    "(b) $h(y, 3) = \\sqrt[3]{(2y^3 + 3/y^6)/3}$"
   ]
  },
  {
   "cell_type": "code",
   "execution_count": 43,
   "metadata": {},
   "outputs": [
    {
     "name": "stdout",
     "output_type": "stream",
     "text": [
      "1.12983096\n"
     ]
    }
   ],
   "source": [
    "root = scipy.optimize.fixed_point(lambda y : h(y, 3), 1.0, method='iteration')\n",
    "print('{:>.8f}'.format(root))"
   ]
  },
  {
   "cell_type": "markdown",
   "metadata": {},
   "source": [
    "(c) $h(y, 5) = \\sqrt[3]{(2y^3 + 5/y^6)/3}$"
   ]
  },
  {
   "cell_type": "code",
   "execution_count": 44,
   "metadata": {},
   "outputs": [
    {
     "name": "stdout",
     "output_type": "stream",
     "text": [
      "1.19581317\n"
     ]
    }
   ],
   "source": [
    "root = scipy.optimize.fixed_point(lambda y : h(y, 5), 1.0, method='iteration')\n",
    "print('{:>.8f}'.format(root))"
   ]
  },
  {
   "cell_type": "markdown",
   "metadata": {},
   "source": [
    "---\n",
    "5. Example 1.3 showed that $g(x) = \\cos{x}$ is a convergent FPI. Is the same true for $g(x) = \\cos^2{x}$? Find the fixed point to six correct decimal places, and report the number of FPI steps needed. Discuss local convergence, using Theorem 1.6."
   ]
  },
  {
   "cell_type": "code",
   "execution_count": 45,
   "metadata": {},
   "outputs": [
    {
     "name": "stdout",
     "output_type": "stream",
     "text": [
      "0.641714\n"
     ]
    }
   ],
   "source": [
    "root = scipy.optimize.fixed_point(lambda x : np.power(np.cos(x), 2), 1.0, method='iteration')\n",
    "print('{:>.6f}'.format(root))"
   ]
  },
  {
   "cell_type": "code",
   "execution_count": 46,
   "metadata": {},
   "outputs": [
    {
     "data": {
      "image/png": "[encoded data removed]",
      "text/latex": [
       "$\\displaystyle - 2 \\sin{\\left(x \\right)} \\cos{\\left(x \\right)}$"
      ],
      "text/plain": [
       "-2⋅sin(x)⋅cos(x)"
      ]
     },
     "metadata": {},
     "output_type": "display_data"
    },
    {
     "name": "stdout",
     "output_type": "stream",
     "text": [
      "S = 0.958993\n"
     ]
    }
   ],
   "source": [
    "dg = sympy.diff(sympy.cos(sympy.abc.x) ** 2)\n",
    "display(dg)\n",
    "S = np.abs(sympy.lambdify(sympy.abc.x, dg)(root))\n",
    "print('S = {:>.6f}'.format(S))"
   ]
  },
  {
   "cell_type": "markdown",
   "metadata": {},
   "source": [
    "Because $g'(x) = -2\\sin{x}\\cos{x}$ and $S = \\left | g'(x = 0.641714) \\right | = \\left | -0.958993 \\right | = 0.958993 < 1$. It is locally convergent."
   ]
  },
  {
   "cell_type": "markdown",
   "metadata": {},
   "source": [
    "---\n",
    "6. Derive three different $g(x)$ for finding roots to six correct decimal places of the following $f(x) = 0$ by Fixed-Point Iteration. Run FPI for each $g(x)$ and report results, convergence or divergence. Each equation $f(x) = 0$ has three roots. Derive more $g(x)$ if necessary until all roots are found by FPI. For each convergent run, determine the value of S from the errors $e_{i+1}/e_{i}$ , and compare with $S$ determined from calculus as in (1.11)."
   ]
  },
  {
   "cell_type": "markdown",
   "metadata": {},
   "source": [
    "(a) $f(x) = 2x^3 - 6x - 1$"
   ]
  },
  {
   "cell_type": "markdown",
   "metadata": {},
   "source": [
    "(1) $6x = 2x^3 - 1$\n",
    "\n",
    "$ \\Rightarrow g(x) = x = \\frac{2x^3 - 1}{6} $"
   ]
  },
  {
   "cell_type": "code",
   "execution_count": 47,
   "metadata": {},
   "outputs": [
    {
     "name": "stdout",
     "output_type": "stream",
     "text": [
      "1st root is -0.168254\n",
      "S = 0.028310\n"
     ]
    }
   ],
   "source": [
    "f = lambda x : (2 * np.power(x, 3) - 1) / 6\n",
    "root = scipy.optimize.fixed_point(f, 1.0, method='iteration')\n",
    "print('1st root is {:>.6f}'.format(root))\n",
    "\n",
    "dg = sympy.diff((2 * sympy.abc.x ** 3 - 1) / 6)\n",
    "S = np.abs(sympy.lambdify(sympy.abc.x, dg)(root))\n",
    "print('S = {:>.6f}'.format(S))"
   ]
  },
  {
   "cell_type": "markdown",
   "metadata": {},
   "source": [
    "It is locally convergent due to S = 0.028310 < 1"
   ]
  },
  {
   "cell_type": "markdown",
   "metadata": {},
   "source": [
    "(2) $ 2x^3 = 6x + 1 $\n",
    "\n",
    "$ \\Rightarrow g(x) = x = \\sqrt[3]{\\frac{6x + 1}{2}} $"
   ]
  },
  {
   "cell_type": "code",
   "execution_count": 48,
   "metadata": {},
   "outputs": [
    {
     "name": "stdout",
     "output_type": "stream",
     "text": [
      "2nd root is 1.810038\n",
      "S = 0.305228\n"
     ]
    }
   ],
   "source": [
    "f = lambda x : np.power((6 * x + 1) / 2, 1 / 3)\n",
    "root = scipy.optimize.fixed_point(f, 1.0, method='iteration')\n",
    "print('2nd root is {:>.6f}'.format(root))\n",
    "\n",
    "dg = sympy.diff( ((6 * sympy.abc.x + 1) / 2) ** (1 / 3) )\n",
    "S = np.abs(sympy.lambdify(sympy.abc.x, dg)(root))\n",
    "print('S = {:>.6f}'.format(S))"
   ]
  },
  {
   "cell_type": "markdown",
   "metadata": {},
   "source": [
    "It is locally convergent due to S = 0.305228 < 1"
   ]
  },
  {
   "cell_type": "markdown",
   "metadata": {},
   "source": [
    "(3) $ 2x \\cdot x^2 = 6x + 1 $\n",
    "\n",
    "$ \\Rightarrow g(x) = x = \\frac{\\sqrt{6/x + 1/x^2}}{2} $\n"
   ]
  },
  {
   "cell_type": "code",
   "execution_count": 49,
   "metadata": {},
   "outputs": [
    {
     "name": "stdout",
     "output_type": "stream",
     "text": [
      "3rd root is 1.195609\n",
      "S = 0.561172\n"
     ]
    }
   ],
   "source": [
    "f = lambda x : np.sqrt(6 / x + 1 / np.power(x, 2)) / 2\n",
    "root = scipy.optimize.fixed_point(f, 2.0, method='iteration')\n",
    "print('3rd root is {:>.6f}'.format(root))\n",
    "\n",
    "dg = sympy.diff( ((6 / sympy.abc.x + 1 / sympy.abc.x ** 2) ** 0.5) / 2 )\n",
    "S = np.abs(sympy.lambdify(sympy.abc.x, dg)(root))\n",
    "print('S = {:>.6f}'.format(S))"
   ]
  },
  {
   "cell_type": "markdown",
   "metadata": {},
   "source": [
    "It is locally convergent due to S = 0.561172 < 1"
   ]
  },
  {
   "cell_type": "markdown",
   "metadata": {},
   "source": [
    "(b) $f(x) = e^{x-2} + x^3 - x$"
   ]
  },
  {
   "cell_type": "markdown",
   "metadata": {},
   "source": [
    "(1) $x = e^{x-2} + x^3$\n",
    "\n",
    "$ \\Rightarrow g(x) = e^{x-2} + x^3 $"
   ]
  },
  {
   "cell_type": "code",
   "execution_count": 50,
   "metadata": {},
   "outputs": [
    {
     "name": "stdout",
     "output_type": "stream",
     "text": [
      "1st root is 0.163822\n",
      "S = 0.464096\n"
     ]
    }
   ],
   "source": [
    "g = lambda x : np.exp(x - 2) + np.power(x, 3)\n",
    "root = scipy.optimize.fixed_point(g, 0, method='iteration')\n",
    "print('1st root is {:>.6f}'.format(root))\n",
    "\n",
    "dg = sympy.diff(sympy.log(sympy.abc.x - 2) + sympy.abc.x ** 3)\n",
    "S = np.abs(sympy.lambdify(sympy.abc.x, dg)(root))\n",
    "print('S = {:>.6f}'.format(S))"
   ]
  },
  {
   "cell_type": "markdown",
   "metadata": {},
   "source": [
    "It is locally convergent due to S = 0.464096 < 1"
   ]
  },
  {
   "cell_type": "markdown",
   "metadata": {},
   "source": [
    "(2) $x^3 = x - e^{x-2} $\n",
    "\n",
    "$ \\Rightarrow x = \\sqrt[3]{x - e^{x-2}} $\n",
    "\n",
    "$ \\Rightarrow g(x) = \\sqrt[3]{x - e^{x-2}} $"
   ]
  },
  {
   "cell_type": "code",
   "execution_count": 51,
   "metadata": {},
   "outputs": [
    {
     "name": "stdout",
     "output_type": "stream",
     "text": [
      "2nd root is 0.788941\n",
      "S = 0.376010\n"
     ]
    }
   ],
   "source": [
    "g = lambda x : np.power(x - np.exp(x - 2), 1 / 3)\n",
    "root = scipy.optimize.fixed_point(g, 1, method='iteration')\n",
    "print('2nd root is {:>.6f}'.format(root))\n",
    "\n",
    "dg = sympy.diff((sympy.abc.x - sympy.exp(sympy.abc.x - 2)) ** (1 / 3))\n",
    "S = np.abs(sympy.lambdify(sympy.abc.x, dg)(root))\n",
    "print('S = {:>.6f}'.format(S))"
   ]
  },
  {
   "cell_type": "markdown",
   "metadata": {},
   "source": [
    "It is locally convergent due to S = 0.376010 < 1"
   ]
  },
  {
   "cell_type": "markdown",
   "metadata": {},
   "source": [
    "(3) $e^{x-2} = x - x^3$\n",
    "\n",
    "$ \\Rightarrow x - 2 = \\ln{(x - x^3)} $\n",
    "\n",
    "$ \\Rightarrow g(x) = 2 + \\ln{(x - x^3)} $"
   ]
  },
  {
   "cell_type": "code",
   "execution_count": 52,
   "metadata": {},
   "outputs": [
    {
     "name": "stdout",
     "output_type": "stream",
     "text": [
      "Diverge, cannot find 3rd root by FPI\n",
      "3rd root is -1.023482\n",
      "S = 44.056711\n"
     ]
    }
   ],
   "source": [
    "g = lambda x : np.exp(x - 2) + x ** 3 - x\n",
    "print('Diverge, cannot find 3rd root by FPI')\n",
    "\n",
    "# We use other method to find 3rd root\n",
    "root = scipy.optimize.fsolve(g, -1)[0]\n",
    "print('3rd root is {:>.6f}'.format(root))\n",
    "\n",
    "dg = sympy.diff(2 + sympy.log(sympy.abc.x - sympy.abc.x ** 3))\n",
    "S = np.abs(sympy.lambdify(sympy.abc.x, dg)(root))\n",
    "print('S = {:>.6f}'.format(S))"
   ]
  },
  {
   "cell_type": "markdown",
   "metadata": {},
   "source": [
    "(c) $f(x) = 1 + 5x - 6x^3 - e^{2x}$"
   ]
  },
  {
   "cell_type": "markdown",
   "metadata": {},
   "source": []
  },
  {
   "cell_type": "markdown",
   "metadata": {},
   "source": [
    "# 1.3 Limits of Accuracy"
   ]
  },
  {
   "cell_type": "markdown",
   "metadata": {},
   "source": [
    "### Definition\n",
    "Assume that $f$ is a function and  that $r$ is a root, meaning that it satisfies $f(r)=0$. Assume that $x_a$ is an approximation to $r$. For the root-finding problem, the ** backward error ** of the approximation $x_a$ is $\\left | f(x_a) \\right |$ and  the ** forward error **  is $\\left | r - x_a \\right |$"
   ]
  },
  {
   "cell_type": "markdown",
   "metadata": {},
   "source": [
    "### Definition\n",
    "Assume that $r$ is a root of the differentiable function $f$ ; that is, assume that $f(r) = 0$. Then if $0 = f(r) = f'(r) = f''(r) = ... = f^{(m-1)}(r)$, but $f^{(m)}(r) \\neq 0$, we say that $f$ has a **root** of **multiplicity** $m$ at $r$. We say that $f$ has a **multiple root** at $r$ if the multiplicity is greater than one. The root is called **simple** if the multiplicity is one."
   ]
  },
  {
   "cell_type": "markdown",
   "metadata": {},
   "source": [
    "### Example\n",
    "The function $f(x) = sinx - x$ has  a triple root at $r = 0$. Find the forward and backward error of the approximate root $x_a = 0.001$."
   ]
  },
  {
   "cell_type": "markdown",
   "metadata": {},
   "source": [
    "$f(0) = \\sin0 - 0 = 0$<br/>\n",
    "$f'(0) = \\cos0 - 1 = 0$<br/>\n",
    "$f''(0) = -\\sin0 - 0 = 0$<br/>\n",
    "$f'''(0) = -\\cos0 - 0 = -1$<br/>\n",
    "\n",
    "The forward error is $\\left | r - x_a \\right | = 10^{-3}$<br/>\n",
    "The backward error is $\\left | f(x_a) \\right | = \\left | sin(0.001) - 0.001 \\right | \\approx 1.6667 \\times 10^{-10}$"
   ]
  },
  {
   "cell_type": "markdown",
   "metadata": {},
   "source": [
    "   ### Sensitivity Formula for Roots\n",
    "   Assume that $r$ is a root of $f(x)$ and $r + \\Delta r$ is a root of $f(x) + \\epsilon g(x)$. Then \n",
    "   $$ \\Delta r \\approx -\\frac{\\epsilon g(r)}{f'(r)}$$\n",
    "   if $\\epsilon \\ll  f'(r)$"
   ]
  },
  {
   "cell_type": "markdown",
   "metadata": {},
   "source": [
    "## 1.3 Computer Problems"
   ]
  },
  {
   "cell_type": "markdown",
   "metadata": {},
   "source": [
    "Let $f(x) = sinx - x$.\n",
    "- (a) Find the multiplicity of the root r = 0.\n",
    "- (b) Use initial guess x = 0.1 to locate a root. What are the forward and backward errors"
   ]
  },
  {
   "cell_type": "markdown",
   "metadata": {},
   "source": [
    "$f'(0) = \\cos0 - 1 = 0$<br/>\n",
    "$f''(0) = -\\sin0 = 0$<br/>\n",
    "$f'''(0) = -\\cos0 = -1$<br/>\n",
    "\n",
    "multiplicity = 3"
   ]
  },
  {
   "cell_type": "code",
   "execution_count": 53,
   "metadata": {},
   "outputs": [
    {
     "name": "stdout",
     "output_type": "stream",
     "text": [
      "forward error = 0.0000000213751396\n",
      "backward error = 0.0000000000000000\n"
     ]
    }
   ],
   "source": [
    "from scipy.optimize import fsolve\n",
    "f = lambda x : math.sin(x) - x\n",
    "r = fsolve(f,0.1)[0]\n",
    "print('forward error = %.16f' %(abs(r)))\n",
    "print('backward error = %.16f' %(abs(f(r))))"
   ]
  },
  {
   "cell_type": "markdown",
   "metadata": {},
   "source": [
    "---\n",
    "(a) Use fzero to find the root of $f(x) = 2x\\cos{x} - 2x + \\sin{x^3}$ on $\\left [ -0.1, 0.2 \\right ]$. Report the forward and backward errors.\n",
    "\n",
    "(b) Run the Bisection Method with initial interval $\\left [ -0.1, 0.2 \\right ]$ to find as many correct digits as possible"
   ]
  },
  {
   "cell_type": "code",
   "execution_count": 54,
   "metadata": {},
   "outputs": [
    {
     "name": "stdout",
     "output_type": "stream",
     "text": [
      "x = 0.0001217354799952\n",
      "forward  error : 1.217355e-04\n",
      "backward error : 2.019484e-28\n"
     ]
    }
   ],
   "source": [
    "from scipy.optimize import fsolve\n",
    "f = lambda x : 2 * x * math.cos(x) - 2 * x + math.sin(math.pow(x, 3))\n",
    "r = fsolve(f,0.04)[0]\n",
    "print('x = %.16f' % r)\n",
    "print('forward  error : %e' % abs(r) )\n",
    "print('backward error : %e' % abs(f(r)) )"
   ]
  },
  {
   "cell_type": "code",
   "execution_count": 55,
   "metadata": {},
   "outputs": [
    {
     "name": "stdout",
     "output_type": "stream",
     "text": [
      "x = -0.0000000238418579\n",
      "forward  error : 2.384186e-08\n",
      "backward error : 2.938736e-39\n"
     ]
    }
   ],
   "source": [
    "\"\"\"\n",
    "f(x) \n",
    "=> 2x * (cos(x) - 1) + sin(x^3)\n",
    "=> (2x * (cos^2(x) - 1) + (cos(x) + 1) * sin(x^3)) / (cos(x) + 1)\n",
    "=> (2x * -sin^2(x)  + (cos(x) + 1) * sin(x^3)) / (cos(x) + 1)\n",
    "\"\"\"\n",
    "f = lambda x : (2 * x * -math.pow(math.sin(x), 2) + (math.cos(x) + 1) * math.sin(math.pow(x, 3))) / (math.cos(x) + 1)\n",
    "r = bisect(f,-0.1,0.2,1e-7)\n",
    "print('x = %.16f' % r)\n",
    "print('forward  error : %e' % abs(r) )\n",
    "print('backward error : %e' % abs(f(r)) )"
   ]
  },
  {
   "cell_type": "markdown",
   "metadata": {},
   "source": [
    "# 1.4 Newton's Method"
   ]
  },
  {
   "cell_type": "code",
   "execution_count": 56,
   "metadata": {},
   "outputs": [],
   "source": [
    "def newton_method( f, df, x0, k = 500, tol = 1e-6) :\n",
    "    \"\"\"\n",
    "    Use Newton's method to find the root of the function\n",
    "    \n",
    "    Args:\n",
    "        f (function prototype) : function handle\n",
    "        df (function prototype) : derivative function handle\n",
    "        x0 (real number) : starting guess \n",
    "        k (integer) : number of iteration steps (default : 500)\n",
    "        tol (real number) : tolerance (default : 1e-6)\n",
    "        \n",
    "    Return:\n",
    "        Approximate solution xc\n",
    "        \n",
    "    Raises:\n",
    "        ValueError :\n",
    "            - f or df is None\n",
    "            - k is smaller than 0\n",
    "    \"\"\"\n",
    "    try:\n",
    "        if f is None or df is None :\n",
    "            raise ValueError('Function handle f or df is Null')\n",
    "        \n",
    "        if k <= 0 :\n",
    "            raise ValueError('Iteration k must be larger than 0')\n",
    "        \n",
    "        xc = x0\n",
    "        for _ in range(k) :\n",
    "            xt = xc - f(xc) / df(xc)\n",
    "            if tol > 0 and abs(xt - xc) / abs(xc) < tol :\n",
    "                return xt\n",
    "            else :\n",
    "                xc = xt\n",
    "        return xc\n",
    "    except ValueError as e :\n",
    "        print('ValueError Exception : ', e)\n",
    "        traceback.print_exception()   "
   ]
  },
  {
   "cell_type": "markdown",
   "metadata": {},
   "source": [
    "### Example\n",
    "Find the Newton's Method formula for the equation $x^3 + x - 1 = 0$."
   ]
  },
  {
   "cell_type": "code",
   "execution_count": 57,
   "metadata": {},
   "outputs": [
    {
     "name": "stdout",
     "output_type": "stream",
     "text": [
      "x = 0.68232780\n"
     ]
    }
   ],
   "source": [
    "f = lambda x : math.pow(x,3) + x - 1\n",
    "df = lambda x : 3 * math.pow(x,2) + 1\n",
    "xc = newton_method(f, df, -0.7, 25, 1e-8)\n",
    "print ('x = %.8f' % xc)"
   ]
  },
  {
   "cell_type": "markdown",
   "metadata": {},
   "source": [
    "# 1.5 Root-Finding Without Derivatives"
   ]
  },
  {
   "cell_type": "code",
   "execution_count": 58,
   "metadata": {},
   "outputs": [],
   "source": [
    "def secant_method(f, x0, x1, k=500) :\n",
    "    \"\"\"\n",
    "    Use Secant's method to find the root of the formula\n",
    "    \n",
    "    Args:\n",
    "        f (function prototype) : function handle\n",
    "        x0 (real number) : initial guess\n",
    "        x1 (real number) : initial guess \n",
    "        k (integer) : number of iteration steps (default : 500)\n",
    "        \n",
    "    Return:\n",
    "        Approximate solution xc\n",
    "        \n",
    "    Raises:\n",
    "    \n",
    "    \"\"\"\n",
    "    x = np.zeros(k)\n",
    "    x[0] = x0\n",
    "    x[1] = x1\n",
    "    for i in range(1,k - 1):\n",
    "        if f(x[i]) - f(x[i - 1]) == 0 :\n",
    "            return x[i]\n",
    "        x[i + 1] = x[i] - f(x[i]) * (x[i] - x[i - 1])  / (f(x[i]) - f(x[i - 1]))\n",
    "        \n",
    "    return x[k - 1]"
   ]
  },
  {
   "cell_type": "markdown",
   "metadata": {},
   "source": [
    "### Example \n",
    "Apply the Secant Method with starting guesses $x_0 = 0,x_1 = 1$ to find the root of $f(x)=x^3 + x + 1$"
   ]
  },
  {
   "cell_type": "code",
   "execution_count": 59,
   "metadata": {},
   "outputs": [
    {
     "data": {
      "image/png": "[encoded data removed]",
      "text/latex": [
       "$\\displaystyle 0.682327803828019$"
      ],
      "text/plain": [
       "0.6823278038280193"
      ]
     },
     "execution_count": 59,
     "metadata": {},
     "output_type": "execute_result"
    }
   ],
   "source": [
    "f = lambda x : math.pow(x, 3) + x - 1\n",
    "secant_method(f, 0, 1, 100)"
   ]
  },
  {
   "cell_type": "code",
   "execution_count": 60,
   "metadata": {},
   "outputs": [],
   "source": [
    "def false_position_method(f, a, b, k) :\n",
    "    \"\"\"\n",
    "    Use false position method to find the root of the formula f\n",
    "    \n",
    "    Args:\n",
    "        f (function prototype) : function handle\n",
    "        a (real number) : the lowerbound of the bracket of initial guess\n",
    "        b (real number) : the upperbound of the bracket of initial guess\n",
    "        k (integer) : number of iteration steps (default : 500)\n",
    "        \n",
    "    Return:\n",
    "        Approximate solution xc\n",
    "        \n",
    "    Raises:\n",
    "        ValueError:\n",
    "            - f(a) * f(b) must be smaller than 0 (exclude zero)\n",
    "        \n",
    "    \"\"\"\n",
    "    if f(a) * f(b) >= 0 :\n",
    "        raise ValueError('f(a) * f(b) must be < 0')\n",
    "    for _ in range(k) :\n",
    "        c = (b * f(a) - a * f(b)) / (f(a) - f(b))\n",
    "        if f(c) == 0 :\n",
    "            return c\n",
    "        if f(a) * f(c) < 0 :\n",
    "            b = c\n",
    "        else :\n",
    "            a = c\n",
    "    return c"
   ]
  },
  {
   "cell_type": "markdown",
   "metadata": {},
   "source": [
    "### Example\n",
    "Apply the Method of False Position on interval $[-1,1]$ to find the root $r = 0$ of $f(x) = x^3 - 2x^2 + \\frac{3}{2}x$"
   ]
  },
  {
   "cell_type": "code",
   "execution_count": 61,
   "metadata": {},
   "outputs": [
    {
     "data": {
      "image/png": "[encoded data removed]",
      "text/latex": [
       "$\\displaystyle 7.5283500535915 \\cdot 10^{-18}$"
      ],
      "text/plain": [
       "7.528350053591502e-18"
      ]
     },
     "execution_count": 61,
     "metadata": {},
     "output_type": "execute_result"
    }
   ],
   "source": [
    "f = lambda x : pow(x, 3) - 2 * pow(x, 2) + 1.5 * x\n",
    "false_position_method(f, -1, 1, 100)"
   ]
  },
  {
   "cell_type": "code",
   "execution_count": 62,
   "metadata": {},
   "outputs": [],
   "source": [
    "def inverse_quadratic_interpolation(f, x0, x1, x2, k):\n",
    "    a = x0\n",
    "    b = x1\n",
    "    c = x2\n",
    "    for _ in range(k) :\n",
    "        q = f(a) / f(b)\n",
    "        r = f(c) / f(b)\n",
    "        s = f(c) / f(a)\n",
    "        \n",
    "        denominator = (q - 1) * (r - 1) * (s - 1)\n",
    "        if denominator == 0 :\n",
    "            break\n",
    "        \n",
    "        tmp = c - (r * (r - q) * (c - b) + (1 - r) * s * (c - a)) / denominator\n",
    "        a = b\n",
    "        b = c\n",
    "        c = tmp\n",
    "        \n",
    "        \n",
    "    return c"
   ]
  },
  {
   "cell_type": "code",
   "execution_count": 63,
   "metadata": {},
   "outputs": [
    {
     "data": {
      "image/png": "[encoded data removed]",
      "text/latex": [
       "$\\displaystyle 0.682327803828019$"
      ],
      "text/plain": [
       "0.6823278038280193"
      ]
     },
     "execution_count": 63,
     "metadata": {},
     "output_type": "execute_result"
    }
   ],
   "source": [
    "f = lambda x : pow(x, 3) + x - 1\n",
    "inverse_quadratic_interpolation(f, 0, 0.5, 1, 20)"
   ]
  },
  {
   "cell_type": "markdown",
   "metadata": {},
   "source": [
    "---\n",
    "## MIT License\n",
    "\n",
    "Copyright (c) 2020 Jim00000\n",
    "\n",
    "Permission is hereby granted, free of charge, to any person obtaining a copy\n",
    "of this software and associated documentation files (the \"Software\"), to deal\n",
    "in the Software without restriction, including without limitation the rights\n",
    "to use, copy, modify, merge, publish, distribute, sublicense, and/or sell\n",
    "copies of the Software, and to permit persons to whom the Software is\n",
    "furnished to do so, subject to the following conditions:\n",
    "\n",
    "The above copyright notice and this permission notice shall be included in all\n",
    "copies or substantial portions of the Software."
   ]
  }
 ],
 "metadata": {
  "kernelspec": {
   "display_name": "Python 3",
   "language": "python",
   "name": "python3"
  },
  "language_info": {
   "codemirror_mode": {
    "name": "ipython",
    "version": 3
   },
   "file_extension": ".py",
   "mimetype": "text/x-python",
   "name": "python",
   "nbconvert_exporter": "python",
   "pygments_lexer": "ipython3",
   "version": "3.8.6"
  }
 },
 "nbformat": 4,
 "nbformat_minor": 2
}
