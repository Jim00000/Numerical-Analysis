{
 "cells": [
  {
   "cell_type": "markdown",
   "metadata": {},
   "source": [
    "# ★ Trigonometric Interpolation And The FFT ★"
   ]
  },
  {
   "cell_type": "code",
   "execution_count": 2,
   "metadata": {},
   "outputs": [],
   "source": [
    "# Import modules\n",
    "import math\n",
    "import cmath\n",
    "import numpy as np\n",
    "import scipy\n",
    "import matplotlib.pyplot as plt"
   ]
  },
  {
   "cell_type": "markdown",
   "metadata": {},
   "source": [
    "# 10.1 The Fourier Transform"
   ]
  },
  {
   "cell_type": "markdown",
   "metadata": {},
   "source": [
    "## Lemma : Primitive roots pf unity\n",
    "\n",
    "Let $\\omega$ be a primitive bth root of unity and k be an integer. Then\n",
    "\n",
    "### $\\sum_{j=0}^{n-1}\\omega^{jk} = \n",
    "\\left\\{\\begin{matrix}\n",
    "n & \\text{if k/n is an integer } \\\\ \n",
    "0 & \\text{otherwise} \n",
    "\\end{matrix}\\right.$"
   ]
  },
  {
   "cell_type": "markdown",
   "metadata": {},
   "source": [
    "## Definition\n",
    "\n",
    "The Discrete Fourier Transform (DFT) of $x = [x_0,\\cdots,x_{n-1}]^T$ is the n-dimensional vector $y = [y_0,\\cdots,y_{n-1}]$, where $\\omega = e^{-i2\\pi/n}$ and\n",
    "\n",
    "### $y_k = \\frac{1}{\\sqrt{n}}\\sum_{j=0}^{n-1}x_j\\omega^{jk}$"
   ]
  },
  {
   "cell_type": "markdown",
   "metadata": {},
   "source": [
    "## Definition\n",
    "\n",
    "The magnitude of a complex vector $v$ is the real number $||v|| = \\sqrt{\\bar{v}^Tv}$. A square complex matrix F is unitary if $\\bar{F}^TF=I$"
   ]
  },
  {
   "cell_type": "markdown",
   "metadata": {},
   "source": [
    "## Example\n",
    "\n",
    "Find the DFT of the vector $x = [1, 0, -1, 0]^T$"
   ]
  },
  {
   "cell_type": "code",
   "execution_count": 3,
   "metadata": {},
   "outputs": [
    {
     "name": "stdout",
     "output_type": "stream",
     "text": [
      "[0.+0.j 1.+0.j 0.-0.j 1.+0.j]\n"
     ]
    }
   ],
   "source": [
    "np.set_printoptions(precision=3)\n",
    "x = np.array([1, 0, -1, 0]).T\n",
    "w = complex(math.cos(math.pi * 2 / x.size), -math.sin(math.pi * 2 / x.size))\n",
    "F = np.empty((x.size, x.size), dtype=complex) # Fourier matrix\n",
    "for i in range(x.size):\n",
    "    for j in range(x.size):\n",
    "        F[i, j] = pow(w,(i * j))\n",
    "y = (1 / math.sqrt(x.size)) * np.matmul(F, x)\n",
    "print(np.round(y)) # [0, 1, 0, 1]"
   ]
  },
  {
   "cell_type": "code",
   "execution_count": 4,
   "metadata": {},
   "outputs": [
    {
     "name": "stdout",
     "output_type": "stream",
     "text": [
      "[0.+0.j 1.+0.j 0.+0.j 1.+0.j]\n"
     ]
    }
   ],
   "source": [
    "# Or use numpy fft (fast fourier transform)\n",
    "print(np.fft.fft(x) / np.sqrt(x.size))"
   ]
  },
  {
   "cell_type": "markdown",
   "metadata": {},
   "source": [
    "## Lemma \n",
    "\n",
    "Let $\\{y_k\\}$ be the DFT of $\\{x_j\\}$, where the $x_j$ are real numbers. Then \n",
    "\n",
    "1. $y_0$ is real\n",
    "2. $y_{n-k} = \\bar{y_k} \\text{ for k} = 1,\\cdots,n - 1$"
   ]
  },
  {
   "cell_type": "markdown",
   "metadata": {},
   "source": [
    "# 10.2 Trigonometric Interpolation"
   ]
  },
  {
   "cell_type": "markdown",
   "metadata": {},
   "source": [
    "## Example \n",
    "\n",
    "Find the trigonometric interpolant for $x = [1, 0, -1, 0]^T$"
   ]
  },
  {
   "cell_type": "code",
   "execution_count": 71,
   "metadata": {},
   "outputs": [
    {
     "data": {
      "image/png": "[encoded data removed]",
      "text/plain": [
       "<Figure size 432x288 with 1 Axes>"
      ]
     },
     "metadata": {},
     "output_type": "display_data"
    }
   ],
   "source": [
    "c, d = 0, 1\n",
    "x = np.array([1, 0, -1, 0]).T\n",
    "y = np.fft.fft(x) / np.sqrt(x.size)\n",
    "a = np.array(y.real)\n",
    "b = np.array(y.imag)\n",
    "f = lambda t, a, b, c, d : a[0] / np.sqrt(a.size) + 2 / np.sqrt(a.size) * \\\n",
    "np.sum([a[k] * np.cos(2 * k * np.pi * (t - c) / (d - c)) - \\\n",
    "        b[k] * np.sin(2 * k * np.pi * (t - c) / (d - c)) for k in range(1, int(a.size / 2))]) + \\\n",
    "a[int(a.size / 2)] / np.sqrt(a.size) * np.cos(a.size * np.pi * (t - c) / (d - c))\n",
    "\n",
    "t = np.linspace(c, d, 100)\n",
    "xt = np.linspace(0, 1, 4, False)\n",
    "data = [f(i, a, b, c, d) for i in t]\n",
    "\n",
    "plt.plot(t, data)\n",
    "plt.plot(xt, a, 'o')\n",
    "plt.show()"
   ]
  }
 ],
 "metadata": {
  "kernelspec": {
   "display_name": "Python 3",
   "language": "python",
   "name": "python3"
  },
  "language_info": {
   "codemirror_mode": {
    "name": "ipython",
    "version": 3
   },
   "file_extension": ".py",
   "mimetype": "text/x-python",
   "name": "python",
   "nbconvert_exporter": "python",
   "pygments_lexer": "ipython3",
   "version": "3.6.5"
  }
 },
 "nbformat": 4,
 "nbformat_minor": 2
}
