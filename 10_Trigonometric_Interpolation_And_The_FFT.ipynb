{
 "cells": [
  {
   "cell_type": "markdown",
   "metadata": {},
   "source": [
    "# ★ Trigonometric Interpolation And The FFT ★"
   ]
  },
  {
   "cell_type": "code",
   "execution_count": 1,
   "metadata": {},
   "outputs": [],
   "source": [
    "# Import modules\n",
    "import math\n",
    "import cmath\n",
    "import numpy as np\n",
    "import scipy\n",
    "import matplotlib.pyplot as plt"
   ]
  },
  {
   "cell_type": "markdown",
   "metadata": {},
   "source": [
    "# 10.1 The Fourier Transform"
   ]
  },
  {
   "cell_type": "markdown",
   "metadata": {},
   "source": [
    "## Lemma : Primitive roots pf unity\n",
    "\n",
    "Let $\\omega$ be a primitive bth root of unity and k be an integer. Then\n",
    "\n",
    "### $\\sum_{j=0}^{n-1}\\omega^{jk} = \n",
    "\\left\\{\\begin{matrix}\n",
    "n & \\text{if k/n is an integer } \\\\ \n",
    "0 & \\text{otherwise} \n",
    "\\end{matrix}\\right.$"
   ]
  },
  {
   "cell_type": "markdown",
   "metadata": {},
   "source": [
    "## Definition\n",
    "\n",
    "The Discrete Fourier Transform (DFT) of $x = [x_0,\\cdots,x_{n-1}]^T$ is the n-dimensional vector $y = [y_0,\\cdots,y_{n-1}]$, where $\\omega = e^{-i2\\pi/n}$ and\n",
    "\n",
    "### $y_k = \\frac{1}{\\sqrt{n}}\\sum_{j=0}^{n-1}x_j\\omega^{jk}$"
   ]
  },
  {
   "cell_type": "markdown",
   "metadata": {},
   "source": [
    "## Definition\n",
    "\n",
    "The magnitude of a complex vector $v$ is the real number $||v|| = \\sqrt{\\bar{v}^Tv}$. A square complex matrix F is unitary if $\\bar{F}^TF=I$"
   ]
  },
  {
   "cell_type": "markdown",
   "metadata": {},
   "source": [
    "## Example\n",
    "\n",
    "Find the DFT of the vector $x = [1, 0, -1, 0]^T$"
   ]
  },
  {
   "cell_type": "code",
   "execution_count": 2,
   "metadata": {},
   "outputs": [
    {
     "name": "stdout",
     "output_type": "stream",
     "text": [
      "[0.+0.j 1.+0.j 0.-0.j 1.+0.j]\n"
     ]
    }
   ],
   "source": [
    "np.set_printoptions(precision=3)\n",
    "x = np.array([1, 0, -1, 0]).T\n",
    "w = complex(math.cos(math.pi * 2 / x.size), -math.sin(math.pi * 2 / x.size))\n",
    "F = np.empty((x.size, x.size), dtype=complex) # Fourier matrix\n",
    "for i in range(x.size):\n",
    "    for j in range(x.size):\n",
    "        F[i, j] = pow(w,(i * j))\n",
    "y = (1 / math.sqrt(x.size)) * np.matmul(F, x)\n",
    "print(np.round(y)) # [0, 1, 0, 1]"
   ]
  },
  {
   "cell_type": "code",
   "execution_count": 3,
   "metadata": {},
   "outputs": [
    {
     "name": "stdout",
     "output_type": "stream",
     "text": [
      "[0.+0.j 1.+0.j 0.+0.j 1.+0.j]\n"
     ]
    }
   ],
   "source": [
    "# Or use numpy fft (fast fourier transform)\n",
    "print(np.fft.fft(x) / np.sqrt(x.size))"
   ]
  },
  {
   "cell_type": "markdown",
   "metadata": {},
   "source": [
    "## Lemma \n",
    "\n",
    "Let $\\{y_k\\}$ be the DFT of $\\{x_j\\}$, where the $x_j$ are real numbers. Then \n",
    "\n",
    "1. $y_0$ is real\n",
    "2. $y_{n-k} = \\bar{y_k} \\text{ for k} = 1,\\cdots,n - 1$"
   ]
  },
  {
   "cell_type": "markdown",
   "metadata": {},
   "source": [
    "# 10.2 Trigonometric Interpolation"
   ]
  },
  {
   "cell_type": "markdown",
   "metadata": {},
   "source": [
    "## Lemma\n",
    "\n",
    "Let $t = j/n$, where j and n are integers. Let k be an integer. Then $\\cos2(n-k)\\pi t = \\cos2k\\pi t$ and $\\sin2(n - k)\\pi t = - sin{2k\\pi t}$"
   ]
  },
  {
   "cell_type": "markdown",
   "metadata": {},
   "source": [
    "## Corollary\n",
    "\n",
    "For an even integer n, let $t_j = c + j(d - c)/n$ for $j = 0,\\cdots,n - 1$, and let $x = (x_0,\\cdots,x_{n-1})$ denote a vector of n real numbers. Define $\\overrightarrow{a} + \\overrightarrow{b}i = F_nx$, where $F_n$ is the Discrete Fourier Transform. Then the function \n",
    "\n",
    "### $P_n(t) = \\frac{a_0}{\\sqrt{n}} + \\frac{2}{\\sqrt{n}}\\sum_{k=1}^{n/2-1}(a_k\\cos{\\frac{2k\\pi (t-c)}{d-c}}-b_k\\sin{\\frac{2k\\pi (t-c)}{d-c}})+\\frac{a_{n/2}}{\\sqrt{n}}cos{\\frac{n\\pi (t-c)}{d-c}}$ \n",
    "\n",
    "satisfies $P_n(t_j) = x_j$ for $j = 0,\\cdots,n-1$"
   ]
  },
  {
   "cell_type": "code",
   "execution_count": 4,
   "metadata": {},
   "outputs": [],
   "source": [
    "def even_trigonometric_interpolant(t, a, b, c, d):\n",
    "    return a[0] / np.sqrt(a.size) + 2 / np.sqrt(a.size) * \\\n",
    "        np.sum([a[k] * np.cos(2 * k * np.pi * (t - c) / (d - c)) - \\\n",
    "        b[k] * np.sin(2 * k * np.pi * (t - c) / (d - c)) for k in range(1, int(a.size / 2))]) + \\\n",
    "        a[int(a.size / 2)] / np.sqrt(a.size) * np.cos(a.size * np.pi * (t - c) / (d - c))"
   ]
  },
  {
   "cell_type": "markdown",
   "metadata": {},
   "source": [
    "## Example \n",
    "\n",
    "Find the trigonometric interpolant for $x = [1, 0, -1, 0]^T$"
   ]
  },
  {
   "cell_type": "code",
   "execution_count": 5,
   "metadata": {},
   "outputs": [
    {
     "data": {
      "image/png": "[encoded data removed]",
      "text/plain": [
       "<Figure size 432x288 with 1 Axes>"
      ]
     },
     "metadata": {
      "needs_background": "light"
     },
     "output_type": "display_data"
    }
   ],
   "source": [
    "c, d = 0, 1\n",
    "x = np.array([1, 0, -1, 0]).T\n",
    "y = np.fft.fft(x) / np.sqrt(x.size)\n",
    "a = np.array(y.real)\n",
    "b = np.array(y.imag)\n",
    "f = lambda t, a, b, c, d : a[0] / np.sqrt(a.size) + 2 / np.sqrt(a.size) * \\\n",
    "np.sum([a[k] * np.cos(2 * k * np.pi * (t - c) / (d - c)) - \\\n",
    "        b[k] * np.sin(2 * k * np.pi * (t - c) / (d - c)) for k in range(1, int(a.size / 2))]) + \\\n",
    "a[int(a.size / 2)] / np.sqrt(a.size) * np.cos(a.size * np.pi * (t - c) / (d - c))\n",
    "\n",
    "t = np.linspace(c, d, 40)\n",
    "xt = np.linspace(0, 1, 4, False)\n",
    "data = [f(i, a, b, c, d) for i in t]\n",
    "\n",
    "plt.plot(t, data)\n",
    "plt.plot(xt, x, 'o', color='k')\n",
    "plt.show()"
   ]
  },
  {
   "cell_type": "markdown",
   "metadata": {},
   "source": [
    "### Example\n",
    "\n",
    "Find the trigonometric interpolant for the temperature data : $x = [-2.2, -2.8, -6.1, -3.9, 0.0, 1.1, -0.6, -1.1]$ on the interval $[0,1]$"
   ]
  },
  {
   "cell_type": "code",
   "execution_count": 6,
   "metadata": {},
   "outputs": [
    {
     "data": {
      "image/png": "[encoded data removed]",
      "text/plain": [
       "<Figure size 432x288 with 1 Axes>"
      ]
     },
     "metadata": {
      "needs_background": "light"
     },
     "output_type": "display_data"
    }
   ],
   "source": [
    "c, d = 0, 1\n",
    "xt = np.linspace(c, d, 8, False)\n",
    "x = np.array([-2.2, -2.8, -6.1, -3.9, 0, 1.1, -0.6, -1.1])\n",
    "y = np.fft.fft(x) / np.sqrt(x.size)\n",
    "a = np.array(y.real)\n",
    "b = np.array(y.imag)\n",
    "t = np.linspace(c, d, 40)\n",
    "data = [even_trigonometric_interpolant(i, a, b, c, d) for i in t]\n",
    "plt.plot(t, data)\n",
    "plt.plot(xt, x, 'o', color='k')\n",
    "plt.show()"
   ]
  },
  {
   "cell_type": "markdown",
   "metadata": {},
   "source": [
    "# 10.3 The FFT And Signal Processing"
   ]
  },
  {
   "cell_type": "markdown",
   "metadata": {},
   "source": [
    "## Orthogonal Function Interpolation Theorem\n",
    "\n",
    "Let f_0(t),\\cdots,\\f_{n-1}(t) be functions of t and $t_0,\\cdots,t_{n-1}$ be real numbers. Assume that the $n \\times n$ matrix\n",
    "\n",
    "### $A = \n",
    "\\begin{bmatrix}\n",
    "f_0(t_0) & f_0(t_1) & \\cdots & f_0(t_{n-1})  \\\\ \n",
    "f_1(t_0) & f_1(t_1) & \\cdots & f_1(t_{n-1})  \\\\ \n",
    "\\vdots & \\vdots &  & \\vdots \\\\ \n",
    "f_{n-1}(t_0) & f_{n-1}(t_1) & \\cdots & f_{n-1}(t_{n-1}) \n",
    "\\end{bmatrix} $\n",
    "\n",
    "is a real $n \\times n$ otrhogonal matrix. If $y = Ax$, the function\n",
    "\n",
    "### $F(t) = \\sum_{k = 0}^{n-1}y_kf_k(t)$\n",
    "\n",
    "interpolates $(t_0, x_0), \\cdots, (t_{n-1}, x_{n-1})$, that is $F(t_j) = x_j$ for $j = 0,\\cdots,n-1$"
   ]
  },
  {
   "cell_type": "markdown",
   "metadata": {},
   "source": [
    "## Lemma\n",
    "\n",
    "Let $n \\ge 1$ and k, l be integers. Then\n",
    "\n",
    "### $\\sum_{j = 0}^{n-1}\\cos{\\frac{2\\pi jk}{n}}\\cos{\\frac{2\\pi jl}{n}} =  \\left\\{\\begin{matrix}\n",
    "n & \\text{if both (k-l)/n and (k+l)/n are integers} \\\\ \n",
    "\\frac{n}{2} & \\text{if exactly one of (k-l)/n and (k+l)/n is an integer} \\\\ \n",
    "0 & \\text{if neither is an integer}\n",
    "\\end{matrix}\\right.$\n",
    "\n",
    "### $\\sum_{j = 0}^{n-1}\\cos{\\frac{2\\pi jk}{n}}\\sin{\\frac{2\\pi jl}{n}} = 0$\n",
    "\n",
    "### $\\sum_{j = 0}^{n-1}\\sin{\\frac{2\\pi jk}{n}}\\sin{\\frac{2\\pi jl}{n}} =  \\left\\{\\begin{matrix}\n",
    "0 & \\text{if both (k-l)/n and (k+l)/n are integers} \\\\ \n",
    "\\frac{n}{2} & \\text{if (k-l)/n is an integer and (k+l)/n is not} \\\\ \n",
    "-\\frac{n}{2} & \\text{if (k-l)/n is not and (k+l)/n is an integer} \\\\ \n",
    "0 & \\text{if neither is an integer}\n",
    "\\end{matrix}\\right.$"
   ]
  },
  {
   "cell_type": "markdown",
   "metadata": {},
   "source": [
    "## Orthogonal Function Least Squares Approximation Theorem\n",
    "\n",
    "Let $m \\le n$ be integers, and assume that data $(t_0,x_0),\\cdots,(t_{n-1},x_{n-1})$ are given. Set $y = Ax$, where A is an orthogonal matrix of form like Orthogonal Function Interpolation Theorem show. Then the interpolating polynomial for basis functions $f_0(t),\\cdots,f_{n-1}(t)$ is\n",
    "\n",
    "### $F_n(t) = \\sum_{k = 0}^{n - 1}y_kf_k(t)$\n",
    "\n",
    "and the best least squares approximation, using only the functions $f_0,\\cdots,f_{m-1}$, is\n",
    "\n",
    "### $F_m(t) = \\sum_{k = 0}^{m - 1}y_kf_k(t)$"
   ]
  },
  {
   "cell_type": "markdown",
   "metadata": {},
   "source": [
    "## Corollary\n",
    "\n",
    "Let $[c,d]$ be an interval, let $m < n$ be even positive integers, $x = (x_0,\\cdots,x_{n-1})$ a vector of n real numbers, and let $t_j = c + j(d - c)/n$ for $j=0,\\cdots,n-1$. Let ${a_0,a_1,b_1,a_2,b_2,\\cdots,a_{n/2-1},b_{n/2-1},a_{n/2}} = F_nx$ be the interpolating coefficients for x so that\n",
    "\n",
    "### $x_j = P_n(t_j) = \\frac{a_0}{\\sqrt{n}} + \\frac{2}{\\sqrt{n}}\\sum_{k=1}^{n/2-1}(a_k\\cos{\\frac{2k\\pi (t_j-c)}{d-c}}-b_k\\sin{\\frac{2k\\pi (t_j-c)}{d-c}})+\\frac{a_{n/2}}{\\sqrt{n}}cos{\\frac{n\\pi (t_j-c)}{d-c}}$\n",
    "\n",
    "for $j = 0,\\cdots,n-1$. Then\n",
    "\n",
    "### $P_m(t) = \\frac{a_0}{\\sqrt{n}} + \\frac{2}{\\sqrt{n}}\\sum_{k=1}^{\\frac{m}{2}-1}(a_k\\cos{\\frac{2k\\pi (t-c)}{d-c}}-b_k\\sin{\\frac{2k\\pi (t-c)}{d-c}})+\\frac{a_{\\frac{m}{2}}}{\\sqrt{n}}cos{\\frac{n\\pi (t-c)}{d-c}}$\n",
    "\n",
    "is the best least squares fit of order m to the data $(t_j,x_j)$ for $j = 0,\\cdots,n - 1$"
   ]
  },
  {
   "cell_type": "code",
   "execution_count": 7,
   "metadata": {},
   "outputs": [],
   "source": [
    "def least_squares_even_trigonmetric(m, t, a, b, c, d):\n",
    "     return a[0] / np.sqrt(a.size) + 2 / np.sqrt(a.size) * \\\n",
    "        np.sum([a[k] * np.cos(2 * k * np.pi * (t - c) / (d - c)) - \\\n",
    "        b[k] * np.sin(2 * k * np.pi * (t - c) / (d - c)) for k in range(1, int(m / 2))]) + \\\n",
    "        a[int(m / 2)] / np.sqrt(a.size) * np.cos(a.size * np.pi * (t - c) / (d - c))"
   ]
  },
  {
   "cell_type": "markdown",
   "metadata": {},
   "source": [
    "### Example\n",
    "\n",
    "Fit the temperature data by least squares trigonometric functions of orders 4 and 6 where $x = [-2.2, -2.8, -6.1, -3.9, 0.0, 1.1, -0.6, -1.1]$ on the interval $[0,1]$"
   ]
  },
  {
   "cell_type": "code",
   "execution_count": 8,
   "metadata": {},
   "outputs": [
    {
     "data": {
      "image/png": "[encoded data removed]",
      "text/plain": [
       "<Figure size 432x288 with 1 Axes>"
      ]
     },
     "metadata": {
      "needs_background": "light"
     },
     "output_type": "display_data"
    }
   ],
   "source": [
    "m1, m2, m3 = 4, 6, 8\n",
    "c, d = 0, 1\n",
    "xt = np.linspace(c, d, 8, False)\n",
    "x = np.array([-2.2, -2.8, -6.1, -3.9, 0, 1.1, -0.6, -1.1])\n",
    "y = np.fft.fft(x) / np.sqrt(x.size)\n",
    "a = np.array(y.real)\n",
    "b = np.array(y.imag)\n",
    "t = np.linspace(c, d, 40)\n",
    "data1 = [least_squares_even_trigonmetric(m1, i, a, b, c, d) for i in t]\n",
    "data2 = [least_squares_even_trigonmetric(m2, i, a, b, c, d) for i in t]\n",
    "data3 = [least_squares_even_trigonmetric(m3, i, a, b, c, d) for i in t]\n",
    "plt.xticks(xt, ['t0', 't1', 't2', 't3', 't4', 't5', 't6', 't7'])\n",
    "plt.plot(t, data1, label='order 4')\n",
    "plt.plot(t, data2, label='order 6')\n",
    "plt.plot(t, data3, label='order 8')\n",
    "plt.plot(xt, x, 'o', color='k')\n",
    "plt.legend()\n",
    "plt.grid(True)\n",
    "plt.show()"
   ]
  }
 ],
 "metadata": {
  "kernelspec": {
   "display_name": "Python 3",
   "language": "python",
   "name": "python3"
  },
  "language_info": {
   "codemirror_mode": {
    "name": "ipython",
    "version": 3
   },
   "file_extension": ".py",
   "mimetype": "text/x-python",
   "name": "python",
   "nbconvert_exporter": "python",
   "pygments_lexer": "ipython3",
   "version": "3.6.5"
  }
 },
 "nbformat": 4,
 "nbformat_minor": 2
}
