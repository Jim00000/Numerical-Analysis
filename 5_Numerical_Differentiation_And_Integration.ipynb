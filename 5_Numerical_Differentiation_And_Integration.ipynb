{
 "cells": [
  {
   "cell_type": "markdown",
   "metadata": {},
   "source": [
    "# ★ Numerical Differentiaion and Integration ★"
   ]
  },
  {
   "cell_type": "code",
   "execution_count": 171,
   "metadata": {},
   "outputs": [
    {
     "data": {
      "text/html": [
       "<script>requirejs.config({paths: { 'plotly': ['https://cdn.plot.ly/plotly-latest.min']},});if(!window.Plotly) {{require(['plotly'],function(plotly) {window.Plotly=plotly;});}}</script>"
      ],
      "text/vnd.plotly.v1+html": [
       "<script>requirejs.config({paths: { 'plotly': ['https://cdn.plot.ly/plotly-latest.min']},});if(!window.Plotly) {{require(['plotly'],function(plotly) {window.Plotly=plotly;});}}</script>"
      ]
     },
     "metadata": {},
     "output_type": "display_data"
    },
    {
     "data": {
      "text/html": [
       "<script>var waitForPlotly = setInterval( function() {if( typeof(window.Plotly) !== \"undefined\" ){MathJax.Hub.Config({ SVG: { font: \"STIX-Web\" }, displayAlign: \"center\" });MathJax.Hub.Queue([\"setRenderer\", MathJax.Hub, \"SVG\"]);clearInterval(waitForPlotly);}}, 250 );</script>"
      ],
      "text/plain": [
       "<IPython.core.display.HTML object>"
      ]
     },
     "metadata": {},
     "output_type": "display_data"
    }
   ],
   "source": [
    "# Import modules\n",
    "import math\n",
    "import sympy as sym\n",
    "import numpy as np\n",
    "import matplotlib.pyplot as plt\n",
    "import plotly\n",
    "import plotly.plotly as ply\n",
    "import plotly.figure_factory as ply_ff\n",
    "from IPython.display import Math\n",
    "\n",
    "# Startup plotly\n",
    "plotly.offline.init_notebook_mode(connected=True)\n",
    "\n",
    "''' Fix MathJax issue '''\n",
    "# The polling here is to ensure that plotly.js has already been loaded before\n",
    "# setting display alignment in order to avoid a race condition.\n",
    "from IPython.core.display import display, HTML\n",
    "display(HTML(\n",
    "    '<script>'\n",
    "        'var waitForPlotly = setInterval( function() {'\n",
    "            'if( typeof(window.Plotly) !== \"undefined\" ){'\n",
    "                'MathJax.Hub.Config({ SVG: { font: \"STIX-Web\" }, displayAlign: \"center\" });'\n",
    "                'MathJax.Hub.Queue([\"setRenderer\", MathJax.Hub, \"SVG\"]);'\n",
    "                'clearInterval(waitForPlotly);'\n",
    "            '}}, 250 );'\n",
    "    '</script>'\n",
    "))"
   ]
  },
  {
   "cell_type": "markdown",
   "metadata": {},
   "source": [
    "# 5.1 Numerical Differentiation"
   ]
  },
  {
   "cell_type": "markdown",
   "metadata": {},
   "source": [
    "## Two-point forward-difference formula\n",
    "\n",
    "$f'(x) = \\frac{f(x+h) - f(x)}{h} - \\frac{h}{2}f''(c)$\n",
    "\n",
    "where $c$ is between $x$ and $x+h$"
   ]
  },
  {
   "cell_type": "markdown",
   "metadata": {},
   "source": [
    "### Example\n",
    "\n",
    "Use the two-point forward-difference formula with $h = 0.1$ to approximate the derivative of $f(x) = 1/x$ at $x = 2$"
   ]
  },
  {
   "cell_type": "code",
   "execution_count": 53,
   "metadata": {},
   "outputs": [
    {
     "name": "stdout",
     "output_type": "stream",
     "text": [
      "approximate = -0.238095, real value = -0.250000, backward error = 0.011905\n"
     ]
    }
   ],
   "source": [
    "# Parameters\n",
    "x = 2\n",
    "h = 0.1\n",
    "\n",
    "# Symbolic computation\n",
    "sym_x = sym.Symbol('x')\n",
    "sym_deri_x1 = sym.diff(1 / sym_x, sym_x)\n",
    "sym_deri_x1_num = sym_deri_x1.subs(sym_x, x).evalf()\n",
    "\n",
    "# Approximation\n",
    "f = lambda x : 1 / x\n",
    "deri_x1 = (f(x + h) - f(x)) / h\n",
    "\n",
    "# Comparison\n",
    "print('approximate = %f, real value = %f, backward error = %f' %(deri_x1, sym_deri_x1_num, abs(deri_x1 - sym_deri_x1_num)) )"
   ]
  },
  {
   "cell_type": "markdown",
   "metadata": {},
   "source": [
    "## Three-point centered-difference formula\n",
    "\n",
    "$f'(x) =  \\frac{f(x+h) - f(x-h)}{2h} - \\frac{h^2}{6}f'''(c)$\n",
    "\n",
    "where $x-h < c < x+h$"
   ]
  },
  {
   "cell_type": "markdown",
   "metadata": {},
   "source": [
    "### Example\n",
    "\n",
    "Use the three-point centered-difference formula with $h = 0.1$ to approximate the derivative of $f(x) = 1 / x$ at $x = 2$\n"
   ]
  },
  {
   "cell_type": "code",
   "execution_count": 56,
   "metadata": {},
   "outputs": [
    {
     "name": "stdout",
     "output_type": "stream",
     "text": [
      "approximate = -0.250627, real value = -0.250000, backward error = 0.000627\n"
     ]
    }
   ],
   "source": [
    "# Parameters\n",
    "x = 2\n",
    "h = 0.1\n",
    "f = lambda x : 1 / x\n",
    "\n",
    "# Symbolic computation\n",
    "sym_x = sym.Symbol('x')\n",
    "sym_deri_x1 = sym.diff(1 / sym_x, sym_x)\n",
    "sym_deri_x1_num = sym_deri_x1.subs(sym_x, x).evalf()\n",
    "\n",
    "# Approximation\n",
    "deri_x1 = (f(x + h) - f(x - h)) / (2 * h)\n",
    "\n",
    "# Comparison\n",
    "print('approximate = %f, real value = %f, backward error = %f' %(deri_x1, sym_deri_x1_num, abs(deri_x1 - sym_deri_x1_num)) )"
   ]
  },
  {
   "cell_type": "markdown",
   "metadata": {},
   "source": [
    "## Three-point centered-difference formula for second derivative\n",
    "\n",
    "$f''(x) = \\frac{f(x - h) - 2f(x) + f(x + h)}{h^2} - \\frac{h^2}{12}f^{(iv)}(c)$\n",
    "\n",
    "for some $c$ between $x - h$ and $x + h$"
   ]
  },
  {
   "cell_type": "markdown",
   "metadata": {},
   "source": [
    "## Rounding error"
   ]
  },
  {
   "cell_type": "markdown",
   "metadata": {},
   "source": [
    "### Example\n",
    "\n",
    "Approximate the derivative of $f(x) = e^x$ at $x = 0$"
   ]
  },
  {
   "cell_type": "code",
   "execution_count": 117,
   "metadata": {},
   "outputs": [
    {
     "data": {
      "application/vnd.plotly.v1+json": {
       "data": [
        {
         "colorscale": [
          [
           0,
           "#00083e"
          ],
          [
           0.5,
           "#ededee"
          ],
          [
           1,
           "#ffffff"
          ]
         ],
         "hoverinfo": "none",
         "opacity": 0.75,
         "showscale": false,
         "type": "heatmap",
         "z": [
          [
           0,
           0,
           0,
           0,
           0
          ],
          [
           0.5,
           0.5,
           0.5,
           0.5,
           0.5
          ],
          [
           1,
           1,
           1,
           1,
           1
          ],
          [
           0.5,
           0.5,
           0.5,
           0.5,
           0.5
          ],
          [
           1,
           1,
           1,
           1,
           1
          ],
          [
           0.5,
           0.5,
           0.5,
           0.5,
           0.5
          ],
          [
           1,
           1,
           1,
           1,
           1
          ],
          [
           0.5,
           0.5,
           0.5,
           0.5,
           0.5
          ],
          [
           1,
           1,
           1,
           1,
           1
          ],
          [
           0.5,
           0.5,
           0.5,
           0.5,
           0.5
          ]
         ]
        }
       ],
       "layout": {
        "annotations": [
         {
          "align": "left",
          "font": {
           "color": "#ffffff"
          },
          "showarrow": false,
          "text": "<b>h</b>",
          "x": -0.45,
          "xanchor": "left",
          "xref": "x1",
          "y": 0,
          "yref": "y1"
         },
         {
          "align": "left",
          "font": {
           "color": "#ffffff"
          },
          "showarrow": false,
          "text": "<b>$f'(x) \\approx \\frac{e^{x+h} - e^x}{h}$</b>",
          "x": 0.55,
          "xanchor": "left",
          "xref": "x1",
          "y": 0,
          "yref": "y1"
         },
         {
          "align": "left",
          "font": {
           "color": "#ffffff"
          },
          "showarrow": false,
          "text": "<b>error</b>",
          "x": 1.55,
          "xanchor": "left",
          "xref": "x1",
          "y": 0,
          "yref": "y1"
         },
         {
          "align": "left",
          "font": {
           "color": "#ffffff"
          },
          "showarrow": false,
          "text": "<b>$f'(x) \\approx \\frac{e^{x+h} - e^{x-h}}{2h}$</b>",
          "x": 2.55,
          "xanchor": "left",
          "xref": "x1",
          "y": 0,
          "yref": "y1"
         },
         {
          "align": "left",
          "font": {
           "color": "#ffffff"
          },
          "showarrow": false,
          "text": "<b>error</b>",
          "x": 3.55,
          "xanchor": "left",
          "xref": "x1",
          "y": 0,
          "yref": "y1"
         },
         {
          "align": "left",
          "font": {
           "color": "#000000"
          },
          "showarrow": false,
          "text": "$10^{-1}$",
          "x": -0.45,
          "xanchor": "left",
          "xref": "x1",
          "y": 1,
          "yref": "y1"
         },
         {
          "align": "left",
          "font": {
           "color": "#000000"
          },
          "showarrow": false,
          "text": "1.05170918075648",
          "x": 0.55,
          "xanchor": "left",
          "xref": "x1",
          "y": 1,
          "yref": "y1"
         },
         {
          "align": "left",
          "font": {
           "color": "#000000"
          },
          "showarrow": false,
          "text": "0.05170918075648",
          "x": 1.55,
          "xanchor": "left",
          "xref": "x1",
          "y": 1,
          "yref": "y1"
         },
         {
          "align": "left",
          "font": {
           "color": "#000000"
          },
          "showarrow": false,
          "text": "1.00166750019844",
          "x": 2.55,
          "xanchor": "left",
          "xref": "x1",
          "y": 1,
          "yref": "y1"
         },
         {
          "align": "left",
          "font": {
           "color": "#000000"
          },
          "showarrow": false,
          "text": "0.00166750019844",
          "x": 3.55,
          "xanchor": "left",
          "xref": "x1",
          "y": 1,
          "yref": "y1"
         },
         {
          "align": "left",
          "font": {
           "color": "#000000"
          },
          "showarrow": false,
          "text": "$10^{-2}$",
          "x": -0.45,
          "xanchor": "left",
          "xref": "x1",
          "y": 2,
          "yref": "y1"
         },
         {
          "align": "left",
          "font": {
           "color": "#000000"
          },
          "showarrow": false,
          "text": "1.00501670841679",
          "x": 0.55,
          "xanchor": "left",
          "xref": "x1",
          "y": 2,
          "yref": "y1"
         },
         {
          "align": "left",
          "font": {
           "color": "#000000"
          },
          "showarrow": false,
          "text": "0.00501670841679",
          "x": 1.55,
          "xanchor": "left",
          "xref": "x1",
          "y": 2,
          "yref": "y1"
         },
         {
          "align": "left",
          "font": {
           "color": "#000000"
          },
          "showarrow": false,
          "text": "1.00001666674999",
          "x": 2.55,
          "xanchor": "left",
          "xref": "x1",
          "y": 2,
          "yref": "y1"
         },
         {
          "align": "left",
          "font": {
           "color": "#000000"
          },
          "showarrow": false,
          "text": "0.00001666674999",
          "x": 3.55,
          "xanchor": "left",
          "xref": "x1",
          "y": 2,
          "yref": "y1"
         },
         {
          "align": "left",
          "font": {
           "color": "#000000"
          },
          "showarrow": false,
          "text": "$10^{-3}$",
          "x": -0.45,
          "xanchor": "left",
          "xref": "x1",
          "y": 3,
          "yref": "y1"
         },
         {
          "align": "left",
          "font": {
           "color": "#000000"
          },
          "showarrow": false,
          "text": "1.00050016670838",
          "x": 0.55,
          "xanchor": "left",
          "xref": "x1",
          "y": 3,
          "yref": "y1"
         },
         {
          "align": "left",
          "font": {
           "color": "#000000"
          },
          "showarrow": false,
          "text": "0.00050016670838",
          "x": 1.55,
          "xanchor": "left",
          "xref": "x1",
          "y": 3,
          "yref": "y1"
         },
         {
          "align": "left",
          "font": {
           "color": "#000000"
          },
          "showarrow": false,
          "text": "1.00000016666668",
          "x": 2.55,
          "xanchor": "left",
          "xref": "x1",
          "y": 3,
          "yref": "y1"
         },
         {
          "align": "left",
          "font": {
           "color": "#000000"
          },
          "showarrow": false,
          "text": "0.00000016666668",
          "x": 3.55,
          "xanchor": "left",
          "xref": "x1",
          "y": 3,
          "yref": "y1"
         },
         {
          "align": "left",
          "font": {
           "color": "#000000"
          },
          "showarrow": false,
          "text": "$10^{-4}$",
          "x": -0.45,
          "xanchor": "left",
          "xref": "x1",
          "y": 4,
          "yref": "y1"
         },
         {
          "align": "left",
          "font": {
           "color": "#000000"
          },
          "showarrow": false,
          "text": "1.00005000166714",
          "x": 0.55,
          "xanchor": "left",
          "xref": "x1",
          "y": 4,
          "yref": "y1"
         },
         {
          "align": "left",
          "font": {
           "color": "#000000"
          },
          "showarrow": false,
          "text": "0.00005000166714",
          "x": 1.55,
          "xanchor": "left",
          "xref": "x1",
          "y": 4,
          "yref": "y1"
         },
         {
          "align": "left",
          "font": {
           "color": "#000000"
          },
          "showarrow": false,
          "text": "1.00000000166689",
          "x": 2.55,
          "xanchor": "left",
          "xref": "x1",
          "y": 4,
          "yref": "y1"
         },
         {
          "align": "left",
          "font": {
           "color": "#000000"
          },
          "showarrow": false,
          "text": "0.00000000166689",
          "x": 3.55,
          "xanchor": "left",
          "xref": "x1",
          "y": 4,
          "yref": "y1"
         },
         {
          "align": "left",
          "font": {
           "color": "#000000"
          },
          "showarrow": false,
          "text": "$10^{-5}$",
          "x": -0.45,
          "xanchor": "left",
          "xref": "x1",
          "y": 5,
          "yref": "y1"
         },
         {
          "align": "left",
          "font": {
           "color": "#000000"
          },
          "showarrow": false,
          "text": "1.00000500000696",
          "x": 0.55,
          "xanchor": "left",
          "xref": "x1",
          "y": 5,
          "yref": "y1"
         },
         {
          "align": "left",
          "font": {
           "color": "#000000"
          },
          "showarrow": false,
          "text": "0.00000500000696",
          "x": 1.55,
          "xanchor": "left",
          "xref": "x1",
          "y": 5,
          "yref": "y1"
         },
         {
          "align": "left",
          "font": {
           "color": "#000000"
          },
          "showarrow": false,
          "text": "1.00000000001210",
          "x": 2.55,
          "xanchor": "left",
          "xref": "x1",
          "y": 5,
          "yref": "y1"
         },
         {
          "align": "left",
          "font": {
           "color": "#000000"
          },
          "showarrow": false,
          "text": "0.00000000001210",
          "x": 3.55,
          "xanchor": "left",
          "xref": "x1",
          "y": 5,
          "yref": "y1"
         },
         {
          "align": "left",
          "font": {
           "color": "#000000"
          },
          "showarrow": false,
          "text": "$10^{-6}$",
          "x": -0.45,
          "xanchor": "left",
          "xref": "x1",
          "y": 6,
          "yref": "y1"
         },
         {
          "align": "left",
          "font": {
           "color": "#000000"
          },
          "showarrow": false,
          "text": "1.00000049996218",
          "x": 0.55,
          "xanchor": "left",
          "xref": "x1",
          "y": 6,
          "yref": "y1"
         },
         {
          "align": "left",
          "font": {
           "color": "#000000"
          },
          "showarrow": false,
          "text": "0.00000049996218",
          "x": 1.55,
          "xanchor": "left",
          "xref": "x1",
          "y": 6,
          "yref": "y1"
         },
         {
          "align": "left",
          "font": {
           "color": "#000000"
          },
          "showarrow": false,
          "text": "0.99999999997324",
          "x": 2.55,
          "xanchor": "left",
          "xref": "x1",
          "y": 6,
          "yref": "y1"
         },
         {
          "align": "left",
          "font": {
           "color": "#000000"
          },
          "showarrow": false,
          "text": "0.00000000002676",
          "x": 3.55,
          "xanchor": "left",
          "xref": "x1",
          "y": 6,
          "yref": "y1"
         },
         {
          "align": "left",
          "font": {
           "color": "#000000"
          },
          "showarrow": false,
          "text": "$10^{-7}$",
          "x": -0.45,
          "xanchor": "left",
          "xref": "x1",
          "y": 7,
          "yref": "y1"
         },
         {
          "align": "left",
          "font": {
           "color": "#000000"
          },
          "showarrow": false,
          "text": "1.00000004943368",
          "x": 0.55,
          "xanchor": "left",
          "xref": "x1",
          "y": 7,
          "yref": "y1"
         },
         {
          "align": "left",
          "font": {
           "color": "#000000"
          },
          "showarrow": false,
          "text": "0.00000004943368",
          "x": 1.55,
          "xanchor": "left",
          "xref": "x1",
          "y": 7,
          "yref": "y1"
         },
         {
          "align": "left",
          "font": {
           "color": "#000000"
          },
          "showarrow": false,
          "text": "0.99999999947364",
          "x": 2.55,
          "xanchor": "left",
          "xref": "x1",
          "y": 7,
          "yref": "y1"
         },
         {
          "align": "left",
          "font": {
           "color": "#000000"
          },
          "showarrow": false,
          "text": "0.00000000052636",
          "x": 3.55,
          "xanchor": "left",
          "xref": "x1",
          "y": 7,
          "yref": "y1"
         },
         {
          "align": "left",
          "font": {
           "color": "#000000"
          },
          "showarrow": false,
          "text": "$10^{-8}$",
          "x": -0.45,
          "xanchor": "left",
          "xref": "x1",
          "y": 8,
          "yref": "y1"
         },
         {
          "align": "left",
          "font": {
           "color": "#000000"
          },
          "showarrow": false,
          "text": "0.99999999392253",
          "x": 0.55,
          "xanchor": "left",
          "xref": "x1",
          "y": 8,
          "yref": "y1"
         },
         {
          "align": "left",
          "font": {
           "color": "#000000"
          },
          "showarrow": false,
          "text": "0.00000000607747",
          "x": 1.55,
          "xanchor": "left",
          "xref": "x1",
          "y": 8,
          "yref": "y1"
         },
         {
          "align": "left",
          "font": {
           "color": "#000000"
          },
          "showarrow": false,
          "text": "0.99999999392253",
          "x": 2.55,
          "xanchor": "left",
          "xref": "x1",
          "y": 8,
          "yref": "y1"
         },
         {
          "align": "left",
          "font": {
           "color": "#000000"
          },
          "showarrow": false,
          "text": "0.00000000607747",
          "x": 3.55,
          "xanchor": "left",
          "xref": "x1",
          "y": 8,
          "yref": "y1"
         },
         {
          "align": "left",
          "font": {
           "color": "#000000"
          },
          "showarrow": false,
          "text": "$10^{-9}$",
          "x": -0.45,
          "xanchor": "left",
          "xref": "x1",
          "y": 9,
          "yref": "y1"
         },
         {
          "align": "left",
          "font": {
           "color": "#000000"
          },
          "showarrow": false,
          "text": "1.00000008274037",
          "x": 0.55,
          "xanchor": "left",
          "xref": "x1",
          "y": 9,
          "yref": "y1"
         },
         {
          "align": "left",
          "font": {
           "color": "#000000"
          },
          "showarrow": false,
          "text": "0.00000008274037",
          "x": 1.55,
          "xanchor": "left",
          "xref": "x1",
          "y": 9,
          "yref": "y1"
         },
         {
          "align": "left",
          "font": {
           "color": "#000000"
          },
          "showarrow": false,
          "text": "1.00000002722922",
          "x": 2.55,
          "xanchor": "left",
          "xref": "x1",
          "y": 9,
          "yref": "y1"
         },
         {
          "align": "left",
          "font": {
           "color": "#000000"
          },
          "showarrow": false,
          "text": "0.00000002722922",
          "x": 3.55,
          "xanchor": "left",
          "xref": "x1",
          "y": 9,
          "yref": "y1"
         }
        ],
        "height": 350,
        "margin": {
         "b": 0,
         "l": 0,
         "r": 0,
         "t": 0
        },
        "xaxis": {
         "dtick": 1,
         "gridwidth": 2,
         "showticklabels": false,
         "tick0": -0.5,
         "ticks": "",
         "zeroline": false
        },
        "yaxis": {
         "autorange": "reversed",
         "dtick": 1,
         "gridwidth": 2,
         "showticklabels": false,
         "tick0": 0.5,
         "ticks": "",
         "zeroline": false
        }
       }
      },
      "text/html": [
       "<div id=\"8e18d240-0d9b-4ba4-b407-1f7e0fd3c4fe\" style=\"height: 350px; width: 100%;\" class=\"plotly-graph-div\"></div><script type=\"text/javascript\">require([\"plotly\"], function(Plotly) { window.PLOTLYENV=window.PLOTLYENV || {};window.PLOTLYENV.BASE_URL=\"https://plot.ly\";Plotly.newPlot(\"8e18d240-0d9b-4ba4-b407-1f7e0fd3c4fe\", [{\"type\": \"heatmap\", \"colorscale\": [[0, \"#00083e\"], [0.5, \"#ededee\"], [1, \"#ffffff\"]], \"hoverinfo\": \"none\", \"opacity\": 0.75, \"showscale\": false, \"z\": [[0, 0, 0, 0, 0], [0.5, 0.5, 0.5, 0.5, 0.5], [1, 1, 1, 1, 1], [0.5, 0.5, 0.5, 0.5, 0.5], [1, 1, 1, 1, 1], [0.5, 0.5, 0.5, 0.5, 0.5], [1, 1, 1, 1, 1], [0.5, 0.5, 0.5, 0.5, 0.5], [1, 1, 1, 1, 1], [0.5, 0.5, 0.5, 0.5, 0.5]]}], {\"margin\": {\"l\": 0, \"b\": 0, \"r\": 0, \"t\": 0}, \"xaxis\": {\"zeroline\": false, \"tick0\": -0.5, \"gridwidth\": 2, \"dtick\": 1, \"ticks\": \"\", \"showticklabels\": false}, \"height\": 350, \"yaxis\": {\"autorange\": \"reversed\", \"zeroline\": false, \"tick0\": 0.5, \"gridwidth\": 2, \"dtick\": 1, \"ticks\": \"\", \"showticklabels\": false}, \"annotations\": [{\"x\": -0.45, \"align\": \"left\", \"xanchor\": \"left\", \"font\": {\"color\": \"#ffffff\"}, \"yref\": \"y1\", \"xref\": \"x1\", \"y\": 0, \"text\": \"<b>h</b>\", \"showarrow\": false}, {\"x\": 0.55, \"align\": \"left\", \"xanchor\": \"left\", \"font\": {\"color\": \"#ffffff\"}, \"yref\": \"y1\", \"xref\": \"x1\", \"y\": 0, \"text\": \"<b>$f'(x) \\\\approx \\\\frac{e^{x+h} - e^x}{h}$</b>\", \"showarrow\": false}, {\"x\": 1.55, \"align\": \"left\", \"xanchor\": \"left\", \"font\": {\"color\": \"#ffffff\"}, \"yref\": \"y1\", \"xref\": \"x1\", \"y\": 0, \"text\": \"<b>error</b>\", \"showarrow\": false}, {\"x\": 2.55, \"align\": \"left\", \"xanchor\": \"left\", \"font\": {\"color\": \"#ffffff\"}, \"yref\": \"y1\", \"xref\": \"x1\", \"y\": 0, \"text\": \"<b>$f'(x) \\\\approx \\\\frac{e^{x+h} - e^{x-h}}{2h}$</b>\", \"showarrow\": false}, {\"x\": 3.55, \"align\": \"left\", \"xanchor\": \"left\", \"font\": {\"color\": \"#ffffff\"}, \"yref\": \"y1\", \"xref\": \"x1\", \"y\": 0, \"text\": \"<b>error</b>\", \"showarrow\": false}, {\"x\": -0.45, \"align\": \"left\", \"xanchor\": \"left\", \"font\": {\"color\": \"#000000\"}, \"yref\": \"y1\", \"xref\": \"x1\", \"y\": 1, \"text\": \"$10^{-1}$\", \"showarrow\": false}, {\"x\": 0.55, \"align\": \"left\", \"xanchor\": \"left\", \"font\": {\"color\": \"#000000\"}, \"yref\": \"y1\", \"xref\": \"x1\", \"y\": 1, \"text\": \"1.05170918075648\", \"showarrow\": false}, {\"x\": 1.55, \"align\": \"left\", \"xanchor\": \"left\", \"font\": {\"color\": \"#000000\"}, \"yref\": \"y1\", \"xref\": \"x1\", \"y\": 1, \"text\": \"0.05170918075648\", \"showarrow\": false}, {\"x\": 2.55, \"align\": \"left\", \"xanchor\": \"left\", \"font\": {\"color\": \"#000000\"}, \"yref\": \"y1\", \"xref\": \"x1\", \"y\": 1, \"text\": \"1.00166750019844\", \"showarrow\": false}, {\"x\": 3.55, \"align\": \"left\", \"xanchor\": \"left\", \"font\": {\"color\": \"#000000\"}, \"yref\": \"y1\", \"xref\": \"x1\", \"y\": 1, \"text\": \"0.00166750019844\", \"showarrow\": false}, {\"x\": -0.45, \"align\": \"left\", \"xanchor\": \"left\", \"font\": {\"color\": \"#000000\"}, \"yref\": \"y1\", \"xref\": \"x1\", \"y\": 2, \"text\": \"$10^{-2}$\", \"showarrow\": false}, {\"x\": 0.55, \"align\": \"left\", \"xanchor\": \"left\", \"font\": {\"color\": \"#000000\"}, \"yref\": \"y1\", \"xref\": \"x1\", \"y\": 2, \"text\": \"1.00501670841679\", \"showarrow\": false}, {\"x\": 1.55, \"align\": \"left\", \"xanchor\": \"left\", \"font\": {\"color\": \"#000000\"}, \"yref\": \"y1\", \"xref\": \"x1\", \"y\": 2, \"text\": \"0.00501670841679\", \"showarrow\": false}, {\"x\": 2.55, \"align\": \"left\", \"xanchor\": \"left\", \"font\": {\"color\": \"#000000\"}, \"yref\": \"y1\", \"xref\": \"x1\", \"y\": 2, \"text\": \"1.00001666674999\", \"showarrow\": false}, {\"x\": 3.55, \"align\": \"left\", \"xanchor\": \"left\", \"font\": {\"color\": \"#000000\"}, \"yref\": \"y1\", \"xref\": \"x1\", \"y\": 2, \"text\": \"0.00001666674999\", \"showarrow\": false}, {\"x\": -0.45, \"align\": \"left\", \"xanchor\": \"left\", \"font\": {\"color\": \"#000000\"}, \"yref\": \"y1\", \"xref\": \"x1\", \"y\": 3, \"text\": \"$10^{-3}$\", \"showarrow\": false}, {\"x\": 0.55, \"align\": \"left\", \"xanchor\": \"left\", \"font\": {\"color\": \"#000000\"}, \"yref\": \"y1\", \"xref\": \"x1\", \"y\": 3, \"text\": \"1.00050016670838\", \"showarrow\": false}, {\"x\": 1.55, \"align\": \"left\", \"xanchor\": \"left\", \"font\": {\"color\": \"#000000\"}, \"yref\": \"y1\", \"xref\": \"x1\", \"y\": 3, \"text\": \"0.00050016670838\", \"showarrow\": false}, {\"x\": 2.55, \"align\": \"left\", \"xanchor\": \"left\", \"font\": {\"color\": \"#000000\"}, \"yref\": \"y1\", \"xref\": \"x1\", \"y\": 3, \"text\": \"1.00000016666668\", \"showarrow\": false}, {\"x\": 3.55, \"align\": \"left\", \"xanchor\": \"left\", \"font\": {\"color\": \"#000000\"}, \"yref\": \"y1\", \"xref\": \"x1\", \"y\": 3, \"text\": \"0.00000016666668\", \"showarrow\": false}, {\"x\": -0.45, \"align\": \"left\", \"xanchor\": \"left\", \"font\": {\"color\": \"#000000\"}, \"yref\": \"y1\", \"xref\": \"x1\", \"y\": 4, \"text\": \"$10^{-4}$\", \"showarrow\": false}, {\"x\": 0.55, \"align\": \"left\", \"xanchor\": \"left\", \"font\": {\"color\": \"#000000\"}, \"yref\": \"y1\", \"xref\": \"x1\", \"y\": 4, \"text\": \"1.00005000166714\", \"showarrow\": false}, {\"x\": 1.55, \"align\": \"left\", \"xanchor\": \"left\", \"font\": {\"color\": \"#000000\"}, \"yref\": \"y1\", \"xref\": \"x1\", \"y\": 4, \"text\": \"0.00005000166714\", \"showarrow\": false}, {\"x\": 2.55, \"align\": \"left\", \"xanchor\": \"left\", \"font\": {\"color\": \"#000000\"}, \"yref\": \"y1\", \"xref\": \"x1\", \"y\": 4, \"text\": \"1.00000000166689\", \"showarrow\": false}, {\"x\": 3.55, \"align\": \"left\", \"xanchor\": \"left\", \"font\": {\"color\": \"#000000\"}, \"yref\": \"y1\", \"xref\": \"x1\", \"y\": 4, \"text\": \"0.00000000166689\", \"showarrow\": false}, {\"x\": -0.45, \"align\": \"left\", \"xanchor\": \"left\", \"font\": {\"color\": \"#000000\"}, \"yref\": \"y1\", \"xref\": \"x1\", \"y\": 5, \"text\": \"$10^{-5}$\", \"showarrow\": false}, {\"x\": 0.55, \"align\": \"left\", \"xanchor\": \"left\", \"font\": {\"color\": \"#000000\"}, \"yref\": \"y1\", \"xref\": \"x1\", \"y\": 5, \"text\": \"1.00000500000696\", \"showarrow\": false}, {\"x\": 1.55, \"align\": \"left\", \"xanchor\": \"left\", \"font\": {\"color\": \"#000000\"}, \"yref\": \"y1\", \"xref\": \"x1\", \"y\": 5, \"text\": \"0.00000500000696\", \"showarrow\": false}, {\"x\": 2.55, \"align\": \"left\", \"xanchor\": \"left\", \"font\": {\"color\": \"#000000\"}, \"yref\": \"y1\", \"xref\": \"x1\", \"y\": 5, \"text\": \"1.00000000001210\", \"showarrow\": false}, {\"x\": 3.55, \"align\": \"left\", \"xanchor\": \"left\", \"font\": {\"color\": \"#000000\"}, \"yref\": \"y1\", \"xref\": \"x1\", \"y\": 5, \"text\": \"0.00000000001210\", \"showarrow\": false}, {\"x\": -0.45, \"align\": \"left\", \"xanchor\": \"left\", \"font\": {\"color\": \"#000000\"}, \"yref\": \"y1\", \"xref\": \"x1\", \"y\": 6, \"text\": \"$10^{-6}$\", \"showarrow\": false}, {\"x\": 0.55, \"align\": \"left\", \"xanchor\": \"left\", \"font\": {\"color\": \"#000000\"}, \"yref\": \"y1\", \"xref\": \"x1\", \"y\": 6, \"text\": \"1.00000049996218\", \"showarrow\": false}, {\"x\": 1.55, \"align\": \"left\", \"xanchor\": \"left\", \"font\": {\"color\": \"#000000\"}, \"yref\": \"y1\", \"xref\": \"x1\", \"y\": 6, \"text\": \"0.00000049996218\", \"showarrow\": false}, {\"x\": 2.55, \"align\": \"left\", \"xanchor\": \"left\", \"font\": {\"color\": \"#000000\"}, \"yref\": \"y1\", \"xref\": \"x1\", \"y\": 6, \"text\": \"0.99999999997324\", \"showarrow\": false}, {\"x\": 3.55, \"align\": \"left\", \"xanchor\": \"left\", \"font\": {\"color\": \"#000000\"}, \"yref\": \"y1\", \"xref\": \"x1\", \"y\": 6, \"text\": \"0.00000000002676\", \"showarrow\": false}, {\"x\": -0.45, \"align\": \"left\", \"xanchor\": \"left\", \"font\": {\"color\": \"#000000\"}, \"yref\": \"y1\", \"xref\": \"x1\", \"y\": 7, \"text\": \"$10^{-7}$\", \"showarrow\": false}, {\"x\": 0.55, \"align\": \"left\", \"xanchor\": \"left\", \"font\": {\"color\": \"#000000\"}, \"yref\": \"y1\", \"xref\": \"x1\", \"y\": 7, \"text\": \"1.00000004943368\", \"showarrow\": false}, {\"x\": 1.55, \"align\": \"left\", \"xanchor\": \"left\", \"font\": {\"color\": \"#000000\"}, \"yref\": \"y1\", \"xref\": \"x1\", \"y\": 7, \"text\": \"0.00000004943368\", \"showarrow\": false}, {\"x\": 2.55, \"align\": \"left\", \"xanchor\": \"left\", \"font\": {\"color\": \"#000000\"}, \"yref\": \"y1\", \"xref\": \"x1\", \"y\": 7, \"text\": \"0.99999999947364\", \"showarrow\": false}, {\"x\": 3.55, \"align\": \"left\", \"xanchor\": \"left\", \"font\": {\"color\": \"#000000\"}, \"yref\": \"y1\", \"xref\": \"x1\", \"y\": 7, \"text\": \"0.00000000052636\", \"showarrow\": false}, {\"x\": -0.45, \"align\": \"left\", \"xanchor\": \"left\", \"font\": {\"color\": \"#000000\"}, \"yref\": \"y1\", \"xref\": \"x1\", \"y\": 8, \"text\": \"$10^{-8}$\", \"showarrow\": false}, {\"x\": 0.55, \"align\": \"left\", \"xanchor\": \"left\", \"font\": {\"color\": \"#000000\"}, \"yref\": \"y1\", \"xref\": \"x1\", \"y\": 8, \"text\": \"0.99999999392253\", \"showarrow\": false}, {\"x\": 1.55, \"align\": \"left\", \"xanchor\": \"left\", \"font\": {\"color\": \"#000000\"}, \"yref\": \"y1\", \"xref\": \"x1\", \"y\": 8, \"text\": \"0.00000000607747\", \"showarrow\": false}, {\"x\": 2.55, \"align\": \"left\", \"xanchor\": \"left\", \"font\": {\"color\": \"#000000\"}, \"yref\": \"y1\", \"xref\": \"x1\", \"y\": 8, \"text\": \"0.99999999392253\", \"showarrow\": false}, {\"x\": 3.55, \"align\": \"left\", \"xanchor\": \"left\", \"font\": {\"color\": \"#000000\"}, \"yref\": \"y1\", \"xref\": \"x1\", \"y\": 8, \"text\": \"0.00000000607747\", \"showarrow\": false}, {\"x\": -0.45, \"align\": \"left\", \"xanchor\": \"left\", \"font\": {\"color\": \"#000000\"}, \"yref\": \"y1\", \"xref\": \"x1\", \"y\": 9, \"text\": \"$10^{-9}$\", \"showarrow\": false}, {\"x\": 0.55, \"align\": \"left\", \"xanchor\": \"left\", \"font\": {\"color\": \"#000000\"}, \"yref\": \"y1\", \"xref\": \"x1\", \"y\": 9, \"text\": \"1.00000008274037\", \"showarrow\": false}, {\"x\": 1.55, \"align\": \"left\", \"xanchor\": \"left\", \"font\": {\"color\": \"#000000\"}, \"yref\": \"y1\", \"xref\": \"x1\", \"y\": 9, \"text\": \"0.00000008274037\", \"showarrow\": false}, {\"x\": 2.55, \"align\": \"left\", \"xanchor\": \"left\", \"font\": {\"color\": \"#000000\"}, \"yref\": \"y1\", \"xref\": \"x1\", \"y\": 9, \"text\": \"1.00000002722922\", \"showarrow\": false}, {\"x\": 3.55, \"align\": \"left\", \"xanchor\": \"left\", \"font\": {\"color\": \"#000000\"}, \"yref\": \"y1\", \"xref\": \"x1\", \"y\": 9, \"text\": \"0.00000002722922\", \"showarrow\": false}]}, {\"linkText\": \"Export to plot.ly\", \"showLink\": false})});</script>"
      ],
      "text/vnd.plotly.v1+html": [
       "<div id=\"8e18d240-0d9b-4ba4-b407-1f7e0fd3c4fe\" style=\"height: 350px; width: 100%;\" class=\"plotly-graph-div\"></div><script type=\"text/javascript\">require([\"plotly\"], function(Plotly) { window.PLOTLYENV=window.PLOTLYENV || {};window.PLOTLYENV.BASE_URL=\"https://plot.ly\";Plotly.newPlot(\"8e18d240-0d9b-4ba4-b407-1f7e0fd3c4fe\", [{\"type\": \"heatmap\", \"colorscale\": [[0, \"#00083e\"], [0.5, \"#ededee\"], [1, \"#ffffff\"]], \"hoverinfo\": \"none\", \"opacity\": 0.75, \"showscale\": false, \"z\": [[0, 0, 0, 0, 0], [0.5, 0.5, 0.5, 0.5, 0.5], [1, 1, 1, 1, 1], [0.5, 0.5, 0.5, 0.5, 0.5], [1, 1, 1, 1, 1], [0.5, 0.5, 0.5, 0.5, 0.5], [1, 1, 1, 1, 1], [0.5, 0.5, 0.5, 0.5, 0.5], [1, 1, 1, 1, 1], [0.5, 0.5, 0.5, 0.5, 0.5]]}], {\"margin\": {\"l\": 0, \"b\": 0, \"r\": 0, \"t\": 0}, \"xaxis\": {\"zeroline\": false, \"tick0\": -0.5, \"gridwidth\": 2, \"dtick\": 1, \"ticks\": \"\", \"showticklabels\": false}, \"height\": 350, \"yaxis\": {\"autorange\": \"reversed\", \"zeroline\": false, \"tick0\": 0.5, \"gridwidth\": 2, \"dtick\": 1, \"ticks\": \"\", \"showticklabels\": false}, \"annotations\": [{\"x\": -0.45, \"align\": \"left\", \"xanchor\": \"left\", \"font\": {\"color\": \"#ffffff\"}, \"yref\": \"y1\", \"xref\": \"x1\", \"y\": 0, \"text\": \"<b>h</b>\", \"showarrow\": false}, {\"x\": 0.55, \"align\": \"left\", \"xanchor\": \"left\", \"font\": {\"color\": \"#ffffff\"}, \"yref\": \"y1\", \"xref\": \"x1\", \"y\": 0, \"text\": \"<b>$f'(x) \\\\approx \\\\frac{e^{x+h} - e^x}{h}$</b>\", \"showarrow\": false}, {\"x\": 1.55, \"align\": \"left\", \"xanchor\": \"left\", \"font\": {\"color\": \"#ffffff\"}, \"yref\": \"y1\", \"xref\": \"x1\", \"y\": 0, \"text\": \"<b>error</b>\", \"showarrow\": false}, {\"x\": 2.55, \"align\": \"left\", \"xanchor\": \"left\", \"font\": {\"color\": \"#ffffff\"}, \"yref\": \"y1\", \"xref\": \"x1\", \"y\": 0, \"text\": \"<b>$f'(x) \\\\approx \\\\frac{e^{x+h} - e^{x-h}}{2h}$</b>\", \"showarrow\": false}, {\"x\": 3.55, \"align\": \"left\", \"xanchor\": \"left\", \"font\": {\"color\": \"#ffffff\"}, \"yref\": \"y1\", \"xref\": \"x1\", \"y\": 0, \"text\": \"<b>error</b>\", \"showarrow\": false}, {\"x\": -0.45, \"align\": \"left\", \"xanchor\": \"left\", \"font\": {\"color\": \"#000000\"}, \"yref\": \"y1\", \"xref\": \"x1\", \"y\": 1, \"text\": \"$10^{-1}$\", \"showarrow\": false}, {\"x\": 0.55, \"align\": \"left\", \"xanchor\": \"left\", \"font\": {\"color\": \"#000000\"}, \"yref\": \"y1\", \"xref\": \"x1\", \"y\": 1, \"text\": \"1.05170918075648\", \"showarrow\": false}, {\"x\": 1.55, \"align\": \"left\", \"xanchor\": \"left\", \"font\": {\"color\": \"#000000\"}, \"yref\": \"y1\", \"xref\": \"x1\", \"y\": 1, \"text\": \"0.05170918075648\", \"showarrow\": false}, {\"x\": 2.55, \"align\": \"left\", \"xanchor\": \"left\", \"font\": {\"color\": \"#000000\"}, \"yref\": \"y1\", \"xref\": \"x1\", \"y\": 1, \"text\": \"1.00166750019844\", \"showarrow\": false}, {\"x\": 3.55, \"align\": \"left\", \"xanchor\": \"left\", \"font\": {\"color\": \"#000000\"}, \"yref\": \"y1\", \"xref\": \"x1\", \"y\": 1, \"text\": \"0.00166750019844\", \"showarrow\": false}, {\"x\": -0.45, \"align\": \"left\", \"xanchor\": \"left\", \"font\": {\"color\": \"#000000\"}, \"yref\": \"y1\", \"xref\": \"x1\", \"y\": 2, \"text\": \"$10^{-2}$\", \"showarrow\": false}, {\"x\": 0.55, \"align\": \"left\", \"xanchor\": \"left\", \"font\": {\"color\": \"#000000\"}, \"yref\": \"y1\", \"xref\": \"x1\", \"y\": 2, \"text\": \"1.00501670841679\", \"showarrow\": false}, {\"x\": 1.55, \"align\": \"left\", \"xanchor\": \"left\", \"font\": {\"color\": \"#000000\"}, \"yref\": \"y1\", \"xref\": \"x1\", \"y\": 2, \"text\": \"0.00501670841679\", \"showarrow\": false}, {\"x\": 2.55, \"align\": \"left\", \"xanchor\": \"left\", \"font\": {\"color\": \"#000000\"}, \"yref\": \"y1\", \"xref\": \"x1\", \"y\": 2, \"text\": \"1.00001666674999\", \"showarrow\": false}, {\"x\": 3.55, \"align\": \"left\", \"xanchor\": \"left\", \"font\": {\"color\": \"#000000\"}, \"yref\": \"y1\", \"xref\": \"x1\", \"y\": 2, \"text\": \"0.00001666674999\", \"showarrow\": false}, {\"x\": -0.45, \"align\": \"left\", \"xanchor\": \"left\", \"font\": {\"color\": \"#000000\"}, \"yref\": \"y1\", \"xref\": \"x1\", \"y\": 3, \"text\": \"$10^{-3}$\", \"showarrow\": false}, {\"x\": 0.55, \"align\": \"left\", \"xanchor\": \"left\", \"font\": {\"color\": \"#000000\"}, \"yref\": \"y1\", \"xref\": \"x1\", \"y\": 3, \"text\": \"1.00050016670838\", \"showarrow\": false}, {\"x\": 1.55, \"align\": \"left\", \"xanchor\": \"left\", \"font\": {\"color\": \"#000000\"}, \"yref\": \"y1\", \"xref\": \"x1\", \"y\": 3, \"text\": \"0.00050016670838\", \"showarrow\": false}, {\"x\": 2.55, \"align\": \"left\", \"xanchor\": \"left\", \"font\": {\"color\": \"#000000\"}, \"yref\": \"y1\", \"xref\": \"x1\", \"y\": 3, \"text\": \"1.00000016666668\", \"showarrow\": false}, {\"x\": 3.55, \"align\": \"left\", \"xanchor\": \"left\", \"font\": {\"color\": \"#000000\"}, \"yref\": \"y1\", \"xref\": \"x1\", \"y\": 3, \"text\": \"0.00000016666668\", \"showarrow\": false}, {\"x\": -0.45, \"align\": \"left\", \"xanchor\": \"left\", \"font\": {\"color\": \"#000000\"}, \"yref\": \"y1\", \"xref\": \"x1\", \"y\": 4, \"text\": \"$10^{-4}$\", \"showarrow\": false}, {\"x\": 0.55, \"align\": \"left\", \"xanchor\": \"left\", \"font\": {\"color\": \"#000000\"}, \"yref\": \"y1\", \"xref\": \"x1\", \"y\": 4, \"text\": \"1.00005000166714\", \"showarrow\": false}, {\"x\": 1.55, \"align\": \"left\", \"xanchor\": \"left\", \"font\": {\"color\": \"#000000\"}, \"yref\": \"y1\", \"xref\": \"x1\", \"y\": 4, \"text\": \"0.00005000166714\", \"showarrow\": false}, {\"x\": 2.55, \"align\": \"left\", \"xanchor\": \"left\", \"font\": {\"color\": \"#000000\"}, \"yref\": \"y1\", \"xref\": \"x1\", \"y\": 4, \"text\": \"1.00000000166689\", \"showarrow\": false}, {\"x\": 3.55, \"align\": \"left\", \"xanchor\": \"left\", \"font\": {\"color\": \"#000000\"}, \"yref\": \"y1\", \"xref\": \"x1\", \"y\": 4, \"text\": \"0.00000000166689\", \"showarrow\": false}, {\"x\": -0.45, \"align\": \"left\", \"xanchor\": \"left\", \"font\": {\"color\": \"#000000\"}, \"yref\": \"y1\", \"xref\": \"x1\", \"y\": 5, \"text\": \"$10^{-5}$\", \"showarrow\": false}, {\"x\": 0.55, \"align\": \"left\", \"xanchor\": \"left\", \"font\": {\"color\": \"#000000\"}, \"yref\": \"y1\", \"xref\": \"x1\", \"y\": 5, \"text\": \"1.00000500000696\", \"showarrow\": false}, {\"x\": 1.55, \"align\": \"left\", \"xanchor\": \"left\", \"font\": {\"color\": \"#000000\"}, \"yref\": \"y1\", \"xref\": \"x1\", \"y\": 5, \"text\": \"0.00000500000696\", \"showarrow\": false}, {\"x\": 2.55, \"align\": \"left\", \"xanchor\": \"left\", \"font\": {\"color\": \"#000000\"}, \"yref\": \"y1\", \"xref\": \"x1\", \"y\": 5, \"text\": \"1.00000000001210\", \"showarrow\": false}, {\"x\": 3.55, \"align\": \"left\", \"xanchor\": \"left\", \"font\": {\"color\": \"#000000\"}, \"yref\": \"y1\", \"xref\": \"x1\", \"y\": 5, \"text\": \"0.00000000001210\", \"showarrow\": false}, {\"x\": -0.45, \"align\": \"left\", \"xanchor\": \"left\", \"font\": {\"color\": \"#000000\"}, \"yref\": \"y1\", \"xref\": \"x1\", \"y\": 6, \"text\": \"$10^{-6}$\", \"showarrow\": false}, {\"x\": 0.55, \"align\": \"left\", \"xanchor\": \"left\", \"font\": {\"color\": \"#000000\"}, \"yref\": \"y1\", \"xref\": \"x1\", \"y\": 6, \"text\": \"1.00000049996218\", \"showarrow\": false}, {\"x\": 1.55, \"align\": \"left\", \"xanchor\": \"left\", \"font\": {\"color\": \"#000000\"}, \"yref\": \"y1\", \"xref\": \"x1\", \"y\": 6, \"text\": \"0.00000049996218\", \"showarrow\": false}, {\"x\": 2.55, \"align\": \"left\", \"xanchor\": \"left\", \"font\": {\"color\": \"#000000\"}, \"yref\": \"y1\", \"xref\": \"x1\", \"y\": 6, \"text\": \"0.99999999997324\", \"showarrow\": false}, {\"x\": 3.55, \"align\": \"left\", \"xanchor\": \"left\", \"font\": {\"color\": \"#000000\"}, \"yref\": \"y1\", \"xref\": \"x1\", \"y\": 6, \"text\": \"0.00000000002676\", \"showarrow\": false}, {\"x\": -0.45, \"align\": \"left\", \"xanchor\": \"left\", \"font\": {\"color\": \"#000000\"}, \"yref\": \"y1\", \"xref\": \"x1\", \"y\": 7, \"text\": \"$10^{-7}$\", \"showarrow\": false}, {\"x\": 0.55, \"align\": \"left\", \"xanchor\": \"left\", \"font\": {\"color\": \"#000000\"}, \"yref\": \"y1\", \"xref\": \"x1\", \"y\": 7, \"text\": \"1.00000004943368\", \"showarrow\": false}, {\"x\": 1.55, \"align\": \"left\", \"xanchor\": \"left\", \"font\": {\"color\": \"#000000\"}, \"yref\": \"y1\", \"xref\": \"x1\", \"y\": 7, \"text\": \"0.00000004943368\", \"showarrow\": false}, {\"x\": 2.55, \"align\": \"left\", \"xanchor\": \"left\", \"font\": {\"color\": \"#000000\"}, \"yref\": \"y1\", \"xref\": \"x1\", \"y\": 7, \"text\": \"0.99999999947364\", \"showarrow\": false}, {\"x\": 3.55, \"align\": \"left\", \"xanchor\": \"left\", \"font\": {\"color\": \"#000000\"}, \"yref\": \"y1\", \"xref\": \"x1\", \"y\": 7, \"text\": \"0.00000000052636\", \"showarrow\": false}, {\"x\": -0.45, \"align\": \"left\", \"xanchor\": \"left\", \"font\": {\"color\": \"#000000\"}, \"yref\": \"y1\", \"xref\": \"x1\", \"y\": 8, \"text\": \"$10^{-8}$\", \"showarrow\": false}, {\"x\": 0.55, \"align\": \"left\", \"xanchor\": \"left\", \"font\": {\"color\": \"#000000\"}, \"yref\": \"y1\", \"xref\": \"x1\", \"y\": 8, \"text\": \"0.99999999392253\", \"showarrow\": false}, {\"x\": 1.55, \"align\": \"left\", \"xanchor\": \"left\", \"font\": {\"color\": \"#000000\"}, \"yref\": \"y1\", \"xref\": \"x1\", \"y\": 8, \"text\": \"0.00000000607747\", \"showarrow\": false}, {\"x\": 2.55, \"align\": \"left\", \"xanchor\": \"left\", \"font\": {\"color\": \"#000000\"}, \"yref\": \"y1\", \"xref\": \"x1\", \"y\": 8, \"text\": \"0.99999999392253\", \"showarrow\": false}, {\"x\": 3.55, \"align\": \"left\", \"xanchor\": \"left\", \"font\": {\"color\": \"#000000\"}, \"yref\": \"y1\", \"xref\": \"x1\", \"y\": 8, \"text\": \"0.00000000607747\", \"showarrow\": false}, {\"x\": -0.45, \"align\": \"left\", \"xanchor\": \"left\", \"font\": {\"color\": \"#000000\"}, \"yref\": \"y1\", \"xref\": \"x1\", \"y\": 9, \"text\": \"$10^{-9}$\", \"showarrow\": false}, {\"x\": 0.55, \"align\": \"left\", \"xanchor\": \"left\", \"font\": {\"color\": \"#000000\"}, \"yref\": \"y1\", \"xref\": \"x1\", \"y\": 9, \"text\": \"1.00000008274037\", \"showarrow\": false}, {\"x\": 1.55, \"align\": \"left\", \"xanchor\": \"left\", \"font\": {\"color\": \"#000000\"}, \"yref\": \"y1\", \"xref\": \"x1\", \"y\": 9, \"text\": \"0.00000008274037\", \"showarrow\": false}, {\"x\": 2.55, \"align\": \"left\", \"xanchor\": \"left\", \"font\": {\"color\": \"#000000\"}, \"yref\": \"y1\", \"xref\": \"x1\", \"y\": 9, \"text\": \"1.00000002722922\", \"showarrow\": false}, {\"x\": 3.55, \"align\": \"left\", \"xanchor\": \"left\", \"font\": {\"color\": \"#000000\"}, \"yref\": \"y1\", \"xref\": \"x1\", \"y\": 9, \"text\": \"0.00000002722922\", \"showarrow\": false}]}, {\"linkText\": \"Export to plot.ly\", \"showLink\": false})});</script>"
      ]
     },
     "metadata": {},
     "output_type": "display_data"
    }
   ],
   "source": [
    "# Parameters\n",
    "f = lambda x : math.exp(x)\n",
    "real_value = 1\n",
    "h_msg = \"$10^{-%d}$\"\n",
    "twp_deri_x1 = lambda x, h : ( f(x + h) - f(x) ) / h\n",
    "thp_deri_x1 = lambda x, h : ( f(x + h) - f(x - h) ) / (2 * h)\n",
    "\n",
    "data = [\n",
    "    [\"h\", \n",
    "     \"$f'(x) \\\\approx \\\\frac{e^{x+h} - e^x}{h}$\", \n",
    "     \"error\", \n",
    "     \"$f'(x) \\\\approx \\\\frac{e^{x+h} - e^{x-h}}{2h}$\", \n",
    "     \"error\"],\n",
    "]\n",
    "\n",
    "for i in range(1,10):\n",
    "    h = pow(10, -i)\n",
    "    twp_deri_x1_value = twp_deri_x1(0, h) \n",
    "    thp_deri_x1_value = thp_deri_x1(0, h)\n",
    "    row = [\"\", \"\", \"\", \"\", \"\"]\n",
    "    row[0] = h_msg %i\n",
    "    row[1] = '%.14f' %twp_deri_x1_value\n",
    "    row[2] = '%.14f' %abs(twp_deri_x1_value - real_value)\n",
    "    row[3] = '%.14f' %thp_deri_x1_value\n",
    "    row[4] = '%.14f' %abs(thp_deri_x1_value - real_value)\n",
    "    data.append(row)\n",
    "\n",
    "table = ply_ff.create_table(data)\n",
    "plotly.offline.iplot(table, show_link=False)"
   ]
  },
  {
   "cell_type": "markdown",
   "metadata": {},
   "source": [
    "## Extrapolation for order n formula\n",
    "\n",
    "$\n",
    "Q \\approx \\frac{2^nF(h/2) - F(h)}{2^n - 1}\n",
    "$"
   ]
  },
  {
   "cell_type": "code",
   "execution_count": 179,
   "metadata": {},
   "outputs": [
    {
     "data": {
      "text/latex": [
       "$$Derivative : e^{\\sin{\\left (x \\right )}} \\cos{\\left (x \\right )}$$"
      ],
      "text/plain": [
       "<IPython.core.display.Math object>"
      ]
     },
     "execution_count": 179,
     "metadata": {},
     "output_type": "execute_result"
    }
   ],
   "source": [
    "sym.init_printing(use_latex=True)\n",
    "\n",
    "x = sym.Symbol('x')\n",
    "dx = sym.diff(sym.exp(sym.sin(x)), x)\n",
    "Math('Derivative : %s' %sym.latex(dx) )"
   ]
  },
  {
   "cell_type": "markdown",
   "metadata": {},
   "source": [
    "# 5.2 Newton-Cotes Formulas For Numerical Integration"
   ]
  }
 ],
 "metadata": {
  "kernelspec": {
   "display_name": "Python 3",
   "language": "python",
   "name": "python3"
  },
  "language_info": {
   "codemirror_mode": {
    "name": "ipython",
    "version": 3
   },
   "file_extension": ".py",
   "mimetype": "text/x-python",
   "name": "python",
   "nbconvert_exporter": "python",
   "pygments_lexer": "ipython3",
   "version": "3.5.2"
  }
 },
 "nbformat": 4,
 "nbformat_minor": 2
}
