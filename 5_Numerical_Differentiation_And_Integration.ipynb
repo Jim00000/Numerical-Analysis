{
 "cells": [
  {
   "cell_type": "markdown",
   "metadata": {},
   "source": [
    "# ★ Numerical Differentiaion and Integration ★"
   ]
  },
  {
   "cell_type": "code",
   "execution_count": 21,
   "metadata": {},
   "outputs": [],
   "source": [
    "# Import modules\n",
    "import sympy as sym\n",
    "import numpy as np"
   ]
  },
  {
   "cell_type": "markdown",
   "metadata": {},
   "source": [
    "# 5.1 Numerical Differentiation"
   ]
  },
  {
   "cell_type": "markdown",
   "metadata": {},
   "source": [
    "## Two-point forward-difference formula\n",
    "\n",
    "$f'(x) = \\frac{f(x+h) - f(x)}{h} - \\frac{h}{2}f''(c)$\n",
    "\n",
    "where $c$ is between $x$ and $x+h$"
   ]
  },
  {
   "cell_type": "markdown",
   "metadata": {},
   "source": [
    "### Example\n",
    "\n",
    "Use the two-point forward-difference formula with $h = 0.1$ to approximate the derivative of $f(x) = 1/x$ at $x = 2$"
   ]
  },
  {
   "cell_type": "code",
   "execution_count": 53,
   "metadata": {},
   "outputs": [
    {
     "name": "stdout",
     "output_type": "stream",
     "text": [
      "approximate = -0.238095, real value = -0.250000, backward error = 0.011905\n"
     ]
    }
   ],
   "source": [
    "# Parameters\n",
    "x = 2\n",
    "h = 0.1\n",
    "\n",
    "# Symbolic computation\n",
    "sym_x = sym.Symbol('x')\n",
    "sym_deri_x1 = sym.diff(1 / sym_x, sym_x)\n",
    "sym_deri_x1_num = sym_deri_x1.subs(sym_x, x).evalf()\n",
    "\n",
    "# Approximation\n",
    "f = lambda x : 1 / x\n",
    "deri_x1 = (f(x + h) - f(x)) / h\n",
    "\n",
    "# Comparison\n",
    "print('approximate = %f, real value = %f, backward error = %f' %(deri_x1, sym_deri_x1_num, abs(deri_x1 - sym_deri_x1_num)) )"
   ]
  },
  {
   "cell_type": "markdown",
   "metadata": {},
   "source": [
    "## Three-point centered-difference formula\n",
    "\n",
    "$f'(x) =  \\frac{f(x+h) - f(x-h)}{2h} - \\frac{h^2}{6}f'''(c)$\n",
    "\n",
    "where $x-h < c < x+h$"
   ]
  },
  {
   "cell_type": "markdown",
   "metadata": {},
   "source": [
    "### Example\n",
    "\n",
    "Use the three-point centered-difference formula with $h = 0.1$ to approximate the derivative of $f(x) = 1 / x$ at $x = 2$\n"
   ]
  },
  {
   "cell_type": "code",
   "execution_count": 55,
   "metadata": {},
   "outputs": [
    {
     "name": "stdout",
     "output_type": "stream",
     "text": [
      "approximate = -0.250627, real value = -0.250000, backward error = 0.000627\n"
     ]
    }
   ],
   "source": [
    "# Parameters\n",
    "x = 2\n",
    "h = 0.1\n",
    "f = lambda x : 1 / x\n",
    "\n",
    "# Symbolic computation\n",
    "sym_x = sym.Symbol('x')\n",
    "sym_deri_x1 = sym.diff(1 / sym_x, sym_x)\n",
    "sym_deri_x1_num = sym_deri_x1.subs(sym_x, x).evalf()\n",
    "\n",
    "# Approximation\n",
    "deri_x1 = (f(x + h) - f(x - h)) / (2 * h)\n",
    "\n",
    "# Comparison\n",
    "print('approximate = %f, real value = %f, backward error = %f' %(deri_x1, sym_deri_x1_num, abs(deri_x1 - sym_deri_x1_num)) )"
   ]
  }
 ],
 "metadata": {
  "kernelspec": {
   "display_name": "Python 3",
   "language": "python",
   "name": "python3"
  },
  "language_info": {
   "codemirror_mode": {
    "name": "ipython",
    "version": 3
   },
   "file_extension": ".py",
   "mimetype": "text/x-python",
   "name": "python",
   "nbconvert_exporter": "python",
   "pygments_lexer": "ipython3",
   "version": "3.5.2"
  }
 },
 "nbformat": 4,
 "nbformat_minor": 2
}
