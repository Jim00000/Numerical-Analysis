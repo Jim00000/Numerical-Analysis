{
 "cells": [
  {
   "cell_type": "markdown",
   "metadata": {},
   "source": [
    "# ★ Compression ★"
   ]
  },
  {
   "cell_type": "markdown",
   "metadata": {},
   "source": [
    "# 11.1 The Discrete Cosine Transform"
   ]
  },
  {
   "cell_type": "code",
   "execution_count": 1,
   "metadata": {},
   "outputs": [],
   "source": [
    "import numpy as np\n",
    "from matplotlib import pyplot as plt"
   ]
  },
  {
   "cell_type": "markdown",
   "metadata": {},
   "source": [
    "## One-dimensional Discrete Cosine Transform\n",
    "\n",
    "$C_{ij} = \\frac{\\sqrt{2}}{\\sqrt{n}}\\cos{\\frac{i(2j+1)\\pi}{2n}}$\n",
    "\n",
    "for $i,j=0.\\cdots,n-1$ where\n",
    "\n",
    "$a_i \\equiv \\left\\{\\begin{matrix}\n",
    "1/\\sqrt{2} & \\text{if } i = 0 \\\\ \n",
    "1 & \\text{if } i = 1,\\cdots,n-1 \n",
    "\\end{matrix}\\right.$\n",
    "\n",
    "or\n",
    "\n",
    "$C = \\sqrt{\\frac{2}{n}}\\begin{bmatrix}\n",
    "\\frac{1}{\\sqrt{2}} & \\frac{1}{\\sqrt{2}} & \\cdots & \\frac{1}{\\sqrt{2}}\\\\ \n",
    "\\cos{\\frac{\\pi}{2n}} & \\cos{\\frac{3\\pi}{2n}} & \\cdots & \\cos{\\frac{(2n-1)\\pi}{2n}}\\\\ \n",
    "\\cos{\\frac{2\\pi}{2n}} & \\cos{\\frac{6\\pi}{2n}} & \\cdots & \\cos{\\frac{2(2n-1)\\pi}{2n}}\\\\\n",
    "\\vdots & \\vdots &  & \\vdots \\\\\n",
    "\\cos{\\frac{(n-1)\\pi}{2n}} & \\cos{\\frac{(n-1)3\\pi}{2n}} & \\cdots & \\cos{\\frac{(n-1)(2n-1)\\pi}{2n}}\n",
    "\\end{bmatrix}$"
   ]
  },
  {
   "cell_type": "code",
   "execution_count": 2,
   "metadata": {},
   "outputs": [],
   "source": [
    "def generate_dct_matrix(n):\n",
    "    C = np.ones((n, n)) * (1/np.sqrt(2))\n",
    "    for i in range(1, n):\n",
    "        for j in range(n):\n",
    "            C[i, j] = np.cos( (np.pi * i + i * j * 2 * np.pi) / (2 * n) )\n",
    "    C *= (1 / np.sqrt(2))\n",
    "    return C"
   ]
  },
  {
   "cell_type": "markdown",
   "metadata": {},
   "source": [
    "## Definition\n",
    "\n",
    "The Discrete Cosine Transform (DCT) of \n",
    "$x = [x_0,\\cdots,x_{n-1}]^T$ \n",
    "is the n-dimensional vector \n",
    "$y = [y_0,\\cdots,y_{n-1}]^T$, \n",
    "where $y = Cx$\n",
    "\n",
    "$C^{-1} = C^T = \\sqrt{\\frac{2}{n}}\\begin{bmatrix}\n",
    "\\frac{1}{\\sqrt{2}} & \\cos{\\frac{\\pi}{2n}} & \\cdots & \\cos{\\frac{(n-1)\\pi}{2n}} \\\\ \n",
    "\\frac{1}{\\sqrt{2}} & \\cos{\\frac{3\\pi}{2n}} & \\cdots & \\cos{\\frac{(n-1)3\\pi}{2n}}\\\\ \n",
    "\\vdots & \\vdots &  & \\vdots \\\\\n",
    "\\frac{1}{\\sqrt{2}} & \\cos{\\frac{2(n-1)\\pi}{2n}} & \\cdots & \\cos{\\frac{(n-1)(2n-1)\\pi}{2n}}\n",
    "\\end{bmatrix}$"
   ]
  },
  {
   "cell_type": "markdown",
   "metadata": {},
   "source": [
    "## DCT Interpolation Theorem\n",
    "\n",
    "Let $x = [x_0,\\cdots,x_{n-1}]^T$ be a vector of n real numbers\n",
    "Define $y = [y_0,\\cdots,y_{n-1}]^T = Cx$, where C is the Discrete Cosine Transform matrix of order n. Then the real function\n",
    "\n",
    "$P_n(t) = \\frac{1}{\\sqrt{n}}y_0 + \\frac{\\sqrt{2}}{\\sqrt{n}}\\sum_{k=1}^{n-1}\\cos{\\frac{k(2t+1)\\pi}{2n}}$\n",
    "\n",
    "satisfies $P_n(j) = x_j$ for $j = 0,\\cdots,n-1$"
   ]
  },
  {
   "cell_type": "code",
   "execution_count": 3,
   "metadata": {},
   "outputs": [],
   "source": [
    "def dct_interpolation(ys, ts):\n",
    "    n = ys.size\n",
    "    P = lambda t, n, ys : ys[0] / np.sqrt(n) + np.sqrt(2 / n) * \\\n",
    "        np.sum([ys[k] * np.cos(k * (2 * t + 1) * np.pi / (2 * n)) for k in range(1, n)])\n",
    "    Ps = np.empty(ts.size)\n",
    "    for i in range(ts.size):\n",
    "        Ps[i] = P(ts[i], n, ys)\n",
    "    return Ps"
   ]
  },
  {
   "cell_type": "markdown",
   "metadata": {},
   "source": [
    "## Example \n",
    "\n",
    "Use the DCT to interpolate the points (0,1), (1,0), (2,-1), (3,0)"
   ]
  },
  {
   "cell_type": "code",
   "execution_count": 4,
   "metadata": {},
   "outputs": [
    {
     "data": {
      "image/png": "[encoded data removed]",
      "text/plain": [
       "<Figure size 432x288 with 1 Axes>"
      ]
     },
     "metadata": {
      "needs_background": "light"
     },
     "output_type": "display_data"
    }
   ],
   "source": [
    "x = np.array([1, 0, -1, 0]).T\n",
    "t = np.arange(0, 4)\n",
    "C = generate_dct_matrix(4)\n",
    "y = np.matmul(C, x)\n",
    "\n",
    "ts = np.linspace(0, 3, 50)\n",
    "Ps = dct_interpolation(y, ts)\n",
    "\n",
    "plt.plot(t, x, 'bo', label = 'data point Xt')\n",
    "plt.plot(ts, Ps, label = 'Discrete Cosine Transform')\n",
    "plt.legend()\n",
    "plt.grid(True)\n",
    "plt.show()"
   ]
  }
 ],
 "metadata": {
  "kernelspec": {
   "display_name": "Python 3",
   "language": "python",
   "name": "python3"
  },
  "language_info": {
   "codemirror_mode": {
    "name": "ipython",
    "version": 3
   },
   "file_extension": ".py",
   "mimetype": "text/x-python",
   "name": "python",
   "nbconvert_exporter": "python",
   "pygments_lexer": "ipython3",
   "version": "3.6.5"
  }
 },
 "nbformat": 4,
 "nbformat_minor": 2
}
